{
 "cells": [
  {
   "cell_type": "code",
   "execution_count": 1,
   "metadata": {},
   "outputs": [],
   "source": [
    "%run ./set_notebook.py"
   ]
  },
  {
   "cell_type": "markdown",
   "metadata": {},
   "source": [
    "## algebra, precalculus and calculus textbook problems notebook"
   ]
  },
  {
   "cell_type": "markdown",
   "metadata": {},
   "source": [
    "---\n",
    "### Solve equation where one side is equal to the expression, and the other side is equal to 0."
   ]
  },
  {
   "cell_type": "code",
   "execution_count": 2,
   "metadata": {},
   "outputs": [
    {
     "data": {
      "text/latex": [
       "$\\displaystyle \\left[ \\frac{\\sqrt{- \\frac{2}{\\sqrt[3]{\\frac{1}{16} + \\frac{\\sqrt{257}}{16}}} + 2 \\sqrt[3]{\\frac{1}{16} + \\frac{\\sqrt{257}}{16}}}}{2} + \\frac{\\sqrt{- 2 \\sqrt[3]{\\frac{1}{16} + \\frac{\\sqrt{257}}{16}} + \\frac{2}{\\sqrt[3]{\\frac{1}{16} + \\frac{\\sqrt{257}}{16}}} + \\frac{2}{\\sqrt{- \\frac{2}{\\sqrt[3]{\\frac{1}{16} + \\frac{\\sqrt{257}}{16}}} + 2 \\sqrt[3]{\\frac{1}{16} + \\frac{\\sqrt{257}}{16}}}}}}{2}, \\  - \\frac{\\sqrt{- 2 \\sqrt[3]{\\frac{1}{16} + \\frac{\\sqrt{257}}{16}} + \\frac{2}{\\sqrt[3]{\\frac{1}{16} + \\frac{\\sqrt{257}}{16}}} + \\frac{2}{\\sqrt{- \\frac{2}{\\sqrt[3]{\\frac{1}{16} + \\frac{\\sqrt{257}}{16}}} + 2 \\sqrt[3]{\\frac{1}{16} + \\frac{\\sqrt{257}}{16}}}}}}{2} + \\frac{\\sqrt{- \\frac{2}{\\sqrt[3]{\\frac{1}{16} + \\frac{\\sqrt{257}}{16}}} + 2 \\sqrt[3]{\\frac{1}{16} + \\frac{\\sqrt{257}}{16}}}}{2}\\right]$"
      ],
      "text/plain": [
       "⎡                                                              _______________\n",
       "⎢                                                             ╱         ______\n",
       "⎢                                                            ╱         ╱ 1    \n",
       "⎢                                                           ╱   - 2⋅3 ╱  ── + \n",
       "⎢        _______________________________________           ╱        ╲╱   16   \n",
       "⎢       ╱                           ___________           ╱                   \n",
       "⎢      ╱           2               ╱ 1    √257           ╱                    \n",
       "⎢     ╱   - ─────────────── + 2⋅3 ╱  ── + ────          ╱                     \n",
       "⎢    ╱          ___________     ╲╱   16    16          ╱                      \n",
       "⎢   ╱          ╱ 1    √257                            ╱                       \n",
       "⎢  ╱        3 ╱  ── + ────                           ╱                        \n",
       "⎢╲╱         ╲╱   16    16                          ╲╱                         \n",
       "⎢─────────────────────────────────────────────── + ───────────────────────────\n",
       "⎣                       2                                                     \n",
       "\n",
       "__________________________________________________________________________    \n",
       "_____                                                                         \n",
       "√257           2                                 2                            \n",
       "────  + ─────────────── + ───────────────────────────────────────────────     \n",
       " 16         ___________           _______________________________________     \n",
       "           ╱ 1    √257           ╱                           ___________      \n",
       "        3 ╱  ── + ────          ╱           2               ╱ 1    √257       \n",
       "        ╲╱   16    16          ╱   - ─────────────── + 2⋅3 ╱  ── + ────       \n",
       "                              ╱          ___________     ╲╱   16    16        \n",
       "                             ╱          ╱ 1    √257                           \n",
       "                            ╱        3 ╱  ── + ────                           \n",
       "                          ╲╱         ╲╱   16    16                            \n",
       "──────────────────────────────────────────────────────────────────────────, - \n",
       "                       2                                                      \n",
       "\n",
       "            __________________________________________________________________\n",
       "           ╱         ___________                                              \n",
       "          ╱         ╱ 1    √257           2                                 2 \n",
       "         ╱   - 2⋅3 ╱  ── + ────  + ─────────────── + ─────────────────────────\n",
       "        ╱        ╲╱   16    16         ___________           _________________\n",
       "       ╱                              ╱ 1    √257           ╱                 \n",
       "      ╱                            3 ╱  ── + ────          ╱           2      \n",
       "     ╱                             ╲╱   16    16          ╱   - ──────────────\n",
       "    ╱                                                    ╱          __________\n",
       "   ╱                                                    ╱          ╱ 1    √257\n",
       "  ╱                                                    ╱        3 ╱  ── + ────\n",
       "╲╱                                                   ╲╱         ╲╱   16    16 \n",
       "──────────────────────────────────────────────────────────────────────────────\n",
       "                                                  2                           \n",
       "\n",
       "_______________________                                                  ⎤\n",
       "                                                                         ⎥\n",
       "                                                                         ⎥\n",
       "──────────────────────                                                   ⎥\n",
       "______________________            _______________________________________⎥\n",
       "          ___________            ╱                           ___________ ⎥\n",
       "         ╱ 1    √257            ╱           2               ╱ 1    √257  ⎥\n",
       "─ + 2⋅3 ╱  ── + ────           ╱   - ─────────────── + 2⋅3 ╱  ── + ────  ⎥\n",
       "_     ╲╱   16    16           ╱          ___________     ╲╱   16    16   ⎥\n",
       "                             ╱          ╱ 1    √257                      ⎥\n",
       "                            ╱        3 ╱  ── + ────                      ⎥\n",
       "                          ╲╱         ╲╱   16    16                       ⎥\n",
       "─────────────────────── + ───────────────────────────────────────────────⎥\n",
       "                                                 2                       ⎦"
      ]
     },
     "execution_count": 2,
     "metadata": {},
     "output_type": "execute_result"
    }
   ],
   "source": [
    "expression = x**2 - (x+3)**Rational(1,2) \n",
    "solve(expression)"
   ]
  },
  {
   "cell_type": "markdown",
   "metadata": {},
   "source": [
    "Return approximate solutions"
   ]
  },
  {
   "cell_type": "code",
   "execution_count": 3,
   "metadata": {},
   "outputs": [
    {
     "data": {
      "text/latex": [
       "$\\displaystyle \\left[ 1.45262687883384, \\  -1.16403514028977\\right]$"
      ],
      "text/plain": [
       "[1.45262687883384, -1.16403514028977]"
      ]
     },
     "execution_count": 3,
     "metadata": {},
     "output_type": "execute_result"
    }
   ],
   "source": [
    "[N(_) for _ in solve(expression)]"
   ]
  },
  {
   "cell_type": "markdown",
   "metadata": {},
   "source": [
    "---\n",
    "**example** solving two equations by subtracting one equation and setting equal to 0"
   ]
  },
  {
   "cell_type": "code",
   "execution_count": 4,
   "metadata": {},
   "outputs": [
    {
     "data": {
      "text/latex": [
       "$\\displaystyle \\left[ -2, \\  4\\right]$"
      ],
      "text/plain": [
       "[-2, 4]"
      ]
     },
     "execution_count": 4,
     "metadata": {},
     "output_type": "execute_result"
    }
   ],
   "source": [
    "solve(x**2 - x - 5 -(x + 3), x)"
   ]
  },
  {
   "cell_type": "markdown",
   "metadata": {},
   "source": [
    "---\n",
    "**example** plot single function"
   ]
  },
  {
   "cell_type": "code",
   "execution_count": 5,
   "metadata": {},
   "outputs": [
    {
     "data": {
      "image/png": "[encoded data removed]",
      "text/plain": [
       "<Figure size 432x288 with 1 Axes>"
      ]
     },
     "metadata": {
      "needs_background": "light"
     },
     "output_type": "display_data"
    }
   ],
   "source": [
    "x_coords = np.linspace(-3, 4, 1000)\n",
    "y_coords = [x_coord**2 - (x_coord+3)**.5 for x_coord in x_coords]\n",
    "\n",
    "plt.plot(x_coords, y_coords)\n",
    "\n",
    "plt.axis('equal') # ymin=-1500, ymax=30, 'equal'\n",
    "plt.grid()\n",
    "plt.xlabel('$x$')\n",
    "plt.ylabel('$y$')\n",
    "plt.axhline(0, color='black', lw=2)\n",
    "_=plt.axvline(0, color='black', lw=2)"
   ]
  },
  {
   "cell_type": "markdown",
   "metadata": {},
   "source": [
    "**work** plot single function"
   ]
  },
  {
   "cell_type": "code",
   "execution_count": 6,
   "metadata": {},
   "outputs": [
    {
     "data": {
      "image/png": "[encoded data removed]",
      "text/plain": [
       "<Figure size 432x288 with 1 Axes>"
      ]
     },
     "metadata": {
      "needs_background": "light"
     },
     "output_type": "display_data"
    }
   ],
   "source": [
    "x_coords = np.linspace(-10, 10, 1000)\n",
    "y_coords = [(x_coord - 1)/(x_coord**2 + 4) for x_coord in x_coords]\n",
    "\n",
    "plt.plot(x_coords, y_coords)\n",
    "\n",
    "plt.axis(ymax=.5, ymin=-.5) \n",
    "plt.grid()\n",
    "plt.xlabel('$x$')\n",
    "plt.ylabel('$y$')\n",
    "plt.axhline(0, color='black', lw=2)\n",
    "_=plt.axvline(0, color='black', lw=2)"
   ]
  },
  {
   "cell_type": "markdown",
   "metadata": {},
   "source": [
    "---"
   ]
  },
  {
   "cell_type": "code",
   "execution_count": 7,
   "metadata": {},
   "outputs": [
    {
     "data": {
      "image/png": "[encoded data removed]",
      "text/plain": [
       "<Figure size 432x288 with 1 Axes>"
      ]
     },
     "metadata": {
      "needs_background": "light"
     },
     "output_type": "display_data"
    }
   ],
   "source": [
    "x_coords = np.linspace(-4, 5, 1000)\n",
    "y_coords = [x_coord**2 - x_coord - 5 for x_coord in x_coords]\n",
    "y_coords2 = [x_coord+3 for x_coord in x_coords]\n",
    "\n",
    "plt.plot(x_coords, y_coords)\n",
    "plt.plot(x_coords, y_coords2)\n",
    "\n",
    "plt.grid()\n",
    "plt.xlabel('$x$')\n",
    "plt.ylabel('$y$')\n",
    "plt.axhline(0, color='black', lw=2)\n",
    "_=plt.axvline(0, color='black', lw=2)"
   ]
  },
  {
   "cell_type": "code",
   "execution_count": 8,
   "metadata": {},
   "outputs": [
    {
     "data": {
      "text/latex": [
       "$\\displaystyle 2.0$"
      ],
      "text/plain": [
       "2.0"
      ]
     },
     "execution_count": 8,
     "metadata": {},
     "output_type": "execute_result"
    }
   ],
   "source": [
    "# slope\n",
    "(2-6)/(1-3)"
   ]
  },
  {
   "cell_type": "code",
   "execution_count": 9,
   "metadata": {},
   "outputs": [
    {
     "data": {
      "text/latex": [
       "$\\displaystyle \\frac{3}{19}$"
      ],
      "text/plain": [
       "3/19"
      ]
     },
     "execution_count": 9,
     "metadata": {},
     "output_type": "execute_result"
    }
   ],
   "source": [
    "# slope\n",
    "Rational(Rational(21,10)-(Rational(24,10)),Rational(12,10)-Rational(31,10))"
   ]
  },
  {
   "cell_type": "code",
   "execution_count": 21,
   "metadata": {},
   "outputs": [
    {
     "data": {
      "text/latex": [
       "$\\displaystyle \\left[ \\right]$"
      ],
      "text/plain": [
       "[]"
      ]
     },
     "execution_count": 21,
     "metadata": {},
     "output_type": "execute_result"
    }
   ],
   "source": [
    "# find point of intersection for two lines\n",
    "solve((Eq(x + 2*y - 1, 0), Eq(2*x + 4*y - 3, 0)), (x, y))"
   ]
  },
  {
   "cell_type": "code",
   "execution_count": 11,
   "metadata": {},
   "outputs": [
    {
     "data": {
      "image/png": "[encoded data removed]",
      "text/plain": [
       "<Figure size 432x288 with 1 Axes>"
      ]
     },
     "metadata": {
      "needs_background": "light"
     },
     "output_type": "display_data"
    }
   ],
   "source": [
    "x_coords = np.linspace(-10, 10, 1000)\n",
    "y_coords = [-Rational(1,2)*x_coord + Rational(1,2) for x_coord in x_coords]\n",
    "y_coords2 = [-Rational(1,2)*x_coord + Rational(3,4) for x_coord in x_coords]\n",
    "\n",
    "plt.plot(x_coords, y_coords)\n",
    "plt.plot(x_coords, y_coords2)\n",
    "\n",
    "plt.axis('equal')\n",
    "plt.grid()\n",
    "plt.xlabel('$x$')\n",
    "plt.ylabel('$y$')\n",
    "plt.axhline(0, color='black', lw=2)\n",
    "plt.ylim(-6,6)\n",
    "plt.xlim(-10,10)\n",
    "_=plt.axvline(0, color='black', lw=2)"
   ]
  },
  {
   "cell_type": "code",
   "execution_count": 12,
   "metadata": {},
   "outputs": [
    {
     "data": {
      "image/png": "[encoded data removed]",
      "text/plain": [
       "<Figure size 432x288 with 1 Axes>"
      ]
     },
     "metadata": {
      "needs_background": "light"
     },
     "output_type": "display_data"
    }
   ],
   "source": [
    "x_coords = np.linspace(-10, 10, 1000)\n",
    "y_coords = [2*x_coord for x_coord in x_coords]\n",
    "y_coords2 = [-Rational(1,2)*x_coord + 1 for x_coord in x_coords]\n",
    "\n",
    "plt.plot(x_coords, y_coords)\n",
    "plt.plot(x_coords, y_coords2)\n",
    "\n",
    "plt.axis('equal')\n",
    "plt.grid()\n",
    "plt.xlabel('$x$')\n",
    "plt.ylabel('$y$')\n",
    "plt.axhline(0, color='black', lw=2)\n",
    "plt.ylim(-6,6)\n",
    "plt.xlim(-10,10)\n",
    "_=plt.axvline(0, color='black', lw=2)"
   ]
  },
  {
   "cell_type": "code",
   "execution_count": 13,
   "metadata": {},
   "outputs": [
    {
     "data": {
      "text/latex": [
       "$\\displaystyle \\left(-\\infty, \\frac{1}{2} - \\frac{\\sqrt{5}}{2}\\right) \\cup \\left(\\frac{1}{2} + \\frac{\\sqrt{5}}{2}, \\infty\\right)$"
      ],
      "text/plain": [
       "⎛    1   √5⎞   ⎛1   √5   ⎞\n",
       "⎜-∞, ─ - ──⎟ ∪ ⎜─ + ──, ∞⎟\n",
       "⎝    2   2 ⎠   ⎝2   2    ⎠"
      ]
     },
     "execution_count": 13,
     "metadata": {},
     "output_type": "execute_result"
    }
   ],
   "source": [
    "solveset(x**2 - x - 1 > 0, x, domain=S.Reals)"
   ]
  },
  {
   "cell_type": "code",
   "execution_count": 14,
   "metadata": {},
   "outputs": [
    {
     "data": {
      "text/latex": [
       "$\\displaystyle \\frac{3}{100}$"
      ],
      "text/plain": [
       "3/100"
      ]
     },
     "execution_count": 14,
     "metadata": {},
     "output_type": "execute_result"
    }
   ],
   "source": [
    "f = 3/x\n",
    "f.subs(x, 100)"
   ]
  },
  {
   "cell_type": "code",
   "execution_count": 15,
   "metadata": {},
   "outputs": [
    {
     "data": {
      "text/latex": [
       "$\\displaystyle \\left[ -2, \\  -1, \\  2\\right]$"
      ],
      "text/plain": [
       "[-2, -1, 2]"
      ]
     },
     "execution_count": 15,
     "metadata": {},
     "output_type": "execute_result"
    }
   ],
   "source": [
    "# find x-intercept\n",
    "solve(x**3 + x**2 - 4*x - 4)"
   ]
  },
  {
   "cell_type": "code",
   "execution_count": 16,
   "metadata": {},
   "outputs": [
    {
     "data": {
      "text/latex": [
       "$\\displaystyle \\frac{1}{4}$"
      ],
      "text/plain": [
       "1/4"
      ]
     },
     "execution_count": 16,
     "metadata": {},
     "output_type": "execute_result"
    }
   ],
   "source": [
    "# find y-intercept\n",
    "((x*2-1)/(x**2-4)).subs(x,0)"
   ]
  },
  {
   "cell_type": "code",
   "execution_count": 17,
   "metadata": {},
   "outputs": [
    {
     "data": {
      "text/latex": [
       "$\\displaystyle \\left( 166.66666666666666, \\  75.83333333333333\\right)$"
      ],
      "text/plain": [
       "(166.66666666666666, 75.83333333333333)"
      ]
     },
     "execution_count": 17,
     "metadata": {},
     "output_type": "execute_result"
    }
   ],
   "source": [
    "500/3, 455/6"
   ]
  },
  {
   "cell_type": "markdown",
   "metadata": {},
   "source": [
    "## Exponents\n",
    "---\n",
    "**Example** simplify\n",
    "\n",
    "$(2x^\\frac{3}{2})(4x^\\frac{-1}{2})$  "
   ]
  },
  {
   "cell_type": "code",
   "execution_count": 18,
   "metadata": {},
   "outputs": [
    {
     "data": {
      "text/latex": [
       "$\\displaystyle x$"
      ],
      "text/plain": [
       "x"
      ]
     },
     "execution_count": 18,
     "metadata": {},
     "output_type": "execute_result"
    }
   ],
   "source": [
    "2*x**Rational(3,2) * (4*x)**Rational(-1,2)"
   ]
  },
  {
   "cell_type": "markdown",
   "metadata": {},
   "source": [
    "**example** simplify\n",
    "\n",
    "use `powdenest(expression, force=True)` to simplify exponents\n",
    "\n",
    "$(8x^6)^\\frac{-2}{3}$"
   ]
  },
  {
   "cell_type": "code",
   "execution_count": 19,
   "metadata": {},
   "outputs": [
    {
     "data": {
      "text/latex": [
       "$\\displaystyle \\frac{1}{4 x^{4}}$"
      ],
      "text/plain": [
       " 1  \n",
       "────\n",
       "   4\n",
       "4⋅x "
      ]
     },
     "execution_count": 19,
     "metadata": {},
     "output_type": "execute_result"
    }
   ],
   "source": [
    "powdenest((8*x**6)**Rational(-2,3), force=True)"
   ]
  },
  {
   "cell_type": "markdown",
   "metadata": {},
   "source": [
    "**work** simplify"
   ]
  },
  {
   "cell_type": "code",
   "execution_count": 20,
   "metadata": {},
   "outputs": [
    {
     "data": {
      "text/latex": [
       "$\\displaystyle \\frac{16 x^{\\frac{4}{3}}}{y^{2} z^{\\frac{2}{3}}}$"
      ],
      "text/plain": [
       "    4/3\n",
       "16⋅x   \n",
       "───────\n",
       " 2  2/3\n",
       "y ⋅z   "
      ]
     },
     "execution_count": 20,
     "metadata": {},
     "output_type": "execute_result"
    }
   ],
   "source": [
    "powdenest((-2*x**Rational(1,3) / (y**Rational(1,2) * z**Rational(1,6)))**4, force=True)"
   ]
  },
  {
   "cell_type": "markdown",
   "metadata": {},
   "source": [
    "---test"
   ]
  }
 ],
 "metadata": {
  "kernelspec": {
   "display_name": "Python 3",
   "language": "python",
   "name": "python3"
  },
  "language_info": {
   "codemirror_mode": {
    "name": "ipython",
    "version": 3
   },
   "file_extension": ".py",
   "mimetype": "text/x-python",
   "name": "python",
   "nbconvert_exporter": "python",
   "pygments_lexer": "ipython3",
   "version": "3.7.6"
  }
 },
 "nbformat": 4,
 "nbformat_minor": 4
}
