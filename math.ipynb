{
 "cells": [
  {
   "cell_type": "code",
   "execution_count": 1,
   "metadata": {},
   "outputs": [],
   "source": [
    "%run ./set_notebook.py\n",
    "%matplotlib widget"
   ]
  },
  {
   "cell_type": "markdown",
   "metadata": {},
   "source": [
    "# REAL NUMBERS\n",
    "Real numbers are the set of all irrational and rational numbers.  \n",
    "$\\mathbb{R}=\\mathbb{I}+\\mathbb{Q}$\n",
    "\n",
    "\n",
    "All rational numbers can be expressed as a the ratio of two integers.  \n",
    "$\\frac{a}{b}$  \n",
    "  \n",
    "If a number cannot be expressed as the ratio of two integers, the number is irrational.  \n",
    "A real number is either irrational or rational.  \n",
    "The sum of a rational and irrational number is irrational because the sum cannot be expressed as the ratio of two integers.  "
   ]
  },
  {
   "cell_type": "markdown",
   "metadata": {},
   "source": [
    "$\\frac{a}{0}$ where $a \\ne 0$ is undefined because if we approach $0$ from the right, the quotient will approach positive infinity.  \n",
    "If we approach $0$ from the left, the quotient will approach negative infinity  \n",
    "  \n",
    "$\\frac{0}{0}$ is undefined because as number $a$ approaches $0, \\frac{a}{a}=1$.  \n",
    "As number $a$ approaches $0, \\frac{0}{a} = 0$.  \n",
    "It's not clear if $\\frac{0}{0}$ should equal $0$ or $1$ and therefore, $\\frac{0}{0}$ is undefined."
   ]
  },
  {
   "cell_type": "markdown",
   "metadata": {},
   "source": [
    "## properties of real numbers\n",
    "$a$, $b$ and $c$ represent real numbers  \n",
    "**reflexive property**: A number always equals itself; that is $a=a$.  \n",
    "**symetric property**: If $a=b$ then $b=a$.  \n",
    "**transitive property**: If $a=b$ and $b=c$ then $a=c$.  \n",
    "**principle of substitution**:\n",
    "If $a=b$ then $b$ may substitute for $a$ in any expression containing $a$."
   ]
  },
  {
   "cell_type": "markdown",
   "metadata": {},
   "source": [
    "### commutative property\n",
    "The final result will not be affected by the order in which addition or multiplication takes place."
   ]
  },
  {
   "cell_type": "code",
   "execution_count": 2,
   "metadata": {},
   "outputs": [
    {
     "data": {
      "text/latex": [
       "$\\displaystyle \\text{True}$"
      ],
      "text/plain": [
       "True"
      ]
     },
     "execution_count": 2,
     "metadata": {},
     "output_type": "execute_result"
    }
   ],
   "source": [
    "Eq(a*b*c, c*b*a)"
   ]
  },
  {
   "cell_type": "markdown",
   "metadata": {},
   "source": [
    "Subtraction is not commutative."
   ]
  },
  {
   "cell_type": "code",
   "execution_count": 3,
   "metadata": {},
   "outputs": [
    {
     "data": {
      "text/plain": [
       "-2"
      ]
     },
     "metadata": {},
     "output_type": "display_data"
    },
    {
     "data": {
      "text/plain": [
       "0"
      ]
     },
     "metadata": {},
     "output_type": "display_data"
    },
    {
     "data": {
      "text/latex": [
       "$\\displaystyle \\text{False}$"
      ],
      "text/plain": [
       "False"
      ]
     },
     "execution_count": 3,
     "metadata": {},
     "output_type": "execute_result"
    }
   ],
   "source": [
    "display(2-1-3)\n",
    "display(3-2-1)\n",
    "Eq(2-1-3, 3-2-1)"
   ]
  },
  {
   "cell_type": "markdown",
   "metadata": {},
   "source": [
    "Division is not commutative.  "
   ]
  },
  {
   "cell_type": "code",
   "execution_count": 4,
   "metadata": {},
   "outputs": [
    {
     "data": {
      "text/latex": [
       "$\\displaystyle \\text{False}$"
      ],
      "text/plain": [
       "False"
      ]
     },
     "execution_count": 4,
     "metadata": {},
     "output_type": "execute_result"
    }
   ],
   "source": [
    "Eq(3/2, 2/3)"
   ]
  },
  {
   "cell_type": "markdown",
   "metadata": {},
   "source": [
    "### ASSOCIATIVE PROPERTIES\n",
    "The way three real numbers are added or multiplied does not affect the final result. "
   ]
  },
  {
   "cell_type": "code",
   "execution_count": 5,
   "metadata": {},
   "outputs": [
    {
     "data": {
      "text/latex": [
       "$\\displaystyle \\text{True}$"
      ],
      "text/plain": [
       "True"
      ]
     },
     "execution_count": 5,
     "metadata": {},
     "output_type": "execute_result"
    }
   ],
   "source": [
    "Eq((a+b)+c, a+b+c)"
   ]
  },
  {
   "cell_type": "code",
   "execution_count": 6,
   "metadata": {},
   "outputs": [
    {
     "data": {
      "text/latex": [
       "$\\displaystyle \\text{True}$"
      ],
      "text/plain": [
       "True"
      ]
     },
     "execution_count": 6,
     "metadata": {},
     "output_type": "execute_result"
    }
   ],
   "source": [
    "Eq(a+(b+c), (a+b)+c)"
   ]
  },
  {
   "cell_type": "code",
   "execution_count": 7,
   "metadata": {},
   "outputs": [
    {
     "data": {
      "text/latex": [
       "$\\displaystyle \\text{True}$"
      ],
      "text/plain": [
       "True"
      ]
     },
     "execution_count": 7,
     "metadata": {},
     "output_type": "execute_result"
    }
   ],
   "source": [
    "Eq(a*(b*c), (a*b)*c)"
   ]
  },
  {
   "cell_type": "code",
   "execution_count": 8,
   "metadata": {},
   "outputs": [
    {
     "data": {
      "text/latex": [
       "$\\displaystyle \\text{True}$"
      ],
      "text/plain": [
       "True"
      ]
     },
     "execution_count": 8,
     "metadata": {},
     "output_type": "execute_result"
    }
   ],
   "source": [
    "Eq((a*b)*c, a*b*c)"
   ]
  },
  {
   "cell_type": "markdown",
   "metadata": {},
   "source": [
    "Subtraction is not associative."
   ]
  },
  {
   "cell_type": "code",
   "execution_count": 9,
   "metadata": {},
   "outputs": [
    {
     "data": {
      "text/latex": [
       "$\\displaystyle \\text{False}$"
      ],
      "text/plain": [
       "False"
      ]
     },
     "execution_count": 9,
     "metadata": {},
     "output_type": "execute_result"
    }
   ],
   "source": [
    "Eq(2-(3+1), 2-3+1)"
   ]
  },
  {
   "cell_type": "markdown",
   "metadata": {},
   "source": [
    "Division is not associative."
   ]
  },
  {
   "cell_type": "code",
   "execution_count": 10,
   "metadata": {},
   "outputs": [
    {
     "data": {
      "text/latex": [
       "$\\displaystyle \\frac{1}{6}$"
      ],
      "text/plain": [
       "1/6"
      ]
     },
     "execution_count": 10,
     "metadata": {},
     "output_type": "execute_result"
    }
   ],
   "source": [
    "A = Rational(Rational(1, 2), 3)\n",
    "A"
   ]
  },
  {
   "cell_type": "code",
   "execution_count": 11,
   "metadata": {},
   "outputs": [
    {
     "data": {
      "text/latex": [
       "$\\displaystyle \\frac{3}{2}$"
      ],
      "text/plain": [
       "3/2"
      ]
     },
     "execution_count": 11,
     "metadata": {},
     "output_type": "execute_result"
    }
   ],
   "source": [
    "B = Rational(Rational(3, 2), 1)\n",
    "B"
   ]
  },
  {
   "cell_type": "code",
   "execution_count": 12,
   "metadata": {},
   "outputs": [
    {
     "data": {
      "text/latex": [
       "$\\displaystyle \\text{False}$"
      ],
      "text/plain": [
       "False"
      ]
     },
     "execution_count": 12,
     "metadata": {},
     "output_type": "execute_result"
    }
   ],
   "source": [
    "Eq(A, B)"
   ]
  },
  {
   "cell_type": "markdown",
   "metadata": {},
   "source": [
    "### The distributive property  \n",
    "Use to remove parenthesis.  \n",
    "$a(b+c)=ab+ac$"
   ]
  },
  {
   "cell_type": "code",
   "execution_count": 13,
   "metadata": {},
   "outputs": [
    {
     "data": {
      "text/latex": [
       "$\\displaystyle 4 x^{2} + 12 x$"
      ],
      "text/plain": [
       "4*x**2 + 12*x"
      ]
     },
     "execution_count": 13,
     "metadata": {},
     "output_type": "execute_result"
    }
   ],
   "source": [
    "expand((4*x * (x+3)))"
   ]
  },
  {
   "cell_type": "code",
   "execution_count": 14,
   "metadata": {},
   "outputs": [
    {
     "data": {
      "text/latex": [
       "$\\displaystyle x^{2} - x - 2$"
      ],
      "text/plain": [
       "x**2 - x - 2"
      ]
     },
     "execution_count": 14,
     "metadata": {},
     "output_type": "execute_result"
    }
   ],
   "source": [
    "expand((x-2)*(x+1))"
   ]
  },
  {
   "cell_type": "markdown",
   "metadata": {},
   "source": [
    "### IDENTITY PROPERTIES\n",
    "0 and 1 have unique properties known as the **identity properties**.  "
   ]
  },
  {
   "cell_type": "markdown",
   "metadata": {},
   "source": [
    "additive property"
   ]
  },
  {
   "cell_type": "code",
   "execution_count": 15,
   "metadata": {},
   "outputs": [
    {
     "data": {
      "text/latex": [
       "$\\displaystyle \\text{True}$"
      ],
      "text/plain": [
       "True"
      ]
     },
     "execution_count": 15,
     "metadata": {},
     "output_type": "execute_result"
    }
   ],
   "source": [
    "Eq(a+0, a)"
   ]
  },
  {
   "cell_type": "markdown",
   "metadata": {},
   "source": [
    "multiplicative property"
   ]
  },
  {
   "cell_type": "code",
   "execution_count": 16,
   "metadata": {},
   "outputs": [
    {
     "data": {
      "text/latex": [
       "$\\displaystyle \\text{True}$"
      ],
      "text/plain": [
       "True"
      ]
     },
     "execution_count": 16,
     "metadata": {},
     "output_type": "execute_result"
    }
   ],
   "source": [
    "Eq(1*a, a)"
   ]
  },
  {
   "cell_type": "markdown",
   "metadata": {},
   "source": [
    "additive inverse property"
   ]
  },
  {
   "cell_type": "code",
   "execution_count": 17,
   "metadata": {},
   "outputs": [
    {
     "data": {
      "text/latex": [
       "$\\displaystyle \\text{True}$"
      ],
      "text/plain": [
       "True"
      ]
     },
     "execution_count": 17,
     "metadata": {},
     "output_type": "execute_result"
    }
   ],
   "source": [
    "Eq(-a+a, 0)"
   ]
  },
  {
   "cell_type": "markdown",
   "metadata": {},
   "source": [
    "multiplicative inverse property  \n",
    "if $a \\neq 0$"
   ]
  },
  {
   "cell_type": "code",
   "execution_count": 18,
   "metadata": {},
   "outputs": [
    {
     "data": {
      "text/latex": [
       "$\\displaystyle \\text{True}$"
      ],
      "text/plain": [
       "True"
      ]
     },
     "execution_count": 18,
     "metadata": {},
     "output_type": "execute_result"
    }
   ],
   "source": [
    "Eq((1/a)*a, 1)"
   ]
  },
  {
   "cell_type": "markdown",
   "metadata": {},
   "source": [
    "Note: Division by 0 is not defined.  \n",
    "  \n",
    "$\\frac{2}{0}=x$ means to find $x$ such that $0\\cdot x = 2$.  \n",
    "But $0\\cdot x$ equals 0 for all $x$, so $x$ does not exist if $\\frac{2}{0} = x$.  \n",
    "### REDUCTION PROPERTIES\n",
    "$ac = bc$ implies $a = b$ if $c \\neq 0$.  \n",
    "  \n",
    "$\\frac{ac}{bc} = \\frac{a}{b}$ if $b \\neq 0$ and $c \\neq 0$."
   ]
  },
  {
   "cell_type": "code",
   "execution_count": 19,
   "metadata": {},
   "outputs": [
    {
     "data": {
      "text/plain": [
       "[3]"
      ]
     },
     "execution_count": 19,
     "metadata": {},
     "output_type": "execute_result"
    }
   ],
   "source": [
    "solve(Eq(2*x, 2*3), x)"
   ]
  },
  {
   "cell_type": "code",
   "execution_count": 20,
   "metadata": {},
   "outputs": [
    {
     "data": {
      "text/latex": [
       "$\\displaystyle \\frac{3}{2}$"
      ],
      "text/plain": [
       "3/2"
      ]
     },
     "execution_count": 20,
     "metadata": {},
     "output_type": "execute_result"
    }
   ],
   "source": [
    "Rational(3*6, 2*6)"
   ]
  },
  {
   "cell_type": "markdown",
   "metadata": {},
   "source": [
    "zero-product property  \n",
    "If $ab = 0$, then $a=0$, $b=0$ or both.  "
   ]
  },
  {
   "cell_type": "markdown",
   "metadata": {},
   "source": [
    "### least common multiple"
   ]
  },
  {
   "cell_type": "code",
   "execution_count": 21,
   "metadata": {},
   "outputs": [
    {
     "data": {
      "text/latex": [
       "$\\displaystyle 60$"
      ],
      "text/plain": [
       "60"
      ]
     },
     "execution_count": 21,
     "metadata": {},
     "output_type": "execute_result"
    }
   ],
   "source": [
    "lcm(12,15)"
   ]
  },
  {
   "cell_type": "markdown",
   "metadata": {},
   "source": [
    "# SETS"
   ]
  },
  {
   "cell_type": "markdown",
   "metadata": {},
   "source": [
    "### intersection  \n",
    "  \n",
    "$\\{1, 3, 5, 8\\} \\cap \\{3, 5, 7\\} = \\{3,5\\}$"
   ]
  },
  {
   "cell_type": "code",
   "execution_count": 22,
   "metadata": {},
   "outputs": [],
   "source": [
    "A = FiniteSet(1, 3, 5, 8)\n",
    "B = FiniteSet(3, 5, 7)"
   ]
  },
  {
   "cell_type": "code",
   "execution_count": 23,
   "metadata": {},
   "outputs": [
    {
     "data": {
      "text/latex": [
       "$\\displaystyle \\left\\{3, 5\\right\\}$"
      ],
      "text/plain": [
       "{3, 5}"
      ]
     },
     "execution_count": 23,
     "metadata": {},
     "output_type": "execute_result"
    }
   ],
   "source": [
    "A.intersection(B)"
   ]
  },
  {
   "cell_type": "markdown",
   "metadata": {},
   "source": [
    "### union\n",
    "$\\{1, 3, 5, 8\\} \\cup \\{3, 5, 7\\} = \\{1,3,5,7,8\\}$"
   ]
  },
  {
   "cell_type": "code",
   "execution_count": 24,
   "metadata": {},
   "outputs": [
    {
     "data": {
      "text/latex": [
       "$\\displaystyle \\left\\{1, 3, 5, 7, 8\\right\\}$"
      ],
      "text/plain": [
       "{1, 3, 5, 7, 8}"
      ]
     },
     "execution_count": 24,
     "metadata": {},
     "output_type": "execute_result"
    }
   ],
   "source": [
    "Union(A, B)"
   ]
  },
  {
   "cell_type": "markdown",
   "metadata": {},
   "source": [
    "### complements"
   ]
  },
  {
   "cell_type": "code",
   "execution_count": 25,
   "metadata": {},
   "outputs": [],
   "source": [
    "U = FiniteSet(*range(1, 10))\n",
    "A = FiniteSet(1, 3, 5, 7, 9)\n",
    "B = FiniteSet(2, 4, 6, 8)"
   ]
  },
  {
   "cell_type": "markdown",
   "metadata": {},
   "source": [
    "Find the complement of $A$  \n",
    "$A^\\complement = U - A = \\{2,4,6,8\\}$"
   ]
  },
  {
   "cell_type": "code",
   "execution_count": 26,
   "metadata": {},
   "outputs": [
    {
     "data": {
      "text/latex": [
       "$\\displaystyle \\left\\{2, 4, 6, 8\\right\\}$"
      ],
      "text/plain": [
       "{2, 4, 6, 8}"
      ]
     },
     "execution_count": 26,
     "metadata": {},
     "output_type": "execute_result"
    }
   ],
   "source": [
    "A.complement(U)"
   ]
  },
  {
   "cell_type": "code",
   "execution_count": 27,
   "metadata": {},
   "outputs": [
    {
     "data": {
      "text/plain": [
       "True"
      ]
     },
     "execution_count": 27,
     "metadata": {},
     "output_type": "execute_result"
    }
   ],
   "source": [
    "Union(A, A.complement(U)) == U"
   ]
  },
  {
   "cell_type": "code",
   "execution_count": 28,
   "metadata": {},
   "outputs": [
    {
     "data": {
      "text/latex": [
       "$\\displaystyle \\emptyset$"
      ],
      "text/plain": [
       "EmptySet"
      ]
     },
     "execution_count": 28,
     "metadata": {},
     "output_type": "execute_result"
    }
   ],
   "source": [
    "A.intersection(A.complement(U))"
   ]
  },
  {
   "cell_type": "markdown",
   "metadata": {},
   "source": [
    "## classifying set numbers"
   ]
  },
  {
   "cell_type": "code",
   "execution_count": 29,
   "metadata": {},
   "outputs": [
    {
     "data": {
      "text/plain": [
       "{-11, -pi, 0.333, 13/15, 1.001, 3.14, 4, 5, 11}"
      ]
     },
     "execution_count": 29,
     "metadata": {},
     "output_type": "execute_result"
    }
   ],
   "source": [
    "U = {1.001, .333, -pi, -11, 11, Rational(13,15), sqrt(16), 3.14, Rational(15,3)}\n",
    "U"
   ]
  },
  {
   "cell_type": "markdown",
   "metadata": {},
   "source": [
    "#### identify natural numbers"
   ]
  },
  {
   "cell_type": "code",
   "execution_count": 30,
   "metadata": {},
   "outputs": [
    {
     "data": {
      "text/plain": [
       "{11}"
      ]
     },
     "execution_count": 30,
     "metadata": {},
     "output_type": "execute_result"
    }
   ],
   "source": [
    "set([_ for _ in U if isinstance(_, int) and _ > 0])"
   ]
  },
  {
   "cell_type": "markdown",
   "metadata": {},
   "source": [
    "#### identify integers"
   ]
  },
  {
   "cell_type": "code",
   "execution_count": 31,
   "metadata": {},
   "outputs": [
    {
     "data": {
      "text/plain": [
       "{-11, 11}"
      ]
     },
     "execution_count": 31,
     "metadata": {},
     "output_type": "execute_result"
    }
   ],
   "source": [
    "set([_ for _ in U if isinstance(_, int)])"
   ]
  },
  {
   "cell_type": "markdown",
   "metadata": {},
   "source": [
    "#### identify rational numbers"
   ]
  },
  {
   "cell_type": "code",
   "execution_count": 32,
   "metadata": {},
   "outputs": [
    {
     "data": {
      "text/plain": [
       "{-11, 0.333, 13/15, 1.001, 3.14, 4, 5, 11}"
      ]
     },
     "execution_count": 32,
     "metadata": {},
     "output_type": "execute_result"
    }
   ],
   "source": [
    "set([_ for _ in U if nsimplify(_).is_rational or isinstance(_, float)])"
   ]
  },
  {
   "cell_type": "markdown",
   "metadata": {},
   "source": [
    "#### identify irrational numbers"
   ]
  },
  {
   "cell_type": "code",
   "execution_count": 33,
   "metadata": {},
   "outputs": [
    {
     "data": {
      "text/plain": [
       "{-pi}"
      ]
     },
     "execution_count": 33,
     "metadata": {},
     "output_type": "execute_result"
    }
   ],
   "source": [
    "set([_ for _ in U if nsimplify(_).is_irrational])"
   ]
  },
  {
   "cell_type": "markdown",
   "metadata": {},
   "source": [
    "#### identify real numbers"
   ]
  },
  {
   "cell_type": "code",
   "execution_count": 34,
   "metadata": {},
   "outputs": [
    {
     "data": {
      "text/plain": [
       "[-11, -pi, 0.333, 13/15, 1.001, 3.14, 4, 5, 11]"
      ]
     },
     "execution_count": 34,
     "metadata": {},
     "output_type": "execute_result"
    }
   ],
   "source": [
    "sorted([_ for _ in U if nsimplify(_).is_real])"
   ]
  },
  {
   "cell_type": "markdown",
   "metadata": {},
   "source": [
    "### decimal approximation"
   ]
  },
  {
   "cell_type": "code",
   "execution_count": 35,
   "metadata": {},
   "outputs": [
    {
     "data": {
      "text/latex": [
       "$\\displaystyle 3.1416$"
      ],
      "text/plain": [
       "3.14160000000000"
      ]
     },
     "metadata": {},
     "output_type": "display_data"
    },
    {
     "data": {
      "text/plain": [
       "3.1415"
      ]
     },
     "metadata": {},
     "output_type": "display_data"
    },
    {
     "data": {
      "text/latex": [
       "$\\displaystyle 0.0561$"
      ],
      "text/plain": [
       "0.0561000000000000"
      ]
     },
     "metadata": {},
     "output_type": "display_data"
    },
    {
     "data": {
      "text/plain": [
       "0.0561"
      ]
     },
     "metadata": {},
     "output_type": "display_data"
    },
    {
     "data": {
      "text/latex": [
       "$\\displaystyle 893.4613$"
      ],
      "text/plain": [
       "893.461300000000"
      ]
     },
     "metadata": {},
     "output_type": "display_data"
    },
    {
     "data": {
      "text/plain": [
       "893.4612"
      ]
     },
     "metadata": {},
     "output_type": "display_data"
    }
   ],
   "source": [
    "A = Decimal('3.14159')\n",
    "B = Decimal('.056128')\n",
    "C = Decimal('893.46125')\n",
    "\n",
    "for _ in [A, B, C]:\n",
    "    # round to 4 decimal places\n",
    "    #display(N(_.quantize(Decimal('.0001'), rounding=ROUND_HALF_UP)))\n",
    "    display(N(_.quantize(Decimal('.0001'))))\n",
    "    # truncate to 4 decimal places\n",
    "    display(float(re.match(r'\\d+.\\d{4}', str(_)).group(0)))\n"
   ]
  },
  {
   "cell_type": "markdown",
   "metadata": {},
   "source": [
    "---"
   ]
  },
  {
   "cell_type": "code",
   "execution_count": 36,
   "metadata": {},
   "outputs": [],
   "source": [
    "C = str(18.9526)"
   ]
  },
  {
   "cell_type": "markdown",
   "metadata": {},
   "source": [
    "### round to 3 decimal places"
   ]
  },
  {
   "cell_type": "code",
   "execution_count": 37,
   "metadata": {},
   "outputs": [
    {
     "data": {
      "text/latex": [
       "$\\displaystyle 18.953$"
      ],
      "text/plain": [
       "18.9530000000000"
      ]
     },
     "execution_count": 37,
     "metadata": {},
     "output_type": "execute_result"
    }
   ],
   "source": [
    "N(Context(prec=5, rounding=ROUND_HALF_UP).create_decimal(C))"
   ]
  },
  {
   "cell_type": "markdown",
   "metadata": {},
   "source": [
    "### truncate to 3 decimal places"
   ]
  },
  {
   "cell_type": "code",
   "execution_count": 38,
   "metadata": {},
   "outputs": [
    {
     "data": {
      "text/latex": [
       "$\\displaystyle 18.952$"
      ],
      "text/plain": [
       "18.9520000000000"
      ]
     },
     "execution_count": 38,
     "metadata": {},
     "output_type": "execute_result"
    }
   ],
   "source": [
    "N(re.match(r'\\d+.\\d{3}', C).group(0))"
   ]
  },
  {
   "cell_type": "markdown",
   "metadata": {},
   "source": [
    "---"
   ]
  },
  {
   "cell_type": "markdown",
   "metadata": {},
   "source": [
    "## INTERVALS\n",
    "$[a,b)$\n",
    "\n",
    "Brackets are used to denote a closed endpoint.  \n",
    "The endpoint $a$ is included in the set.  \n",
    "\n",
    "Parenthesis are used to denote an open endpoint.  \n",
    "The endpoint $b$ is a limit of the interval and not included in the set.  "
   ]
  },
  {
   "cell_type": "markdown",
   "metadata": {},
   "source": [
    "$A = [-2, \\infty)$  \n",
    "$B = (-\\infty, 4)$"
   ]
  },
  {
   "cell_type": "code",
   "execution_count": 39,
   "metadata": {},
   "outputs": [
    {
     "data": {
      "text/latex": [
       "$\\displaystyle \\left[-2, 4\\right)$"
      ],
      "text/plain": [
       "Interval.Ropen(-2, 4)"
      ]
     },
     "execution_count": 39,
     "metadata": {},
     "output_type": "execute_result"
    }
   ],
   "source": [
    "A = Interval(-2, oo, left_open=False)\n",
    "B = Interval(-oo, 4, right_open=True)\n",
    "A.intersection(B)"
   ]
  },
  {
   "cell_type": "markdown",
   "metadata": {},
   "source": [
    "---"
   ]
  },
  {
   "cell_type": "markdown",
   "metadata": {},
   "source": [
    "### INEQUALITIES\n",
    "strict inequalities  \n",
    "$a \\lt b$ or $b \\gt a$    \n",
    "  \n",
    "nonstrict inequalities  \n",
    "$a \\le b$ or $a \\ge b$  \n",
    "  \n",
    "a is positive  \n",
    "a > 0  \n",
    "  \n",
    "a is negative  \n",
    "a < 0\n",
    "\n",
    "a is nonnegative  \n",
    "$a \\ge 0$  \n",
    "  \n",
    "If $a \\lt b$ and $b \\lt c$, then $a \\lt c$.  \n",
    "If $a \\lt b$, then $a+c \\lt b + c$.  \n",
    "If $a \\lt b$ and $c \\gt 0$, then $ca \\lt cb$.  \n",
    "If $a \\lt b$ and $c \\lt 0$, then $ca \\gt cb$.  "
   ]
  },
  {
   "cell_type": "markdown",
   "metadata": {},
   "source": [
    "### solve linear inequality\n",
    "$\\frac{x-4}{x+1} < 1$"
   ]
  },
  {
   "cell_type": "code",
   "execution_count": 40,
   "metadata": {},
   "outputs": [
    {
     "data": {
      "text/latex": [
       "$\\displaystyle \\left(-1, \\infty\\right)$"
      ],
      "text/plain": [
       "Interval.open(-1, oo)"
      ]
     },
     "execution_count": 40,
     "metadata": {},
     "output_type": "execute_result"
    }
   ],
   "source": [
    "inequality = (x-4)/(x+1) < 1\n",
    "solveset(f=inequality, symbol=x, domain=S.Reals)"
   ]
  },
  {
   "cell_type": "markdown",
   "metadata": {},
   "source": [
    "### solve quadratic inequality\n",
    "$x^2 + x - 6 > 0$"
   ]
  },
  {
   "cell_type": "code",
   "execution_count": 41,
   "metadata": {},
   "outputs": [
    {
     "data": {
      "text/latex": [
       "$\\displaystyle \\left(-\\infty, -3\\right) \\cup \\left(2, \\infty\\right)$"
      ],
      "text/plain": [
       "Union(Interval.open(-oo, -3), Interval.open(2, oo))"
      ]
     },
     "execution_count": 41,
     "metadata": {},
     "output_type": "execute_result"
    }
   ],
   "source": [
    "inequality = x**2 + x - 6 > 0\n",
    "solveset(inequality, symbol=x, domain=S.Reals)"
   ]
  },
  {
   "cell_type": "markdown",
   "metadata": {},
   "source": [
    "### solve inequality with absolute value\n",
    "$\\vert \\frac{x+2}{x-2}\\vert > 0$"
   ]
  },
  {
   "cell_type": "code",
   "execution_count": 42,
   "metadata": {},
   "outputs": [
    {
     "data": {
      "text/latex": [
       "$\\displaystyle \\left(-\\infty, -2\\right) \\cup \\left(-2, 2\\right) \\cup \\left(2, \\infty\\right)$"
      ],
      "text/plain": [
       "Union(Interval.open(-oo, -2), Interval.open(-2, 2), Interval.open(2, oo))"
      ]
     },
     "execution_count": 42,
     "metadata": {},
     "output_type": "execute_result"
    }
   ],
   "source": [
    "inequality = abs((x+2)/(x-2)) > 0\n",
    "solveset(f=inequality, symbol=x, domain=S.Reals)"
   ]
  },
  {
   "cell_type": "markdown",
   "metadata": {},
   "source": [
    "### solving a two-sided inequality\n",
    "$0 < 3-x < 1$"
   ]
  },
  {
   "cell_type": "code",
   "execution_count": 43,
   "metadata": {},
   "outputs": [
    {
     "data": {
      "text/latex": [
       "$\\displaystyle \\left[2, 3\\right)$"
      ],
      "text/plain": [
       "Interval.Ropen(2, 3)"
      ]
     },
     "execution_count": 43,
     "metadata": {},
     "output_type": "execute_result"
    }
   ],
   "source": [
    "A = solveset(f=0 < 3-x, symbol=x, domain=S.Reals)\n",
    "B = solveset(f=3-x <= 1, symbol=x, domain=S.Reals)\n",
    "A.intersection(B)"
   ]
  },
  {
   "cell_type": "markdown",
   "metadata": {},
   "source": [
    "### SPECIAL PRODUCTS\n",
    "#### sum and product of same terms\n",
    "$a^2-b^2=(a+b)(a-b)$\n",
    "#### perfect squares or squares of binomials\n",
    "$(a+b)^2=a^2+2ab+b^2$  \n",
    "$(a-b)^2=a^2-2ab+b^2$  \n",
    "\n",
    "#### cubes of binomials or perfect cubes\n",
    "$(a+b)^3=a^3+3a^2b+3ab^2+b^3$  \n",
    "$(a-b)^3=a^3-3a^2b+3ab^2-b^3$  \n",
    "  \n",
    "#### sum of two cubes\n",
    "$a^3+b^3=(a+b)(a^2-ab+b^2)$  \n",
    "#### difference of two cubes\n",
    "$a^3-b^3=(a-b)(a^2+ab+b^2)$  "
   ]
  },
  {
   "cell_type": "markdown",
   "metadata": {},
   "source": [
    "### factor integer\n",
    "$18335=5*19*193$"
   ]
  },
  {
   "cell_type": "code",
   "execution_count": 44,
   "metadata": {},
   "outputs": [
    {
     "data": {
      "text/plain": [
       "{5: 1, 19: 1, 193: 1}"
      ]
     },
     "execution_count": 44,
     "metadata": {},
     "output_type": "execute_result"
    }
   ],
   "source": [
    "factorint(18335)"
   ]
  },
  {
   "cell_type": "markdown",
   "metadata": {},
   "source": [
    "### factor polynomial\n",
    "$3x^2 - 6x$"
   ]
  },
  {
   "cell_type": "code",
   "execution_count": 45,
   "metadata": {},
   "outputs": [
    {
     "data": {
      "text/latex": [
       "$\\displaystyle 3 x \\left(x - 2\\right)$"
      ],
      "text/plain": [
       "3*x*(x - 2)"
      ]
     },
     "execution_count": 45,
     "metadata": {},
     "output_type": "execute_result"
    }
   ],
   "source": [
    "factor(3*x**2 - 6*x)"
   ]
  },
  {
   "cell_type": "markdown",
   "metadata": {},
   "source": [
    "### polynomial multiplication\n",
    "$(x + 1)(x^2 + 2x - 4)$"
   ]
  },
  {
   "cell_type": "code",
   "execution_count": 46,
   "metadata": {},
   "outputs": [
    {
     "data": {
      "text/latex": [
       "$\\displaystyle x^{3} + 3 x^{2} - 2 x - 4$"
      ],
      "text/plain": [
       "x**3 + 3*x**2 - 2*x - 4"
      ]
     },
     "execution_count": 46,
     "metadata": {},
     "output_type": "execute_result"
    }
   ],
   "source": [
    "expand(((x + 1) * (x**2 + 2*x - 4)))"
   ]
  },
  {
   "cell_type": "markdown",
   "metadata": {},
   "source": [
    "### polynomial division\n",
    "$$\\frac{x^4 - 3x^3 + 2x - 5}{x^2 - x + 1} = \\frac{𝑥^2−2𝑥−3}{𝑥−2}$$"
   ]
  },
  {
   "cell_type": "code",
   "execution_count": 47,
   "metadata": {},
   "outputs": [
    {
     "data": {
      "text/plain": [
       "(x**2 - 2*x - 3, x - 2)"
      ]
     },
     "execution_count": 47,
     "metadata": {},
     "output_type": "execute_result"
    }
   ],
   "source": [
    "div((x**4 - 3*x**3 + 2*x -5), (x**2 - x + 1))"
   ]
  },
  {
   "cell_type": "markdown",
   "metadata": {},
   "source": [
    "### multiply polynomial in two variables\n",
    "$(x+y)(x^2 + xy + y)$"
   ]
  },
  {
   "cell_type": "code",
   "execution_count": 48,
   "metadata": {},
   "outputs": [
    {
     "data": {
      "text/latex": [
       "$\\displaystyle x^{3} + 2 x^{2} y + x y^{2} + x y + y^{2}$"
      ],
      "text/plain": [
       "x**3 + 2*x**2*y + x*y**2 + x*y + y**2"
      ]
     },
     "execution_count": 48,
     "metadata": {},
     "output_type": "execute_result"
    }
   ],
   "source": [
    "expand(((x+y)*(x**2 + x*y + y)))"
   ]
  },
  {
   "cell_type": "markdown",
   "metadata": {},
   "source": [
    "### QUADRATIC FORMULA\n",
    "If $ax^2 + bx + c = 0$, then  \n",
    "$$x = \\frac{-b \\pm \\sqrt{b^2 - 4ac}}{2a}$$"
   ]
  },
  {
   "cell_type": "markdown",
   "metadata": {},
   "source": [
    "### Convert a repeating decimal to a ratio of two integers:  \n",
    "$x=1.023232323...$  \n",
    "\\begin{align}\n",
    "1000x=1023.232323... \\\\\n",
    "10x=10.23232323... \\\\\n",
    "\\hline\n",
    "990x=1013.0\n",
    "\\end{align}\n",
    "  \n",
    "Thus $x=\\frac{1013}{990}$"
   ]
  },
  {
   "cell_type": "markdown",
   "metadata": {},
   "source": [
    "### graphing inequalities on the real number line"
   ]
  },
  {
   "cell_type": "markdown",
   "metadata": {},
   "source": [
    "Graph all numbers for which $x < 4$"
   ]
  },
  {
   "cell_type": "code",
   "execution_count": 49,
   "metadata": {},
   "outputs": [
    {
     "data": {
      "application/vnd.jupyter.widget-view+json": {
       "model_id": "ddbaa9df254e42419f267c1dd098d34d",
       "version_major": 2,
       "version_minor": 0
      },
      "image/png": "[encoded data removed]",
      "text/html": [
       "\n",
       "            <div style=\"display: inline-block;\">\n",
       "                <div class=\"jupyter-widgets widget-label\" style=\"text-align: center;\">\n",
       "                    Figure\n",
       "                </div>\n",
       "                <img src='data:image/png;base64,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' width=640.0/>\n",
       "            </div>\n",
       "        "
      ],
      "text/plain": [
       "Canvas(toolbar=Toolbar(toolitems=[('Home', 'Reset original view', 'home', 'home'), ('Back', 'Back to previous …"
      ]
     },
     "metadata": {},
     "output_type": "display_data"
    }
   ],
   "source": [
    "fig, ax = plt.subplots(nrows=1)\n",
    "x_min = -2\n",
    "x_max = 5\n",
    "p = 4\n",
    "ax.set_ylim(-1, 1)\n",
    "ax.set_xlim(x_min - 0.4, x_max + 0.4)\n",
    "ax.set_xticks(range(x_min, x_max + 1))\n",
    "ax.set_yticks([])\n",
    "ax.tick_params(axis='x', direction='inout', length=10)\n",
    "ax.spines['bottom'].set_position('zero')\n",
    "ax.spines['bottom'].set_zorder(0)\n",
    "for dir in ['left', 'right', 'top']:\n",
    "    ax.spines[dir].set_visible(False)\n",
    "ax.plot([x_min - 0.4, p], [0, 0], color='red', lw=1)\n",
    "ax.plot([x_min - 0.2, x_min - 0.4, x_min - 0.2], [0.2, 0, -0.2], color='red', lw=1)\n",
    "ax.plot([x_max + 0.2, x_max + 0.4, x_max + 0.2], [0.2, 0, -0.2], color='black', lw=1)\n",
    "ax.plot(p, \n",
    "        0, \n",
    "        linestyle='', \n",
    "        marker='o', \n",
    "        fillstyle='full', \n",
    "        markerfacecolor='white', \n",
    "        markeredgecolor='red',\n",
    "        markersize=5, \n",
    "        lw=2, \n",
    "        zorder=3)\n",
    "ax.set_aspect('equal')"
   ]
  },
  {
   "cell_type": "markdown",
   "metadata": {},
   "source": [
    "Graph all numbers for which $x \\leq 7$"
   ]
  },
  {
   "cell_type": "code",
   "execution_count": 50,
   "metadata": {},
   "outputs": [
    {
     "data": {
      "application/vnd.jupyter.widget-view+json": {
       "model_id": "f6f09d8cf2c24c3db431e81b41eeec2e",
       "version_major": 2,
       "version_minor": 0
      },
      "image/png": "[encoded data removed]",
      "text/html": [
       "\n",
       "            <div style=\"display: inline-block;\">\n",
       "                <div class=\"jupyter-widgets widget-label\" style=\"text-align: center;\">\n",
       "                    Figure\n",
       "                </div>\n",
       "                <img src='data:image/png;base64,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' width=640.0/>\n",
       "            </div>\n",
       "        "
      ],
      "text/plain": [
       "Canvas(toolbar=Toolbar(toolitems=[('Home', 'Reset original view', 'home', 'home'), ('Back', 'Back to previous …"
      ]
     },
     "metadata": {},
     "output_type": "display_data"
    }
   ],
   "source": [
    "fig, ax = plt.subplots(nrows=1)\n",
    "x_min = -1\n",
    "x_max = 9\n",
    "p = 7\n",
    "ax.set_ylim(-1, 1)\n",
    "ax.set_xlim(x_min - 0.4, x_max + 0.4)\n",
    "ax.set_xticks(range(x_min, x_max + 1))\n",
    "ax.set_yticks([])\n",
    "ax.tick_params(axis='x', direction='inout', length=10)\n",
    "ax.spines['bottom'].set_position('zero')\n",
    "ax.spines['bottom'].set_zorder(0)\n",
    "for dir in ['left', 'right', 'top']:\n",
    "    ax.spines[dir].set_visible(False)\n",
    "ax.plot([x_min - 0.4, p], [0, 0], color='red', lw=1)\n",
    "ax.plot([x_min - 0.2, x_min - 0.4, x_min - 0.2], [0.2, 0, -0.2], color='red', lw=1)\n",
    "ax.plot([x_max + 0.2, x_max + 0.4, x_max + 0.2], [0.2, 0, -0.2], color='black', lw=1)\n",
    "ax.plot(p, 0, linestyle='', marker='o', fillstyle='full', markerfacecolor='red', markeredgecolor='red',\n",
    "        markersize=5, lw=2, zorder=3)\n",
    "ax.set_aspect('equal')"
   ]
  },
  {
   "cell_type": "markdown",
   "metadata": {},
   "source": [
    "## absolute value\n",
    "The absolute value of real number _a_ is the distance from *a* to 0.  \n",
    "$\\vert a \\vert  = a$ if $a \\ge 0$ and $\\vert a \\vert = -a $ if $a \\lt 0$.  \n",
    "  \n",
    "If $a \\gt 0$, then  \n",
    "$\\vert x \\vert = a$ means $x = a$ or $x = -a$.  \n",
    "$\\vert x \\vert \\lt a$ means $-a \\lt x \\lt a$.  \n",
    "$\\vert x \\vert \\gt a$ means $x \\gt a$ or $x \\lt -a$.  \n",
    "\n",
    "If $a$ is any real number, then  \n",
    "$\\sqrt{a^2} = |a|$"
   ]
  },
  {
   "cell_type": "code",
   "execution_count": 51,
   "metadata": {},
   "outputs": [
    {
     "data": {
      "text/plain": [
       "True"
      ]
     },
     "execution_count": 51,
     "metadata": {},
     "output_type": "execute_result"
    }
   ],
   "source": [
    "abs(-10) == -(-10) == 10"
   ]
  },
  {
   "cell_type": "markdown",
   "metadata": {},
   "source": [
    "#### DEFINITION  \n",
    "<i>P</i> and <i>Q</i> are two points on a real number line with coordinates <i>a</i> and <i>b</i>.  \n",
    "  \n",
    "*d(P, Q)* denotes the distance between <i>P</i> and <i>Q</i>.   \n",
    "  \n",
    "The **distance between *P* and _Q_** is  \n",
    "  \n",
    "<table>\n",
    "  <tr>\n",
    "      <td><i>d(P, Q)</i> = |b - a|</td>\n",
    "  </tr>\n",
    "</table>  \n",
    "  \n",
    "Because |b - a| = |a - b|,  \n",
    "*d(P, Q)* = _d(Q, P)_.  \n"
   ]
  },
  {
   "cell_type": "markdown",
   "metadata": {},
   "source": [
    "If solving an equation returns the error below:  \n",
    "`NotImplementedError: solving Abs(x) when the argument is not real or imaginary.`  \n",
    "Define the symbol `x` as a real number as the example below."
   ]
  },
  {
   "cell_type": "code",
   "execution_count": 52,
   "metadata": {},
   "outputs": [
    {
     "data": {
      "text/latex": [
       "$\\displaystyle 2 \\left|{x}\\right| - 3$"
      ],
      "text/plain": [
       "2*Abs(x) - 3"
      ]
     },
     "metadata": {},
     "output_type": "display_data"
    },
    {
     "data": {
      "text/plain": [
       "[-3/2, 3/2]"
      ]
     },
     "execution_count": 52,
     "metadata": {},
     "output_type": "execute_result"
    }
   ],
   "source": [
    "x = symbols('x', real=True)\n",
    "expression = abs(2*x) - 3\n",
    "display(expression)\n",
    "solve(expression)"
   ]
  },
  {
   "cell_type": "markdown",
   "metadata": {},
   "source": [
    "### Number line distance\n",
    "$P, Q$ and $R$ are points on a real number line."
   ]
  },
  {
   "cell_type": "code",
   "execution_count": 53,
   "metadata": {},
   "outputs": [],
   "source": [
    "P = -5\n",
    "Q = 7\n",
    "R = -3"
   ]
  },
  {
   "cell_type": "code",
   "execution_count": 54,
   "metadata": {},
   "outputs": [
    {
     "data": {
      "application/vnd.jupyter.widget-view+json": {
       "model_id": "7ed0e632e6f144be9c964cc7a3063c00",
       "version_major": 2,
       "version_minor": 0
      },
      "image/png": "[encoded data removed]",
      "text/html": [
       "\n",
       "            <div style=\"display: inline-block;\">\n",
       "                <div class=\"jupyter-widgets widget-label\" style=\"text-align: center;\">\n",
       "                    Figure\n",
       "                </div>\n",
       "                <img src='data:image/png;base64,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' width=640.0/>\n",
       "            </div>\n",
       "        "
      ],
      "text/plain": [
       "Canvas(toolbar=Toolbar(toolitems=[('Home', 'Reset original view', 'home', 'home'), ('Back', 'Back to previous …"
      ]
     },
     "metadata": {},
     "output_type": "display_data"
    }
   ],
   "source": [
    "fig, ax = plt.subplots(nrows=1)\n",
    "x_min = -6\n",
    "x_max = 8\n",
    "ax.set_ylim(-1, 1)\n",
    "ax.set_xlim(x_min - 0.4, x_max + 0.4)\n",
    "ax.set_xticks(range(x_min, x_max + 1))\n",
    "ax.set_yticks([])\n",
    "ax.tick_params(axis='x', direction='inout', length=10)\n",
    "ax.spines['bottom'].set_position('zero')\n",
    "ax.spines['bottom'].set_zorder(0)\n",
    "for dir in ['left', 'right', 'top']:\n",
    "    ax.spines[dir].set_visible(False)\n",
    "ax.plot([x_min - 0.2, x_min - 0.4, x_min - 0.2], [0.2, 0, -0.2], color='black', lw=1)\n",
    "ax.plot([x_max + 0.2, x_max + 0.4, x_max + 0.2], [0.2, 0, -0.2], color='black', lw=1)\n",
    "\n",
    "# plot points and annotations\n",
    "ax.plot(P, 0, linestyle='', marker='o', fillstyle='full', markerfacecolor='red', markeredgecolor='red',\n",
    "        markersize=5, lw=2, zorder=3)\n",
    "ax.annotate(text='P', xy=(P, .5), size=20, color='red')\n",
    "\n",
    "ax.plot(Q, 0, linestyle='', marker='o', fillstyle='full', markerfacecolor='red', markeredgecolor='red',\n",
    "        markersize=5, lw=2, zorder=3)\n",
    "ax.annotate(text='Q', xy=(Q, .5), size=20, color='red')\n",
    "\n",
    "ax.plot(R, 0, linestyle='', marker='o', fillstyle='full', markerfacecolor='red', markeredgecolor='red',\n",
    "        markersize=5, lw=2, zorder=3)\n",
    "ax.annotate(text='R', xy=(R, .5), size=20, color='red')\n",
    "\n",
    "ax.set_aspect('equal')"
   ]
  },
  {
   "cell_type": "markdown",
   "metadata": {},
   "source": [
    "Find the distance between P and Q."
   ]
  },
  {
   "cell_type": "code",
   "execution_count": 55,
   "metadata": {},
   "outputs": [
    {
     "data": {
      "text/plain": [
       "12"
      ]
     },
     "execution_count": 55,
     "metadata": {},
     "output_type": "execute_result"
    }
   ],
   "source": [
    "abs(P - Q)"
   ]
  },
  {
   "cell_type": "markdown",
   "metadata": {},
   "source": [
    "## linear equations\n",
    "### point slope form\n",
    "$y - y_1 = m(x - x_1)$  "
   ]
  },
  {
   "cell_type": "markdown",
   "metadata": {},
   "source": [
    "## variable domain\n",
    "The set of values a variable may assume.  \n",
    "  \n",
    "**EXAMPLES:**  \n",
    "Area A of a circle of radius $r$:  \n",
    "A = $\\pi r^2$  \n",
    "_r_ is restricted to positive real numbers.  \n",
    "  \n",
    "Allowable values for fraction denominator:  \n",
    "$\\frac{1}{x}$  \n",
    "$x \\neq 0$\n",
    "  \n",
    "### circle circumference  \n",
    "$C = 2\\pi r$  \n",
    "  \n",
    "Radius $r$ is the set of positive real numbers.  \n",
    "$C$ is the set of positive real numbers.  "
   ]
  },
  {
   "cell_type": "markdown",
   "metadata": {},
   "source": [
    "### exclude invalid variables from the domain"
   ]
  },
  {
   "cell_type": "code",
   "execution_count": 56,
   "metadata": {},
   "outputs": [],
   "source": [
    "X_COORDS = {'a': 3, 'b': 1, 'c': 0, 'd': -1}"
   ]
  },
  {
   "cell_type": "code",
   "execution_count": 57,
   "metadata": {},
   "outputs": [
    {
     "name": "stdout",
     "output_type": "stream",
     "text": [
      "exclude from domain:\n",
      "c\n"
     ]
    }
   ],
   "source": [
    "print('exclude from domain:')\n",
    "for key in X_COORDS:\n",
    "    X = X_COORDS[key]\n",
    "    try:\n",
    "        (X**2 - 1)/X\n",
    "    except ZeroDivisionError:\n",
    "        print(key)"
   ]
  },
  {
   "cell_type": "markdown",
   "metadata": {},
   "source": [
    "### definitions\n",
    "$a^0 = 1$ if $a \\ne 0$\n",
    "\n",
    "$a^{-n} = \\frac{1}{a^n}$ if $a \\neq 0$ and $n$ is a positive integer  \n",
    "  \n",
    "### exponent laws\n",
    "If $x \\neq 0$,  \n",
    "  \n",
    "&emsp;$x^mx^n=x^{m+n}$  \n",
    "  \n",
    "&emsp;$(x^m)^n=x^{mn}$  \n",
    "  \n",
    "&emsp;$(xy)^n=x^ny^n$  \n",
    "  \n",
    "&emsp;$\\frac{x^m}{x^n} = x^{m-n} = \\frac{1}{x^{n-m}}$ if $x \\ne 0$  \n",
    "  \n",
    "&emsp;$x^{-n} = \\frac{1}{x^n}$  \n",
    "  \n",
    "&emsp;$(\\frac{x}{y})^n = \\frac{x^n}{y^n}$ if $y \\ne 0$  \n",
    "  \n",
    "&emsp;$x^{\\frac{1}{n}} = \\sqrt[n]{x}$  \n",
    "  \n",
    "&emsp;$x^{\\frac{m}{n}} = \\sqrt[n]{x^m} = (\\sqrt[n]{x})^m$  \n",
    "  \n",
    "&emsp;$\\sqrt[n]{xy} = \\sqrt[n]{x} \\sqrt[n]{y}$  \n",
    "\n",
    "&emsp;$\\sqrt[m]{\\sqrt[n]{x}} = \\sqrt[n]{\\sqrt[m]{x}} = \\sqrt[mn]{x}$\n",
    "\n",
    "&emsp;$\\sqrt[n]{\\frac{x}{y}} = \\frac{\\sqrt[n]{x}}{\\sqrt[n]{y}}$  "
   ]
  },
  {
   "cell_type": "markdown",
   "metadata": {},
   "source": [
    "### evaluating expressions with negative exponents"
   ]
  },
  {
   "cell_type": "code",
   "execution_count": 58,
   "metadata": {},
   "outputs": [
    {
     "data": {
      "text/latex": [
       "$\\displaystyle \\frac{1}{8}$"
      ],
      "text/plain": [
       "1/8"
      ]
     },
     "execution_count": 58,
     "metadata": {},
     "output_type": "execute_result"
    }
   ],
   "source": [
    "Rational(2**(-3))"
   ]
  },
  {
   "cell_type": "code",
   "execution_count": 59,
   "metadata": {},
   "outputs": [
    {
     "data": {
      "text/latex": [
       "$\\displaystyle \\frac{1}{x^{4}}$"
      ],
      "text/plain": [
       "x**(-4)"
      ]
     },
     "execution_count": 59,
     "metadata": {},
     "output_type": "execute_result"
    }
   ],
   "source": [
    "x**(-4)"
   ]
  },
  {
   "cell_type": "markdown",
   "metadata": {},
   "source": [
    "### square root evaluation\n",
    "$\\sqrt{a}$ means give me the nonnegative number whose square is $a$.  \n",
    "  \n",
    "The principle square root is nonnegative.  \n",
    "### definition\n",
    "Let $A$ be a nonnegative real number.  \n",
    "Let $B$ be a nonnegative number such that $B^2 = A$.  \n",
    "$B$ is the principle square root of $A$ and is denoted by $B = \\sqrt{A}$.  \n",
    "\n",
    "### comments\n",
    "Real negative numbers do not have square roots.  \n",
    "$0$ is the priciple square root of $0$.  \n",
    "Postive numbers have positive principle square roots.  "
   ]
  },
  {
   "cell_type": "markdown",
   "metadata": {},
   "source": [
    "Label real number line points with the following coordinates:  \n",
    "$-2.5, -1, 0, .25, \\frac{3}{4}, 1, \\frac{5}{2}$"
   ]
  },
  {
   "cell_type": "code",
   "execution_count": 60,
   "metadata": {},
   "outputs": [
    {
     "data": {
      "application/vnd.jupyter.widget-view+json": {
       "model_id": "d754948093294e019495755a937b88ec",
       "version_major": 2,
       "version_minor": 0
      },
      "image/png": "[encoded data removed]",
      "text/html": [
       "\n",
       "            <div style=\"display: inline-block;\">\n",
       "                <div class=\"jupyter-widgets widget-label\" style=\"text-align: center;\">\n",
       "                    Figure\n",
       "                </div>\n",
       "                <img src='data:image/png;base64,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' width=640.0/>\n",
       "            </div>\n",
       "        "
      ],
      "text/plain": [
       "Canvas(toolbar=Toolbar(toolitems=[('Home', 'Reset original view', 'home', 'home'), ('Back', 'Back to previous …"
      ]
     },
     "metadata": {},
     "output_type": "display_data"
    }
   ],
   "source": [
    "fig, ax = plt.subplots(nrows=1)\n",
    "x_min = -3\n",
    "x_max = 3\n",
    "ax.set_ylim(-1, 1)\n",
    "ax.set_xlim(x_min - 0.4, x_max + 0.4)\n",
    "ax.set_xticks(range(x_min, x_max + 1))\n",
    "ax.set_yticks([])\n",
    "ax.tick_params(axis='x', direction='inout', length=10)\n",
    "ax.spines['bottom'].set_position('zero')\n",
    "ax.spines['bottom'].set_zorder(0)\n",
    "for dir in ['left', 'right', 'top']:\n",
    "    ax.spines[dir].set_visible(False)\n",
    "ax.plot([x_min - 0.2, x_min - 0.4, x_min - 0.2], [0.2, 0, -0.2], color='black', lw=1)\n",
    "ax.plot([x_max + 0.2, x_max + 0.4, x_max + 0.2], [0.2, 0, -0.2], color='black', lw=1)\n",
    "\n",
    "for point in [-2.5, -1, 0, .25, Rational(3,4), 1, Rational(5,2)]:\n",
    "    ax.plot(point, 0, linestyle='', marker='o', fillstyle='full', markerfacecolor='red', markeredgecolor='red',\n",
    "            markersize=5, lw=2, zorder=3)\n",
    "    \n",
    "ax.annotate(text=-2.5, xy=(-2.5, .15), size=10, color='red')\n",
    "ax.annotate(text=-1, xy=(-1, .15), size=10, color='red')\n",
    "ax.annotate(text=0, xy=(0, .15), size=10, color='red')\n",
    "ax.annotate(text='.25', xy=(.2, -.28), size=10, color='red')\n",
    "ax.annotate(text=r'$\\frac{3}{4}$', xy=(.75, .15), size=10, color='red')\n",
    "ax.annotate(text=1, xy=(1, .15), size=10, color='red')\n",
    "ax.annotate(text=r'$\\frac{5}{2}$', xy=(5/2, .15), size=10, color='red')\n",
    "\n",
    "ax.set_aspect('equal')"
   ]
  },
  {
   "cell_type": "markdown",
   "metadata": {},
   "source": [
    "### expression evaluation\n",
    "*x, y, a, b* and _c_ represent numbers.  \n",
    "A **variable** is a letter used to represent any number in a set.  \n",
    "A **constant** is a fixed number or a letter that represents a fixed number.  "
   ]
  },
  {
   "cell_type": "markdown",
   "metadata": {},
   "source": [
    "---\n",
    "## Exponents"
   ]
  },
  {
   "cell_type": "markdown",
   "metadata": {},
   "source": [
    "Simplify $\\sqrt[3]\\frac{-1}{64}$\n"
   ]
  },
  {
   "cell_type": "code",
   "execution_count": 61,
   "metadata": {},
   "outputs": [
    {
     "data": {
      "text/latex": [
       "$\\displaystyle - \\frac{1}{4}$"
      ],
      "text/plain": [
       "-1/4"
      ]
     },
     "execution_count": 61,
     "metadata": {},
     "output_type": "execute_result"
    }
   ],
   "source": [
    "real_root(Rational(-1,64), 3)"
   ]
  },
  {
   "cell_type": "markdown",
   "metadata": {},
   "source": [
    "simplify $(2x^\\frac{3}{2})(4x^\\frac{-1}{2})$  "
   ]
  },
  {
   "cell_type": "code",
   "execution_count": 62,
   "metadata": {},
   "outputs": [
    {
     "data": {
      "text/latex": [
       "$\\displaystyle 8 x$"
      ],
      "text/plain": [
       "8*x"
      ]
     },
     "execution_count": 62,
     "metadata": {},
     "output_type": "execute_result"
    }
   ],
   "source": [
    "2*x**Rational(3,2) * 4*x**Rational(-1,2)"
   ]
  },
  {
   "cell_type": "markdown",
   "metadata": {},
   "source": [
    "use `powdenest(expression, force=True)` to simplify exponents\n",
    "\n",
    "$(8x^6)^\\frac{-2}{3}$"
   ]
  },
  {
   "cell_type": "code",
   "execution_count": 63,
   "metadata": {},
   "outputs": [
    {
     "data": {
      "text/latex": [
       "$\\displaystyle \\frac{1}{4 x^{4}}$"
      ],
      "text/plain": [
       "1/(4*x**4)"
      ]
     },
     "execution_count": 63,
     "metadata": {},
     "output_type": "execute_result"
    }
   ],
   "source": [
    "powdenest((8*x**6)**Rational(-2,3), force=True)"
   ]
  },
  {
   "cell_type": "markdown",
   "metadata": {},
   "source": [
    "---"
   ]
  },
  {
   "cell_type": "code",
   "execution_count": 64,
   "metadata": {},
   "outputs": [
    {
     "data": {
      "text/latex": [
       "$\\displaystyle 8 x$"
      ],
      "text/plain": [
       "8*x"
      ]
     },
     "execution_count": 64,
     "metadata": {},
     "output_type": "execute_result"
    }
   ],
   "source": [
    "2*x**Rational(3,2) * 4*x**Rational(-1,2)"
   ]
  },
  {
   "cell_type": "markdown",
   "metadata": {},
   "source": [
    "---\n",
    "use `limit_denominator(10**12)` for rationals with negative exponents  \n",
    "$\\frac{3^{-2}}{1}$"
   ]
  },
  {
   "cell_type": "code",
   "execution_count": 65,
   "metadata": {},
   "outputs": [
    {
     "data": {
      "text/latex": [
       "$\\displaystyle \\frac{1}{9}$"
      ],
      "text/plain": [
       "1/9"
      ]
     },
     "execution_count": 65,
     "metadata": {},
     "output_type": "execute_result"
    }
   ],
   "source": [
    "Rational(3**-2, 1).limit_denominator(10**12)"
   ]
  },
  {
   "cell_type": "markdown",
   "metadata": {},
   "source": [
    "---"
   ]
  },
  {
   "cell_type": "markdown",
   "metadata": {},
   "source": [
    "### scientific notation"
   ]
  },
  {
   "cell_type": "code",
   "execution_count": 66,
   "metadata": {},
   "outputs": [
    {
     "data": {
      "text/plain": [
       "'7.029E-04'"
      ]
     },
     "execution_count": 66,
     "metadata": {},
     "output_type": "execute_result"
    }
   ],
   "source": [
    "f\"{.0007029:.3E}\""
   ]
  },
  {
   "cell_type": "code",
   "execution_count": 67,
   "metadata": {},
   "outputs": [
    {
     "data": {
      "text/latex": [
       "$\\displaystyle 2.7 \\cdot 10^{36}$"
      ],
      "text/plain": [
       "2.7e+36"
      ]
     },
     "execution_count": 67,
     "metadata": {},
     "output_type": "execute_result"
    }
   ],
   "source": [
    "A = (.00046*Float('1.697e22'))/Float('2.91e-18')\n",
    "Float(str(A), 2)"
   ]
  },
  {
   "cell_type": "markdown",
   "metadata": {},
   "source": [
    "suppress scientific notation"
   ]
  },
  {
   "cell_type": "code",
   "execution_count": 68,
   "metadata": {},
   "outputs": [
    {
     "data": {
      "text/plain": [
       "'0.0000000006257'"
      ]
     },
     "execution_count": 68,
     "metadata": {},
     "output_type": "execute_result"
    }
   ],
   "source": [
    "f\"{6.257 * 10**-10:.13f}\""
   ]
  },
  {
   "cell_type": "markdown",
   "metadata": {},
   "source": [
    "---\n",
    "Solve equation where one side is equal to the expression, and the other side is equal to 0."
   ]
  },
  {
   "cell_type": "code",
   "execution_count": 69,
   "metadata": {},
   "outputs": [
    {
     "data": {
      "text/plain": [
       "[sqrt(-2/(1/16 + sqrt(257)/16)**(1/3) + 2*(1/16 + sqrt(257)/16)**(1/3))/2 + sqrt(-2*(1/16 + sqrt(257)/16)**(1/3) + 2/(1/16 + sqrt(257)/16)**(1/3) + 2/sqrt(-2/(1/16 + sqrt(257)/16)**(1/3) + 2*(1/16 + sqrt(257)/16)**(1/3)))/2,\n",
       " -sqrt(-2*(1/16 + sqrt(257)/16)**(1/3) + 2/(1/16 + sqrt(257)/16)**(1/3) + 2/sqrt(-2/(1/16 + sqrt(257)/16)**(1/3) + 2*(1/16 + sqrt(257)/16)**(1/3)))/2 + sqrt(-2/(1/16 + sqrt(257)/16)**(1/3) + 2*(1/16 + sqrt(257)/16)**(1/3))/2]"
      ]
     },
     "execution_count": 69,
     "metadata": {},
     "output_type": "execute_result"
    }
   ],
   "source": [
    "expression = x**2 - (x+3)**Rational(1,2) \n",
    "solve(expression)"
   ]
  },
  {
   "cell_type": "markdown",
   "metadata": {},
   "source": [
    "return approximate solutions"
   ]
  },
  {
   "cell_type": "code",
   "execution_count": 70,
   "metadata": {},
   "outputs": [
    {
     "data": {
      "text/plain": [
       "[1.45262687883384, -1.16403514028977]"
      ]
     },
     "execution_count": 70,
     "metadata": {},
     "output_type": "execute_result"
    }
   ],
   "source": [
    "[N(_) for _ in solve(expression)]"
   ]
  },
  {
   "cell_type": "markdown",
   "metadata": {},
   "source": [
    "---"
   ]
  },
  {
   "cell_type": "markdown",
   "metadata": {},
   "source": [
    "solve equation and only return real roots\n",
    "\n",
    "The following approach is also valid  \n",
    "`x = Symbol('x', real=True)\n",
    "solve(..., x)`"
   ]
  },
  {
   "cell_type": "code",
   "execution_count": 71,
   "metadata": {},
   "outputs": [
    {
     "data": {
      "text/plain": [
       "[0.453397651516404]"
      ]
     },
     "execution_count": 71,
     "metadata": {},
     "output_type": "execute_result"
    }
   ],
   "source": [
    "[N(num) for num in real_roots(x**3 + 2*x - 1, x)]"
   ]
  },
  {
   "cell_type": "markdown",
   "metadata": {},
   "source": [
    "---\n",
    "# Graphing examples"
   ]
  },
  {
   "cell_type": "markdown",
   "metadata": {},
   "source": [
    "graph single function"
   ]
  },
  {
   "cell_type": "code",
   "execution_count": 102,
   "metadata": {},
   "outputs": [
    {
     "data": {
      "application/vnd.jupyter.widget-view+json": {
       "model_id": "91cfe42064b1408e98f6bdd10983d241",
       "version_major": 2,
       "version_minor": 0
      },
      "image/png": "[encoded data removed]",
      "text/html": [
       "\n",
       "            <div style=\"display: inline-block;\">\n",
       "                <div class=\"jupyter-widgets widget-label\" style=\"text-align: center;\">\n",
       "                    Figure\n",
       "                </div>\n",
       "                <img src='data:image/png;base64,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' width=640.0/>\n",
       "            </div>\n",
       "        "
      ],
      "text/plain": [
       "Canvas(toolbar=Toolbar(toolitems=[('Home', 'Reset original view', 'home', 'home'), ('Back', 'Back to previous …"
      ]
     },
     "metadata": {},
     "output_type": "display_data"
    }
   ],
   "source": [
    "x_coords = np.linspace(-3, 4, num=1000) # endpoint=False\n",
    "y_coords = [x_coord**2 - (x_coord+3)**.5 for x_coord in x_coords]\n",
    "\n",
    "fig, ax = plt.subplots()\n",
    "ax.plot(x_coords, y_coords)\n",
    "\n",
    "y_max = 5\n",
    "ax.axis(ymin=-y_max, ymax=y_max)\n",
    "\n",
    "ax.grid()\n",
    "ax.set_xlabel('$x$')\n",
    "ax.set_ylabel('$y$')\n",
    "ax.axhline(0, color='black', lw=2)\n",
    "ax.axvline(0, color='black', lw=2);"
   ]
  },
  {
   "cell_type": "markdown",
   "metadata": {},
   "source": [
    "graph two functions"
   ]
  },
  {
   "cell_type": "code",
   "execution_count": 73,
   "metadata": {},
   "outputs": [],
   "source": [
    "x_max = 5\n",
    "x_coords = np.linspace(-x_max, x_max, 1000)\n",
    "y_coords = [x_coord**2 - x_coord - 5 for x_coord in x_coords]\n",
    "y_coords2 = [x_coord+3 for x_coord in x_coords]\n",
    "\n",
    "plt.plot(x_coords, y_coords)\n",
    "plt.plot(x_coords, y_coords2, color='red')\n",
    "\n",
    "y_max = 10\n",
    "plt.axis(ymin=-y_max, ymax=y_max)\n",
    "#plt.axis('equal')\n",
    "plt.grid()\n",
    "plt.xlabel('$x$')\n",
    "plt.ylabel('$y$')\n",
    "plt.axhline(0, color='black', lw=2)\n",
    "_=plt.axvline(0, color='black', lw=2)"
   ]
  },
  {
   "cell_type": "markdown",
   "metadata": {},
   "source": [
    "find points of intersection for two functions graphed above"
   ]
  },
  {
   "cell_type": "code",
   "execution_count": 74,
   "metadata": {
    "scrolled": true
   },
   "outputs": [
    {
     "data": {
      "text/plain": [
       "[(-2, 1), (4, 7)]"
      ]
     },
     "execution_count": 74,
     "metadata": {},
     "output_type": "execute_result"
    }
   ],
   "source": [
    "solve((Eq(x**2 - x - 5 - y, 0), Eq(x + 3 - y, 0)), (x, y))"
   ]
  },
  {
   "cell_type": "markdown",
   "metadata": {},
   "source": [
    "#### remove element by value from numpy array"
   ]
  },
  {
   "cell_type": "code",
   "execution_count": 75,
   "metadata": {},
   "outputs": [
    {
     "name": "stdout",
     "output_type": "stream",
     "text": [
      "original length: 10\n",
      "elements: [0.         0.11111111 0.22222222 0.33333333 0.44444444 0.55555556\n",
      " 0.66666667 0.77777778 0.88888889 1.        ]\n",
      "length after removing element with value 0: 9\n"
     ]
    }
   ],
   "source": [
    "x_coords = np.linspace(0, 1, 10)\n",
    "print(f'original length: {len(x_coords)}')\n",
    "print(f'elements: {x_coords}')\n",
    "\n",
    "x_coords = x_coords[x_coords != 0]\n",
    "print(f'length after removing element with value 0: {len(x_coords)}')"
   ]
  },
  {
   "cell_type": "markdown",
   "metadata": {},
   "source": [
    "#### limit domain example\n",
    "Remove values from numpy linspace array where  \n",
    "$-1 < x < 1$"
   ]
  },
  {
   "cell_type": "code",
   "execution_count": 76,
   "metadata": {},
   "outputs": [],
   "source": [
    "x_coords = np.linspace(-20, 20, num=10000) # , endpoint=False\n",
    "x_coords_gt_1 = x_coords[x_coords > 1]\n",
    "x_coords_lt_n1 = x_coords[x_coords < -1]\n",
    "domain = np.concatenate((x_coords_gt_1, x_coords_lt_n1), axis=0)\n",
    "y_coords = [(x_coord**2 - 1)**(2/3) for x_coord in domain]\n",
    "plt.plot(domain, y_coords)\n",
    "\n",
    "plt.axis(ymin=-2, ymax=30) # ymin=-1500, ymax=30, 'equal'\n",
    "plt.grid()\n",
    "plt.xlabel('$x$')\n",
    "plt.ylabel('$y$')\n",
    "plt.axhline(0, color='black', lw=2)\n",
    "_=plt.axvline(0, color='black', lw=2)"
   ]
  },
  {
   "cell_type": "markdown",
   "metadata": {},
   "source": [
    "labels and title example"
   ]
  },
  {
   "cell_type": "code",
   "execution_count": 77,
   "metadata": {},
   "outputs": [
    {
     "data": {
      "application/vnd.jupyter.widget-view+json": {
       "model_id": "d754948093294e019495755a937b88ec",
       "version_major": 2,
       "version_minor": 0
      },
      "image/png": "[encoded data removed]",
      "text/html": [
       "\n",
       "            <div style=\"display: inline-block;\">\n",
       "                <div class=\"jupyter-widgets widget-label\" style=\"text-align: center;\">\n",
       "                    Figure 4\n",
       "                </div>\n",
       "                <img src='data:image/png;base64,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' width=640.0/>\n",
       "            </div>\n",
       "        "
      ],
      "text/plain": [
       "Canvas(toolbar=Toolbar(toolitems=[('Home', 'Reset original view', 'home', 'home'), ('Back', 'Back to previous …"
      ]
     },
     "metadata": {},
     "output_type": "display_data"
    }
   ],
   "source": [
    "x_coords = np.linspace(0, 2, 100)\n",
    "\n",
    "plt.plot(x_coords, x_coords, label='linear')\n",
    "plt.plot(x_coords, x_coords**2, label='quadratic')\n",
    "plt.plot(x_coords, x_coords**3, label='cubic')\n",
    "\n",
    "plt.xlabel('x label')\n",
    "plt.ylabel('y label')\n",
    "\n",
    "plt.title(\"Simple Plot\")\n",
    "\n",
    "plt.legend()\n",
    "\n",
    "plt.show()"
   ]
  },
  {
   "cell_type": "markdown",
   "metadata": {},
   "source": [
    "---"
   ]
  },
  {
   "cell_type": "code",
   "execution_count": 78,
   "metadata": {},
   "outputs": [
    {
     "data": {
      "text/latex": [
       "$\\displaystyle \\left(-\\infty, \\frac{1}{2} - \\frac{\\sqrt{5}}{2}\\right) \\cup \\left(\\frac{1}{2} + \\frac{\\sqrt{5}}{2}, \\infty\\right)$"
      ],
      "text/plain": [
       "Union(Interval.open(-oo, 1/2 - sqrt(5)/2), Interval.open(1/2 + sqrt(5)/2, oo))"
      ]
     },
     "execution_count": 78,
     "metadata": {},
     "output_type": "execute_result"
    }
   ],
   "source": [
    "solveset(x**2 - x - 1 > 0, x, domain=S.Reals)"
   ]
  },
  {
   "cell_type": "markdown",
   "metadata": {},
   "source": [
    "---\n",
    "### Find function minimum within a restricted domain"
   ]
  },
  {
   "cell_type": "code",
   "execution_count": 79,
   "metadata": {},
   "outputs": [],
   "source": [
    "x_coords = np.linspace(-5, 5, 10000) # increased x_coords size from 1k to 10k to get better approximation\n",
    "y_coords = [x_coord**4 + 2*x_coord - 1 for x_coord in x_coords]\n",
    "\n",
    "plt.plot(x_coords, y_coords)\n",
    "\n",
    "plt.axis(ymin=-10, ymax=10) # ymin=-1500, ymax=30, 'equal'\n",
    "plt.grid()\n",
    "plt.xlabel('$x$')\n",
    "plt.ylabel('$y$')\n",
    "plt.axhline(0, color='black', lw=2)\n",
    "_=plt.axvline(0, color='black', lw=2)"
   ]
  },
  {
   "cell_type": "code",
   "execution_count": 80,
   "metadata": {},
   "outputs": [
    {
     "name": "stdout",
     "output_type": "stream",
     "text": [
      "(-0.794, -2.191)\n"
     ]
    }
   ],
   "source": [
    "x_coords = np.linspace(-5, 5, 10000)\n",
    "y_coords = [x_coord**4 + 2*x_coord - 1 for x_coord in x_coords]\n",
    "\n",
    "# find y min\n",
    "y_min = min(y_coords)\n",
    "\n",
    "# find x min\n",
    "list_index = y_coords.index(y_min)\n",
    "x_min = x_coords[list_index]\n",
    "\n",
    "print(f'({x_min:.3f}, {y_min:.3f})')"
   ]
  },
  {
   "cell_type": "markdown",
   "metadata": {},
   "source": [
    "---\n",
    "### Find function maximum within a restricted domain"
   ]
  },
  {
   "cell_type": "code",
   "execution_count": 81,
   "metadata": {},
   "outputs": [],
   "source": [
    "x_coords = np.linspace(-5, 5, 10000)\n",
    "y_coords = [x_coord**4 - 6*x_coord**2 + 3 for x_coord in x_coords]\n",
    "\n",
    "plt.plot(x_coords, y_coords)\n",
    "\n",
    "plt.axis(ymin=-10, ymax=10) # ymin=-1500, ymax=30, 'equal'\n",
    "plt.grid()\n",
    "plt.xlabel('$x$')\n",
    "plt.ylabel('$y$')\n",
    "plt.axhline(0, color='black', lw=2)\n",
    "_=plt.axvline(0, color='black', lw=2)"
   ]
  },
  {
   "cell_type": "code",
   "execution_count": 82,
   "metadata": {},
   "outputs": [
    {
     "name": "stdout",
     "output_type": "stream",
     "text": [
      "(-0.000, 3.000)\n"
     ]
    }
   ],
   "source": [
    "x_coords = np.linspace(-1, 1, 10000)\n",
    "y_coords = [x_coord**4 - 6*x_coord**2 + 3 for x_coord in x_coords]\n",
    "\n",
    "# find y max\n",
    "y_max = max(y_coords)\n",
    "\n",
    "# find x max\n",
    "list_index = y_coords.index(y_max)\n",
    "x_max = x_coords[list_index]\n",
    "\n",
    "print(f'({x_max:.3f}, {y_max:.3f})')"
   ]
  },
  {
   "cell_type": "markdown",
   "metadata": {},
   "source": [
    "---\n",
    "### Find x and y intercepts of function graphed below\n",
    "$f(x) = x^3 + x^2 - 4^x - 4$"
   ]
  },
  {
   "cell_type": "code",
   "execution_count": 83,
   "metadata": {},
   "outputs": [],
   "source": [
    "x_coords = np.linspace(-3, 4, 1000)\n",
    "y_coords = [x_coord**3 + x_coord**2 - 4*x_coord - 4 for x_coord in x_coords]\n",
    "\n",
    "plt.plot(x_coords, y_coords)\n",
    "\n",
    "plt.axis(ymin=-10, ymax=10)\n",
    "plt.grid()\n",
    "plt.xlabel('$x$')\n",
    "plt.ylabel('$y$')\n",
    "plt.axhline(0, color='black', lw=2)\n",
    "_=plt.axvline(0, color='black', lw=2)"
   ]
  },
  {
   "cell_type": "markdown",
   "metadata": {},
   "source": [
    "find x-intercepts"
   ]
  },
  {
   "cell_type": "code",
   "execution_count": 84,
   "metadata": {},
   "outputs": [
    {
     "data": {
      "text/plain": [
       "[-2, -1, 2]"
      ]
     },
     "execution_count": 84,
     "metadata": {},
     "output_type": "execute_result"
    }
   ],
   "source": [
    "solve(x**3 + x**2 - 4*x - 4)"
   ]
  },
  {
   "cell_type": "markdown",
   "metadata": {},
   "source": [
    "find y-intercept"
   ]
  },
  {
   "cell_type": "code",
   "execution_count": 85,
   "metadata": {},
   "outputs": [
    {
     "data": {
      "text/latex": [
       "$\\displaystyle -4$"
      ],
      "text/plain": [
       "-4"
      ]
     },
     "execution_count": 85,
     "metadata": {},
     "output_type": "execute_result"
    }
   ],
   "source": [
    "(x**3 + x**2 - 4*x - 4).subs(x,0)"
   ]
  },
  {
   "cell_type": "markdown",
   "metadata": {},
   "source": [
    "### graph trigonometric function with xticks in radians"
   ]
  },
  {
   "cell_type": "code",
   "execution_count": 86,
   "metadata": {},
   "outputs": [
    {
     "ename": "NameError",
     "evalue": "name 'cot' is not defined",
     "output_type": "error",
     "traceback": [
      "\u001b[0;31m---------------------------------------------------------------------------\u001b[0m",
      "\u001b[0;31mNameError\u001b[0m                                 Traceback (most recent call last)",
      "\u001b[1;32m/workspaces/math_notebooks/math.ipynb Cell 179\u001b[0m line \u001b[0;36m5\n\u001b[1;32m      <a href='vscode-notebook-cell://dev-container%2B7b22686f737450617468223a222f686f6d652f676572616c642f636f64652f6d6174685f6e6f7465626f6f6b73222c226c6f63616c446f636b6572223a66616c73652c22636f6e66696746696c65223a7b22246d6964223a312c22667350617468223a222f686f6d652f676572616c642f636f64652f6d6174685f6e6f7465626f6f6b732f2e646576636f6e7461696e65722f646576636f6e7461696e65722e6a736f6e222c2265787465726e616c223a2266696c653a2f2f2f686f6d652f676572616c642f636f64652f6d6174685f6e6f7465626f6f6b732f2e646576636f6e7461696e65722f646576636f6e7461696e65722e6a736f6e222c2270617468223a222f686f6d652f676572616c642f636f64652f6d6174685f6e6f7465626f6f6b732f2e646576636f6e7461696e65722f646576636f6e7461696e65722e6a736f6e222c22736368656d65223a2266696c65227d7d/workspaces/math_notebooks/math.ipynb#Y344sdnNjb2RlLXJlbW90ZQ%3D%3D?line=1'>2</a>\u001b[0m x_min \u001b[39m=\u001b[39m \u001b[39m-\u001b[39mx_max\n\u001b[1;32m      <a href='vscode-notebook-cell://dev-container%2B7b22686f737450617468223a222f686f6d652f676572616c642f636f64652f6d6174685f6e6f7465626f6f6b73222c226c6f63616c446f636b6572223a66616c73652c22636f6e66696746696c65223a7b22246d6964223a312c22667350617468223a222f686f6d652f676572616c642f636f64652f6d6174685f6e6f7465626f6f6b732f2e646576636f6e7461696e65722f646576636f6e7461696e65722e6a736f6e222c2265787465726e616c223a2266696c653a2f2f2f686f6d652f676572616c642f636f64652f6d6174685f6e6f7465626f6f6b732f2e646576636f6e7461696e65722f646576636f6e7461696e65722e6a736f6e222c2270617468223a222f686f6d652f676572616c642f636f64652f6d6174685f6e6f7465626f6f6b732f2e646576636f6e7461696e65722f646576636f6e7461696e65722e6a736f6e222c22736368656d65223a2266696c65227d7d/workspaces/math_notebooks/math.ipynb#Y344sdnNjb2RlLXJlbW90ZQ%3D%3D?line=3'>4</a>\u001b[0m x_coords \u001b[39m=\u001b[39m np\u001b[39m.\u001b[39mlinspace(x_min, x_max, num\u001b[39m=\u001b[39m\u001b[39m1000\u001b[39m) \u001b[39m# , endpoint=False\u001b[39;00m\n\u001b[0;32m----> <a href='vscode-notebook-cell://dev-container%2B7b22686f737450617468223a222f686f6d652f676572616c642f636f64652f6d6174685f6e6f7465626f6f6b73222c226c6f63616c446f636b6572223a66616c73652c22636f6e66696746696c65223a7b22246d6964223a312c22667350617468223a222f686f6d652f676572616c642f636f64652f6d6174685f6e6f7465626f6f6b732f2e646576636f6e7461696e65722f646576636f6e7461696e65722e6a736f6e222c2265787465726e616c223a2266696c653a2f2f2f686f6d652f676572616c642f636f64652f6d6174685f6e6f7465626f6f6b732f2e646576636f6e7461696e65722f646576636f6e7461696e65722e6a736f6e222c2270617468223a222f686f6d652f676572616c642f636f64652f6d6174685f6e6f7465626f6f6b732f2e646576636f6e7461696e65722f646576636f6e7461696e65722e6a736f6e222c22736368656d65223a2266696c65227d7d/workspaces/math_notebooks/math.ipynb#Y344sdnNjb2RlLXJlbW90ZQ%3D%3D?line=4'>5</a>\u001b[0m y_coords \u001b[39m=\u001b[39m [cot(x_coord) \u001b[39mfor\u001b[39;49;00m x_coord \u001b[39min\u001b[39;49;00m x_coords]\n\u001b[1;32m      <a href='vscode-notebook-cell://dev-container%2B7b22686f737450617468223a222f686f6d652f676572616c642f636f64652f6d6174685f6e6f7465626f6f6b73222c226c6f63616c446f636b6572223a66616c73652c22636f6e66696746696c65223a7b22246d6964223a312c22667350617468223a222f686f6d652f676572616c642f636f64652f6d6174685f6e6f7465626f6f6b732f2e646576636f6e7461696e65722f646576636f6e7461696e65722e6a736f6e222c2265787465726e616c223a2266696c653a2f2f2f686f6d652f676572616c642f636f64652f6d6174685f6e6f7465626f6f6b732f2e646576636f6e7461696e65722f646576636f6e7461696e65722e6a736f6e222c2270617468223a222f686f6d652f676572616c642f636f64652f6d6174685f6e6f7465626f6f6b732f2e646576636f6e7461696e65722f646576636f6e7461696e65722e6a736f6e222c22736368656d65223a2266696c65227d7d/workspaces/math_notebooks/math.ipynb#Y344sdnNjb2RlLXJlbW90ZQ%3D%3D?line=5'>6</a>\u001b[0m plt\u001b[39m.\u001b[39mplot(x_coords, y_coords)\n\u001b[1;32m      <a href='vscode-notebook-cell://dev-container%2B7b22686f737450617468223a222f686f6d652f676572616c642f636f64652f6d6174685f6e6f7465626f6f6b73222c226c6f63616c446f636b6572223a66616c73652c22636f6e66696746696c65223a7b22246d6964223a312c22667350617468223a222f686f6d652f676572616c642f636f64652f6d6174685f6e6f7465626f6f6b732f2e646576636f6e7461696e65722f646576636f6e7461696e65722e6a736f6e222c2265787465726e616c223a2266696c653a2f2f2f686f6d652f676572616c642f636f64652f6d6174685f6e6f7465626f6f6b732f2e646576636f6e7461696e65722f646576636f6e7461696e65722e6a736f6e222c2270617468223a222f686f6d652f676572616c642f636f64652f6d6174685f6e6f7465626f6f6b732f2e646576636f6e7461696e65722f646576636f6e7461696e65722e6a736f6e222c22736368656d65223a2266696c65227d7d/workspaces/math_notebooks/math.ipynb#Y344sdnNjb2RlLXJlbW90ZQ%3D%3D?line=7'>8</a>\u001b[0m plt\u001b[39m.\u001b[39mxticks([(np\u001b[39m.\u001b[39mpi\u001b[39m*\u001b[39m_)\u001b[39m/\u001b[39m\u001b[39m2\u001b[39m \u001b[39mfor\u001b[39;00m _ \u001b[39min\u001b[39;00m \u001b[39mrange\u001b[39m(\u001b[39m-\u001b[39m\u001b[39m4\u001b[39m, \u001b[39m5\u001b[39m)],\n\u001b[1;32m      <a href='vscode-notebook-cell://dev-container%2B7b22686f737450617468223a222f686f6d652f676572616c642f636f64652f6d6174685f6e6f7465626f6f6b73222c226c6f63616c446f636b6572223a66616c73652c22636f6e66696746696c65223a7b22246d6964223a312c22667350617468223a222f686f6d652f676572616c642f636f64652f6d6174685f6e6f7465626f6f6b732f2e646576636f6e7461696e65722f646576636f6e7461696e65722e6a736f6e222c2265787465726e616c223a2266696c653a2f2f2f686f6d652f676572616c642f636f64652f6d6174685f6e6f7465626f6f6b732f2e646576636f6e7461696e65722f646576636f6e7461696e65722e6a736f6e222c2270617468223a222f686f6d652f676572616c642f636f64652f6d6174685f6e6f7465626f6f6b732f2e646576636f6e7461696e65722f646576636f6e7461696e65722e6a736f6e222c22736368656d65223a2266696c65227d7d/workspaces/math_notebooks/math.ipynb#Y344sdnNjb2RlLXJlbW90ZQ%3D%3D?line=8'>9</a>\u001b[0m            [\u001b[39m'\u001b[39m\u001b[39m$-2\u001b[39m\u001b[39m\\\u001b[39m\u001b[39mpi$\u001b[39m\u001b[39m'\u001b[39m,\u001b[39mr\u001b[39m\u001b[39m'\u001b[39m\u001b[39m$-\u001b[39m\u001b[39m\\\u001b[39m\u001b[39mfrac\u001b[39m\u001b[39m{\u001b[39m\u001b[39m3\u001b[39m\u001b[39m\\\u001b[39m\u001b[39mpi}\u001b[39m\u001b[39m{2}\u001b[39;00m\u001b[39m$\u001b[39m\u001b[39m'\u001b[39m,\u001b[39m'\u001b[39m\u001b[39m$-\u001b[39m\u001b[39m\\\u001b[39m\u001b[39mpi$\u001b[39m\u001b[39m'\u001b[39m,\u001b[39mr\u001b[39m\u001b[39m'\u001b[39m\u001b[39m$-\u001b[39m\u001b[39m\\\u001b[39m\u001b[39mfrac\u001b[39m\u001b[39m{\u001b[39m\u001b[39m\\\u001b[39m\u001b[39mpi}\u001b[39m\u001b[39m{2}\u001b[39;00m\u001b[39m$\u001b[39m\u001b[39m'\u001b[39m,\u001b[39m0\u001b[39m,\n\u001b[1;32m     <a href='vscode-notebook-cell://dev-container%2B7b22686f737450617468223a222f686f6d652f676572616c642f636f64652f6d6174685f6e6f7465626f6f6b73222c226c6f63616c446f636b6572223a66616c73652c22636f6e66696746696c65223a7b22246d6964223a312c22667350617468223a222f686f6d652f676572616c642f636f64652f6d6174685f6e6f7465626f6f6b732f2e646576636f6e7461696e65722f646576636f6e7461696e65722e6a736f6e222c2265787465726e616c223a2266696c653a2f2f2f686f6d652f676572616c642f636f64652f6d6174685f6e6f7465626f6f6b732f2e646576636f6e7461696e65722f646576636f6e7461696e65722e6a736f6e222c2270617468223a222f686f6d652f676572616c642f636f64652f6d6174685f6e6f7465626f6f6b732f2e646576636f6e7461696e65722f646576636f6e7461696e65722e6a736f6e222c22736368656d65223a2266696c65227d7d/workspaces/math_notebooks/math.ipynb#Y344sdnNjb2RlLXJlbW90ZQ%3D%3D?line=9'>10</a>\u001b[0m             \u001b[39mr\u001b[39m\u001b[39m'\u001b[39m\u001b[39m$\u001b[39m\u001b[39m\\\u001b[39m\u001b[39mfrac\u001b[39m\u001b[39m{\u001b[39m\u001b[39m\\\u001b[39m\u001b[39mpi}\u001b[39m\u001b[39m{2}\u001b[39;00m\u001b[39m$\u001b[39m\u001b[39m'\u001b[39m,\u001b[39m'\u001b[39m\u001b[39m$\u001b[39m\u001b[39m\\\u001b[39m\u001b[39mpi$\u001b[39m\u001b[39m'\u001b[39m, \u001b[39mr\u001b[39m\u001b[39m'\u001b[39m\u001b[39m$\u001b[39m\u001b[39m\\\u001b[39m\u001b[39mfrac\u001b[39m\u001b[39m{\u001b[39m\u001b[39m3\u001b[39m\u001b[39m\\\u001b[39m\u001b[39mpi}\u001b[39m\u001b[39m{2}\u001b[39;00m\u001b[39m$\u001b[39m\u001b[39m'\u001b[39m, \u001b[39mr\u001b[39m\u001b[39m'\u001b[39m\u001b[39m$2\u001b[39m\u001b[39m\\\u001b[39m\u001b[39mpi$\u001b[39m\u001b[39m'\u001b[39m])\n",
      "\u001b[1;32m/workspaces/math_notebooks/math.ipynb Cell 179\u001b[0m line \u001b[0;36m5\n\u001b[1;32m      <a href='vscode-notebook-cell://dev-container%2B7b22686f737450617468223a222f686f6d652f676572616c642f636f64652f6d6174685f6e6f7465626f6f6b73222c226c6f63616c446f636b6572223a66616c73652c22636f6e66696746696c65223a7b22246d6964223a312c22667350617468223a222f686f6d652f676572616c642f636f64652f6d6174685f6e6f7465626f6f6b732f2e646576636f6e7461696e65722f646576636f6e7461696e65722e6a736f6e222c2265787465726e616c223a2266696c653a2f2f2f686f6d652f676572616c642f636f64652f6d6174685f6e6f7465626f6f6b732f2e646576636f6e7461696e65722f646576636f6e7461696e65722e6a736f6e222c2270617468223a222f686f6d652f676572616c642f636f64652f6d6174685f6e6f7465626f6f6b732f2e646576636f6e7461696e65722f646576636f6e7461696e65722e6a736f6e222c22736368656d65223a2266696c65227d7d/workspaces/math_notebooks/math.ipynb#Y344sdnNjb2RlLXJlbW90ZQ%3D%3D?line=1'>2</a>\u001b[0m x_min \u001b[39m=\u001b[39m \u001b[39m-\u001b[39mx_max\n\u001b[1;32m      <a href='vscode-notebook-cell://dev-container%2B7b22686f737450617468223a222f686f6d652f676572616c642f636f64652f6d6174685f6e6f7465626f6f6b73222c226c6f63616c446f636b6572223a66616c73652c22636f6e66696746696c65223a7b22246d6964223a312c22667350617468223a222f686f6d652f676572616c642f636f64652f6d6174685f6e6f7465626f6f6b732f2e646576636f6e7461696e65722f646576636f6e7461696e65722e6a736f6e222c2265787465726e616c223a2266696c653a2f2f2f686f6d652f676572616c642f636f64652f6d6174685f6e6f7465626f6f6b732f2e646576636f6e7461696e65722f646576636f6e7461696e65722e6a736f6e222c2270617468223a222f686f6d652f676572616c642f636f64652f6d6174685f6e6f7465626f6f6b732f2e646576636f6e7461696e65722f646576636f6e7461696e65722e6a736f6e222c22736368656d65223a2266696c65227d7d/workspaces/math_notebooks/math.ipynb#Y344sdnNjb2RlLXJlbW90ZQ%3D%3D?line=3'>4</a>\u001b[0m x_coords \u001b[39m=\u001b[39m np\u001b[39m.\u001b[39mlinspace(x_min, x_max, num\u001b[39m=\u001b[39m\u001b[39m1000\u001b[39m) \u001b[39m# , endpoint=False\u001b[39;00m\n\u001b[0;32m----> <a href='vscode-notebook-cell://dev-container%2B7b22686f737450617468223a222f686f6d652f676572616c642f636f64652f6d6174685f6e6f7465626f6f6b73222c226c6f63616c446f636b6572223a66616c73652c22636f6e66696746696c65223a7b22246d6964223a312c22667350617468223a222f686f6d652f676572616c642f636f64652f6d6174685f6e6f7465626f6f6b732f2e646576636f6e7461696e65722f646576636f6e7461696e65722e6a736f6e222c2265787465726e616c223a2266696c653a2f2f2f686f6d652f676572616c642f636f64652f6d6174685f6e6f7465626f6f6b732f2e646576636f6e7461696e65722f646576636f6e7461696e65722e6a736f6e222c2270617468223a222f686f6d652f676572616c642f636f64652f6d6174685f6e6f7465626f6f6b732f2e646576636f6e7461696e65722f646576636f6e7461696e65722e6a736f6e222c22736368656d65223a2266696c65227d7d/workspaces/math_notebooks/math.ipynb#Y344sdnNjb2RlLXJlbW90ZQ%3D%3D?line=4'>5</a>\u001b[0m y_coords \u001b[39m=\u001b[39m [cot(x_coord) \u001b[39mfor\u001b[39;00m x_coord \u001b[39min\u001b[39;00m x_coords]\n\u001b[1;32m      <a href='vscode-notebook-cell://dev-container%2B7b22686f737450617468223a222f686f6d652f676572616c642f636f64652f6d6174685f6e6f7465626f6f6b73222c226c6f63616c446f636b6572223a66616c73652c22636f6e66696746696c65223a7b22246d6964223a312c22667350617468223a222f686f6d652f676572616c642f636f64652f6d6174685f6e6f7465626f6f6b732f2e646576636f6e7461696e65722f646576636f6e7461696e65722e6a736f6e222c2265787465726e616c223a2266696c653a2f2f2f686f6d652f676572616c642f636f64652f6d6174685f6e6f7465626f6f6b732f2e646576636f6e7461696e65722f646576636f6e7461696e65722e6a736f6e222c2270617468223a222f686f6d652f676572616c642f636f64652f6d6174685f6e6f7465626f6f6b732f2e646576636f6e7461696e65722f646576636f6e7461696e65722e6a736f6e222c22736368656d65223a2266696c65227d7d/workspaces/math_notebooks/math.ipynb#Y344sdnNjb2RlLXJlbW90ZQ%3D%3D?line=5'>6</a>\u001b[0m plt\u001b[39m.\u001b[39mplot(x_coords, y_coords)\n\u001b[1;32m      <a href='vscode-notebook-cell://dev-container%2B7b22686f737450617468223a222f686f6d652f676572616c642f636f64652f6d6174685f6e6f7465626f6f6b73222c226c6f63616c446f636b6572223a66616c73652c22636f6e66696746696c65223a7b22246d6964223a312c22667350617468223a222f686f6d652f676572616c642f636f64652f6d6174685f6e6f7465626f6f6b732f2e646576636f6e7461696e65722f646576636f6e7461696e65722e6a736f6e222c2265787465726e616c223a2266696c653a2f2f2f686f6d652f676572616c642f636f64652f6d6174685f6e6f7465626f6f6b732f2e646576636f6e7461696e65722f646576636f6e7461696e65722e6a736f6e222c2270617468223a222f686f6d652f676572616c642f636f64652f6d6174685f6e6f7465626f6f6b732f2e646576636f6e7461696e65722f646576636f6e7461696e65722e6a736f6e222c22736368656d65223a2266696c65227d7d/workspaces/math_notebooks/math.ipynb#Y344sdnNjb2RlLXJlbW90ZQ%3D%3D?line=7'>8</a>\u001b[0m plt\u001b[39m.\u001b[39mxticks([(np\u001b[39m.\u001b[39mpi\u001b[39m*\u001b[39m_)\u001b[39m/\u001b[39m\u001b[39m2\u001b[39m \u001b[39mfor\u001b[39;00m _ \u001b[39min\u001b[39;00m \u001b[39mrange\u001b[39m(\u001b[39m-\u001b[39m\u001b[39m4\u001b[39m, \u001b[39m5\u001b[39m)],\n\u001b[1;32m      <a href='vscode-notebook-cell://dev-container%2B7b22686f737450617468223a222f686f6d652f676572616c642f636f64652f6d6174685f6e6f7465626f6f6b73222c226c6f63616c446f636b6572223a66616c73652c22636f6e66696746696c65223a7b22246d6964223a312c22667350617468223a222f686f6d652f676572616c642f636f64652f6d6174685f6e6f7465626f6f6b732f2e646576636f6e7461696e65722f646576636f6e7461696e65722e6a736f6e222c2265787465726e616c223a2266696c653a2f2f2f686f6d652f676572616c642f636f64652f6d6174685f6e6f7465626f6f6b732f2e646576636f6e7461696e65722f646576636f6e7461696e65722e6a736f6e222c2270617468223a222f686f6d652f676572616c642f636f64652f6d6174685f6e6f7465626f6f6b732f2e646576636f6e7461696e65722f646576636f6e7461696e65722e6a736f6e222c22736368656d65223a2266696c65227d7d/workspaces/math_notebooks/math.ipynb#Y344sdnNjb2RlLXJlbW90ZQ%3D%3D?line=8'>9</a>\u001b[0m            [\u001b[39m'\u001b[39m\u001b[39m$-2\u001b[39m\u001b[39m\\\u001b[39m\u001b[39mpi$\u001b[39m\u001b[39m'\u001b[39m,\u001b[39mr\u001b[39m\u001b[39m'\u001b[39m\u001b[39m$-\u001b[39m\u001b[39m\\\u001b[39m\u001b[39mfrac\u001b[39m\u001b[39m{\u001b[39m\u001b[39m3\u001b[39m\u001b[39m\\\u001b[39m\u001b[39mpi}\u001b[39m\u001b[39m{2}\u001b[39;00m\u001b[39m$\u001b[39m\u001b[39m'\u001b[39m,\u001b[39m'\u001b[39m\u001b[39m$-\u001b[39m\u001b[39m\\\u001b[39m\u001b[39mpi$\u001b[39m\u001b[39m'\u001b[39m,\u001b[39mr\u001b[39m\u001b[39m'\u001b[39m\u001b[39m$-\u001b[39m\u001b[39m\\\u001b[39m\u001b[39mfrac\u001b[39m\u001b[39m{\u001b[39m\u001b[39m\\\u001b[39m\u001b[39mpi}\u001b[39m\u001b[39m{2}\u001b[39;00m\u001b[39m$\u001b[39m\u001b[39m'\u001b[39m,\u001b[39m0\u001b[39m,\n\u001b[1;32m     <a href='vscode-notebook-cell://dev-container%2B7b22686f737450617468223a222f686f6d652f676572616c642f636f64652f6d6174685f6e6f7465626f6f6b73222c226c6f63616c446f636b6572223a66616c73652c22636f6e66696746696c65223a7b22246d6964223a312c22667350617468223a222f686f6d652f676572616c642f636f64652f6d6174685f6e6f7465626f6f6b732f2e646576636f6e7461696e65722f646576636f6e7461696e65722e6a736f6e222c2265787465726e616c223a2266696c653a2f2f2f686f6d652f676572616c642f636f64652f6d6174685f6e6f7465626f6f6b732f2e646576636f6e7461696e65722f646576636f6e7461696e65722e6a736f6e222c2270617468223a222f686f6d652f676572616c642f636f64652f6d6174685f6e6f7465626f6f6b732f2e646576636f6e7461696e65722f646576636f6e7461696e65722e6a736f6e222c22736368656d65223a2266696c65227d7d/workspaces/math_notebooks/math.ipynb#Y344sdnNjb2RlLXJlbW90ZQ%3D%3D?line=9'>10</a>\u001b[0m             \u001b[39mr\u001b[39m\u001b[39m'\u001b[39m\u001b[39m$\u001b[39m\u001b[39m\\\u001b[39m\u001b[39mfrac\u001b[39m\u001b[39m{\u001b[39m\u001b[39m\\\u001b[39m\u001b[39mpi}\u001b[39m\u001b[39m{2}\u001b[39;00m\u001b[39m$\u001b[39m\u001b[39m'\u001b[39m,\u001b[39m'\u001b[39m\u001b[39m$\u001b[39m\u001b[39m\\\u001b[39m\u001b[39mpi$\u001b[39m\u001b[39m'\u001b[39m, \u001b[39mr\u001b[39m\u001b[39m'\u001b[39m\u001b[39m$\u001b[39m\u001b[39m\\\u001b[39m\u001b[39mfrac\u001b[39m\u001b[39m{\u001b[39m\u001b[39m3\u001b[39m\u001b[39m\\\u001b[39m\u001b[39mpi}\u001b[39m\u001b[39m{2}\u001b[39;00m\u001b[39m$\u001b[39m\u001b[39m'\u001b[39m, \u001b[39mr\u001b[39m\u001b[39m'\u001b[39m\u001b[39m$2\u001b[39m\u001b[39m\\\u001b[39m\u001b[39mpi$\u001b[39m\u001b[39m'\u001b[39m])\n",
      "\u001b[0;31mNameError\u001b[0m: name 'cot' is not defined"
     ]
    }
   ],
   "source": [
    "x_max = 2*np.pi\n",
    "x_min = -x_max\n",
    "\n",
    "x_coords = np.linspace(x_min, x_max, num=1000) # , endpoint=False\n",
    "y_coords = [cot(x_coord) for x_coord in x_coords]\n",
    "plt.plot(x_coords, y_coords)\n",
    "\n",
    "plt.xticks([(np.pi*_)/2 for _ in range(-4, 5)],\n",
    "           ['$-2\\pi$',r'$-\\frac{3\\pi}{2}$','$-\\pi$',r'$-\\frac{\\pi}{2}$',0,\n",
    "            r'$\\frac{\\pi}{2}$','$\\pi$', r'$\\frac{3\\pi}{2}$', r'$2\\pi$'])\n",
    "plt.axis(ymin=-5, ymax=5) # ymin=-1500, ymax=30, 'equal'\n",
    "plt.grid()\n",
    "plt.xlabel('$x$')\n",
    "plt.ylabel('$y$')\n",
    "plt.axhline(0, color='black', lw=2)\n",
    "_=plt.axvline(0, color='black', lw=2)"
   ]
  },
  {
   "cell_type": "markdown",
   "metadata": {},
   "source": [
    "### graph trigonometric function with xticks as floats\n",
    "Useful for periodic function with period other than $2\\pi$"
   ]
  },
  {
   "cell_type": "code",
   "execution_count": null,
   "metadata": {},
   "outputs": [],
   "source": [
    "x_max = np.pi/3\n",
    "x_min = -x_max\n",
    "\n",
    "x_coords = np.linspace(x_min, x_max, num=1000) # , endpoint=False\n",
    "y_coords = [sec(3*x_coord) for x_coord in x_coords]\n",
    "PI = np.pi\n",
    "plt.plot(x_coords, y_coords)\n",
    "\n",
    "plt.xticks(np.arange(-PI/3, PI/3, step=PI/6))\n",
    "plt.axis(ymin=-2, ymax=2) # ymin=-1500, ymax=30, 'equal'\n",
    "plt.grid()\n",
    "plt.xlabel('$x$')\n",
    "plt.ylabel('$y$')\n",
    "plt.axhline(0, color='black', lw=2)\n",
    "_=plt.axvline(0, color='black', lw=2)"
   ]
  },
  {
   "cell_type": "markdown",
   "metadata": {},
   "source": [
    "### automatically generate radian xticks"
   ]
  },
  {
   "cell_type": "code",
   "execution_count": null,
   "metadata": {},
   "outputs": [],
   "source": [
    "_ = plt.xticks([(np.pi*_)/2 for _ in range(-4, 5)],\n",
    "               ['$-2\\pi$',r'$-\\frac{3\\pi}{2}$','$-\\pi$',r'$-\\frac{\\pi}{2}$',0,\n",
    "                r'$\\frac{\\pi}{2}$','$\\pi$', r'$\\frac{3\\pi}{2}$', r'$2\\pi$'])"
   ]
  },
  {
   "cell_type": "markdown",
   "metadata": {},
   "source": [
    "---"
   ]
  },
  {
   "cell_type": "markdown",
   "metadata": {},
   "source": [
    "## Find intersections of two equations where one equation has trigonometric function\n",
    "$y = 2 cos(x)$  \n",
    "$y = 2 - x$\n",
    "\n",
    "First, graph the two functions to find approximate intersections visually.  \n",
    "Then use nsolve to find precise solutions."
   ]
  },
  {
   "cell_type": "code",
   "execution_count": null,
   "metadata": {},
   "outputs": [],
   "source": [
    "x_min = -3\n",
    "x_max = 6\n",
    "\n",
    "x_coords = np.linspace(x_min, x_max, 1000)\n",
    "y_coords = [2*cos(x_coord) for x_coord in x_coords]\n",
    "y_coords2 = [2 - x_coord for x_coord in x_coords]\n",
    "\n",
    "plt.plot(x_coords, y_coords)\n",
    "plt.plot(x_coords, y_coords2)\n",
    "\n",
    "plt.grid()\n",
    "plt.xlabel('$x$')\n",
    "plt.ylabel('$y$')\n",
    "plt.axhline(0, color='black', lw=2)\n",
    "plt.ylim(-6,6)\n",
    "plt.xlim(x_min, x_max)\n",
    "_=plt.axvline(0, color='black', lw=2)"
   ]
  },
  {
   "cell_type": "code",
   "execution_count": null,
   "metadata": {},
   "outputs": [],
   "source": [
    "f1 = 2*cos(x)\n",
    "f2 = 2 - x\n",
    "\n",
    "[nsolve(f1 - f2, x_coord) for x_coord in [0, 1, 3.5]]"
   ]
  },
  {
   "cell_type": "markdown",
   "metadata": {},
   "source": [
    "## Graph inequality\n",
    "Graph $sin(x)$ > $cos(x)$"
   ]
  },
  {
   "cell_type": "code",
   "execution_count": null,
   "metadata": {},
   "outputs": [],
   "source": [
    "x_coords = np.linspace(0, np.pi*4, 1000)\n",
    "y_coords_sin = [sin(x_coord) for x_coord in x_coords]\n",
    "y_coords_cos = [cos(x_coord) for x_coord in x_coords]\n",
    "\n",
    "plt.plot(x_coords, y_coords_sin)\n",
    "plt.plot(x_coords, y_coords_cos)\n",
    "\n",
    "plt.axis(ymin=-3, ymax=3)\n",
    "plt.grid()\n",
    "plt.xlabel('$x$')\n",
    "plt.ylabel('$y$')\n",
    "plt.axhline(0, color='black', lw=2)\n",
    "_=plt.axvline(0, color='black', lw=2)\n",
    "\n",
    "x_coords = np.array(x_coords, dtype=float)\n",
    "y_coords_sin = np.array(y_coords_sin, dtype=float)\n",
    "y_coords_cos = np.array(y_coords_cos, dtype=float)\n",
    "plt.fill_between(x_coords, y_coords_sin, y_coords_cos, where=y_coords_sin>y_coords_cos, interpolate=True);"
   ]
  },
  {
   "cell_type": "markdown",
   "metadata": {},
   "source": [
    "### Shade area below curve"
   ]
  },
  {
   "cell_type": "code",
   "execution_count": null,
   "metadata": {},
   "outputs": [],
   "source": [
    "%matplotlib notebook\n",
    "\n",
    "x_max = 1\n",
    "_x = np.linspace(-1, 1, 1000)\n",
    "_y = [sqrt(1-_**2) for _ in _x]\n",
    "_y = np.array(_y, dtype=float)\n",
    "_x_axis = [0 for _ in _x]\n",
    "fig = plt.figure()\n",
    "ax = fig.add_subplot(1, 1, 1)\n",
    "plt.axvline(x=0, c=\"gray\")\n",
    "plt.axhline(y=0, c=\"gray\")\n",
    "\n",
    "ax.plot(_x, _y, 'red')\n",
    "ax.add_patch(Rectangle(xy=(-1, 0), width=.5, height=sqrt(1-(.75)**2), fill=False, edgecolor='blue', lw=2))\n",
    "ax.add_patch(Rectangle(xy=(-.5, 0), width=.5, height=sqrt(1-(.25)**2), fill=False, edgecolor='blue', lw=2))\n",
    "ax.add_patch(Rectangle(xy=(0, 0), width=.5, height=sqrt(1-(.25)**2), fill=False, edgecolor='blue', lw=2))\n",
    "ax.add_patch(Rectangle(xy=(.5, 0), width=.5, height=sqrt(1-(.75)**2), fill=False, edgecolor='blue', lw=2))\n",
    "\n",
    "# shade region below curve\n",
    "plt.fill_between(x=_x, y1=_y, y2=_x_axis, where=_y>_x_axis, interpolate=True, color='yellow');\n",
    "\n",
    "y_max = 1.25\n",
    "plt.ylim(-0,y_max)\n",
    "plt.grid()"
   ]
  },
  {
   "cell_type": "markdown",
   "metadata": {},
   "source": [
    "### draw rectangle"
   ]
  },
  {
   "cell_type": "code",
   "execution_count": null,
   "metadata": {},
   "outputs": [],
   "source": [
    "%matplotlib notebook\n",
    "\n",
    "fig = plt.figure()\n",
    "ax = fig.add_subplot(1, 1, 1)\n",
    "\n",
    "ax.add_patch(Rectangle(xy=(1, 0), width=.5, height=.9, fill=False, edgecolor='blue', lw=2))\n",
    "\n",
    "plt.axvline(x=0, c=\"gray\")\n",
    "plt.axhline(y=0, c=\"gray\")\n",
    "y_max = 1.25\n",
    "plt.ylim(-0,y_max)\n",
    "plt.xlim(0,2)\n",
    "plt.grid()"
   ]
  },
  {
   "cell_type": "markdown",
   "metadata": {},
   "source": [
    "### add variable with subscript"
   ]
  },
  {
   "cell_type": "code",
   "execution_count": null,
   "metadata": {},
   "outputs": [],
   "source": [
    "r_1 = symbols('r_1')\n",
    "r_1"
   ]
  },
  {
   "cell_type": "markdown",
   "metadata": {},
   "source": [
    "### rationalize denominator\n",
    "This does not work if the denominator has a symbol.\n",
    "`simplify` and `radsimp` can also be used to rationalize a denominator.  \n",
    "$\\sqrt{\\frac{x}{3}}$ "
   ]
  },
  {
   "cell_type": "code",
   "execution_count": null,
   "metadata": {},
   "outputs": [],
   "source": [
    "nsimplify(sqrt(x/3))"
   ]
  },
  {
   "cell_type": "markdown",
   "metadata": {},
   "source": [
    "## Rounding\n",
    "Round to three decimal places"
   ]
  },
  {
   "cell_type": "code",
   "execution_count": null,
   "metadata": {},
   "outputs": [],
   "source": [
    "round(8.2**6, 3)"
   ]
  },
  {
   "cell_type": "markdown",
   "metadata": {},
   "source": [
    "## Formatting\n",
    "Add comma every three digits"
   ]
  },
  {
   "cell_type": "code",
   "execution_count": null,
   "metadata": {},
   "outputs": [],
   "source": [
    "f'{int(1.1 * 10**8):,}'"
   ]
  },
  {
   "cell_type": "markdown",
   "metadata": {},
   "source": [
    "## GEOMETRIC FORMULAS\n",
    "Formulas for area $A$, permimeter $P$, circumference $C$, volume $V$, surface area $S$:  \n",
    "  \n",
    "**Rectangle**  \n",
    "$A = lw$  \n",
    "$P = 2l + 2w$  \n",
    "    \n",
    "**Box**  \n",
    "$V = lwh$    \n",
    "$S = 2lw + 2lh + 2hw$  \n",
    "  \n",
    "**Triangle**  \n",
    "$A = \\frac{1}{2}bh$  \n",
    "  \n",
    "Heron's Formula: find area of triangle if length of three sides is known  \n",
    "$A = \\sqrt{s(s-a)(s-b)(s-c)}$  \n",
    "where $s = \\frac{a+b+c}{2}$\n",
    "  \n",
    "**Pyramid**  \n",
    "$V = \\frac{1}{3}ha^2$  \n",
    "  \n",
    "**Circle**  \n",
    "$A = \\pi r^2$  \n",
    "$C = 2\\pi r$  \n",
    "\n",
    "**Sphere**  \n",
    "$V = \\frac{4}{3}\\pi r^3$  \n",
    "$A = 4\\pi r^2$  \n",
    "  \n",
    "**Cylinder**  \n",
    "$V = \\pi r^2h$  \n",
    "$S = 2\\pi r(h+r)$  \n",
    "  \n",
    "**Cone**  \n",
    "$V = \\frac{1}{3}\\pi r^2h$  \n",
    "  \n"
   ]
  },
  {
   "cell_type": "markdown",
   "metadata": {},
   "source": [
    "# trigonometric functions\n",
    "$h =$ hypotenuse  \n",
    "$o =$ opposite  \n",
    "$a =$ adjacent  \n",
    "\n",
    "Sine  \n",
    "$\\sin x = \\frac{o}{h}$  \n",
    "  \n",
    "Cosine  \n",
    "$\\cos x = \\frac{a}{h}$\n",
    "\n",
    "Tangent  \n",
    "$\\tan x = \\frac{o}{a} = \\frac{\\sin x}{\\cos x}$"
   ]
  },
  {
   "cell_type": "code",
   "execution_count": null,
   "metadata": {},
   "outputs": [],
   "source": [
    "%matplotlib notebook\n",
    "\n",
    "x_max = np.pi\n",
    "_x = np.linspace(-x_max, x_max, 1000)\n",
    "_y = [tan(_) for _ in _x]\n",
    "fig = plt.figure()\n",
    "ax = fig.add_subplot(1, 1, 1)\n",
    "\n",
    "ax.plot(_x, _y, 'red')\n",
    "plt.axvline(x=0, c=\"gray\")\n",
    "plt.axhline(y=0, c=\"gray\")\n",
    "y_max = 3\n",
    "plt.ylim(-y_max,y_max)\n",
    "plt.grid()"
   ]
  },
  {
   "cell_type": "markdown",
   "metadata": {},
   "source": [
    "Cosecant  \n",
    "$\\csc x = \\frac{h}{o} = \\frac{1}{\\sin x}$"
   ]
  },
  {
   "cell_type": "code",
   "execution_count": null,
   "metadata": {},
   "outputs": [],
   "source": [
    "%matplotlib notebook\n",
    "\n",
    "x_max = np.pi\n",
    "_x = np.linspace(-x_max, x_max, 1000)\n",
    "_y = [csc(_) for _ in _x]\n",
    "fig = plt.figure()\n",
    "ax = fig.add_subplot(1, 1, 1)\n",
    "\n",
    "ax.plot(_x, _y, 'red')\n",
    "plt.axvline(x=0, c=\"gray\")\n",
    "plt.axhline(y=0, c=\"gray\")\n",
    "y_max = 4\n",
    "plt.ylim(-y_max,y_max)\n",
    "plt.grid()"
   ]
  },
  {
   "cell_type": "markdown",
   "metadata": {},
   "source": [
    "Secant \t\n",
    "$\\sec x = \\frac{h}{a} = \\frac{1}{\\cos x}$    \n",
    "  \n",
    "Cotangent  \n",
    "\n",
    "$\\cot x = \\frac{a}{o} = \\frac{1}{\\tan x}$"
   ]
  },
  {
   "cell_type": "markdown",
   "metadata": {},
   "source": [
    "# trigonometric identities\n",
    "---\n",
    "$\\sin^2(t) + \\cos^2(t) = 1$  \n",
    "  \n",
    "$\\tan^2(t) + 1 = \\sec^2(t)$  \n",
    "  \n",
    "$1 + \\cot^2(t) = \\csc^2(t)$  \n",
    "  \n",
    "---\n",
    "For any real numbers $\\alpha$ and $\\beta$:\n",
    "  \n",
    "$\\sin(\\alpha + \\beta) = \\sin \\alpha \\cos \\beta + \\sin \\beta \\cos \\alpha$\n",
    "  \n",
    "$\\cos(\\alpha + \\beta) = \\cos \\alpha \\cos \\beta - \\sin \\alpha \\sin \\beta$  \n",
    "  \n",
    "$\\sin^2\\alpha = \\frac{1}{2}(1 - \\cos 2\\alpha)$  \n",
    "  \n",
    "$cos^2\\alpha = \\frac{1}{2}(1 + \\cos 2\\alpha)$  \n",
    "  \n",
    "$\\sin 2\\theta = 2\\sin\\theta\\cos\\theta$  \n",
    "  \n",
    "$\\cos2\\theta = \\cos^2\\theta-\\sin^2\\theta$"
   ]
  },
  {
   "cell_type": "markdown",
   "metadata": {},
   "source": [
    "Use degrees instead of radians.  \n",
    "$\\tan34^\\circ \\approx 0.67$"
   ]
  },
  {
   "cell_type": "code",
   "execution_count": null,
   "metadata": {},
   "outputs": [],
   "source": [
    "tan(mpmath.radians(34))"
   ]
  },
  {
   "cell_type": "markdown",
   "metadata": {},
   "source": [
    "# resources\n",
    "https://mathsolver.microsoft.com/"
   ]
  },
  {
   "cell_type": "markdown",
   "metadata": {},
   "source": [
    "## simplify rational expression\n",
    "$\\frac{3(x+2)(x-1)}{6(x-1)^2}$"
   ]
  },
  {
   "cell_type": "code",
   "execution_count": null,
   "metadata": {},
   "outputs": [],
   "source": [
    "simplify((3*(x+2)*(x-1)))/(6*(x-1)**2)"
   ]
  },
  {
   "cell_type": "markdown",
   "metadata": {},
   "source": [
    "`simplify()` can be used when subtracting fractions.  \n",
    "Sometimes `factor()` is required to reduce a polynomial to irreducible factors.  \n",
    "$\\frac{x}{x-4}-\\frac{3}{x+6}=\\frac{x^2+3x+12}{(x−4)(x+6)}$"
   ]
  },
  {
   "cell_type": "code",
   "execution_count": null,
   "metadata": {},
   "outputs": [],
   "source": [
    "factor((x)/(x - 4) - (3)/(x+6))"
   ]
  },
  {
   "cell_type": "markdown",
   "metadata": {},
   "source": [
    "Convert number with negative exponent to fractional form"
   ]
  },
  {
   "cell_type": "code",
   "execution_count": null,
   "metadata": {},
   "outputs": [],
   "source": [
    "3**Rational(-2,1)"
   ]
  },
  {
   "cell_type": "markdown",
   "metadata": {},
   "source": [
    "### interactive graph"
   ]
  },
  {
   "cell_type": "code",
   "execution_count": null,
   "metadata": {},
   "outputs": [],
   "source": [
    "# Graphs rendered in a figure with sliders need to be at the end of the notebook, or else\n",
    "# they cause problems with other graphs\n",
    "%matplotlib notebook\n",
    "\n",
    "x_max = 10\n",
    "_x = np.linspace(-x_max, x_max, 1000)\n",
    "#_x = _x[_x != 0] # remove element from np array\n",
    "fig = plt.figure()\n",
    "ax = fig.add_subplot(1, 1, 1)\n",
    "\n",
    "line, = ax.plot(_x, _x**3 - 6*_x + 1)\n",
    "plt.axvline(x=0, c=\"gray\")\n",
    "plt.axhline(y=0, c=\"gray\")\n",
    "y_max = 40\n",
    "plt.ylim(-y_max,y_max)\n",
    "plt.grid()"
   ]
  },
  {
   "cell_type": "markdown",
   "metadata": {},
   "source": [
    "interactive graph with slider"
   ]
  },
  {
   "cell_type": "code",
   "execution_count": null,
   "metadata": {},
   "outputs": [],
   "source": [
    "# Graphs rendered in a figure with sliders need to be at the end of the notebook, or else\n",
    "# they cause problems with other graphs\n",
    "%matplotlib notebook\n",
    "\n",
    "x_max = 10\n",
    "_x = np.linspace(-x_max, x_max) \n",
    "fig = plt.figure()\n",
    "ax = fig.add_subplot(1, 1, 1)\n",
    "\n",
    "line, = ax.plot(_x, _x)\n",
    "plt.axvline(x=0, c=\"gray\")\n",
    "plt.axhline(y=0, c=\"gray\")\n",
    "\n",
    "def update(_a = 1.0):\n",
    "    line.set_ydata(np.add(_x,_a))\n",
    "    fig.canvas.draw_idle()\n",
    "\n",
    "interact(update, _a = widgets.FloatSlider(value=0, min=-4, max=4, step=0.1));"
   ]
  },
  {
   "cell_type": "markdown",
   "metadata": {},
   "source": [
    "Plot interactive graph without slider"
   ]
  },
  {
   "cell_type": "code",
   "execution_count": null,
   "metadata": {},
   "outputs": [],
   "source": [
    "%matplotlib notebook\n",
    "\n",
    "x_max = 5\n",
    "_x = np.linspace(-x_max, x_max, 1000)\n",
    "fig = plt.figure()\n",
    "ax = fig.add_subplot(1, 1, 1)\n",
    "\n",
    "ax.plot(_x, _x**2 + 1, 'red')\n",
    "plt.axvline(x=0, c=\"gray\")\n",
    "plt.axhline(y=0, c=\"gray\")\n",
    "y_max = 5\n",
    "plt.ylim(-y_max,y_max)\n",
    "plt.grid()"
   ]
  },
  {
   "cell_type": "markdown",
   "metadata": {},
   "source": [
    "### composition of functions\n",
    "$f(x)=x+1$  \n",
    "$g(x)=\\sqrt{x-3}$  \n",
    "Find the composition of $f(g(x))$."
   ]
  },
  {
   "cell_type": "code",
   "execution_count": null,
   "metadata": {},
   "outputs": [],
   "source": [
    "f = x + 1\n",
    "g = sqrt(x-3)\n",
    "f.subs({x: g})"
   ]
  },
  {
   "cell_type": "markdown",
   "metadata": {},
   "source": [
    "Rationalize the denominator  \n",
    "$\\frac{2}{\\sqrt{2}+\\sqrt{7}}$"
   ]
  },
  {
   "cell_type": "code",
   "execution_count": null,
   "metadata": {},
   "outputs": [],
   "source": [
    "expression = 2/(sqrt(2)+sqrt(7))\n",
    "radsimp(expression)"
   ]
  },
  {
   "cell_type": "markdown",
   "metadata": {},
   "source": [
    "## LIMITS\n",
    "### THEOREM\n",
    "If $\\lim\\limits_{x \\to a}f(x)$ and $\\lim\\limits_{x \\to a}g(x)$ both exist and $c$ is any constant, then the following apply:  \n",
    "  \n",
    "$\\lim\\limits_{x \\to a}[c\\cdot f(x)] = c\\cdot \\lim\\limits_{x \\to a} f(x)$  \n",
    "  \n",
    "$\\lim\\limits_{x \\to a}[f(x) \\pm g(x)] = \\lim\\limits_{x \\to a}f(x) \\pm \\lim\\limits_{x \\to a}g(x)$  \n",
    "  \n",
    "$\\lim\\limits_{x \\to a}[f(x) \\cdot g(x)] = \\left[\\lim\\limits_{x \\to a}f(x)\\right]\\left[\\lim\\limits_{x \\to a}g(x)\\right]$  \n",
    "    \n",
    "$\\lim\\limits_{x \\to a}\\frac{f(x)}{g(x)} = \\frac{\\lim\\limits_{x \\to a}f(x)}{\\lim\\limits_{x \\to a}g(x)}$ if $\\lim\\limits_{x \\to a}g(x) \\ne 0$"
   ]
  },
  {
   "cell_type": "markdown",
   "metadata": {},
   "source": [
    "$\\lim\\limits_{x \\to 0-} x^2+2cosx+1 = 0$"
   ]
  },
  {
   "cell_type": "code",
   "execution_count": null,
   "metadata": {},
   "outputs": [],
   "source": [
    "limit(x**2 + 2*cos(x) + 1, x, 0, dir='-')"
   ]
  },
  {
   "cell_type": "markdown",
   "metadata": {},
   "source": [
    "In the case of $\\lim\\limits_{x \\to 0} sin\\frac{1}{x^2}$, the limit does not exist because as the expression approaches $0$, it oscillates at a faster rate between $-1$ and $1$. "
   ]
  },
  {
   "cell_type": "code",
   "execution_count": null,
   "metadata": {},
   "outputs": [],
   "source": [
    "expression = sin(1/x**2)\n",
    "display(expression)\n",
    "limit(expression, x, 0)"
   ]
  },
  {
   "cell_type": "markdown",
   "metadata": {},
   "source": [
    "The $f(x)=[x]$ denotes the **greatest integer function** which equals the greatest integer that is less than or equal to $x$.  \n",
    "The **floor** function in sympy can be used to calculate the greatest integer."
   ]
  },
  {
   "cell_type": "code",
   "execution_count": null,
   "metadata": {},
   "outputs": [],
   "source": [
    "floor(2.2)"
   ]
  },
  {
   "cell_type": "markdown",
   "metadata": {},
   "source": [
    "## useful references\n",
    "### algebra\n",
    "[Technion algebra course](https://www.youtube.com/playlist?list=PLW3u28VuDAHJNrf3JCgT0GG_rjFVz0-j9)\n",
    "### algebra, trigonometry, analytic geometry, calculus\n",
    "[Eddie Woo youtube channel](https://www.youtube.com/@misterwootube)"
   ]
  }
 ],
 "metadata": {
  "kernelspec": {
   "display_name": "Python 3 (ipykernel)",
   "language": "python",
   "name": "python3"
  },
  "language_info": {
   "codemirror_mode": {
    "name": "ipython",
    "version": 3
   },
   "file_extension": ".py",
   "mimetype": "text/x-python",
   "name": "python",
   "nbconvert_exporter": "python",
   "pygments_lexer": "ipython3",
   "version": "3.11.5"
  }
 },
 "nbformat": 4,
 "nbformat_minor": 4
}
