{
 "cells": [
  {
   "cell_type": "code",
   "execution_count": 2,
   "metadata": {},
   "outputs": [],
   "source": [
    "#%run ./set_notebook.py"
   ]
  },
  {
   "cell_type": "markdown",
   "metadata": {},
   "source": [
    "# REAL NUMBERS\n",
    "Real numbers are the set of all irrational and rational numbers.  \n",
    "$\\mathbb{R}=\\mathbb{I}+\\mathbb{Q}$\n",
    "\n",
    "\n",
    "All rational numbers can be expressed as a the ratio of two integers.  \n",
    "$\\frac{a}{b}$  \n",
    "  \n",
    "If a number cannot be expressed as the ratio of two integers, the number is irrational.  \n",
    "A real number is either irrational or rational.  \n",
    "The sum of a rational and irrational number is irrational because the sum cannot be expressed as the ratio of two integers.  "
   ]
  },
  {
   "cell_type": "markdown",
   "metadata": {},
   "source": [
    "$\\frac{a}{0}$ where $a \\ne 0$ is undefined because if we approach $0$ from the right, the quotient will approach positive infinity.  \n",
    "If we approach $0$ from the left, the quotient will approach negative infinity  \n",
    "  \n",
    "$\\frac{0}{0}$ is undefined because as number $a$ approaches $0, \\frac{a}{a}=1$.  \n",
    "As number $a$ approaches $0, \\frac{0}{a} = 0$.  \n",
    "It's not clear if $\\frac{0}{0}$ should equal $0$ or $1$ and therefore, $\\frac{0}{0}$ is undefined."
   ]
  },
  {
   "cell_type": "markdown",
   "metadata": {},
   "source": [
    "## properties of real numbers\n",
    "$a$, $b$ and $c$ represent real numbers  \n",
    "**reflexive property**: A number always equals itself; that is $a=a$.  \n",
    "**symetric property**: If $a=b$ then $b=a$.  \n",
    "**transitive property**: If $a=b$ and $b=c$ then $a=c$.  \n",
    "**principle of substitution**:\n",
    "If $a=b$ then $b$ may substitute for $a$ in any expression containing $a$."
   ]
  },
  {
   "cell_type": "markdown",
   "metadata": {},
   "source": [
    "### commutative property\n",
    "The final result will not be affected by the order in which addition or multiplication takes place."
   ]
  },
  {
   "cell_type": "code",
   "execution_count": 3,
   "metadata": {},
   "outputs": [
    {
     "data": {
      "text/latex": [
       "$\\displaystyle \\text{True}$"
      ],
      "text/plain": [
       "True"
      ]
     },
     "execution_count": 3,
     "metadata": {},
     "output_type": "execute_result"
    }
   ],
   "source": [
    "Eq(a*b*c, c*b*a)"
   ]
  },
  {
   "cell_type": "markdown",
   "metadata": {},
   "source": [
    "Subtraction is not commutative."
   ]
  },
  {
   "cell_type": "code",
   "execution_count": 4,
   "metadata": {},
   "outputs": [
    {
     "data": {
      "text/plain": [
       "-2"
      ]
     },
     "metadata": {},
     "output_type": "display_data"
    },
    {
     "data": {
      "text/plain": [
       "0"
      ]
     },
     "metadata": {},
     "output_type": "display_data"
    },
    {
     "data": {
      "text/latex": [
       "$\\displaystyle \\text{False}$"
      ],
      "text/plain": [
       "False"
      ]
     },
     "execution_count": 4,
     "metadata": {},
     "output_type": "execute_result"
    }
   ],
   "source": [
    "display(2-1-3)\n",
    "display(3-2-1)\n",
    "Eq(2-1-3, 3-2-1)"
   ]
  },
  {
   "cell_type": "markdown",
   "metadata": {},
   "source": [
    "Division is not commutative.  "
   ]
  },
  {
   "cell_type": "code",
   "execution_count": 5,
   "metadata": {},
   "outputs": [
    {
     "data": {
      "text/latex": [
       "$\\displaystyle \\text{False}$"
      ],
      "text/plain": [
       "False"
      ]
     },
     "execution_count": 5,
     "metadata": {},
     "output_type": "execute_result"
    }
   ],
   "source": [
    "Eq(3/2, 2/3)"
   ]
  },
  {
   "cell_type": "markdown",
   "metadata": {},
   "source": [
    "### ASSOCIATIVE PROPERTIES\n",
    "The way three real numbers are added or multiplied does not affect the final result. "
   ]
  },
  {
   "cell_type": "code",
   "execution_count": 6,
   "metadata": {},
   "outputs": [
    {
     "data": {
      "text/latex": [
       "$\\displaystyle \\text{True}$"
      ],
      "text/plain": [
       "True"
      ]
     },
     "execution_count": 6,
     "metadata": {},
     "output_type": "execute_result"
    }
   ],
   "source": [
    "Eq((a+b)+c, a+b+c)"
   ]
  },
  {
   "cell_type": "code",
   "execution_count": 7,
   "metadata": {},
   "outputs": [
    {
     "data": {
      "text/latex": [
       "$\\displaystyle \\text{True}$"
      ],
      "text/plain": [
       "True"
      ]
     },
     "execution_count": 7,
     "metadata": {},
     "output_type": "execute_result"
    }
   ],
   "source": [
    "Eq(a+(b+c), (a+b)+c)"
   ]
  },
  {
   "cell_type": "code",
   "execution_count": 8,
   "metadata": {},
   "outputs": [
    {
     "data": {
      "text/latex": [
       "$\\displaystyle \\text{True}$"
      ],
      "text/plain": [
       "True"
      ]
     },
     "execution_count": 8,
     "metadata": {},
     "output_type": "execute_result"
    }
   ],
   "source": [
    "Eq(a*(b*c), (a*b)*c)"
   ]
  },
  {
   "cell_type": "code",
   "execution_count": 9,
   "metadata": {},
   "outputs": [
    {
     "data": {
      "text/latex": [
       "$\\displaystyle \\text{True}$"
      ],
      "text/plain": [
       "True"
      ]
     },
     "execution_count": 9,
     "metadata": {},
     "output_type": "execute_result"
    }
   ],
   "source": [
    "Eq((a*b)*c, a*b*c)"
   ]
  },
  {
   "cell_type": "markdown",
   "metadata": {},
   "source": [
    "Subtraction is not associative."
   ]
  },
  {
   "cell_type": "code",
   "execution_count": 10,
   "metadata": {},
   "outputs": [
    {
     "data": {
      "text/latex": [
       "$\\displaystyle \\text{False}$"
      ],
      "text/plain": [
       "False"
      ]
     },
     "execution_count": 10,
     "metadata": {},
     "output_type": "execute_result"
    }
   ],
   "source": [
    "Eq(2-(3+1), 2-3+1)"
   ]
  },
  {
   "cell_type": "markdown",
   "metadata": {},
   "source": [
    "Division is not associative."
   ]
  },
  {
   "cell_type": "code",
   "execution_count": 11,
   "metadata": {},
   "outputs": [
    {
     "data": {
      "text/latex": [
       "$\\displaystyle \\frac{1}{6}$"
      ],
      "text/plain": [
       "1/6"
      ]
     },
     "execution_count": 11,
     "metadata": {},
     "output_type": "execute_result"
    }
   ],
   "source": [
    "A = Rational(Rational(1, 2), 3)\n",
    "A"
   ]
  },
  {
   "cell_type": "code",
   "execution_count": 12,
   "metadata": {},
   "outputs": [
    {
     "data": {
      "text/latex": [
       "$\\displaystyle \\frac{3}{2}$"
      ],
      "text/plain": [
       "3/2"
      ]
     },
     "execution_count": 12,
     "metadata": {},
     "output_type": "execute_result"
    }
   ],
   "source": [
    "B = Rational(Rational(3, 2), 1)\n",
    "B"
   ]
  },
  {
   "cell_type": "code",
   "execution_count": 13,
   "metadata": {},
   "outputs": [
    {
     "data": {
      "text/latex": [
       "$\\displaystyle \\text{False}$"
      ],
      "text/plain": [
       "False"
      ]
     },
     "execution_count": 13,
     "metadata": {},
     "output_type": "execute_result"
    }
   ],
   "source": [
    "Eq(A, B)"
   ]
  },
  {
   "cell_type": "markdown",
   "metadata": {},
   "source": [
    "### The distributive property  \n",
    "Use to remove parenthesis.  \n",
    "$a(b+c)=ab+ac$"
   ]
  },
  {
   "cell_type": "code",
   "execution_count": 14,
   "metadata": {},
   "outputs": [
    {
     "data": {
      "text/latex": [
       "$\\displaystyle 4 x^{2} + 12 x$"
      ],
      "text/plain": [
       "4*x**2 + 12*x"
      ]
     },
     "execution_count": 14,
     "metadata": {},
     "output_type": "execute_result"
    }
   ],
   "source": [
    "expand((4*x * (x+3)))"
   ]
  },
  {
   "cell_type": "code",
   "execution_count": 15,
   "metadata": {},
   "outputs": [
    {
     "data": {
      "text/latex": [
       "$\\displaystyle x^{2} - x - 2$"
      ],
      "text/plain": [
       "x**2 - x - 2"
      ]
     },
     "execution_count": 15,
     "metadata": {},
     "output_type": "execute_result"
    }
   ],
   "source": [
    "expand((x-2)*(x+1))"
   ]
  },
  {
   "cell_type": "markdown",
   "metadata": {},
   "source": [
    "### IDENTITY PROPERTIES\n",
    "0 and 1 have unique properties known as the **identity properties**.  "
   ]
  },
  {
   "cell_type": "markdown",
   "metadata": {},
   "source": [
    "additive property"
   ]
  },
  {
   "cell_type": "code",
   "execution_count": 16,
   "metadata": {},
   "outputs": [
    {
     "data": {
      "text/latex": [
       "$\\displaystyle \\text{True}$"
      ],
      "text/plain": [
       "True"
      ]
     },
     "execution_count": 16,
     "metadata": {},
     "output_type": "execute_result"
    }
   ],
   "source": [
    "Eq(a+0, a)"
   ]
  },
  {
   "cell_type": "markdown",
   "metadata": {},
   "source": [
    "multiplicative property"
   ]
  },
  {
   "cell_type": "code",
   "execution_count": 17,
   "metadata": {},
   "outputs": [
    {
     "data": {
      "text/latex": [
       "$\\displaystyle \\text{True}$"
      ],
      "text/plain": [
       "True"
      ]
     },
     "execution_count": 17,
     "metadata": {},
     "output_type": "execute_result"
    }
   ],
   "source": [
    "Eq(1*a, a)"
   ]
  },
  {
   "cell_type": "markdown",
   "metadata": {},
   "source": [
    "additive inverse property"
   ]
  },
  {
   "cell_type": "code",
   "execution_count": 18,
   "metadata": {},
   "outputs": [
    {
     "data": {
      "text/latex": [
       "$\\displaystyle \\text{True}$"
      ],
      "text/plain": [
       "True"
      ]
     },
     "execution_count": 18,
     "metadata": {},
     "output_type": "execute_result"
    }
   ],
   "source": [
    "Eq(-a+a, 0)"
   ]
  },
  {
   "cell_type": "markdown",
   "metadata": {},
   "source": [
    "multiplicative inverse property  \n",
    "if $a \\neq 0$"
   ]
  },
  {
   "cell_type": "code",
   "execution_count": 19,
   "metadata": {},
   "outputs": [
    {
     "data": {
      "text/latex": [
       "$\\displaystyle \\text{True}$"
      ],
      "text/plain": [
       "True"
      ]
     },
     "execution_count": 19,
     "metadata": {},
     "output_type": "execute_result"
    }
   ],
   "source": [
    "Eq((1/a)*a, 1)"
   ]
  },
  {
   "cell_type": "markdown",
   "metadata": {},
   "source": [
    "Note: Division by 0 is not defined.  \n",
    "  \n",
    "$\\frac{2}{0}=x$ means to find $x$ such that $0\\cdot x = 2$.  \n",
    "But $0\\cdot x$ equals 0 for all $x$, so $x$ does not exist if $\\frac{2}{0} = x$.  \n",
    "### REDUCTION PROPERTIES\n",
    "$ac = bc$ implies $a = b$ if $c \\neq 0$.  \n",
    "  \n",
    "$\\frac{ac}{bc} = \\frac{a}{b}$ if $b \\neq 0$ and $c \\neq 0$."
   ]
  },
  {
   "cell_type": "code",
   "execution_count": 20,
   "metadata": {},
   "outputs": [
    {
     "data": {
      "text/plain": [
       "[3]"
      ]
     },
     "execution_count": 20,
     "metadata": {},
     "output_type": "execute_result"
    }
   ],
   "source": [
    "solve(Eq(2*x, 2*3), x)"
   ]
  },
  {
   "cell_type": "code",
   "execution_count": 21,
   "metadata": {},
   "outputs": [
    {
     "data": {
      "text/latex": [
       "$\\displaystyle \\frac{3}{2}$"
      ],
      "text/plain": [
       "3/2"
      ]
     },
     "execution_count": 21,
     "metadata": {},
     "output_type": "execute_result"
    }
   ],
   "source": [
    "Rational(3*6, 2*6)"
   ]
  },
  {
   "cell_type": "markdown",
   "metadata": {},
   "source": [
    "zero-product property  \n",
    "If $ab = 0$, then $a=0$, $b=0$ or both.  "
   ]
  },
  {
   "cell_type": "markdown",
   "metadata": {},
   "source": [
    "### least common multiple"
   ]
  },
  {
   "cell_type": "code",
   "execution_count": 22,
   "metadata": {},
   "outputs": [
    {
     "data": {
      "text/latex": [
       "$\\displaystyle 60$"
      ],
      "text/plain": [
       "60"
      ]
     },
     "execution_count": 22,
     "metadata": {},
     "output_type": "execute_result"
    }
   ],
   "source": [
    "lcm(12,15)"
   ]
  },
  {
   "cell_type": "markdown",
   "metadata": {},
   "source": [
    "# SETS"
   ]
  },
  {
   "cell_type": "markdown",
   "metadata": {},
   "source": [
    "### intersection  \n",
    "  \n",
    "$\\{1, 3, 5, 8\\} \\cap \\{3, 5, 7\\} = \\{3,5\\}$"
   ]
  },
  {
   "cell_type": "code",
   "execution_count": 23,
   "metadata": {},
   "outputs": [],
   "source": [
    "A = FiniteSet(1, 3, 5, 8)\n",
    "B = FiniteSet(3, 5, 7)"
   ]
  },
  {
   "cell_type": "code",
   "execution_count": 24,
   "metadata": {},
   "outputs": [
    {
     "data": {
      "text/latex": [
       "$\\displaystyle \\left\\{3, 5\\right\\}$"
      ],
      "text/plain": [
       "{3, 5}"
      ]
     },
     "execution_count": 24,
     "metadata": {},
     "output_type": "execute_result"
    }
   ],
   "source": [
    "A.intersection(B)"
   ]
  },
  {
   "cell_type": "markdown",
   "metadata": {},
   "source": [
    "### union\n",
    "$\\{1, 3, 5, 8\\} \\cup \\{3, 5, 7\\} = \\{1,3,5,7,8\\}$"
   ]
  },
  {
   "cell_type": "code",
   "execution_count": 25,
   "metadata": {},
   "outputs": [
    {
     "data": {
      "text/latex": [
       "$\\displaystyle \\left\\{1, 3, 5, 7, 8\\right\\}$"
      ],
      "text/plain": [
       "{1, 3, 5, 7, 8}"
      ]
     },
     "execution_count": 25,
     "metadata": {},
     "output_type": "execute_result"
    }
   ],
   "source": [
    "Union(A, B)"
   ]
  },
  {
   "cell_type": "markdown",
   "metadata": {},
   "source": [
    "### complements"
   ]
  },
  {
   "cell_type": "code",
   "execution_count": 26,
   "metadata": {},
   "outputs": [],
   "source": [
    "U = FiniteSet(*range(1, 10))\n",
    "A = FiniteSet(1, 3, 5, 7, 9)\n",
    "B = FiniteSet(2, 4, 6, 8)"
   ]
  },
  {
   "cell_type": "markdown",
   "metadata": {},
   "source": [
    "Find the complement of $A$  \n",
    "$A^\\complement = U - A = \\{2,4,6,8\\}$"
   ]
  },
  {
   "cell_type": "code",
   "execution_count": 27,
   "metadata": {},
   "outputs": [
    {
     "data": {
      "text/latex": [
       "$\\displaystyle \\left\\{2, 4, 6, 8\\right\\}$"
      ],
      "text/plain": [
       "{2, 4, 6, 8}"
      ]
     },
     "execution_count": 27,
     "metadata": {},
     "output_type": "execute_result"
    }
   ],
   "source": [
    "A.complement(U)"
   ]
  },
  {
   "cell_type": "code",
   "execution_count": 28,
   "metadata": {},
   "outputs": [
    {
     "data": {
      "text/plain": [
       "True"
      ]
     },
     "execution_count": 28,
     "metadata": {},
     "output_type": "execute_result"
    }
   ],
   "source": [
    "Union(A, A.complement(U)) == U"
   ]
  },
  {
   "cell_type": "code",
   "execution_count": 29,
   "metadata": {},
   "outputs": [
    {
     "data": {
      "text/latex": [
       "$\\displaystyle \\emptyset$"
      ],
      "text/plain": [
       "EmptySet"
      ]
     },
     "execution_count": 29,
     "metadata": {},
     "output_type": "execute_result"
    }
   ],
   "source": [
    "A.intersection(A.complement(U))"
   ]
  },
  {
   "cell_type": "markdown",
   "metadata": {},
   "source": [
    "## classifying set numbers"
   ]
  },
  {
   "cell_type": "code",
   "execution_count": 30,
   "metadata": {},
   "outputs": [
    {
     "data": {
      "text/plain": [
       "{-11, -pi, 0.333, 13/15, 1.001, 3.14, 4, 5, 11}"
      ]
     },
     "execution_count": 30,
     "metadata": {},
     "output_type": "execute_result"
    }
   ],
   "source": [
    "U = {1.001, .333, -pi, -11, 11, Rational(13,15), sqrt(16), 3.14, Rational(15,3)}\n",
    "U"
   ]
  },
  {
   "cell_type": "markdown",
   "metadata": {},
   "source": [
    "#### identify natural numbers"
   ]
  },
  {
   "cell_type": "code",
   "execution_count": 31,
   "metadata": {},
   "outputs": [
    {
     "data": {
      "text/plain": [
       "{11}"
      ]
     },
     "execution_count": 31,
     "metadata": {},
     "output_type": "execute_result"
    }
   ],
   "source": [
    "set([_ for _ in U if isinstance(_, int) and _ > 0])"
   ]
  },
  {
   "cell_type": "markdown",
   "metadata": {},
   "source": [
    "#### identify integers"
   ]
  },
  {
   "cell_type": "code",
   "execution_count": 32,
   "metadata": {},
   "outputs": [
    {
     "data": {
      "text/plain": [
       "{-11, 11}"
      ]
     },
     "execution_count": 32,
     "metadata": {},
     "output_type": "execute_result"
    }
   ],
   "source": [
    "set([_ for _ in U if isinstance(_, int)])"
   ]
  },
  {
   "cell_type": "markdown",
   "metadata": {},
   "source": [
    "#### identify rational numbers"
   ]
  },
  {
   "cell_type": "code",
   "execution_count": 33,
   "metadata": {},
   "outputs": [
    {
     "data": {
      "text/plain": [
       "{-11, 0.333, 13/15, 1.001, 3.14, 4, 5, 11}"
      ]
     },
     "execution_count": 33,
     "metadata": {},
     "output_type": "execute_result"
    }
   ],
   "source": [
    "set([_ for _ in U if nsimplify(_).is_rational or isinstance(_, float)])"
   ]
  },
  {
   "cell_type": "markdown",
   "metadata": {},
   "source": [
    "#### identify irrational numbers"
   ]
  },
  {
   "cell_type": "code",
   "execution_count": 34,
   "metadata": {},
   "outputs": [
    {
     "data": {
      "text/plain": [
       "{-pi}"
      ]
     },
     "execution_count": 34,
     "metadata": {},
     "output_type": "execute_result"
    }
   ],
   "source": [
    "set([_ for _ in U if nsimplify(_).is_irrational])"
   ]
  },
  {
   "cell_type": "markdown",
   "metadata": {},
   "source": [
    "#### identify real numbers"
   ]
  },
  {
   "cell_type": "code",
   "execution_count": 35,
   "metadata": {},
   "outputs": [
    {
     "data": {
      "text/plain": [
       "[-11, -pi, 0.333, 13/15, 1.001, 3.14, 4, 5, 11]"
      ]
     },
     "execution_count": 35,
     "metadata": {},
     "output_type": "execute_result"
    }
   ],
   "source": [
    "sorted([_ for _ in U if nsimplify(_).is_real])"
   ]
  },
  {
   "cell_type": "markdown",
   "metadata": {},
   "source": [
    "### decimal approximation"
   ]
  },
  {
   "cell_type": "code",
   "execution_count": 36,
   "metadata": {},
   "outputs": [
    {
     "ename": "NameError",
     "evalue": "name 'Decimal' is not defined",
     "output_type": "error",
     "traceback": [
      "\u001b[0;31m---------------------------------------------------------------------------\u001b[0m",
      "\u001b[0;31mNameError\u001b[0m                                 Traceback (most recent call last)",
      "\u001b[1;32m/workspaces/math_notebooks/math.ipynb Cell 65\u001b[0m line \u001b[0;36m1\n\u001b[0;32m----> <a href='vscode-notebook-cell://dev-container%2B7b22686f737450617468223a222f686f6d652f676572616c642f636f64652f6d6174685f6e6f7465626f6f6b73222c226c6f63616c446f636b6572223a66616c73652c22636f6e66696746696c65223a7b22246d6964223a312c22667350617468223a222f686f6d652f676572616c642f636f64652f6d6174685f6e6f7465626f6f6b732f2e646576636f6e7461696e65722f646576636f6e7461696e65722e6a736f6e222c2265787465726e616c223a2266696c653a2f2f2f686f6d652f676572616c642f636f64652f6d6174685f6e6f7465626f6f6b732f2e646576636f6e7461696e65722f646576636f6e7461696e65722e6a736f6e222c2270617468223a222f686f6d652f676572616c642f636f64652f6d6174685f6e6f7465626f6f6b732f2e646576636f6e7461696e65722f646576636f6e7461696e65722e6a736f6e222c22736368656d65223a2266696c65227d7d/workspaces/math_notebooks/math.ipynb#Y121sdnNjb2RlLXJlbW90ZQ%3D%3D?line=0'>1</a>\u001b[0m A \u001b[39m=\u001b[39m Decimal(\u001b[39m'\u001b[39m\u001b[39m3.14159\u001b[39m\u001b[39m'\u001b[39m)\n\u001b[1;32m      <a href='vscode-notebook-cell://dev-container%2B7b22686f737450617468223a222f686f6d652f676572616c642f636f64652f6d6174685f6e6f7465626f6f6b73222c226c6f63616c446f636b6572223a66616c73652c22636f6e66696746696c65223a7b22246d6964223a312c22667350617468223a222f686f6d652f676572616c642f636f64652f6d6174685f6e6f7465626f6f6b732f2e646576636f6e7461696e65722f646576636f6e7461696e65722e6a736f6e222c2265787465726e616c223a2266696c653a2f2f2f686f6d652f676572616c642f636f64652f6d6174685f6e6f7465626f6f6b732f2e646576636f6e7461696e65722f646576636f6e7461696e65722e6a736f6e222c2270617468223a222f686f6d652f676572616c642f636f64652f6d6174685f6e6f7465626f6f6b732f2e646576636f6e7461696e65722f646576636f6e7461696e65722e6a736f6e222c22736368656d65223a2266696c65227d7d/workspaces/math_notebooks/math.ipynb#Y121sdnNjb2RlLXJlbW90ZQ%3D%3D?line=1'>2</a>\u001b[0m B \u001b[39m=\u001b[39m Decimal(\u001b[39m'\u001b[39m\u001b[39m.056128\u001b[39m\u001b[39m'\u001b[39m)\n\u001b[1;32m      <a href='vscode-notebook-cell://dev-container%2B7b22686f737450617468223a222f686f6d652f676572616c642f636f64652f6d6174685f6e6f7465626f6f6b73222c226c6f63616c446f636b6572223a66616c73652c22636f6e66696746696c65223a7b22246d6964223a312c22667350617468223a222f686f6d652f676572616c642f636f64652f6d6174685f6e6f7465626f6f6b732f2e646576636f6e7461696e65722f646576636f6e7461696e65722e6a736f6e222c2265787465726e616c223a2266696c653a2f2f2f686f6d652f676572616c642f636f64652f6d6174685f6e6f7465626f6f6b732f2e646576636f6e7461696e65722f646576636f6e7461696e65722e6a736f6e222c2270617468223a222f686f6d652f676572616c642f636f64652f6d6174685f6e6f7465626f6f6b732f2e646576636f6e7461696e65722f646576636f6e7461696e65722e6a736f6e222c22736368656d65223a2266696c65227d7d/workspaces/math_notebooks/math.ipynb#Y121sdnNjb2RlLXJlbW90ZQ%3D%3D?line=2'>3</a>\u001b[0m C \u001b[39m=\u001b[39m Decimal(\u001b[39m'\u001b[39m\u001b[39m893.46125\u001b[39m\u001b[39m'\u001b[39m)\n",
      "\u001b[0;31mNameError\u001b[0m: name 'Decimal' is not defined"
     ]
    }
   ],
   "source": [
    "A = Decimal('3.14159')\n",
    "B = Decimal('.056128')\n",
    "C = Decimal('893.46125')\n",
    "\n",
    "for _ in [A, B, C]:\n",
    "    # round to 4 decimal places\n",
    "    display(N(_.quantize(Decimal('.0001'), rounding=ROUND_HALF_UP)))\n",
    "    #truncate to 4 decimal places\n",
    "    display(float(re.match(r'\\d+.\\d{4}', str(_)).group(0)))"
   ]
  },
  {
   "cell_type": "markdown",
   "metadata": {},
   "source": [
    "---"
   ]
  },
  {
   "cell_type": "code",
   "execution_count": null,
   "metadata": {},
   "outputs": [],
   "source": [
    "C = str(18.9526)"
   ]
  },
  {
   "cell_type": "markdown",
   "metadata": {},
   "source": [
    "### round to 3 decimal places"
   ]
  },
  {
   "cell_type": "code",
   "execution_count": null,
   "metadata": {},
   "outputs": [],
   "source": [
    "N(Context(prec=5, rounding=ROUND_HALF_UP).create_decimal(C))"
   ]
  },
  {
   "cell_type": "markdown",
   "metadata": {},
   "source": [
    "### truncate to 3 decimal places"
   ]
  },
  {
   "cell_type": "code",
   "execution_count": null,
   "metadata": {},
   "outputs": [],
   "source": [
    "N(re.match(r'\\d+.\\d{3}', C).group(0))"
   ]
  },
  {
   "cell_type": "markdown",
   "metadata": {},
   "source": [
    "---"
   ]
  },
  {
   "cell_type": "markdown",
   "metadata": {},
   "source": [
    "## INTERVALS\n",
    "$[a,b)$\n",
    "\n",
    "Brackets are used to denote a closed endpoint.  \n",
    "The endpoint $a$ is included in the set.  \n",
    "\n",
    "Parenthesis are used to denote an open endpoint.  \n",
    "The endpoint $b$ is a limit of the interval and not included in the set.  "
   ]
  },
  {
   "cell_type": "markdown",
   "metadata": {},
   "source": [
    "$A = [-2, \\infty)$  \n",
    "$B = (-\\infty, 4)$"
   ]
  },
  {
   "cell_type": "code",
   "execution_count": null,
   "metadata": {},
   "outputs": [],
   "source": [
    "A = Interval(-2, oo, left_open=False)\n",
    "B = Interval(-oo, 4, right_open=True)\n",
    "A.intersection(B)"
   ]
  },
  {
   "cell_type": "markdown",
   "metadata": {},
   "source": [
    "---"
   ]
  },
  {
   "cell_type": "markdown",
   "metadata": {},
   "source": [
    "### INEQUALITIES\n",
    "strict inequalities  \n",
    "$a \\lt b$ or $b \\gt a$    \n",
    "  \n",
    "nonstrict inequalities  \n",
    "$a \\le b$ or $a \\ge b$  \n",
    "  \n",
    "a is positive  \n",
    "a > 0  \n",
    "  \n",
    "a is negative  \n",
    "a < 0\n",
    "\n",
    "a is nonnegative  \n",
    "$a \\ge 0$  \n",
    "  \n",
    "If $a \\lt b$ and $b \\lt c$, then $a \\lt c$.  \n",
    "If $a \\lt b$, then $a+c \\lt b + c$.  \n",
    "If $a \\lt b$ and $c \\gt 0$, then $ca \\lt cb$.  \n",
    "If $a \\lt b$ and $c \\lt 0$, then $ca \\gt cb$.  "
   ]
  },
  {
   "cell_type": "markdown",
   "metadata": {},
   "source": [
    "### solve linear inequality\n",
    "$\\frac{x-4}{x+1} < 1$"
   ]
  },
  {
   "cell_type": "code",
   "execution_count": null,
   "metadata": {},
   "outputs": [],
   "source": [
    "inequality = (x-4)/(x+1) < 1\n",
    "solveset(f=inequality, symbol=x, domain=S.Reals)"
   ]
  },
  {
   "cell_type": "markdown",
   "metadata": {},
   "source": [
    "### solve quadratic inequality\n",
    "$x^2 + x - 6 > 0$"
   ]
  },
  {
   "cell_type": "code",
   "execution_count": null,
   "metadata": {},
   "outputs": [],
   "source": [
    "inequality = x**2 + x - 6 > 0\n",
    "solveset(inequality, symbol=x, domain=S.Reals)"
   ]
  },
  {
   "cell_type": "markdown",
   "metadata": {},
   "source": [
    "### solve inequality with absolute value\n",
    "$\\vert \\frac{x+2}{x-2}\\vert > 0$"
   ]
  },
  {
   "cell_type": "code",
   "execution_count": null,
   "metadata": {},
   "outputs": [],
   "source": [
    "inequality = abs((x+2)/(x-2)) > 0\n",
    "solveset(f=inequality, symbol=x, domain=S.Reals)"
   ]
  },
  {
   "cell_type": "markdown",
   "metadata": {},
   "source": [
    "### solving a two-sided inequality\n",
    "$0 < 3-x < 1$"
   ]
  },
  {
   "cell_type": "code",
   "execution_count": null,
   "metadata": {},
   "outputs": [],
   "source": [
    "A = solveset(f=0 < 3-x, symbol=x, domain=S.Reals)\n",
    "B = solveset(f=3-x <= 1, symbol=x, domain=S.Reals)\n",
    "A.intersection(B)"
   ]
  },
  {
   "cell_type": "markdown",
   "metadata": {},
   "source": [
    "### SPECIAL PRODUCTS\n",
    "#### sum and product of same terms\n",
    "$a^2-b^2=(a+b)(a-b)$\n",
    "#### perfect squares or squares of binomials\n",
    "$(a+b)^2=a^2+2ab+b^2$  \n",
    "$(a-b)^2=a^2-2ab+b^2$  \n",
    "\n",
    "#### cubes of binomials or perfect cubes\n",
    "$(a+b)^3=a^3+3a^2b+3ab^2+b^3$  \n",
    "$(a-b)^3=a^3-3a^2b+3ab^2-b^3$  \n",
    "  \n",
    "#### sum of two cubes\n",
    "$a^3+b^3=(a+b)(a^2-ab+b^2)$  \n",
    "#### difference of two cubes\n",
    "$a^3-b^3=(a-b)(a^2+ab+b^2)$  "
   ]
  },
  {
   "cell_type": "markdown",
   "metadata": {},
   "source": [
    "### factor integer\n",
    "$18335=5*19*193$"
   ]
  },
  {
   "cell_type": "code",
   "execution_count": null,
   "metadata": {},
   "outputs": [],
   "source": [
    "factorint(18335)"
   ]
  },
  {
   "cell_type": "markdown",
   "metadata": {},
   "source": [
    "### factor polynomial\n",
    "$3x^2 - 6x$"
   ]
  },
  {
   "cell_type": "code",
   "execution_count": null,
   "metadata": {},
   "outputs": [],
   "source": [
    "factor(3*x**2 - 6*x)"
   ]
  },
  {
   "cell_type": "markdown",
   "metadata": {},
   "source": [
    "### polynomial multiplication\n",
    "$(x + 1)(x^2 + 2x - 4)$"
   ]
  },
  {
   "cell_type": "code",
   "execution_count": null,
   "metadata": {},
   "outputs": [],
   "source": [
    "expand(((x + 1) * (x**2 + 2*x - 4)))"
   ]
  },
  {
   "cell_type": "markdown",
   "metadata": {},
   "source": [
    "### polynomial division\n",
    "$$\\frac{x^4 - 3x^3 + 2x - 5}{x^2 - x + 1} = \\frac{𝑥^2−2𝑥−3}{𝑥−2}$$"
   ]
  },
  {
   "cell_type": "code",
   "execution_count": null,
   "metadata": {},
   "outputs": [],
   "source": [
    "div((x**4 - 3*x**3 + 2*x -5), (x**2 - x + 1))"
   ]
  },
  {
   "cell_type": "markdown",
   "metadata": {},
   "source": [
    "### multiply polynomial in two variables\n",
    "$(x+y)(x^2 + xy + y)$"
   ]
  },
  {
   "cell_type": "code",
   "execution_count": null,
   "metadata": {},
   "outputs": [],
   "source": [
    "expand(((x+y)*(x**2 + x*y + y)))"
   ]
  },
  {
   "cell_type": "markdown",
   "metadata": {},
   "source": [
    "### QUADRATIC FORMULA\n",
    "If $ax^2 + bx + c = 0$, then  \n",
    "$$x = \\frac{-b \\pm \\sqrt{b^2 - 4ac}}{2a}$$"
   ]
  },
  {
   "cell_type": "markdown",
   "metadata": {},
   "source": [
    "### Convert a repeating decimal to a ratio of two integers:  \n",
    "$x=1.023232323...$  \n",
    "\\begin{align}\n",
    "1000x=1023.232323... \\\\\n",
    "10x=10.23232323... \\\\\n",
    "\\hline\n",
    "990x=1013.0\n",
    "\\end{align}\n",
    "  \n",
    "Thus $x=\\frac{1013}{990}$"
   ]
  },
  {
   "cell_type": "markdown",
   "metadata": {},
   "source": [
    "### graphing inequalities on the real number line"
   ]
  },
  {
   "cell_type": "markdown",
   "metadata": {},
   "source": [
    "Graph all numbers for which $x < 4$"
   ]
  },
  {
   "cell_type": "code",
   "execution_count": null,
   "metadata": {},
   "outputs": [],
   "source": [
    "fig, ax = plt.subplots(nrows=1)\n",
    "x_min = -2\n",
    "x_max = 5\n",
    "p = 4\n",
    "ax.set_ylim(-1, 1)\n",
    "ax.set_xlim(x_min - 0.4, x_max + 0.4)\n",
    "ax.set_xticks(range(x_min, x_max + 1))\n",
    "ax.set_yticks([])\n",
    "ax.tick_params(axis='x', direction='inout', length=10)\n",
    "ax.spines['bottom'].set_position('zero')\n",
    "ax.spines['bottom'].set_zorder(0)\n",
    "for dir in ['left', 'right', 'top']:\n",
    "    ax.spines[dir].set_visible(False)\n",
    "ax.plot([x_min - 0.4, p], [0, 0], color='red', lw=1)\n",
    "ax.plot([x_min - 0.2, x_min - 0.4, x_min - 0.2], [0.2, 0, -0.2], color='red', lw=1)\n",
    "ax.plot([x_max + 0.2, x_max + 0.4, x_max + 0.2], [0.2, 0, -0.2], color='black', lw=1)\n",
    "ax.plot(p, 0, linestyle='', marker='o', fillstyle='full', markerfacecolor='white', markeredgecolor='red',\n",
    "        markersize=5, lw=2, zorder=3)\n",
    "ax.set_aspect('equal')\n",
    "plt.show()"
   ]
  },
  {
   "cell_type": "markdown",
   "metadata": {},
   "source": [
    "Graph all numbers for which $x \\leq 7$"
   ]
  },
  {
   "cell_type": "code",
   "execution_count": null,
   "metadata": {},
   "outputs": [],
   "source": [
    "fig, ax = plt.subplots(nrows=1)\n",
    "x_min = -1\n",
    "x_max = 9\n",
    "p = 7\n",
    "ax.set_ylim(-1, 1)\n",
    "ax.set_xlim(x_min - 0.4, x_max + 0.4)\n",
    "ax.set_xticks(range(x_min, x_max + 1))\n",
    "ax.set_yticks([])\n",
    "ax.tick_params(axis='x', direction='inout', length=10)\n",
    "ax.spines['bottom'].set_position('zero')\n",
    "ax.spines['bottom'].set_zorder(0)\n",
    "for dir in ['left', 'right', 'top']:\n",
    "    ax.spines[dir].set_visible(False)\n",
    "ax.plot([x_min - 0.4, p], [0, 0], color='red', lw=1)\n",
    "ax.plot([x_min - 0.2, x_min - 0.4, x_min - 0.2], [0.2, 0, -0.2], color='red', lw=1)\n",
    "ax.plot([x_max + 0.2, x_max + 0.4, x_max + 0.2], [0.2, 0, -0.2], color='black', lw=1)\n",
    "ax.plot(p, 0, linestyle='', marker='o', fillstyle='full', markerfacecolor='red', markeredgecolor='red',\n",
    "        markersize=5, lw=2, zorder=3)\n",
    "ax.set_aspect('equal')\n",
    "plt.show()"
   ]
  },
  {
   "cell_type": "markdown",
   "metadata": {},
   "source": [
    "## absolute value\n",
    "The absolute value of real number _a_ is the distance from *a* to 0.  \n",
    "$\\vert a \\vert  = a$ if $a \\ge 0$ and $\\vert a \\vert = -a $ if $a \\lt 0$.  \n",
    "  \n",
    "If $a \\gt 0$, then  \n",
    "$\\vert x \\vert = a$ means $x = a$ or $x = -a$.  \n",
    "$\\vert x \\vert \\lt a$ means $-a \\lt x \\lt a$.  \n",
    "$\\vert x \\vert \\gt a$ means $x \\gt a$ or $x \\lt -a$.  \n",
    "\n",
    "If $a$ is any real number, then  \n",
    "$\\sqrt{a^2} = |a|$"
   ]
  },
  {
   "cell_type": "code",
   "execution_count": null,
   "metadata": {},
   "outputs": [],
   "source": [
    "abs(-10) == -(-10) == 10"
   ]
  },
  {
   "cell_type": "markdown",
   "metadata": {},
   "source": [
    "#### DEFINITION  \n",
    "<i>P</i> and <i>Q</i> are two points on a real number line with coordinates <i>a</i> and <i>b</i>.  \n",
    "  \n",
    "*d(P, Q)* denotes the distance between <i>P</i> and <i>Q</i>.   \n",
    "  \n",
    "The **distance between *P* and _Q_** is  \n",
    "  \n",
    "<table>\n",
    "  <tr>\n",
    "      <td><i>d(P, Q)</i> = |b - a|</td>\n",
    "  </tr>\n",
    "</table>  \n",
    "  \n",
    "Because |b - a| = |a - b|,  \n",
    "*d(P, Q)* = _d(Q, P)_.  \n"
   ]
  },
  {
   "cell_type": "markdown",
   "metadata": {},
   "source": [
    "If solving an equation returns the error below:  \n",
    "`NotImplementedError: solving Abs(x) when the argument is not real or imaginary.`  \n",
    "Define the symbol `x` as a real number as the example below."
   ]
  },
  {
   "cell_type": "code",
   "execution_count": null,
   "metadata": {},
   "outputs": [],
   "source": [
    "x = symbols('x', real=True)\n",
    "expression = abs(2*x) - 3\n",
    "display(expression)\n",
    "solve(expression)"
   ]
  },
  {
   "cell_type": "markdown",
   "metadata": {},
   "source": [
    "### Number line distance\n",
    "$P, Q$ and $R$ are points on a real number line."
   ]
  },
  {
   "cell_type": "code",
   "execution_count": null,
   "metadata": {},
   "outputs": [],
   "source": [
    "P = -5\n",
    "Q = 7\n",
    "R = -3"
   ]
  },
  {
   "cell_type": "code",
   "execution_count": null,
   "metadata": {},
   "outputs": [],
   "source": [
    "fig, ax = plt.subplots(nrows=1)\n",
    "x_min = -6\n",
    "x_max = 8\n",
    "ax.set_ylim(-1, 1)\n",
    "ax.set_xlim(x_min - 0.4, x_max + 0.4)\n",
    "ax.set_xticks(range(x_min, x_max + 1))\n",
    "ax.set_yticks([])\n",
    "ax.tick_params(axis='x', direction='inout', length=10)\n",
    "ax.spines['bottom'].set_position('zero')\n",
    "ax.spines['bottom'].set_zorder(0)\n",
    "for dir in ['left', 'right', 'top']:\n",
    "    ax.spines[dir].set_visible(False)\n",
    "ax.plot([x_min - 0.2, x_min - 0.4, x_min - 0.2], [0.2, 0, -0.2], color='black', lw=1)\n",
    "ax.plot([x_max + 0.2, x_max + 0.4, x_max + 0.2], [0.2, 0, -0.2], color='black', lw=1)\n",
    "\n",
    "# plot points and annotations\n",
    "ax.plot(P, 0, linestyle='', marker='o', fillstyle='full', markerfacecolor='red', markeredgecolor='red',\n",
    "        markersize=5, lw=2, zorder=3)\n",
    "plt.annotate(text='P', xy=(P, .5), size=20, color='red')\n",
    "\n",
    "ax.plot(Q, 0, linestyle='', marker='o', fillstyle='full', markerfacecolor='red', markeredgecolor='red',\n",
    "        markersize=5, lw=2, zorder=3)\n",
    "plt.annotate(text='Q', xy=(Q, .5), size=20, color='red')\n",
    "\n",
    "ax.plot(R, 0, linestyle='', marker='o', fillstyle='full', markerfacecolor='red', markeredgecolor='red',\n",
    "        markersize=5, lw=2, zorder=3)\n",
    "plt.annotate(text='R', xy=(R, .5), size=20, color='red')\n",
    "\n",
    "ax.set_aspect('equal')\n",
    "plt.show()"
   ]
  },
  {
   "cell_type": "markdown",
   "metadata": {},
   "source": [
    "Find the distance between P and Q."
   ]
  },
  {
   "cell_type": "code",
   "execution_count": null,
   "metadata": {},
   "outputs": [],
   "source": [
    "abs(P - Q)"
   ]
  },
  {
   "cell_type": "markdown",
   "metadata": {},
   "source": [
    "## linear equations\n",
    "### point slope form\n",
    "$y - y_1 = m(x - x_1)$  "
   ]
  },
  {
   "cell_type": "markdown",
   "metadata": {},
   "source": [
    "## variable domain\n",
    "The set of values a variable may assume.  \n",
    "  \n",
    "**EXAMPLES:**  \n",
    "Area A of a circle of radius $r$:  \n",
    "A = $\\pi r^2$  \n",
    "_r_ is restricted to positive real numbers.  \n",
    "  \n",
    "Allowable values for fraction denominator:  \n",
    "$\\frac{1}{x}$  \n",
    "$x \\neq 0$\n",
    "  \n",
    "### circle circumference  \n",
    "$C = 2\\pi r$  \n",
    "  \n",
    "Radius $r$ is the set of positive real numbers.  \n",
    "$C$ is the set of positive real numbers.  "
   ]
  },
  {
   "cell_type": "markdown",
   "metadata": {},
   "source": [
    "### exclude invalid variables from the domain"
   ]
  },
  {
   "cell_type": "code",
   "execution_count": null,
   "metadata": {},
   "outputs": [],
   "source": [
    "X_COORDS = {'a': 3, 'b': 1, 'c': 0, 'd': -1}"
   ]
  },
  {
   "cell_type": "code",
   "execution_count": null,
   "metadata": {},
   "outputs": [],
   "source": [
    "print('exclude from domain:')\n",
    "for key in X_COORDS:\n",
    "    X = X_COORDS[key]\n",
    "    try:\n",
    "        (X**2 - 1)/X\n",
    "    except ZeroDivisionError:\n",
    "        print(key)"
   ]
  },
  {
   "cell_type": "markdown",
   "metadata": {},
   "source": [
    "### definitions\n",
    "$a^0 = 1$ if $a \\ne 0$\n",
    "\n",
    "$a^{-n} = \\frac{1}{a^n}$ if $a \\neq 0$ and $n$ is a positive integer  \n",
    "  \n",
    "### exponent laws\n",
    "If $x \\neq 0$,  \n",
    "  \n",
    "&emsp;$x^mx^n=x^{m+n}$  \n",
    "  \n",
    "&emsp;$(x^m)^n=x^{mn}$  \n",
    "  \n",
    "&emsp;$(xy)^n=x^ny^n$  \n",
    "  \n",
    "&emsp;$\\frac{x^m}{x^n} = x^{m-n} = \\frac{1}{x^{n-m}}$ if $x \\ne 0$  \n",
    "  \n",
    "&emsp;$x^{-n} = \\frac{1}{x^n}$  \n",
    "  \n",
    "&emsp;$(\\frac{x}{y})^n = \\frac{x^n}{y^n}$ if $y \\ne 0$  \n",
    "  \n",
    "&emsp;$x^{\\frac{1}{n}} = \\sqrt[n]{x}$  \n",
    "  \n",
    "&emsp;$x^{\\frac{m}{n}} = \\sqrt[n]{x^m} = (\\sqrt[n]{x})^m$  \n",
    "  \n",
    "&emsp;$\\sqrt[n]{xy} = \\sqrt[n]{x} \\sqrt[n]{y}$  \n",
    "\n",
    "&emsp;$\\sqrt[m]{\\sqrt[n]{x}} = \\sqrt[n]{\\sqrt[m]{x}} = \\sqrt[mn]{x}$\n",
    "\n",
    "&emsp;$\\sqrt[n]{\\frac{x}{y}} = \\frac{\\sqrt[n]{x}}{\\sqrt[n]{y}}$  "
   ]
  },
  {
   "cell_type": "markdown",
   "metadata": {},
   "source": [
    "### evaluating expressions with negative exponents"
   ]
  },
  {
   "cell_type": "code",
   "execution_count": null,
   "metadata": {},
   "outputs": [],
   "source": [
    "Rational(2**(-3))"
   ]
  },
  {
   "cell_type": "code",
   "execution_count": null,
   "metadata": {},
   "outputs": [],
   "source": [
    "x**(-4)"
   ]
  },
  {
   "cell_type": "markdown",
   "metadata": {},
   "source": [
    "### square root evaluation\n",
    "$\\sqrt{a}$ means give me the nonnegative number whose square is $a$.  \n",
    "  \n",
    "The principle square root is nonnegative.  \n",
    "### definition\n",
    "Let $A$ be a nonnegative real number.  \n",
    "Let $B$ be a nonnegative number such that $B^2 = A$.  \n",
    "$B$ is the principle square root of $A$ and is denoted by $B = \\sqrt{A}$.  \n",
    "\n",
    "### comments\n",
    "Real negative numbers do not have square roots.  \n",
    "$0$ is the priciple square root of $0$.  \n",
    "Postive numbers have positive principle square roots.  "
   ]
  },
  {
   "cell_type": "markdown",
   "metadata": {},
   "source": [
    "Label real number line points with the following coordinates:  \n",
    "$-2.5, -1, 0, .25, \\frac{3}{4}, 1, \\frac{5}{2}$"
   ]
  },
  {
   "cell_type": "code",
   "execution_count": null,
   "metadata": {},
   "outputs": [],
   "source": [
    "fig, ax = plt.subplots(nrows=1)\n",
    "x_min = -3\n",
    "x_max = 3\n",
    "ax.set_ylim(-1, 1)\n",
    "ax.set_xlim(x_min - 0.4, x_max + 0.4)\n",
    "ax.set_xticks(range(x_min, x_max + 1))\n",
    "ax.set_yticks([])\n",
    "ax.tick_params(axis='x', direction='inout', length=10)\n",
    "ax.spines['bottom'].set_position('zero')\n",
    "ax.spines['bottom'].set_zorder(0)\n",
    "for dir in ['left', 'right', 'top']:\n",
    "    ax.spines[dir].set_visible(False)\n",
    "ax.plot([x_min - 0.2, x_min - 0.4, x_min - 0.2], [0.2, 0, -0.2], color='black', lw=1)\n",
    "ax.plot([x_max + 0.2, x_max + 0.4, x_max + 0.2], [0.2, 0, -0.2], color='black', lw=1)\n",
    "\n",
    "for point in [-2.5, -1, 0, .25, Rational(3,4), 1, Rational(5,2)]:\n",
    "    ax.plot(point, 0, linestyle='', marker='o', fillstyle='full', markerfacecolor='red', markeredgecolor='red',\n",
    "            markersize=5, lw=2, zorder=3)\n",
    "    \n",
    "plt.annotate(text=-2.5, xy=(-2.5, .15), size=10, color='red')\n",
    "plt.annotate(text=-1, xy=(-1, .15), size=10, color='red')\n",
    "plt.annotate(text=0, xy=(0, .15), size=10, color='red')\n",
    "plt.annotate(text=.25, xy=(.2, -.28), size=10, color='red')\n",
    "plt.annotate(text=Rational(3,4), xy=(.5, .15), size=10, color='red')\n",
    "plt.annotate(text=1, xy=(1, .15), size=10, color='red')\n",
    "plt.annotate(text=Rational(5,2), xy=(5/2, .15), size=10, color='red')\n",
    "\n",
    "ax.set_aspect('equal')\n",
    "plt.show()"
   ]
  },
  {
   "cell_type": "markdown",
   "metadata": {},
   "source": [
    "### expression evaluation\n",
    "*x, y, a, b* and _c_ represent numbers.  \n",
    "A **variable** is a letter used to represent any number in a set.  \n",
    "A **constant** is a fixed number or a letter that represents a fixed number.  "
   ]
  },
  {
   "cell_type": "markdown",
   "metadata": {},
   "source": [
    "---\n",
    "## Exponents"
   ]
  },
  {
   "cell_type": "markdown",
   "metadata": {},
   "source": [
    "Simplify $\\sqrt[3]\\frac{-1}{64}$\n"
   ]
  },
  {
   "cell_type": "code",
   "execution_count": null,
   "metadata": {},
   "outputs": [],
   "source": [
    "real_root(Rational(-1,64), 3)"
   ]
  },
  {
   "cell_type": "markdown",
   "metadata": {},
   "source": [
    "  "
   ]
  },
  {
   "cell_type": "markdown",
   "metadata": {},
   "source": [
    "simplify $(2x^\\frac{3}{2})(4x^\\frac{-1}{2})$  "
   ]
  },
  {
   "cell_type": "code",
   "execution_count": null,
   "metadata": {},
   "outputs": [],
   "source": [
    "2*x**Rational(3,2) * 4*x**Rational(-1,2)"
   ]
  },
  {
   "cell_type": "markdown",
   "metadata": {},
   "source": [
    "use `powdenest(expression, force=True)` to simplify exponents\n",
    "\n",
    "$(8x^6)^\\frac{-2}{3}$"
   ]
  },
  {
   "cell_type": "code",
   "execution_count": null,
   "metadata": {},
   "outputs": [],
   "source": [
    "powdenest((8*x**6)**Rational(-2,3), force=True)"
   ]
  },
  {
   "cell_type": "markdown",
   "metadata": {},
   "source": [
    "---"
   ]
  },
  {
   "cell_type": "code",
   "execution_count": null,
   "metadata": {},
   "outputs": [],
   "source": [
    "2*x**Rational(3,2) * 4*x**Rational(-1,2)"
   ]
  },
  {
   "cell_type": "markdown",
   "metadata": {},
   "source": [
    "---\n",
    "use `limit_denominator(10**12)` for rationals with negative exponents  \n",
    "$\\frac{3^{-2}}{1}$"
   ]
  },
  {
   "cell_type": "code",
   "execution_count": null,
   "metadata": {},
   "outputs": [],
   "source": [
    "Rational(3**-2, 1).limit_denominator(10**12)"
   ]
  },
  {
   "cell_type": "markdown",
   "metadata": {},
   "source": [
    "---"
   ]
  },
  {
   "cell_type": "markdown",
   "metadata": {},
   "source": [
    "### scientific notation"
   ]
  },
  {
   "cell_type": "code",
   "execution_count": null,
   "metadata": {},
   "outputs": [],
   "source": [
    "f\"{.0007029:.3E}\""
   ]
  },
  {
   "cell_type": "code",
   "execution_count": null,
   "metadata": {},
   "outputs": [],
   "source": [
    "A = (.00046*Float('1.697e22'))/Float('2.91e-18')\n",
    "Float(str(A), 2)"
   ]
  },
  {
   "cell_type": "markdown",
   "metadata": {},
   "source": [
    "suppress scientific notation"
   ]
  },
  {
   "cell_type": "code",
   "execution_count": null,
   "metadata": {},
   "outputs": [],
   "source": [
    "f\"{6.257 * 10**-10:.13f}\""
   ]
  },
  {
   "cell_type": "markdown",
   "metadata": {},
   "source": [
    "---\n",
    "Solve equation where one side is equal to the expression, and the other side is equal to 0."
   ]
  },
  {
   "cell_type": "code",
   "execution_count": null,
   "metadata": {},
   "outputs": [],
   "source": [
    "expression = x**2 - (x+3)**Rational(1,2) \n",
    "solve(expression)"
   ]
  },
  {
   "cell_type": "markdown",
   "metadata": {},
   "source": [
    "return approximate solutions"
   ]
  },
  {
   "cell_type": "code",
   "execution_count": null,
   "metadata": {},
   "outputs": [],
   "source": [
    "[N(_) for _ in solve(expression)]"
   ]
  },
  {
   "cell_type": "markdown",
   "metadata": {},
   "source": [
    "---"
   ]
  },
  {
   "cell_type": "markdown",
   "metadata": {},
   "source": [
    "solve equation and only return real roots\n",
    "\n",
    "The following approach is also valid  \n",
    "`x = Symbol('x', real=True)\n",
    "solve(..., x)`"
   ]
  },
  {
   "cell_type": "code",
   "execution_count": null,
   "metadata": {},
   "outputs": [],
   "source": [
    "[N(num) for num in real_roots(x**3 + 2*x - 1, x)]"
   ]
  },
  {
   "cell_type": "markdown",
   "metadata": {},
   "source": [
    "---\n",
    "# Graphing examples"
   ]
  },
  {
   "cell_type": "markdown",
   "metadata": {},
   "source": [
    "graph single function"
   ]
  },
  {
   "cell_type": "code",
   "execution_count": null,
   "metadata": {},
   "outputs": [],
   "source": [
    "x_coords = np.linspace(-3, 4, num=1000) # endpoint=False\n",
    "y_coords = [x_coord**2 - (x_coord+3)**.5 for x_coord in x_coords]\n",
    "\n",
    "plt.plot(x_coords, y_coords)\n",
    "\n",
    "y_max = 5\n",
    "plt.axis(ymin=-y_max, ymax=y_max)\n",
    "#plt.axis('equal')\n",
    "plt.grid()\n",
    "plt.xlabel('$x$')\n",
    "plt.ylabel('$y$')\n",
    "plt.axhline(0, color='black', lw=2)\n",
    "_=plt.axvline(0, color='black', lw=2)"
   ]
  },
  {
   "cell_type": "markdown",
   "metadata": {},
   "source": [
    "graph two functions"
   ]
  },
  {
   "cell_type": "code",
   "execution_count": null,
   "metadata": {},
   "outputs": [],
   "source": [
    "x_max = 5\n",
    "x_coords = np.linspace(-x_max, x_max, 1000)\n",
    "y_coords = [x_coord**2 - x_coord - 5 for x_coord in x_coords]\n",
    "y_coords2 = [x_coord+3 for x_coord in x_coords]\n",
    "\n",
    "plt.plot(x_coords, y_coords)\n",
    "plt.plot(x_coords, y_coords2, color='red')\n",
    "\n",
    "y_max = 10\n",
    "plt.axis(ymin=-y_max, ymax=y_max)\n",
    "#plt.axis('equal')\n",
    "plt.grid()\n",
    "plt.xlabel('$x$')\n",
    "plt.ylabel('$y$')\n",
    "plt.axhline(0, color='black', lw=2)\n",
    "_=plt.axvline(0, color='black', lw=2)"
   ]
  },
  {
   "cell_type": "markdown",
   "metadata": {},
   "source": [
    "find points of intersection for two functions graphed above"
   ]
  },
  {
   "cell_type": "code",
   "execution_count": null,
   "metadata": {
    "scrolled": true
   },
   "outputs": [],
   "source": [
    "solve((Eq(x**2 - x - 5 - y, 0), Eq(x + 3 - y, 0)), (x, y))"
   ]
  },
  {
   "cell_type": "markdown",
   "metadata": {},
   "source": [
    "#### remove element by value from numpy array"
   ]
  },
  {
   "cell_type": "code",
   "execution_count": null,
   "metadata": {},
   "outputs": [],
   "source": [
    "x_coords = np.linspace(0, 1, 10)\n",
    "print(f'original length: {len(x_coords)}')\n",
    "print(f'elements: {x_coords}')\n",
    "\n",
    "x_coords = x_coords[x_coords != 0]\n",
    "print(f'length after removing element with value 0: {len(x_coords)}')"
   ]
  },
  {
   "cell_type": "markdown",
   "metadata": {},
   "source": [
    "#### limit domain example\n",
    "Remove values from numpy linspace array where  \n",
    "$-1 < x < 1$"
   ]
  },
  {
   "cell_type": "code",
   "execution_count": null,
   "metadata": {},
   "outputs": [],
   "source": [
    "x_coords = np.linspace(-20, 20, num=10000) # , endpoint=False\n",
    "x_coords_gt_1 = x_coords[x_coords > 1]\n",
    "x_coords_lt_n1 = x_coords[x_coords < -1]\n",
    "domain = np.concatenate((x_coords_gt_1, x_coords_lt_n1), axis=0)\n",
    "y_coords = [(x_coord**2 - 1)**(2/3) for x_coord in domain]\n",
    "plt.plot(domain, y_coords)\n",
    "\n",
    "plt.axis(ymin=-2, ymax=30) # ymin=-1500, ymax=30, 'equal'\n",
    "plt.grid()\n",
    "plt.xlabel('$x$')\n",
    "plt.ylabel('$y$')\n",
    "plt.axhline(0, color='black', lw=2)\n",
    "_=plt.axvline(0, color='black', lw=2)"
   ]
  },
  {
   "cell_type": "markdown",
   "metadata": {},
   "source": [
    "labels and title example"
   ]
  },
  {
   "cell_type": "code",
   "execution_count": null,
   "metadata": {},
   "outputs": [],
   "source": [
    "x_coords = np.linspace(0, 2, 100)\n",
    "\n",
    "plt.plot(x_coords, x_coords, label='linear')\n",
    "plt.plot(x_coords, x_coords**2, label='quadratic')\n",
    "plt.plot(x_coords, x_coords**3, label='cubic')\n",
    "\n",
    "plt.xlabel('x label')\n",
    "plt.ylabel('y label')\n",
    "\n",
    "plt.title(\"Simple Plot\")\n",
    "\n",
    "plt.legend()\n",
    "\n",
    "plt.show()"
   ]
  },
  {
   "cell_type": "markdown",
   "metadata": {},
   "source": [
    "---"
   ]
  },
  {
   "cell_type": "code",
   "execution_count": null,
   "metadata": {},
   "outputs": [],
   "source": [
    "solveset(x**2 - x - 1 > 0, x, domain=S.Reals)"
   ]
  },
  {
   "cell_type": "markdown",
   "metadata": {},
   "source": [
    "---\n",
    "### Find function minimum within a restricted domain"
   ]
  },
  {
   "cell_type": "code",
   "execution_count": null,
   "metadata": {},
   "outputs": [],
   "source": [
    "x_coords = np.linspace(-5, 5, 10000) # increased x_coords size from 1k to 10k to get better approximation\n",
    "y_coords = [x_coord**4 + 2*x_coord - 1 for x_coord in x_coords]\n",
    "\n",
    "plt.plot(x_coords, y_coords)\n",
    "\n",
    "plt.axis(ymin=-10, ymax=10) # ymin=-1500, ymax=30, 'equal'\n",
    "plt.grid()\n",
    "plt.xlabel('$x$')\n",
    "plt.ylabel('$y$')\n",
    "plt.axhline(0, color='black', lw=2)\n",
    "_=plt.axvline(0, color='black', lw=2)"
   ]
  },
  {
   "cell_type": "code",
   "execution_count": null,
   "metadata": {},
   "outputs": [],
   "source": [
    "x_coords = np.linspace(-5, 5, 10000)\n",
    "y_coords = [x_coord**4 + 2*x_coord - 1 for x_coord in x_coords]\n",
    "\n",
    "# find y min\n",
    "y_min = min(y_coords)\n",
    "\n",
    "# find x min\n",
    "list_index = y_coords.index(y_min)\n",
    "x_min = x_coords[list_index]\n",
    "\n",
    "print(f'({x_min:.3f}, {y_min:.3f})')"
   ]
  },
  {
   "cell_type": "markdown",
   "metadata": {},
   "source": [
    "---\n",
    "### Find function maximum within a restricted domain"
   ]
  },
  {
   "cell_type": "code",
   "execution_count": null,
   "metadata": {},
   "outputs": [],
   "source": [
    "x_coords = np.linspace(-5, 5, 10000)\n",
    "y_coords = [x_coord**4 - 6*x_coord**2 + 3 for x_coord in x_coords]\n",
    "\n",
    "plt.plot(x_coords, y_coords)\n",
    "\n",
    "plt.axis(ymin=-10, ymax=10) # ymin=-1500, ymax=30, 'equal'\n",
    "plt.grid()\n",
    "plt.xlabel('$x$')\n",
    "plt.ylabel('$y$')\n",
    "plt.axhline(0, color='black', lw=2)\n",
    "_=plt.axvline(0, color='black', lw=2)"
   ]
  },
  {
   "cell_type": "code",
   "execution_count": null,
   "metadata": {},
   "outputs": [],
   "source": [
    "x_coords = np.linspace(-1, 1, 10000)\n",
    "y_coords = [x_coord**4 - 6*x_coord**2 + 3 for x_coord in x_coords]\n",
    "\n",
    "# find y max\n",
    "y_max = max(y_coords)\n",
    "\n",
    "# find x max\n",
    "list_index = y_coords.index(y_max)\n",
    "x_max = x_coords[list_index]\n",
    "\n",
    "print(f'({x_max:.3f}, {y_max:.3f})')"
   ]
  },
  {
   "cell_type": "markdown",
   "metadata": {},
   "source": [
    "---\n",
    "### Find x and y intercepts of function graphed below\n",
    "$f(x) = x^3 + x^2 - 4^x - 4$"
   ]
  },
  {
   "cell_type": "code",
   "execution_count": null,
   "metadata": {},
   "outputs": [],
   "source": [
    "x_coords = np.linspace(-3, 4, 1000)\n",
    "y_coords = [x_coord**3 + x_coord**2 - 4*x_coord - 4 for x_coord in x_coords]\n",
    "\n",
    "plt.plot(x_coords, y_coords)\n",
    "\n",
    "plt.axis(ymin=-10, ymax=10)\n",
    "plt.grid()\n",
    "plt.xlabel('$x$')\n",
    "plt.ylabel('$y$')\n",
    "plt.axhline(0, color='black', lw=2)\n",
    "_=plt.axvline(0, color='black', lw=2)"
   ]
  },
  {
   "cell_type": "markdown",
   "metadata": {},
   "source": [
    "find x-intercepts"
   ]
  },
  {
   "cell_type": "code",
   "execution_count": null,
   "metadata": {},
   "outputs": [],
   "source": [
    "solve(x**3 + x**2 - 4*x - 4)"
   ]
  },
  {
   "cell_type": "markdown",
   "metadata": {},
   "source": [
    "find y-intercept"
   ]
  },
  {
   "cell_type": "code",
   "execution_count": null,
   "metadata": {},
   "outputs": [],
   "source": [
    "(x**3 + x**2 - 4*x - 4).subs(x,0)"
   ]
  },
  {
   "cell_type": "markdown",
   "metadata": {},
   "source": [
    "### graph trigonometric function with xticks in radians"
   ]
  },
  {
   "cell_type": "code",
   "execution_count": null,
   "metadata": {},
   "outputs": [],
   "source": [
    "x_max = 2*np.pi\n",
    "x_min = -x_max\n",
    "\n",
    "x_coords = np.linspace(x_min, x_max, num=1000) # , endpoint=False\n",
    "y_coords = [cot(x_coord) for x_coord in x_coords]\n",
    "plt.plot(x_coords, y_coords)\n",
    "\n",
    "plt.xticks([(np.pi*_)/2 for _ in range(-4, 5)],\n",
    "           ['$-2\\pi$',r'$-\\frac{3\\pi}{2}$','$-\\pi$',r'$-\\frac{\\pi}{2}$',0,\n",
    "            r'$\\frac{\\pi}{2}$','$\\pi$', r'$\\frac{3\\pi}{2}$', r'$2\\pi$'])\n",
    "plt.axis(ymin=-5, ymax=5) # ymin=-1500, ymax=30, 'equal'\n",
    "plt.grid()\n",
    "plt.xlabel('$x$')\n",
    "plt.ylabel('$y$')\n",
    "plt.axhline(0, color='black', lw=2)\n",
    "_=plt.axvline(0, color='black', lw=2)"
   ]
  },
  {
   "cell_type": "markdown",
   "metadata": {},
   "source": [
    "### graph trigonometric function with xticks as floats\n",
    "Useful for periodic function with period other than $2\\pi$"
   ]
  },
  {
   "cell_type": "code",
   "execution_count": null,
   "metadata": {},
   "outputs": [],
   "source": [
    "x_max = np.pi/3\n",
    "x_min = -x_max\n",
    "\n",
    "x_coords = np.linspace(x_min, x_max, num=1000) # , endpoint=False\n",
    "y_coords = [sec(3*x_coord) for x_coord in x_coords]\n",
    "PI = np.pi\n",
    "plt.plot(x_coords, y_coords)\n",
    "\n",
    "plt.xticks(np.arange(-PI/3, PI/3, step=PI/6))\n",
    "plt.axis(ymin=-2, ymax=2) # ymin=-1500, ymax=30, 'equal'\n",
    "plt.grid()\n",
    "plt.xlabel('$x$')\n",
    "plt.ylabel('$y$')\n",
    "plt.axhline(0, color='black', lw=2)\n",
    "_=plt.axvline(0, color='black', lw=2)"
   ]
  },
  {
   "cell_type": "markdown",
   "metadata": {},
   "source": [
    "### automatically generate radian xticks"
   ]
  },
  {
   "cell_type": "code",
   "execution_count": null,
   "metadata": {},
   "outputs": [],
   "source": [
    "_ = plt.xticks([(np.pi*_)/2 for _ in range(-4, 5)],\n",
    "               ['$-2\\pi$',r'$-\\frac{3\\pi}{2}$','$-\\pi$',r'$-\\frac{\\pi}{2}$',0,\n",
    "                r'$\\frac{\\pi}{2}$','$\\pi$', r'$\\frac{3\\pi}{2}$', r'$2\\pi$'])"
   ]
  },
  {
   "cell_type": "markdown",
   "metadata": {},
   "source": [
    "---"
   ]
  },
  {
   "cell_type": "markdown",
   "metadata": {},
   "source": [
    "## Find intersections of two equations where one equation has trigonometric function\n",
    "$y = 2 cos(x)$  \n",
    "$y = 2 - x$\n",
    "\n",
    "First, graph the two functions to find approximate intersections visually.  \n",
    "Then use nsolve to find precise solutions."
   ]
  },
  {
   "cell_type": "code",
   "execution_count": null,
   "metadata": {},
   "outputs": [],
   "source": [
    "x_min = -3\n",
    "x_max = 6\n",
    "\n",
    "x_coords = np.linspace(x_min, x_max, 1000)\n",
    "y_coords = [2*cos(x_coord) for x_coord in x_coords]\n",
    "y_coords2 = [2 - x_coord for x_coord in x_coords]\n",
    "\n",
    "plt.plot(x_coords, y_coords)\n",
    "plt.plot(x_coords, y_coords2)\n",
    "\n",
    "plt.grid()\n",
    "plt.xlabel('$x$')\n",
    "plt.ylabel('$y$')\n",
    "plt.axhline(0, color='black', lw=2)\n",
    "plt.ylim(-6,6)\n",
    "plt.xlim(x_min, x_max)\n",
    "_=plt.axvline(0, color='black', lw=2)"
   ]
  },
  {
   "cell_type": "code",
   "execution_count": null,
   "metadata": {},
   "outputs": [],
   "source": [
    "f1 = 2*cos(x)\n",
    "f2 = 2 - x\n",
    "\n",
    "[nsolve(f1 - f2, x_coord) for x_coord in [0, 1, 3.5]]"
   ]
  },
  {
   "cell_type": "markdown",
   "metadata": {},
   "source": [
    "## Graph inequality\n",
    "Graph $sin(x)$ > $cos(x)$"
   ]
  },
  {
   "cell_type": "code",
   "execution_count": null,
   "metadata": {},
   "outputs": [],
   "source": [
    "x_coords = np.linspace(0, np.pi*4, 1000)\n",
    "y_coords_sin = [sin(x_coord) for x_coord in x_coords]\n",
    "y_coords_cos = [cos(x_coord) for x_coord in x_coords]\n",
    "\n",
    "plt.plot(x_coords, y_coords_sin)\n",
    "plt.plot(x_coords, y_coords_cos)\n",
    "\n",
    "plt.axis(ymin=-3, ymax=3)\n",
    "plt.grid()\n",
    "plt.xlabel('$x$')\n",
    "plt.ylabel('$y$')\n",
    "plt.axhline(0, color='black', lw=2)\n",
    "_=plt.axvline(0, color='black', lw=2)\n",
    "\n",
    "x_coords = np.array(x_coords, dtype=float)\n",
    "y_coords_sin = np.array(y_coords_sin, dtype=float)\n",
    "y_coords_cos = np.array(y_coords_cos, dtype=float)\n",
    "plt.fill_between(x_coords, y_coords_sin, y_coords_cos, where=y_coords_sin>y_coords_cos, interpolate=True);"
   ]
  },
  {
   "cell_type": "markdown",
   "metadata": {},
   "source": [
    "### Shade area below curve"
   ]
  },
  {
   "cell_type": "code",
   "execution_count": null,
   "metadata": {},
   "outputs": [],
   "source": [
    "%matplotlib notebook\n",
    "\n",
    "x_max = 1\n",
    "_x = np.linspace(-1, 1, 1000)\n",
    "_y = [sqrt(1-_**2) for _ in _x]\n",
    "_y = np.array(_y, dtype=float)\n",
    "_x_axis = [0 for _ in _x]\n",
    "fig = plt.figure()\n",
    "ax = fig.add_subplot(1, 1, 1)\n",
    "plt.axvline(x=0, c=\"gray\")\n",
    "plt.axhline(y=0, c=\"gray\")\n",
    "\n",
    "ax.plot(_x, _y, 'red')\n",
    "ax.add_patch(Rectangle(xy=(-1, 0), width=.5, height=sqrt(1-(.75)**2), fill=False, edgecolor='blue', lw=2))\n",
    "ax.add_patch(Rectangle(xy=(-.5, 0), width=.5, height=sqrt(1-(.25)**2), fill=False, edgecolor='blue', lw=2))\n",
    "ax.add_patch(Rectangle(xy=(0, 0), width=.5, height=sqrt(1-(.25)**2), fill=False, edgecolor='blue', lw=2))\n",
    "ax.add_patch(Rectangle(xy=(.5, 0), width=.5, height=sqrt(1-(.75)**2), fill=False, edgecolor='blue', lw=2))\n",
    "\n",
    "# shade region below curve\n",
    "plt.fill_between(x=_x, y1=_y, y2=_x_axis, where=_y>_x_axis, interpolate=True, color='yellow');\n",
    "\n",
    "y_max = 1.25\n",
    "plt.ylim(-0,y_max)\n",
    "plt.grid()"
   ]
  },
  {
   "cell_type": "markdown",
   "metadata": {},
   "source": [
    "### draw rectangle"
   ]
  },
  {
   "cell_type": "code",
   "execution_count": null,
   "metadata": {},
   "outputs": [],
   "source": [
    "%matplotlib notebook\n",
    "\n",
    "fig = plt.figure()\n",
    "ax = fig.add_subplot(1, 1, 1)\n",
    "\n",
    "ax.add_patch(Rectangle(xy=(1, 0), width=.5, height=.9, fill=False, edgecolor='blue', lw=2))\n",
    "\n",
    "plt.axvline(x=0, c=\"gray\")\n",
    "plt.axhline(y=0, c=\"gray\")\n",
    "y_max = 1.25\n",
    "plt.ylim(-0,y_max)\n",
    "plt.xlim(0,2)\n",
    "plt.grid()"
   ]
  },
  {
   "cell_type": "markdown",
   "metadata": {},
   "source": [
    "### add variable with subscript"
   ]
  },
  {
   "cell_type": "code",
   "execution_count": null,
   "metadata": {},
   "outputs": [],
   "source": [
    "r_1 = symbols('r_1')\n",
    "r_1"
   ]
  },
  {
   "cell_type": "markdown",
   "metadata": {},
   "source": [
    "### rationalize denominator\n",
    "This does not work if the denominator has a symbol.\n",
    "`simplify` and `radsimp` can also be used to rationalize a denominator.  \n",
    "$\\sqrt{\\frac{x}{3}}$ "
   ]
  },
  {
   "cell_type": "code",
   "execution_count": null,
   "metadata": {},
   "outputs": [],
   "source": [
    "nsimplify(sqrt(x/3))"
   ]
  },
  {
   "cell_type": "markdown",
   "metadata": {},
   "source": [
    "## Rounding\n",
    "Round to three decimal places"
   ]
  },
  {
   "cell_type": "code",
   "execution_count": null,
   "metadata": {},
   "outputs": [],
   "source": [
    "round(8.2**6, 3)"
   ]
  },
  {
   "cell_type": "markdown",
   "metadata": {},
   "source": [
    "## Formatting\n",
    "Add comma every three digits"
   ]
  },
  {
   "cell_type": "code",
   "execution_count": null,
   "metadata": {},
   "outputs": [],
   "source": [
    "f'{int(1.1 * 10**8):,}'"
   ]
  },
  {
   "cell_type": "markdown",
   "metadata": {},
   "source": [
    "## GEOMETRIC FORMULAS\n",
    "Formulas for area $A$, permimeter $P$, circumference $C$, volume $V$, surface area $S$:  \n",
    "  \n",
    "**Rectangle**  \n",
    "$A = lw$  \n",
    "$P = 2l + 2w$  \n",
    "    \n",
    "**Box**  \n",
    "$V = lwh$    \n",
    "$S = 2lw + 2lh + 2hw$  \n",
    "  \n",
    "**Triangle**  \n",
    "$A = \\frac{1}{2}bh$  \n",
    "  \n",
    "Heron's Formula: find area of triangle if length of three sides is known  \n",
    "$A = \\sqrt{s(s-a)(s-b)(s-c)}$  \n",
    "where $s = \\frac{a+b+c}{2}$\n",
    "  \n",
    "**Pyramid**  \n",
    "$V = \\frac{1}{3}ha^2$  \n",
    "  \n",
    "**Circle**  \n",
    "$A = \\pi r^2$  \n",
    "$C = 2\\pi r$  \n",
    "\n",
    "**Sphere**  \n",
    "$V = \\frac{4}{3}\\pi r^3$  \n",
    "$A = 4\\pi r^2$  \n",
    "  \n",
    "**Cylinder**  \n",
    "$V = \\pi r^2h$  \n",
    "$S = 2\\pi r(h+r)$  \n",
    "  \n",
    "**Cone**  \n",
    "$V = \\frac{1}{3}\\pi r^2h$  \n",
    "  \n"
   ]
  },
  {
   "cell_type": "markdown",
   "metadata": {},
   "source": [
    "# trigonometric functions\n",
    "$h =$ hypotenuse  \n",
    "$o =$ opposite  \n",
    "$a =$ adjacent  \n",
    "\n",
    "Sine  \n",
    "$\\sin x = \\frac{o}{h}$  \n",
    "  \n",
    "Cosine  \n",
    "$\\cos x = \\frac{a}{h}$\n",
    "\n",
    "Tangent  \n",
    "$\\tan x = \\frac{o}{a} = \\frac{\\sin x}{\\cos x}$"
   ]
  },
  {
   "cell_type": "code",
   "execution_count": null,
   "metadata": {},
   "outputs": [],
   "source": [
    "%matplotlib notebook\n",
    "\n",
    "x_max = np.pi\n",
    "_x = np.linspace(-x_max, x_max, 1000)\n",
    "_y = [tan(_) for _ in _x]\n",
    "fig = plt.figure()\n",
    "ax = fig.add_subplot(1, 1, 1)\n",
    "\n",
    "ax.plot(_x, _y, 'red')\n",
    "plt.axvline(x=0, c=\"gray\")\n",
    "plt.axhline(y=0, c=\"gray\")\n",
    "y_max = 3\n",
    "plt.ylim(-y_max,y_max)\n",
    "plt.grid()"
   ]
  },
  {
   "cell_type": "markdown",
   "metadata": {},
   "source": [
    "Cosecant  \n",
    "$\\csc x = \\frac{h}{o} = \\frac{1}{\\sin x}$"
   ]
  },
  {
   "cell_type": "code",
   "execution_count": null,
   "metadata": {},
   "outputs": [],
   "source": [
    "%matplotlib notebook\n",
    "\n",
    "x_max = np.pi\n",
    "_x = np.linspace(-x_max, x_max, 1000)\n",
    "_y = [csc(_) for _ in _x]\n",
    "fig = plt.figure()\n",
    "ax = fig.add_subplot(1, 1, 1)\n",
    "\n",
    "ax.plot(_x, _y, 'red')\n",
    "plt.axvline(x=0, c=\"gray\")\n",
    "plt.axhline(y=0, c=\"gray\")\n",
    "y_max = 4\n",
    "plt.ylim(-y_max,y_max)\n",
    "plt.grid()"
   ]
  },
  {
   "cell_type": "markdown",
   "metadata": {},
   "source": [
    "Secant \t\n",
    "$\\sec x = \\frac{h}{a} = \\frac{1}{\\cos x}$    \n",
    "  \n",
    "Cotangent  \n",
    "\n",
    "$\\cot x = \\frac{a}{o} = \\frac{1}{\\tan x}$"
   ]
  },
  {
   "cell_type": "markdown",
   "metadata": {},
   "source": [
    "# trigonometric identities\n",
    "---\n",
    "$\\sin^2(t) + \\cos^2(t) = 1$  \n",
    "  \n",
    "$\\tan^2(t) + 1 = \\sec^2(t)$  \n",
    "  \n",
    "$1 + \\cot^2(t) = \\csc^2(t)$  \n",
    "  \n",
    "---\n",
    "For any real numbers $\\alpha$ and $\\beta$:\n",
    "  \n",
    "$\\sin(\\alpha + \\beta) = \\sin \\alpha \\cos \\beta + \\sin \\beta \\cos \\alpha$\n",
    "  \n",
    "$\\cos(\\alpha + \\beta) = \\cos \\alpha \\cos \\beta - \\sin \\alpha \\sin \\beta$  \n",
    "  \n",
    "$\\sin^2\\alpha = \\frac{1}{2}(1 - \\cos 2\\alpha)$  \n",
    "  \n",
    "$cos^2\\alpha = \\frac{1}{2}(1 + \\cos 2\\alpha)$  \n",
    "  \n",
    "$\\sin 2\\theta = 2\\sin\\theta\\cos\\theta$  \n",
    "  \n",
    "$\\cos2\\theta = \\cos^2\\theta-\\sin^2\\theta$"
   ]
  },
  {
   "cell_type": "markdown",
   "metadata": {},
   "source": [
    "Use degrees instead of radians.  \n",
    "$\\tan34^\\circ \\approx 0.67$"
   ]
  },
  {
   "cell_type": "code",
   "execution_count": null,
   "metadata": {},
   "outputs": [],
   "source": [
    "tan(mpmath.radians(34))"
   ]
  },
  {
   "cell_type": "markdown",
   "metadata": {},
   "source": [
    "# resources\n",
    "https://mathsolver.microsoft.com/"
   ]
  },
  {
   "cell_type": "markdown",
   "metadata": {},
   "source": [
    "## simplify rational expression\n",
    "$\\frac{3(x+2)(x-1)}{6(x-1)^2}$"
   ]
  },
  {
   "cell_type": "code",
   "execution_count": null,
   "metadata": {},
   "outputs": [],
   "source": [
    "simplify((3*(x+2)*(x-1)))/(6*(x-1)**2)"
   ]
  },
  {
   "cell_type": "markdown",
   "metadata": {},
   "source": [
    "`simplify()` can be used when subtracting fractions.  \n",
    "Sometimes `factor()` is required to reduce a polynomial to irreducible factors.  \n",
    "$\\frac{x}{x-4}-\\frac{3}{x+6}=\\frac{x^2+3x+12}{(x−4)(x+6)}$"
   ]
  },
  {
   "cell_type": "code",
   "execution_count": null,
   "metadata": {},
   "outputs": [],
   "source": [
    "factor((x)/(x - 4) - (3)/(x+6))"
   ]
  },
  {
   "cell_type": "markdown",
   "metadata": {},
   "source": [
    "Convert number with negative exponent to fractional form"
   ]
  },
  {
   "cell_type": "code",
   "execution_count": null,
   "metadata": {},
   "outputs": [],
   "source": [
    "3**Rational(-2,1)"
   ]
  },
  {
   "cell_type": "markdown",
   "metadata": {},
   "source": [
    "### interactive graph"
   ]
  },
  {
   "cell_type": "code",
   "execution_count": null,
   "metadata": {},
   "outputs": [],
   "source": [
    "# Graphs rendered in a figure with sliders need to be at the end of the notebook, or else\n",
    "# they cause problems with other graphs\n",
    "%matplotlib notebook\n",
    "\n",
    "x_max = 10\n",
    "_x = np.linspace(-x_max, x_max, 1000)\n",
    "#_x = _x[_x != 0] # remove element from np array\n",
    "fig = plt.figure()\n",
    "ax = fig.add_subplot(1, 1, 1)\n",
    "\n",
    "line, = ax.plot(_x, _x**3 - 6*_x + 1)\n",
    "plt.axvline(x=0, c=\"gray\")\n",
    "plt.axhline(y=0, c=\"gray\")\n",
    "y_max = 40\n",
    "plt.ylim(-y_max,y_max)\n",
    "plt.grid()"
   ]
  },
  {
   "cell_type": "markdown",
   "metadata": {},
   "source": [
    "interactive graph with slider"
   ]
  },
  {
   "cell_type": "code",
   "execution_count": null,
   "metadata": {},
   "outputs": [],
   "source": [
    "# Graphs rendered in a figure with sliders need to be at the end of the notebook, or else\n",
    "# they cause problems with other graphs\n",
    "%matplotlib notebook\n",
    "\n",
    "x_max = 10\n",
    "_x = np.linspace(-x_max, x_max) \n",
    "fig = plt.figure()\n",
    "ax = fig.add_subplot(1, 1, 1)\n",
    "\n",
    "line, = ax.plot(_x, _x)\n",
    "plt.axvline(x=0, c=\"gray\")\n",
    "plt.axhline(y=0, c=\"gray\")\n",
    "\n",
    "def update(_a = 1.0):\n",
    "    line.set_ydata(np.add(_x,_a))\n",
    "    fig.canvas.draw_idle()\n",
    "\n",
    "interact(update, _a = widgets.FloatSlider(value=0, min=-4, max=4, step=0.1));"
   ]
  },
  {
   "cell_type": "markdown",
   "metadata": {},
   "source": [
    "Plot interactive graph without slider"
   ]
  },
  {
   "cell_type": "code",
   "execution_count": null,
   "metadata": {},
   "outputs": [],
   "source": [
    "%matplotlib notebook\n",
    "\n",
    "x_max = 5\n",
    "_x = np.linspace(-x_max, x_max, 1000)\n",
    "fig = plt.figure()\n",
    "ax = fig.add_subplot(1, 1, 1)\n",
    "\n",
    "ax.plot(_x, _x**2 + 1, 'red')\n",
    "plt.axvline(x=0, c=\"gray\")\n",
    "plt.axhline(y=0, c=\"gray\")\n",
    "y_max = 5\n",
    "plt.ylim(-y_max,y_max)\n",
    "plt.grid()"
   ]
  },
  {
   "cell_type": "markdown",
   "metadata": {},
   "source": [
    "### composition of functions\n",
    "$f(x)=x+1$  \n",
    "$g(x)=\\sqrt{x-3}$  \n",
    "Find the composition of $f(g(x))$."
   ]
  },
  {
   "cell_type": "code",
   "execution_count": null,
   "metadata": {},
   "outputs": [],
   "source": [
    "f = x + 1\n",
    "g = sqrt(x-3)\n",
    "f.subs({x: g})"
   ]
  },
  {
   "cell_type": "markdown",
   "metadata": {},
   "source": [
    "Rationalize the denominator  \n",
    "$\\frac{2}{\\sqrt{2}+\\sqrt{7}}$"
   ]
  },
  {
   "cell_type": "code",
   "execution_count": null,
   "metadata": {},
   "outputs": [],
   "source": [
    "expression = 2/(sqrt(2)+sqrt(7))\n",
    "radsimp(expression)"
   ]
  },
  {
   "cell_type": "markdown",
   "metadata": {},
   "source": [
    "## LIMITS\n",
    "### THEOREM\n",
    "If $\\lim\\limits_{x \\to a}f(x)$ and $\\lim\\limits_{x \\to a}g(x)$ both exist and $c$ is any constant, then the following apply:  \n",
    "  \n",
    "$\\lim\\limits_{x \\to a}[c\\cdot f(x)] = c\\cdot \\lim\\limits_{x \\to a} f(x)$  \n",
    "  \n",
    "$\\lim\\limits_{x \\to a}[f(x) \\pm g(x)] = \\lim\\limits_{x \\to a}f(x) \\pm \\lim\\limits_{x \\to a}g(x)$  \n",
    "  \n",
    "$\\lim\\limits_{x \\to a}[f(x) \\cdot g(x)] = \\left[\\lim\\limits_{x \\to a}f(x)\\right]\\left[\\lim\\limits_{x \\to a}g(x)\\right]$  \n",
    "    \n",
    "$\\lim\\limits_{x \\to a}\\frac{f(x)}{g(x)} = \\frac{\\lim\\limits_{x \\to a}f(x)}{\\lim\\limits_{x \\to a}g(x)}$ if $\\lim\\limits_{x \\to a}g(x) \\ne 0$"
   ]
  },
  {
   "cell_type": "markdown",
   "metadata": {},
   "source": [
    "$\\lim\\limits_{x \\to 0-} x^2+2cosx+1 = 0$"
   ]
  },
  {
   "cell_type": "code",
   "execution_count": null,
   "metadata": {},
   "outputs": [],
   "source": [
    "limit(x**2 + 2*cos(x) + 1, x, 0, dir='-')"
   ]
  },
  {
   "cell_type": "markdown",
   "metadata": {},
   "source": [
    "In the case of $\\lim\\limits_{x \\to 0} sin\\frac{1}{x^2}$, the limit does not exist because as the expression approaches $0$, it oscillates at a faster rate between $-1$ and $1$. "
   ]
  },
  {
   "cell_type": "code",
   "execution_count": null,
   "metadata": {},
   "outputs": [],
   "source": [
    "expression = sin(1/x**2)\n",
    "display(expression)\n",
    "limit(expression, x, 0)"
   ]
  },
  {
   "cell_type": "markdown",
   "metadata": {},
   "source": [
    "The $f(x)=[x]$ denotes the **greatest integer function** which equals the greatest integer that is less than or equal to $x$.  \n",
    "The **floor** function in sympy can be used to calculate the greatest integer."
   ]
  },
  {
   "cell_type": "code",
   "execution_count": null,
   "metadata": {},
   "outputs": [],
   "source": [
    "floor(2.2)"
   ]
  },
  {
   "cell_type": "markdown",
   "metadata": {},
   "source": [
    "## useful references\n",
    "### algebra\n",
    "[Technion algebra course](https://www.youtube.com/playlist?list=PLW3u28VuDAHJNrf3JCgT0GG_rjFVz0-j9)\n",
    "### algebra, trigonometry, analytic geometry, calculus\n",
    "[Eddie Woo youtube channel](https://www.youtube.com/@misterwootube)"
   ]
  }
 ],
 "metadata": {
  "kernelspec": {
   "display_name": "Python 3 (ipykernel)",
   "language": "python",
   "name": "python3"
  },
  "language_info": {
   "codemirror_mode": {
    "name": "ipython",
    "version": 3
   },
   "file_extension": ".py",
   "mimetype": "text/x-python",
   "name": "python",
   "nbconvert_exporter": "python",
   "pygments_lexer": "ipython3",
   "version": "3.11.5"
  }
 },
 "nbformat": 4,
 "nbformat_minor": 4
}
