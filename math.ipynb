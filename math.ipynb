{
 "cells": [
  {
   "cell_type": "code",
   "execution_count": 2,
   "metadata": {},
   "outputs": [],
   "source": [
    "%run ./set_notebook.py"
   ]
  },
  {
   "cell_type": "markdown",
   "metadata": {},
   "source": [
    "# REAL NUMBERS\n",
    "Real numbers are the set of all irrational and rational numbers.  \n",
    "$\\mathbb{R}=\\mathbb{I}+\\mathbb{Q}$\n",
    "\n",
    "\n",
    "All rational numbers can be expressed as a the ratio of two integers.  \n",
    "$\\frac{a}{b}$  \n",
    "  \n",
    "If a number cannot be expressed as the ratio of two integers, the number is irrational.  \n",
    "A real number is either irrational or rational.  \n",
    "The sum of a rational and irrational number is irrational because the sum cannot be expressed as the ratio of two integers.  "
   ]
  },
  {
   "cell_type": "markdown",
   "metadata": {},
   "source": [
    "$\\frac{a}{0}$ where $a \\ne 0$ is undefined because if we approach $0$ from the right, the quotient will approach positive infinity.  \n",
    "If we approach $0$ from the left, the quotient will approach negative infinity  \n",
    "  \n",
    "$\\frac{0}{0}$ is undefined because as number $a$ approaches $0, \\frac{a}{a}=1$.  \n",
    "As number $a$ approaches $0, \\frac{0}{a} = 0$.  \n",
    "It's not clear if $\\frac{0}{0}$ should equal $0$ or $1$ and therefore, $\\frac{0}{0}$ is undefined."
   ]
  },
  {
   "cell_type": "markdown",
   "metadata": {},
   "source": [
    "## properties of real numbers\n",
    "$a$, $b$ and $c$ represent real numbers  \n",
    "**reflexive property**: A number always equals itself; that is $a=a$.  \n",
    "**symetric property**: If $a=b$ then $b=a$.  \n",
    "**transitive property**: If $a=b$ and $b=c$ then $a=c$.  \n",
    "**principle of substitution**:\n",
    "If $a=b$ then $b$ may substitute for $a$ in any expression containing $a$."
   ]
  },
  {
   "cell_type": "markdown",
   "metadata": {},
   "source": [
    "### commutative property\n",
    "The final result will not be affected by the order in which addition or multiplication takes place."
   ]
  },
  {
   "cell_type": "code",
   "execution_count": 6,
   "metadata": {},
   "outputs": [
    {
     "data": {
      "text/latex": [
       "$\\displaystyle \\text{True}$"
      ],
      "text/plain": [
       "True"
      ]
     },
     "execution_count": 6,
     "metadata": {},
     "output_type": "execute_result"
    }
   ],
   "source": [
    "Eq(a*b*c, c*b*a)"
   ]
  },
  {
   "cell_type": "markdown",
   "metadata": {},
   "source": [
    "Subtraction is not commutative."
   ]
  },
  {
   "cell_type": "code",
   "execution_count": 7,
   "metadata": {},
   "outputs": [
    {
     "data": {
      "text/latex": [
       "$\\displaystyle -2$"
      ],
      "text/plain": [
       "-2"
      ]
     },
     "metadata": {},
     "output_type": "display_data"
    },
    {
     "data": {
      "text/latex": [
       "$\\displaystyle 0$"
      ],
      "text/plain": [
       "0"
      ]
     },
     "metadata": {},
     "output_type": "display_data"
    },
    {
     "data": {
      "text/latex": [
       "$\\displaystyle \\text{False}$"
      ],
      "text/plain": [
       "False"
      ]
     },
     "execution_count": 7,
     "metadata": {},
     "output_type": "execute_result"
    }
   ],
   "source": [
    "display(2-1-3)\n",
    "display(3-2-1)\n",
    "Eq(2-1-3, 3-2-1)"
   ]
  },
  {
   "cell_type": "markdown",
   "metadata": {},
   "source": [
    "Division is not commutative.  "
   ]
  },
  {
   "cell_type": "code",
   "execution_count": 8,
   "metadata": {},
   "outputs": [
    {
     "data": {
      "text/latex": [
       "$\\displaystyle \\text{False}$"
      ],
      "text/plain": [
       "False"
      ]
     },
     "execution_count": 8,
     "metadata": {},
     "output_type": "execute_result"
    }
   ],
   "source": [
    "Eq(3/2, 2/3)"
   ]
  },
  {
   "cell_type": "markdown",
   "metadata": {},
   "source": [
    "### ASSOCIATIVE PROPERTIES\n",
    "The way three real numbers are added or multiplied does not affect the final result. "
   ]
  },
  {
   "cell_type": "code",
   "execution_count": 9,
   "metadata": {},
   "outputs": [
    {
     "data": {
      "text/latex": [
       "$\\displaystyle \\text{True}$"
      ],
      "text/plain": [
       "True"
      ]
     },
     "execution_count": 9,
     "metadata": {},
     "output_type": "execute_result"
    }
   ],
   "source": [
    "Eq((a+b)+c, a+b+c)"
   ]
  },
  {
   "cell_type": "code",
   "execution_count": 10,
   "metadata": {},
   "outputs": [
    {
     "data": {
      "text/latex": [
       "$\\displaystyle \\text{True}$"
      ],
      "text/plain": [
       "True"
      ]
     },
     "execution_count": 10,
     "metadata": {},
     "output_type": "execute_result"
    }
   ],
   "source": [
    "Eq(a+(b+c), (a+b)+c)"
   ]
  },
  {
   "cell_type": "code",
   "execution_count": 11,
   "metadata": {},
   "outputs": [
    {
     "data": {
      "text/latex": [
       "$\\displaystyle \\text{True}$"
      ],
      "text/plain": [
       "True"
      ]
     },
     "execution_count": 11,
     "metadata": {},
     "output_type": "execute_result"
    }
   ],
   "source": [
    "Eq(a*(b*c), (a*b)*c)"
   ]
  },
  {
   "cell_type": "code",
   "execution_count": 12,
   "metadata": {},
   "outputs": [
    {
     "data": {
      "text/latex": [
       "$\\displaystyle \\text{True}$"
      ],
      "text/plain": [
       "True"
      ]
     },
     "execution_count": 12,
     "metadata": {},
     "output_type": "execute_result"
    }
   ],
   "source": [
    "Eq((a*b)*c, a*b*c)"
   ]
  },
  {
   "cell_type": "markdown",
   "metadata": {},
   "source": [
    "Subtraction is not associative."
   ]
  },
  {
   "cell_type": "code",
   "execution_count": 13,
   "metadata": {},
   "outputs": [
    {
     "data": {
      "text/latex": [
       "$\\displaystyle \\text{False}$"
      ],
      "text/plain": [
       "False"
      ]
     },
     "execution_count": 13,
     "metadata": {},
     "output_type": "execute_result"
    }
   ],
   "source": [
    "Eq(2-(3+1), 2-3+1)"
   ]
  },
  {
   "cell_type": "markdown",
   "metadata": {},
   "source": [
    "Division is not associative."
   ]
  },
  {
   "cell_type": "code",
   "execution_count": 14,
   "metadata": {},
   "outputs": [
    {
     "data": {
      "text/latex": [
       "$\\displaystyle \\frac{1}{6}$"
      ],
      "text/plain": [
       "1/6"
      ]
     },
     "execution_count": 14,
     "metadata": {},
     "output_type": "execute_result"
    }
   ],
   "source": [
    "A = Rational(Rational(1, 2), 3)\n",
    "A"
   ]
  },
  {
   "cell_type": "code",
   "execution_count": 15,
   "metadata": {},
   "outputs": [
    {
     "data": {
      "text/latex": [
       "$\\displaystyle \\frac{3}{2}$"
      ],
      "text/plain": [
       "3/2"
      ]
     },
     "execution_count": 15,
     "metadata": {},
     "output_type": "execute_result"
    }
   ],
   "source": [
    "B = Rational(Rational(3, 2), 1)\n",
    "B"
   ]
  },
  {
   "cell_type": "code",
   "execution_count": 16,
   "metadata": {},
   "outputs": [
    {
     "data": {
      "text/latex": [
       "$\\displaystyle \\text{False}$"
      ],
      "text/plain": [
       "False"
      ]
     },
     "execution_count": 16,
     "metadata": {},
     "output_type": "execute_result"
    }
   ],
   "source": [
    "Eq(A, B)"
   ]
  },
  {
   "cell_type": "markdown",
   "metadata": {},
   "source": [
    "### The distributive property  \n",
    "Use to remove parenthesis.  \n",
    "$a(b+c)=ab+ac$"
   ]
  },
  {
   "cell_type": "code",
   "execution_count": 17,
   "metadata": {},
   "outputs": [
    {
     "data": {
      "text/latex": [
       "$\\displaystyle 4 x^{2} + 12 x$"
      ],
      "text/plain": [
       "   2       \n",
       "4⋅x  + 12⋅x"
      ]
     },
     "execution_count": 17,
     "metadata": {},
     "output_type": "execute_result"
    }
   ],
   "source": [
    "(4*x * (x+3)).expand()"
   ]
  },
  {
   "cell_type": "code",
   "execution_count": 18,
   "metadata": {},
   "outputs": [
    {
     "data": {
      "text/latex": [
       "$\\displaystyle x^{2} - x - 2$"
      ],
      "text/plain": [
       " 2        \n",
       "x  - x - 2"
      ]
     },
     "execution_count": 18,
     "metadata": {},
     "output_type": "execute_result"
    }
   ],
   "source": [
    "((x-2)*(x+1)).expand()"
   ]
  },
  {
   "cell_type": "markdown",
   "metadata": {},
   "source": [
    "### IDENTITY PROPERTIES\n",
    "0 and 1 have unique properties known as the **identity properties**.  "
   ]
  },
  {
   "cell_type": "markdown",
   "metadata": {},
   "source": [
    "additive property"
   ]
  },
  {
   "cell_type": "code",
   "execution_count": 19,
   "metadata": {},
   "outputs": [
    {
     "data": {
      "text/latex": [
       "$\\displaystyle \\text{True}$"
      ],
      "text/plain": [
       "True"
      ]
     },
     "execution_count": 19,
     "metadata": {},
     "output_type": "execute_result"
    }
   ],
   "source": [
    "Eq(a+0, a)"
   ]
  },
  {
   "cell_type": "markdown",
   "metadata": {},
   "source": [
    "multiplicative property"
   ]
  },
  {
   "cell_type": "code",
   "execution_count": 20,
   "metadata": {},
   "outputs": [
    {
     "data": {
      "text/latex": [
       "$\\displaystyle \\text{True}$"
      ],
      "text/plain": [
       "True"
      ]
     },
     "execution_count": 20,
     "metadata": {},
     "output_type": "execute_result"
    }
   ],
   "source": [
    "Eq(1*a, a)"
   ]
  },
  {
   "cell_type": "markdown",
   "metadata": {},
   "source": [
    "additive inverse property"
   ]
  },
  {
   "cell_type": "code",
   "execution_count": 21,
   "metadata": {},
   "outputs": [
    {
     "data": {
      "text/latex": [
       "$\\displaystyle \\text{True}$"
      ],
      "text/plain": [
       "True"
      ]
     },
     "execution_count": 21,
     "metadata": {},
     "output_type": "execute_result"
    }
   ],
   "source": [
    "Eq(-a+a, 0)"
   ]
  },
  {
   "cell_type": "markdown",
   "metadata": {},
   "source": [
    "multiplicative inverse property  \n",
    "if $a \\neq 0$"
   ]
  },
  {
   "cell_type": "code",
   "execution_count": 22,
   "metadata": {},
   "outputs": [
    {
     "data": {
      "text/latex": [
       "$\\displaystyle \\text{True}$"
      ],
      "text/plain": [
       "True"
      ]
     },
     "execution_count": 22,
     "metadata": {},
     "output_type": "execute_result"
    }
   ],
   "source": [
    "Eq((1/a)*a, 1)"
   ]
  },
  {
   "cell_type": "markdown",
   "metadata": {},
   "source": [
    "Note: Division by 0 is not defined.  \n",
    "  \n",
    "$\\frac{2}{0}=x$ means to find $x$ such that $0\\cdot x = 2$.  \n",
    "But $0\\cdot x$ equals 0 for all $x$, so $x$ does not exist if $\\frac{2}{0} = x$.  \n",
    "### REDUCTION PROPERTIES\n",
    "$ac = bc$ implies $a = b$ if $c \\neq 0$.  \n",
    "  \n",
    "$\\frac{ac}{bc} = \\frac{a}{b}$ if $b \\neq 0$ and $c \\neq 0$."
   ]
  },
  {
   "cell_type": "code",
   "execution_count": 23,
   "metadata": {},
   "outputs": [
    {
     "data": {
      "text/latex": [
       "$\\displaystyle \\left[ 3\\right]$"
      ],
      "text/plain": [
       "[3]"
      ]
     },
     "execution_count": 23,
     "metadata": {},
     "output_type": "execute_result"
    }
   ],
   "source": [
    "solve(Eq(2*x, 2*3), x)"
   ]
  },
  {
   "cell_type": "code",
   "execution_count": 24,
   "metadata": {},
   "outputs": [
    {
     "data": {
      "text/latex": [
       "$\\displaystyle \\frac{3}{2}$"
      ],
      "text/plain": [
       "3/2"
      ]
     },
     "execution_count": 24,
     "metadata": {},
     "output_type": "execute_result"
    }
   ],
   "source": [
    "Rational(3*6, 2*6)"
   ]
  },
  {
   "cell_type": "markdown",
   "metadata": {},
   "source": [
    "zero-product property  \n",
    "If $ab = 0$, then $a=0$, $b=0$ or both.  "
   ]
  },
  {
   "cell_type": "markdown",
   "metadata": {},
   "source": [
    "### least common multiple"
   ]
  },
  {
   "cell_type": "code",
   "execution_count": 25,
   "metadata": {},
   "outputs": [
    {
     "data": {
      "text/latex": [
       "$\\displaystyle 60$"
      ],
      "text/plain": [
       "60"
      ]
     },
     "execution_count": 25,
     "metadata": {},
     "output_type": "execute_result"
    }
   ],
   "source": [
    "lcm(12,15)"
   ]
  },
  {
   "cell_type": "markdown",
   "metadata": {},
   "source": [
    "# SETS"
   ]
  },
  {
   "cell_type": "markdown",
   "metadata": {},
   "source": [
    "### intersection  \n",
    "  \n",
    "$\\{1, 3, 5, 8\\} \\cap \\{3, 5, 7\\} = \\{3,5\\}$"
   ]
  },
  {
   "cell_type": "code",
   "execution_count": 26,
   "metadata": {},
   "outputs": [],
   "source": [
    "A = FiniteSet(1, 3, 5, 8)\n",
    "B = FiniteSet(3, 5, 7)"
   ]
  },
  {
   "cell_type": "code",
   "execution_count": 27,
   "metadata": {},
   "outputs": [
    {
     "data": {
      "text/latex": [
       "$\\displaystyle \\left\\{3, 5\\right\\}$"
      ],
      "text/plain": [
       "{3, 5}"
      ]
     },
     "execution_count": 27,
     "metadata": {},
     "output_type": "execute_result"
    }
   ],
   "source": [
    "A.intersection(B)"
   ]
  },
  {
   "cell_type": "markdown",
   "metadata": {},
   "source": [
    "### union\n",
    "$\\{1, 3, 5, 8\\} \\cup \\{3, 5, 7\\} = \\{1,3,5,7,8\\}$"
   ]
  },
  {
   "cell_type": "code",
   "execution_count": 28,
   "metadata": {},
   "outputs": [
    {
     "data": {
      "text/latex": [
       "$\\displaystyle \\left\\{1, 3, 5, 7, 8\\right\\}$"
      ],
      "text/plain": [
       "{1, 3, 5, 7, 8}"
      ]
     },
     "execution_count": 28,
     "metadata": {},
     "output_type": "execute_result"
    }
   ],
   "source": [
    "Union(A, B)"
   ]
  },
  {
   "cell_type": "markdown",
   "metadata": {},
   "source": [
    "### complements"
   ]
  },
  {
   "cell_type": "code",
   "execution_count": 29,
   "metadata": {},
   "outputs": [],
   "source": [
    "U = FiniteSet(*range(1, 10))\n",
    "A = FiniteSet(1, 3, 5, 7, 9)\n",
    "B = FiniteSet(2, 4, 6, 8)"
   ]
  },
  {
   "cell_type": "markdown",
   "metadata": {},
   "source": [
    "Find the complement of $A$  \n",
    "$A^\\complement = U - A = \\{2,4,6,8\\}$"
   ]
  },
  {
   "cell_type": "code",
   "execution_count": 30,
   "metadata": {},
   "outputs": [
    {
     "data": {
      "text/latex": [
       "$\\displaystyle \\left\\{2, 4, 6, 8\\right\\}$"
      ],
      "text/plain": [
       "{2, 4, 6, 8}"
      ]
     },
     "execution_count": 30,
     "metadata": {},
     "output_type": "execute_result"
    }
   ],
   "source": [
    "A.complement(U)"
   ]
  },
  {
   "cell_type": "code",
   "execution_count": 31,
   "metadata": {},
   "outputs": [
    {
     "data": {
      "text/plain": [
       "True"
      ]
     },
     "execution_count": 31,
     "metadata": {},
     "output_type": "execute_result"
    }
   ],
   "source": [
    "Union(A, A.complement(U)) == U"
   ]
  },
  {
   "cell_type": "code",
   "execution_count": 32,
   "metadata": {},
   "outputs": [
    {
     "data": {
      "text/latex": [
       "$\\displaystyle \\emptyset$"
      ],
      "text/plain": [
       "∅"
      ]
     },
     "execution_count": 32,
     "metadata": {},
     "output_type": "execute_result"
    }
   ],
   "source": [
    "A.intersection(A.complement(U))"
   ]
  },
  {
   "cell_type": "markdown",
   "metadata": {},
   "source": [
    "## classifying set numbers"
   ]
  },
  {
   "cell_type": "code",
   "execution_count": 33,
   "metadata": {},
   "outputs": [
    {
     "data": {
      "text/latex": [
       "$\\displaystyle \\left\\{-11, 0.333, \\frac{13}{15}, 1.001, 3.14, 4, 5, 11, - \\pi\\right\\}$"
      ],
      "text/plain": [
       "⎧            13                           ⎫\n",
       "⎨-11, 0.333, ──, 1.001, 3.14, 4, 5, 11, -π⎬\n",
       "⎩            15                           ⎭"
      ]
     },
     "execution_count": 33,
     "metadata": {},
     "output_type": "execute_result"
    }
   ],
   "source": [
    "U = {1.001, .333, -pi, -11, 11, Rational(13,15), sqrt(16), 3.14, Rational(15,3)}\n",
    "U"
   ]
  },
  {
   "cell_type": "markdown",
   "metadata": {},
   "source": [
    "#### identify natural numbers"
   ]
  },
  {
   "cell_type": "code",
   "execution_count": 34,
   "metadata": {},
   "outputs": [
    {
     "data": {
      "text/latex": [
       "$\\displaystyle \\left\\{11\\right\\}$"
      ],
      "text/plain": [
       "{11}"
      ]
     },
     "execution_count": 34,
     "metadata": {},
     "output_type": "execute_result"
    }
   ],
   "source": [
    "set([_ for _ in U if isinstance(_, int) and _ > 0])"
   ]
  },
  {
   "cell_type": "markdown",
   "metadata": {},
   "source": [
    "#### identify integers"
   ]
  },
  {
   "cell_type": "code",
   "execution_count": 35,
   "metadata": {},
   "outputs": [
    {
     "data": {
      "text/latex": [
       "$\\displaystyle \\left\\{-11, 11\\right\\}$"
      ],
      "text/plain": [
       "{-11, 11}"
      ]
     },
     "execution_count": 35,
     "metadata": {},
     "output_type": "execute_result"
    }
   ],
   "source": [
    "set([_ for _ in U if isinstance(_, int)])"
   ]
  },
  {
   "cell_type": "markdown",
   "metadata": {},
   "source": [
    "#### identify rational numbers"
   ]
  },
  {
   "cell_type": "code",
   "execution_count": 36,
   "metadata": {},
   "outputs": [
    {
     "data": {
      "text/latex": [
       "$\\displaystyle \\left\\{-11, 0.333, \\frac{13}{15}, 1.001, 3.14, 4, 5, 11\\right\\}$"
      ],
      "text/plain": [
       "⎧            13                       ⎫\n",
       "⎨-11, 0.333, ──, 1.001, 3.14, 4, 5, 11⎬\n",
       "⎩            15                       ⎭"
      ]
     },
     "execution_count": 36,
     "metadata": {},
     "output_type": "execute_result"
    }
   ],
   "source": [
    "set([_ for _ in U if nsimplify(_).is_rational or isinstance(_, float)])"
   ]
  },
  {
   "cell_type": "markdown",
   "metadata": {},
   "source": [
    "#### identify irrational numbers"
   ]
  },
  {
   "cell_type": "code",
   "execution_count": 37,
   "metadata": {},
   "outputs": [
    {
     "data": {
      "text/latex": [
       "$\\displaystyle \\left\\{- \\pi\\right\\}$"
      ],
      "text/plain": [
       "{-π}"
      ]
     },
     "execution_count": 37,
     "metadata": {},
     "output_type": "execute_result"
    }
   ],
   "source": [
    "set([_ for _ in U if nsimplify(_).is_irrational])"
   ]
  },
  {
   "cell_type": "markdown",
   "metadata": {},
   "source": [
    "#### identify real numbers"
   ]
  },
  {
   "cell_type": "code",
   "execution_count": 38,
   "metadata": {},
   "outputs": [
    {
     "data": {
      "text/latex": [
       "$\\displaystyle \\left[ -11, \\  - \\pi, \\  0.333, \\  \\frac{13}{15}, \\  1.001, \\  3.14, \\  4, \\  5, \\  11\\right]$"
      ],
      "text/plain": [
       "⎡                13                       ⎤\n",
       "⎢-11, -π, 0.333, ──, 1.001, 3.14, 4, 5, 11⎥\n",
       "⎣                15                       ⎦"
      ]
     },
     "execution_count": 38,
     "metadata": {},
     "output_type": "execute_result"
    }
   ],
   "source": [
    "sorted([_ for _ in U if nsimplify(_).is_real])"
   ]
  },
  {
   "cell_type": "markdown",
   "metadata": {},
   "source": [
    "### decimal approximation"
   ]
  },
  {
   "cell_type": "code",
   "execution_count": 39,
   "metadata": {},
   "outputs": [
    {
     "data": {
      "text/latex": [
       "$\\displaystyle 3.1416$"
      ],
      "text/plain": [
       "3.14160000000000"
      ]
     },
     "metadata": {},
     "output_type": "display_data"
    },
    {
     "data": {
      "text/latex": [
       "$\\displaystyle 3.1415$"
      ],
      "text/plain": [
       "3.1415"
      ]
     },
     "metadata": {},
     "output_type": "display_data"
    },
    {
     "data": {
      "text/latex": [
       "$\\displaystyle 0.0561$"
      ],
      "text/plain": [
       "0.0561000000000000"
      ]
     },
     "metadata": {},
     "output_type": "display_data"
    },
    {
     "data": {
      "text/latex": [
       "$\\displaystyle 0.0561$"
      ],
      "text/plain": [
       "0.0561"
      ]
     },
     "metadata": {},
     "output_type": "display_data"
    },
    {
     "data": {
      "text/latex": [
       "$\\displaystyle 893.4613$"
      ],
      "text/plain": [
       "893.461300000000"
      ]
     },
     "metadata": {},
     "output_type": "display_data"
    },
    {
     "data": {
      "text/latex": [
       "$\\displaystyle 893.4612$"
      ],
      "text/plain": [
       "893.4612"
      ]
     },
     "metadata": {},
     "output_type": "display_data"
    }
   ],
   "source": [
    "A = Decimal('3.14159')\n",
    "B = Decimal('.056128')\n",
    "C = Decimal('893.46125')\n",
    "\n",
    "for _ in [A, B, C]:\n",
    "    # round to 4 decimal places\n",
    "    display(N(_.quantize(Decimal('.0001'), rounding=ROUND_HALF_UP)))\n",
    "    #truncate to 4 decimal places\n",
    "    display(float(re.match(r'\\d+.\\d{4}', str(_)).group(0)))"
   ]
  },
  {
   "cell_type": "markdown",
   "metadata": {},
   "source": [
    "---"
   ]
  },
  {
   "cell_type": "code",
   "execution_count": 40,
   "metadata": {},
   "outputs": [],
   "source": [
    "C = str(18.9526)"
   ]
  },
  {
   "cell_type": "markdown",
   "metadata": {},
   "source": [
    "### round to 3 decimal places"
   ]
  },
  {
   "cell_type": "code",
   "execution_count": 41,
   "metadata": {},
   "outputs": [
    {
     "data": {
      "text/latex": [
       "$\\displaystyle 18.953$"
      ],
      "text/plain": [
       "18.9530000000000"
      ]
     },
     "execution_count": 41,
     "metadata": {},
     "output_type": "execute_result"
    }
   ],
   "source": [
    "N(Context(prec=5, rounding=ROUND_HALF_UP).create_decimal(C))"
   ]
  },
  {
   "cell_type": "markdown",
   "metadata": {},
   "source": [
    "### truncate to 3 decimal places"
   ]
  },
  {
   "cell_type": "code",
   "execution_count": 42,
   "metadata": {},
   "outputs": [
    {
     "data": {
      "text/latex": [
       "$\\displaystyle 18.952$"
      ],
      "text/plain": [
       "18.9520000000000"
      ]
     },
     "execution_count": 42,
     "metadata": {},
     "output_type": "execute_result"
    }
   ],
   "source": [
    "N(re.match(r'\\d+.\\d{3}', C).group(0))"
   ]
  },
  {
   "cell_type": "markdown",
   "metadata": {},
   "source": [
    "---"
   ]
  },
  {
   "cell_type": "markdown",
   "metadata": {},
   "source": [
    "## INTERVALS\n",
    "$[a,b)$\n",
    "\n",
    "Brackets are used to denote a closed endpoint.  \n",
    "The endpoint $a$ is included in the set.  \n",
    "\n",
    "Parenthesis are used to denote an open endpoint.  \n",
    "The endpoint $b$ is a limit of the interval and not included in the set.  "
   ]
  },
  {
   "cell_type": "markdown",
   "metadata": {},
   "source": [
    "$A = [-2, \\infty)$  \n",
    "$B = (-\\infty, 4)$"
   ]
  },
  {
   "cell_type": "code",
   "execution_count": 43,
   "metadata": {},
   "outputs": [
    {
     "data": {
      "text/latex": [
       "$\\displaystyle \\left[-2, 4\\right)$"
      ],
      "text/plain": [
       "[-2, 4)"
      ]
     },
     "execution_count": 43,
     "metadata": {},
     "output_type": "execute_result"
    }
   ],
   "source": [
    "A = Interval(-2, oo, left_open=False)\n",
    "B = Interval(-oo, 4, right_open=True)\n",
    "A.intersection(B)"
   ]
  },
  {
   "cell_type": "markdown",
   "metadata": {},
   "source": [
    "---"
   ]
  },
  {
   "cell_type": "markdown",
   "metadata": {},
   "source": [
    "### INEQUALITIES\n",
    "strict inequalities  \n",
    "$a \\lt b$ or $b \\gt a$    \n",
    "  \n",
    "nonstrict inequalities  \n",
    "$a \\le b$ or $a \\ge b$  \n",
    "  \n",
    "a is positive  \n",
    "a > 0  \n",
    "  \n",
    "a is negative  \n",
    "a < 0\n",
    "\n",
    "a is nonnegative  \n",
    "$a \\ge 0$  \n",
    "  \n",
    "If $a \\lt b$ and $b \\lt c$, then $a \\lt c$.  \n",
    "If $a \\lt b$, then $a+c \\lt b + c$.  \n",
    "If $a \\lt b$ and $c \\gt 0$, then $ca \\lt cb$.  \n",
    "If $a \\lt b$ and $c \\lt 0$, then $ca \\gt cb$.  "
   ]
  },
  {
   "cell_type": "markdown",
   "metadata": {},
   "source": [
    "### solve linear inequality\n",
    "$\\frac{x-4}{x+1} < 1$"
   ]
  },
  {
   "cell_type": "code",
   "execution_count": 44,
   "metadata": {},
   "outputs": [
    {
     "data": {
      "text/latex": [
       "$\\displaystyle \\left(-1, \\infty\\right)$"
      ],
      "text/plain": [
       "(-1, ∞)"
      ]
     },
     "execution_count": 44,
     "metadata": {},
     "output_type": "execute_result"
    }
   ],
   "source": [
    "inequality = (x-4)/(x+1) < 1\n",
    "solveset(f=inequality, symbol=x, domain=S.Reals)"
   ]
  },
  {
   "cell_type": "markdown",
   "metadata": {},
   "source": [
    "### solve quadratic inequality\n",
    "$x^2 + x - 6 > 0$"
   ]
  },
  {
   "cell_type": "code",
   "execution_count": 45,
   "metadata": {},
   "outputs": [
    {
     "data": {
      "text/latex": [
       "$\\displaystyle \\left(-\\infty, -3\\right) \\cup \\left(2, \\infty\\right)$"
      ],
      "text/plain": [
       "(-∞, -3) ∪ (2, ∞)"
      ]
     },
     "execution_count": 45,
     "metadata": {},
     "output_type": "execute_result"
    }
   ],
   "source": [
    "inequality = x**2 + x -6 > 0\n",
    "solveset(inequality, symbol=x, domain=S.Reals)"
   ]
  },
  {
   "cell_type": "markdown",
   "metadata": {},
   "source": [
    "### solve inequality with absolute value\n",
    "$\\vert \\frac{x+2}{x-2}\\vert > 0$"
   ]
  },
  {
   "cell_type": "code",
   "execution_count": 46,
   "metadata": {},
   "outputs": [
    {
     "data": {
      "text/latex": [
       "$\\displaystyle \\left(-\\infty, -2\\right) \\cup \\left(-2, 2\\right) \\cup \\left(2, \\infty\\right)$"
      ],
      "text/plain": [
       "(-∞, -2) ∪ (-2, 2) ∪ (2, ∞)"
      ]
     },
     "execution_count": 46,
     "metadata": {},
     "output_type": "execute_result"
    }
   ],
   "source": [
    "inequality = abs((x+2)/(x-2)) > 0\n",
    "solveset(f=inequality, symbol=x, domain=S.Reals)"
   ]
  },
  {
   "cell_type": "markdown",
   "metadata": {},
   "source": [
    "### solving a two-sided inequality\n",
    "$0 < 3-x < 1$"
   ]
  },
  {
   "cell_type": "code",
   "execution_count": 47,
   "metadata": {},
   "outputs": [
    {
     "data": {
      "text/latex": [
       "$\\displaystyle \\left[2, 3\\right)$"
      ],
      "text/plain": [
       "[2, 3)"
      ]
     },
     "execution_count": 47,
     "metadata": {},
     "output_type": "execute_result"
    }
   ],
   "source": [
    "A = solveset(f=0 < 3-x, symbol=x, domain=S.Reals)\n",
    "B = solveset(f=3-x <= 1, symbol=x, domain=S.Reals)\n",
    "A.intersection(B)"
   ]
  },
  {
   "cell_type": "markdown",
   "metadata": {},
   "source": [
    "### SPECIAL PRODUCTS\n",
    "#### sum and product of same terms\n",
    "$a^2-b^2=(a+b)(a-b)$\n",
    "#### squares of binomials or perfect squares\n",
    "$(a+b)^2=a^2+2ab+b^2$  \n",
    "$(a-b)^2=a^2-2ab+b^2$  \n",
    "\n",
    "#### cubes of binomials or perfect cubes\n",
    "$(a+b)^3=a^3+3a^2b+3ab^2+b^3$  \n",
    "$(a-b)^3=a^3-3a^2b+3ab^2-b^3$  \n",
    "  \n",
    "#### sum of two cubes\n",
    "$a^3+b^3=(a+b)(a^2-ab+b^2)$  \n",
    "#### difference of two cubes\n",
    "$a^3-b^3=(a-b)(a^2+ab+b^2)$  "
   ]
  },
  {
   "cell_type": "markdown",
   "metadata": {},
   "source": [
    "### FACTORING FORMULAS\n",
    "#### difference of squares\n",
    "$a^2-b^2 = (a+b)(a-b)$  \n",
    "Use to solve multiplication problems in your head:  \n",
    "https://www.wikihow.com/Easily-Solve-Math-Problems-Using-Difference-of-Squares\n",
    "#### perfect square\n",
    "$a^2 + 2ab + b^2 = (a+b)^2$  \n",
    "$a^2 - 2ab + b^2 = (a-b)^2$  \n",
    "#### sum of cubes\n",
    "$a^3 + b^3 = (a+b)(a^2 - ab + b^2)$  \n",
    "#### difference of cubes\n",
    "$a^3 - b^3 = (a-b)(a^2 + ab + b^2)$"
   ]
  },
  {
   "cell_type": "markdown",
   "metadata": {},
   "source": [
    "### factor integer\n",
    "$18335=5*19*193$"
   ]
  },
  {
   "cell_type": "code",
   "execution_count": 48,
   "metadata": {},
   "outputs": [
    {
     "data": {
      "text/latex": [
       "$\\displaystyle \\left\\{ 5 : 1, \\  19 : 1, \\  193 : 1\\right\\}$"
      ],
      "text/plain": [
       "{5: 1, 19: 1, 193: 1}"
      ]
     },
     "execution_count": 48,
     "metadata": {},
     "output_type": "execute_result"
    }
   ],
   "source": [
    "factorint(18335)"
   ]
  },
  {
   "cell_type": "markdown",
   "metadata": {},
   "source": [
    "### factor polynomial\n",
    "$3x^2 - 6x$"
   ]
  },
  {
   "cell_type": "code",
   "execution_count": 49,
   "metadata": {},
   "outputs": [
    {
     "data": {
      "text/latex": [
       "$\\displaystyle 3 x \\left(x - 2\\right)$"
      ],
      "text/plain": [
       "3⋅x⋅(x - 2)"
      ]
     },
     "execution_count": 49,
     "metadata": {},
     "output_type": "execute_result"
    }
   ],
   "source": [
    "(3*x**2 - 6*x).factor()"
   ]
  },
  {
   "cell_type": "markdown",
   "metadata": {},
   "source": [
    "### polynomial multiplication\n",
    "$(x + 1)(x^2 + 2x - 4)$"
   ]
  },
  {
   "cell_type": "code",
   "execution_count": 50,
   "metadata": {},
   "outputs": [
    {
     "data": {
      "text/latex": [
       "$\\displaystyle x^{3} + 3 x^{2} - 2 x - 4$"
      ],
      "text/plain": [
       " 3      2          \n",
       "x  + 3⋅x  - 2⋅x - 4"
      ]
     },
     "execution_count": 50,
     "metadata": {},
     "output_type": "execute_result"
    }
   ],
   "source": [
    "((x + 1) * (x**2 + 2*x - 4)).expand()"
   ]
  },
  {
   "cell_type": "markdown",
   "metadata": {},
   "source": [
    "### polynomial division\n",
    "$$\\frac{x^4 - 3x^3 + 2x - 5}{x^2 - x + 1} = \\frac{𝑥^2−2𝑥−3}{𝑥−2}$$"
   ]
  },
  {
   "cell_type": "code",
   "execution_count": 51,
   "metadata": {},
   "outputs": [
    {
     "data": {
      "text/latex": [
       "$\\displaystyle \\left( x^{2} - 2 x - 3, \\  x - 2\\right)$"
      ],
      "text/plain": [
       "⎛ 2                 ⎞\n",
       "⎝x  - 2⋅x - 3, x - 2⎠"
      ]
     },
     "execution_count": 51,
     "metadata": {},
     "output_type": "execute_result"
    }
   ],
   "source": [
    "div((x**4 - 3*x**3 + 2*x -5), (x**2 - x + 1))"
   ]
  },
  {
   "cell_type": "markdown",
   "metadata": {},
   "source": [
    "### multiply polynomial in two variables\n",
    "$(x+y)(x^2 + xy + y)$"
   ]
  },
  {
   "cell_type": "code",
   "execution_count": 52,
   "metadata": {},
   "outputs": [
    {
     "data": {
      "text/latex": [
       "$\\displaystyle x^{3} + 2 x^{2} y + x y^{2} + x y + y^{2}$"
      ],
      "text/plain": [
       " 3      2        2          2\n",
       "x  + 2⋅x ⋅y + x⋅y  + x⋅y + y "
      ]
     },
     "execution_count": 52,
     "metadata": {},
     "output_type": "execute_result"
    }
   ],
   "source": [
    "((x+y)*(x**2 + x*y + y)).expand()"
   ]
  },
  {
   "cell_type": "markdown",
   "metadata": {},
   "source": [
    "### QUADRATIC FORMULA\n",
    "If $ax^2 + bx + c = 0$, then  \n",
    "$$x = \\frac{-b \\pm \\sqrt{b^2 - 4ac}}{2a}$$"
   ]
  },
  {
   "cell_type": "markdown",
   "metadata": {},
   "source": [
    "### Convert a repeating decimal to a ratio of two integers:  \n",
    "$x=1.023232323...$  \n",
    "\\begin{align}\n",
    "1000x=1023.232323... \\\\\n",
    "10x=10.23232323... \\\\\n",
    "\\hline\n",
    "990x=1013.0\n",
    "\\end{align}\n",
    "  \n",
    "Thus $x=\\frac{1013}{990}$"
   ]
  },
  {
   "cell_type": "markdown",
   "metadata": {},
   "source": [
    "### graphing inequalities on the real number line"
   ]
  },
  {
   "cell_type": "markdown",
   "metadata": {},
   "source": [
    "Graph all numbers for which x < 4"
   ]
  },
  {
   "cell_type": "code",
   "execution_count": 53,
   "metadata": {},
   "outputs": [
    {
     "data": {
      "image/png": "[encoded data removed]",
      "text/plain": [
       "<Figure size 432x288 with 1 Axes>"
      ]
     },
     "metadata": {
      "needs_background": "light"
     },
     "output_type": "display_data"
    }
   ],
   "source": [
    "plt.axhline(y=0, color='black', lw=2)\n",
    "x_coords = [-5, 4]\n",
    "y_coords = [0, 0]\n",
    "plt.plot(x_coords, y_coords, color='red')\n",
    "\n",
    "for x_coord in [-4, 0, 4]:\n",
    "    plt.annotate(text='{}'.format(x_coord), xy=(x_coord, -.01))\n",
    "\n",
    "plt.annotate(text=')', xy=(4, -.0001), size=20, color='red')\n",
    "plt.annotate(text='|', xy=(0, -.0001), size=20, color='red')\n",
    "plt.annotate(text='4', xy=(4, -.0009), size=20, color='black')\n",
    "plt.annotate(text='0', xy=(0, -.0009), size=20, color='black')\n",
    "\n",
    "plt.yticks([])\n",
    "plt.xticks([0,1,2,3])\n",
    "plt.axis('off')\n",
    "plt.arrow(x=-4.75, y=0, dx=-.25,dy=0, width=.002, head_length=.25, length_includes_head=.25, color='red')\n",
    "_ = plt.xlim(left=-5, right=5)"
   ]
  },
  {
   "cell_type": "markdown",
   "metadata": {},
   "source": [
    "Graph all numbers for which $x \\leq 7$"
   ]
  },
  {
   "cell_type": "code",
   "execution_count": 54,
   "metadata": {},
   "outputs": [
    {
     "data": {
      "image/png": "[encoded data removed]",
      "text/plain": [
       "<Figure size 432x288 with 1 Axes>"
      ]
     },
     "metadata": {
      "needs_background": "light"
     },
     "output_type": "display_data"
    }
   ],
   "source": [
    "plt.axhline(y=0, color='black', lw=2)\n",
    "x_coords = [-5, 7]\n",
    "y_coords = [0, 0]\n",
    "plt.plot(x_coords, y_coords, color='red')\n",
    "\n",
    "for x_coord in [-5, 0, 7]:\n",
    "    plt.annotate(text='{}'.format(x_coord), xy=(x_coord, -.01))\n",
    "\n",
    "plt.annotate(text=']', xy=(7, -.0001), size=20, color='red')\n",
    "plt.annotate(text='|', xy=(0, -.0001), size=20, color='red')\n",
    "plt.annotate(text='7', xy=(7, -.0009), size=20, color='black')\n",
    "plt.annotate(text='0', xy=(0, -.0009), size=20, color='black')\n",
    "\n",
    "plt.yticks([])\n",
    "plt.xticks([0,1,2,3])\n",
    "plt.axis('off')\n",
    "plt.arrow(x=-4.75, y=0, dx=-.25,dy=0, width=.002, head_length=.25, length_includes_head=.25, color='red')\n",
    "_ = plt.xlim(left=-5, right=10)"
   ]
  },
  {
   "cell_type": "markdown",
   "metadata": {},
   "source": [
    "## absolute value\n",
    "The absolute value of real number _a_ is the distance from *a* to 0.  \n",
    "$\\vert a \\vert  = a$ if $a \\ge 0$ and $\\vert a \\vert = -a $ if $a \\lt 0$.  \n",
    "  \n",
    "If $a \\gt 0$, then  \n",
    "$\\vert x \\vert = a$ means $x = a$ or $x = -a$.  \n",
    "$\\vert x \\vert \\lt a$ means $-a \\lt x \\lt a$.  \n",
    "$\\vert x \\vert \\gt a$ means $x \\gt a$ or $x \\lt -a$.  \n",
    "\n",
    "If $a$ is any real number, then  \n",
    "$\\sqrt{a^2} = |a|$"
   ]
  },
  {
   "cell_type": "code",
   "execution_count": 55,
   "metadata": {},
   "outputs": [
    {
     "data": {
      "text/plain": [
       "True"
      ]
     },
     "execution_count": 55,
     "metadata": {},
     "output_type": "execute_result"
    }
   ],
   "source": [
    "abs(-10) == -(-10) == 10"
   ]
  },
  {
   "cell_type": "markdown",
   "metadata": {},
   "source": [
    "#### DEFINITION  \n",
    "<i>P</i> and <i>Q</i> are two points on a real number line with coordinates <i>a</i> and <i>b</i>.  \n",
    "  \n",
    "*d(P, Q)* denotes the distance between <i>P</i> and <i>Q</i>.   \n",
    "  \n",
    "The **distance between *P* and _Q_** is  \n",
    "  \n",
    "<table>\n",
    "  <tr>\n",
    "      <td><i>d(P, Q)</i> = |b - a|</td>\n",
    "  </tr>\n",
    "</table>  \n",
    "  \n",
    "Because |b - a| = |a - b|,  \n",
    "*d(P, Q)* = _d(Q, P)_.  \n"
   ]
  },
  {
   "cell_type": "markdown",
   "metadata": {},
   "source": [
    "### Number line distance"
   ]
  },
  {
   "cell_type": "code",
   "execution_count": 56,
   "metadata": {},
   "outputs": [],
   "source": [
    "# P, Q, and R are points on a real number line.\n",
    "P = -5\n",
    "Q = 7\n",
    "R = -3"
   ]
  },
  {
   "cell_type": "code",
   "execution_count": 57,
   "metadata": {},
   "outputs": [
    {
     "data": {
      "image/png": "[encoded data removed]",
      "text/plain": [
       "<Figure size 432x288 with 1 Axes>"
      ]
     },
     "metadata": {},
     "output_type": "display_data"
    }
   ],
   "source": [
    "plt.axhline(y=0, color='black', lw=2)\n",
    "x_coords = [-5, 7, -3]\n",
    "y_coords = [0, 0, 0]\n",
    "plt.plot(x_coords, y_coords, color='red', marker='o', linestyle='none')\n",
    "\n",
    "y_position = -.01\n",
    "for xy in zip(x_coords, y_coords):\n",
    "    plt.annotate(text='{}'.format(xy[0]), xy=(xy[0], y_position))\n",
    "\n",
    "y_position = .01\n",
    "for k, v in {'P':-5, 'Q':7, 'R':-3}.items():\n",
    "    plt.annotate(text='{point}'.format(point=k), xy=(v, y_position))    \n",
    "    \n",
    "plt.annotate(text='|', xy=(0, -.0001), size=20, color='black')\n",
    "plt.annotate(text='0', xy=(0, -.0009), size=20, color='black')\n",
    "plt.annotate(text='-5', xy=(-5, -.0009), size=20, color='black')\n",
    "plt.annotate(text='-3', xy=(-3, -.0009), size=20, color='black')\n",
    "plt.annotate(text='7', xy=(7, -.0009), size=20, color='black')\n",
    "\n",
    "plt.yticks([])\n",
    "plt.xticks([])\n",
    "plt.axis('off')\n",
    "plt.arrow(x=9.75, y=0, dx=.25,dy=0, width=.002, head_length=.25, length_includes_head=.25, color='black')\n",
    "_ = plt.xlim(left=-10, right=10)"
   ]
  },
  {
   "cell_type": "markdown",
   "metadata": {},
   "source": [
    "Find the distance between P and Q."
   ]
  },
  {
   "cell_type": "code",
   "execution_count": 58,
   "metadata": {},
   "outputs": [
    {
     "data": {
      "text/latex": [
       "$\\displaystyle 12$"
      ],
      "text/plain": [
       "12"
      ]
     },
     "execution_count": 58,
     "metadata": {},
     "output_type": "execute_result"
    }
   ],
   "source": [
    "abs(P - Q)"
   ]
  },
  {
   "cell_type": "markdown",
   "metadata": {},
   "source": [
    "## variable domain\n",
    "The set of values a variable may assume.  \n",
    "  \n",
    "**EXAMPLES:**  \n",
    "Area A of a circle of radius $r$:  \n",
    "A = $\\pi r^2$  \n",
    "_r_ is restricted to positive real numbers.  \n",
    "  \n",
    "Allowable values for fraction denominator:  \n",
    "$\\frac{1}{x}$  \n",
    "$x \\neq 0$\n",
    "  \n",
    "### circle circumference  \n",
    "$C = 2\\pi r$  \n",
    "  \n",
    "Radius $r$ is the set of positive real numbers.  \n",
    "$C$ is the set of positive real numbers.  "
   ]
  },
  {
   "cell_type": "markdown",
   "metadata": {},
   "source": [
    "### exclude invalid variables from the domain"
   ]
  },
  {
   "cell_type": "code",
   "execution_count": 59,
   "metadata": {},
   "outputs": [],
   "source": [
    "X_COORDS = {'a': 3, 'b': 1, 'c': 0, 'd': -1}"
   ]
  },
  {
   "cell_type": "code",
   "execution_count": 60,
   "metadata": {},
   "outputs": [
    {
     "name": "stdout",
     "output_type": "stream",
     "text": [
      "exclude from domain:\n",
      "c\n"
     ]
    }
   ],
   "source": [
    "print('exclude from domain:')\n",
    "for key in X_COORDS:\n",
    "    X = X_COORDS[key]\n",
    "    try:\n",
    "        (X**2 - 1)/X\n",
    "    except ZeroDivisionError:\n",
    "        print(key)"
   ]
  },
  {
   "cell_type": "markdown",
   "metadata": {},
   "source": [
    "### definitions\n",
    "$a^0 = 1$ if $a \\ne 0$\n",
    "\n",
    "$a^{-n} = \\frac{1}{a^n}$ if $a \\neq 0$ and $n$ is a positive integer  \n",
    "  \n",
    "### exponent laws\n",
    "If $x \\neq 0$,  \n",
    "  \n",
    "&emsp;$x^mx^n=x^{m+n}$  \n",
    "  \n",
    "&emsp;$(x^m)^n=x^{mn}$  \n",
    "  \n",
    "&emsp;$(xy)^n=x^ny^n$  \n",
    "  \n",
    "&emsp;$\\frac{x^m}{x^n} = x^{m-n} = \\frac{1}{x^{n-m}}$ if $x \\ne 0$  \n",
    "  \n",
    "&emsp;$x^{-n} = \\frac{1}{x^n}$  \n",
    "  \n",
    "&emsp;$(\\frac{x}{y})^n = \\frac{x^n}{y^n}$ if $y \\ne 0$  \n",
    "  \n",
    "&emsp;$x^{\\frac{1}{n}} = \\sqrt[n]{x}$  \n",
    "  \n",
    "&emsp;$x^{\\frac{m}{n}} = \\sqrt[n]{x^m} = (\\sqrt[n]{x})^m$  \n",
    "  \n",
    "&emsp;$\\sqrt[n]{xy} = \\sqrt[n]{x} \\sqrt[n]{y}$  \n",
    "\n",
    "&emsp;$\\sqrt[m]{\\sqrt[n]{x}} = \\sqrt[n]{\\sqrt[m]{x}} = \\sqrt[mn]{x}$\n",
    "\n",
    "&emsp;$\\sqrt[n]{\\frac{x}{y}} = \\frac{\\sqrt[n]{x}}{\\sqrt[n]{y}}$  "
   ]
  },
  {
   "cell_type": "markdown",
   "metadata": {},
   "source": [
    "### evaluating expressions with negative exponents"
   ]
  },
  {
   "cell_type": "code",
   "execution_count": 61,
   "metadata": {},
   "outputs": [
    {
     "data": {
      "text/latex": [
       "$\\displaystyle \\frac{1}{8}$"
      ],
      "text/plain": [
       "1/8"
      ]
     },
     "execution_count": 61,
     "metadata": {},
     "output_type": "execute_result"
    }
   ],
   "source": [
    "Rational(2**(-3))"
   ]
  },
  {
   "cell_type": "code",
   "execution_count": 62,
   "metadata": {},
   "outputs": [
    {
     "data": {
      "text/latex": [
       "$\\displaystyle \\frac{1}{x^{4}}$"
      ],
      "text/plain": [
       "1 \n",
       "──\n",
       " 4\n",
       "x "
      ]
     },
     "execution_count": 62,
     "metadata": {},
     "output_type": "execute_result"
    }
   ],
   "source": [
    "x**(-4)"
   ]
  },
  {
   "cell_type": "markdown",
   "metadata": {},
   "source": [
    "### square root evaluation\n",
    "$\\sqrt{a}$ means give me the nonnegative number whose square is $a$.  \n",
    "  \n",
    "The principle square root is nonnegative.  \n",
    "### definition\n",
    "Let $A$ be a nonnegative real number.  \n",
    "Let $B$ be a nonnegative number such that $B^2 = A$.  \n",
    "$B$ is the principle square root of $A$ and is denoted by $B = \\sqrt{A}$.  \n",
    "\n",
    "### comments\n",
    "Real negative numbers do not have square roots.  \n",
    "$0$ is the priciple square root of $0$.  \n",
    "Postive numbers have positive principle square roots.  "
   ]
  },
  {
   "cell_type": "markdown",
   "metadata": {},
   "source": [
    "Label real number line points with the following coordinates:  \n",
    "-2.5, -1, 0, .25, 3/4, 1, 5/2 "
   ]
  },
  {
   "cell_type": "code",
   "execution_count": 63,
   "metadata": {},
   "outputs": [
    {
     "data": {
      "image/png": "[encoded data removed]",
      "text/plain": [
       "<Figure size 432x288 with 1 Axes>"
      ]
     },
     "metadata": {},
     "output_type": "display_data"
    }
   ],
   "source": [
    "plt.axhline(y=0, color='black', lw=2)\n",
    "x_coords = [-2.5, -1, 0, .25, Rational(3, 4), Rational(5, 2)]\n",
    "y_coords = [0, 0, 0, 0, 0, 0]\n",
    "plt.plot(x_coords, y_coords, color='red', marker='o', linestyle='none')\n",
    "\n",
    "y_position = .01\n",
    "for xy in zip(x_coords, y_coords):\n",
    "    y_position = -y_position\n",
    "    plt.annotate(text='({}, {})'.format(xy[0], xy[1]), xy=(xy[0], y_position))\n",
    "\n",
    "plt.yticks([])\n",
    "plt.xticks([])\n",
    "plt.axis('off')\n",
    "plt.arrow(x=3., y=0, dx=.25,dy=0, width=.002, head_length=.25, length_includes_head=.25, color='black')\n",
    "_ = plt.xlim(left=-3, right=3.25)"
   ]
  },
  {
   "cell_type": "markdown",
   "metadata": {},
   "source": [
    "### expression evaluation\n",
    "*x, y, a, b* and _c_ represent numbers.  \n",
    "A **variable** is a letter used to represent any number in a set.  \n",
    "A **constant** is a fixed number or a letter that represents a fixed number.  "
   ]
  },
  {
   "cell_type": "markdown",
   "metadata": {},
   "source": [
    "---\n",
    "## Exponents"
   ]
  },
  {
   "cell_type": "markdown",
   "metadata": {},
   "source": [
    "Simplify $\\sqrt[3]\\frac{-1}{64}$\n"
   ]
  },
  {
   "cell_type": "code",
   "execution_count": 64,
   "metadata": {},
   "outputs": [
    {
     "data": {
      "text/latex": [
       "$\\displaystyle - \\frac{1}{4}$"
      ],
      "text/plain": [
       "-1/4"
      ]
     },
     "execution_count": 64,
     "metadata": {},
     "output_type": "execute_result"
    }
   ],
   "source": [
    "real_root(Rational(-1,64), 3)"
   ]
  },
  {
   "cell_type": "markdown",
   "metadata": {},
   "source": [
    "  "
   ]
  },
  {
   "cell_type": "markdown",
   "metadata": {},
   "source": [
    "simplify $(2x^\\frac{3}{2})(4x^\\frac{-1}{2})$  "
   ]
  },
  {
   "cell_type": "code",
   "execution_count": 65,
   "metadata": {},
   "outputs": [
    {
     "data": {
      "text/latex": [
       "$\\displaystyle 8 x$"
      ],
      "text/plain": [
       "8⋅x"
      ]
     },
     "execution_count": 65,
     "metadata": {},
     "output_type": "execute_result"
    }
   ],
   "source": [
    "2*x**Rational(3,2) * 4*x**Rational(-1,2)"
   ]
  },
  {
   "cell_type": "markdown",
   "metadata": {},
   "source": [
    "use `powdenest(expression, force=True)` to simplify exponents\n",
    "\n",
    "$(8x^6)^\\frac{-2}{3}$"
   ]
  },
  {
   "cell_type": "code",
   "execution_count": 66,
   "metadata": {},
   "outputs": [
    {
     "data": {
      "text/latex": [
       "$\\displaystyle \\frac{1}{4 x^{4}}$"
      ],
      "text/plain": [
       " 1  \n",
       "────\n",
       "   4\n",
       "4⋅x "
      ]
     },
     "execution_count": 66,
     "metadata": {},
     "output_type": "execute_result"
    }
   ],
   "source": [
    "powdenest((8*x**6)**Rational(-2,3), force=True)"
   ]
  },
  {
   "cell_type": "markdown",
   "metadata": {},
   "source": [
    "---"
   ]
  },
  {
   "cell_type": "code",
   "execution_count": 67,
   "metadata": {},
   "outputs": [
    {
     "data": {
      "text/latex": [
       "$\\displaystyle 8 x$"
      ],
      "text/plain": [
       "8⋅x"
      ]
     },
     "execution_count": 67,
     "metadata": {},
     "output_type": "execute_result"
    }
   ],
   "source": [
    "2*x**Rational(3,2) * 4*x**Rational(-1,2)"
   ]
  },
  {
   "cell_type": "markdown",
   "metadata": {},
   "source": [
    "---\n",
    "use `limit_denominator(10**12)` for rationals with negative exponents  \n",
    "$\\frac{3^{-2}}{1}$"
   ]
  },
  {
   "cell_type": "code",
   "execution_count": 68,
   "metadata": {},
   "outputs": [
    {
     "data": {
      "text/latex": [
       "$\\displaystyle \\frac{1}{9}$"
      ],
      "text/plain": [
       "1/9"
      ]
     },
     "execution_count": 68,
     "metadata": {},
     "output_type": "execute_result"
    }
   ],
   "source": [
    "Rational(3**-2, 1).limit_denominator(10**12)"
   ]
  },
  {
   "cell_type": "markdown",
   "metadata": {},
   "source": [
    "---"
   ]
  },
  {
   "cell_type": "markdown",
   "metadata": {},
   "source": [
    "### scientific notation"
   ]
  },
  {
   "cell_type": "code",
   "execution_count": 69,
   "metadata": {},
   "outputs": [
    {
     "data": {
      "text/plain": [
       "'7.029E-04'"
      ]
     },
     "execution_count": 69,
     "metadata": {},
     "output_type": "execute_result"
    }
   ],
   "source": [
    "f\"{.0007029:.3E}\""
   ]
  },
  {
   "cell_type": "code",
   "execution_count": 70,
   "metadata": {},
   "outputs": [
    {
     "data": {
      "text/latex": [
       "$\\displaystyle 2.7 \\cdot 10^{36}$"
      ],
      "text/plain": [
       "2.7e+36"
      ]
     },
     "execution_count": 70,
     "metadata": {},
     "output_type": "execute_result"
    }
   ],
   "source": [
    "A = (.00046*Float('1.697e22'))/Float('2.91e-18')\n",
    "Float(str(A), 2)"
   ]
  },
  {
   "cell_type": "markdown",
   "metadata": {},
   "source": [
    "suppress scientific notation"
   ]
  },
  {
   "cell_type": "code",
   "execution_count": 71,
   "metadata": {},
   "outputs": [
    {
     "data": {
      "text/plain": [
       "'0.0000000006257'"
      ]
     },
     "execution_count": 71,
     "metadata": {},
     "output_type": "execute_result"
    }
   ],
   "source": [
    "f\"{6.257 * 10**-10:.13f}\""
   ]
  },
  {
   "cell_type": "markdown",
   "metadata": {},
   "source": [
    "---\n",
    "Solve equation where one side is equal to the expression, and the other side is equal to 0."
   ]
  },
  {
   "cell_type": "code",
   "execution_count": 72,
   "metadata": {},
   "outputs": [
    {
     "data": {
      "text/latex": [
       "$\\displaystyle \\left[ \\frac{\\sqrt{- \\frac{2}{\\sqrt[3]{\\frac{1}{16} + \\frac{\\sqrt{257}}{16}}} + 2 \\sqrt[3]{\\frac{1}{16} + \\frac{\\sqrt{257}}{16}}}}{2} + \\frac{\\sqrt{- 2 \\sqrt[3]{\\frac{1}{16} + \\frac{\\sqrt{257}}{16}} + \\frac{2}{\\sqrt[3]{\\frac{1}{16} + \\frac{\\sqrt{257}}{16}}} + \\frac{2}{\\sqrt{- \\frac{2}{\\sqrt[3]{\\frac{1}{16} + \\frac{\\sqrt{257}}{16}}} + 2 \\sqrt[3]{\\frac{1}{16} + \\frac{\\sqrt{257}}{16}}}}}}{2}, \\  - \\frac{\\sqrt{- 2 \\sqrt[3]{\\frac{1}{16} + \\frac{\\sqrt{257}}{16}} + \\frac{2}{\\sqrt[3]{\\frac{1}{16} + \\frac{\\sqrt{257}}{16}}} + \\frac{2}{\\sqrt{- \\frac{2}{\\sqrt[3]{\\frac{1}{16} + \\frac{\\sqrt{257}}{16}}} + 2 \\sqrt[3]{\\frac{1}{16} + \\frac{\\sqrt{257}}{16}}}}}}{2} + \\frac{\\sqrt{- \\frac{2}{\\sqrt[3]{\\frac{1}{16} + \\frac{\\sqrt{257}}{16}}} + 2 \\sqrt[3]{\\frac{1}{16} + \\frac{\\sqrt{257}}{16}}}}{2}\\right]$"
      ],
      "text/plain": [
       "⎡                                                              _______________\n",
       "⎢                                                             ╱         ______\n",
       "⎢                                                            ╱         ╱ 1    \n",
       "⎢                                                           ╱   - 2⋅3 ╱  ── + \n",
       "⎢        _______________________________________           ╱        ╲╱   16   \n",
       "⎢       ╱                           ___________           ╱                   \n",
       "⎢      ╱           2               ╱ 1    √257           ╱                    \n",
       "⎢     ╱   - ─────────────── + 2⋅3 ╱  ── + ────          ╱                     \n",
       "⎢    ╱          ___________     ╲╱   16    16          ╱                      \n",
       "⎢   ╱          ╱ 1    √257                            ╱                       \n",
       "⎢  ╱        3 ╱  ── + ────                           ╱                        \n",
       "⎢╲╱         ╲╱   16    16                          ╲╱                         \n",
       "⎢─────────────────────────────────────────────── + ───────────────────────────\n",
       "⎣                       2                                                     \n",
       "\n",
       "__________________________________________________________________________    \n",
       "_____                                                                         \n",
       "√257           2                                 2                            \n",
       "────  + ─────────────── + ───────────────────────────────────────────────     \n",
       " 16         ___________           _______________________________________     \n",
       "           ╱ 1    √257           ╱                           ___________      \n",
       "        3 ╱  ── + ────          ╱           2               ╱ 1    √257       \n",
       "        ╲╱   16    16          ╱   - ─────────────── + 2⋅3 ╱  ── + ────       \n",
       "                              ╱          ___________     ╲╱   16    16        \n",
       "                             ╱          ╱ 1    √257                           \n",
       "                            ╱        3 ╱  ── + ────                           \n",
       "                          ╲╱         ╲╱   16    16                            \n",
       "──────────────────────────────────────────────────────────────────────────, - \n",
       "                       2                                                      \n",
       "\n",
       "            __________________________________________________________________\n",
       "           ╱         ___________                                              \n",
       "          ╱         ╱ 1    √257           2                                 2 \n",
       "         ╱   - 2⋅3 ╱  ── + ────  + ─────────────── + ─────────────────────────\n",
       "        ╱        ╲╱   16    16         ___________           _________________\n",
       "       ╱                              ╱ 1    √257           ╱                 \n",
       "      ╱                            3 ╱  ── + ────          ╱           2      \n",
       "     ╱                             ╲╱   16    16          ╱   - ──────────────\n",
       "    ╱                                                    ╱          __________\n",
       "   ╱                                                    ╱          ╱ 1    √257\n",
       "  ╱                                                    ╱        3 ╱  ── + ────\n",
       "╲╱                                                   ╲╱         ╲╱   16    16 \n",
       "──────────────────────────────────────────────────────────────────────────────\n",
       "                                                  2                           \n",
       "\n",
       "_______________________                                                  ⎤\n",
       "                                                                         ⎥\n",
       "                                                                         ⎥\n",
       "──────────────────────                                                   ⎥\n",
       "______________________            _______________________________________⎥\n",
       "          ___________            ╱                           ___________ ⎥\n",
       "         ╱ 1    √257            ╱           2               ╱ 1    √257  ⎥\n",
       "─ + 2⋅3 ╱  ── + ────           ╱   - ─────────────── + 2⋅3 ╱  ── + ────  ⎥\n",
       "_     ╲╱   16    16           ╱          ___________     ╲╱   16    16   ⎥\n",
       "                             ╱          ╱ 1    √257                      ⎥\n",
       "                            ╱        3 ╱  ── + ────                      ⎥\n",
       "                          ╲╱         ╲╱   16    16                       ⎥\n",
       "─────────────────────── + ───────────────────────────────────────────────⎥\n",
       "                                                 2                       ⎦"
      ]
     },
     "execution_count": 72,
     "metadata": {},
     "output_type": "execute_result"
    }
   ],
   "source": [
    "expression = x**2 - (x+3)**Rational(1,2) \n",
    "solve(expression)"
   ]
  },
  {
   "cell_type": "markdown",
   "metadata": {},
   "source": [
    "return approximate solutions"
   ]
  },
  {
   "cell_type": "code",
   "execution_count": 73,
   "metadata": {},
   "outputs": [
    {
     "data": {
      "text/latex": [
       "$\\displaystyle \\left[ 1.45262687883384, \\  -1.16403514028977\\right]$"
      ],
      "text/plain": [
       "[1.45262687883384, -1.16403514028977]"
      ]
     },
     "execution_count": 73,
     "metadata": {},
     "output_type": "execute_result"
    }
   ],
   "source": [
    "[N(_) for _ in solve(expression)]"
   ]
  },
  {
   "cell_type": "markdown",
   "metadata": {},
   "source": [
    "---"
   ]
  },
  {
   "cell_type": "markdown",
   "metadata": {},
   "source": [
    "solve equation and only return real roots\n",
    "\n",
    "The following approach is also valid  \n",
    "`x = Symbol('x', real=True)\n",
    "solve(..., x)`"
   ]
  },
  {
   "cell_type": "code",
   "execution_count": 74,
   "metadata": {},
   "outputs": [
    {
     "data": {
      "text/latex": [
       "$\\displaystyle \\left[ 0.453397651516404\\right]$"
      ],
      "text/plain": [
       "[0.453397651516404]"
      ]
     },
     "execution_count": 74,
     "metadata": {},
     "output_type": "execute_result"
    }
   ],
   "source": [
    "[N(num) for num in real_roots(x**3 + 2*x - 1, x)]"
   ]
  },
  {
   "cell_type": "markdown",
   "metadata": {},
   "source": [
    "---\n",
    "# Graphing examples"
   ]
  },
  {
   "cell_type": "markdown",
   "metadata": {},
   "source": [
    "graph single function"
   ]
  },
  {
   "cell_type": "code",
   "execution_count": 11,
   "metadata": {},
   "outputs": [
    {
     "data": {
      "image/png": "[encoded data removed]",
      "text/plain": [
       "<Figure size 432x288 with 1 Axes>"
      ]
     },
     "metadata": {
      "needs_background": "light"
     },
     "output_type": "display_data"
    }
   ],
   "source": [
    "x_coords = np.linspace(-3, 4, num=1000) # endpoint=False\n",
    "y_coords = [x_coord**2 - (x_coord+3)**.5 for x_coord in x_coords]\n",
    "\n",
    "plt.plot(x_coords, y_coords)\n",
    "\n",
    "y_max = 5\n",
    "plt.axis(ymin=-y_max, ymax=y_max)\n",
    "#plt.axis('equal')\n",
    "plt.grid()\n",
    "plt.xlabel('$x$')\n",
    "plt.ylabel('$y$')\n",
    "plt.axhline(0, color='black', lw=2)\n",
    "_=plt.axvline(0, color='black', lw=2)"
   ]
  },
  {
   "cell_type": "markdown",
   "metadata": {},
   "source": [
    "graph two functions"
   ]
  },
  {
   "cell_type": "code",
   "execution_count": 8,
   "metadata": {},
   "outputs": [
    {
     "data": {
      "image/png": "[encoded data removed]",
      "text/plain": [
       "<Figure size 432x288 with 1 Axes>"
      ]
     },
     "metadata": {
      "needs_background": "light"
     },
     "output_type": "display_data"
    }
   ],
   "source": [
    "x_max = 5\n",
    "x_coords = np.linspace(-x_max, x_max, 1000)\n",
    "y_coords = [x_coord**2 - x_coord - 5 for x_coord in x_coords]\n",
    "y_coords2 = [x_coord+3 for x_coord in x_coords]\n",
    "\n",
    "plt.plot(x_coords, y_coords)\n",
    "plt.plot(x_coords, y_coords2, color='red')\n",
    "\n",
    "y_max = 10\n",
    "plt.axis(ymin=-y_max, ymax=y_max)\n",
    "#plt.axis('equal')\n",
    "plt.grid()\n",
    "plt.xlabel('$x$')\n",
    "plt.ylabel('$y$')\n",
    "plt.axhline(0, color='black', lw=2)\n",
    "_=plt.axvline(0, color='black', lw=2)"
   ]
  },
  {
   "cell_type": "markdown",
   "metadata": {},
   "source": [
    "find points of intersection for two functions graphed above"
   ]
  },
  {
   "cell_type": "code",
   "execution_count": 77,
   "metadata": {
    "scrolled": true
   },
   "outputs": [
    {
     "data": {
      "text/latex": [
       "$\\displaystyle \\left[ \\left( -2, \\  1\\right), \\  \\left( 4, \\  7\\right)\\right]$"
      ],
      "text/plain": [
       "[(-2, 1), (4, 7)]"
      ]
     },
     "execution_count": 77,
     "metadata": {},
     "output_type": "execute_result"
    }
   ],
   "source": [
    "solve((Eq(x**2 - x - 5 - y, 0), Eq(x + 3 - y, 0)), (x, y))"
   ]
  },
  {
   "cell_type": "markdown",
   "metadata": {},
   "source": [
    "#### remove element by value from numpy array"
   ]
  },
  {
   "cell_type": "code",
   "execution_count": 78,
   "metadata": {},
   "outputs": [
    {
     "name": "stdout",
     "output_type": "stream",
     "text": [
      "original length: 10\n",
      "length after removing element with value 0: 9\n"
     ]
    }
   ],
   "source": [
    "x_coords = np.linspace(0, 1, 10)\n",
    "print(f'original length: {len(x_coords)}')\n",
    "\n",
    "x_coords = x_coords[x_coords != 0]\n",
    "print(f'length after removing element with value 0: {len(x_coords)}')"
   ]
  },
  {
   "cell_type": "markdown",
   "metadata": {},
   "source": [
    "#### limit domain example\n",
    "Remove values from numpy linspace array where  \n",
    "$-1 < x < 1$"
   ]
  },
  {
   "cell_type": "code",
   "execution_count": 79,
   "metadata": {},
   "outputs": [
    {
     "data": {
      "image/png": "[encoded data removed]",
      "text/plain": [
       "<Figure size 432x288 with 1 Axes>"
      ]
     },
     "metadata": {
      "needs_background": "light"
     },
     "output_type": "display_data"
    }
   ],
   "source": [
    "x_coords = np.linspace(-20, 20, num=10000) # , endpoint=False\n",
    "x_coords_gt_1 = x_coords[x_coords > 1]\n",
    "x_coords_lt_n1 = x_coords[x_coords < -1]\n",
    "domain = np.concatenate((x_coords_gt_1, x_coords_lt_n1), axis=0)\n",
    "y_coords = [(x_coord**2 - 1)**(2/3) for x_coord in domain]\n",
    "plt.plot(domain, y_coords)\n",
    "\n",
    "plt.axis(ymin=-2, ymax=30) # ymin=-1500, ymax=30, 'equal'\n",
    "plt.grid()\n",
    "plt.xlabel('$x$')\n",
    "plt.ylabel('$y$')\n",
    "plt.axhline(0, color='black', lw=2)\n",
    "_=plt.axvline(0, color='black', lw=2)"
   ]
  },
  {
   "cell_type": "markdown",
   "metadata": {},
   "source": [
    "labels and title example"
   ]
  },
  {
   "cell_type": "code",
   "execution_count": 80,
   "metadata": {},
   "outputs": [
    {
     "data": {
      "image/png": "[encoded data removed]",
      "text/plain": [
       "<Figure size 432x288 with 1 Axes>"
      ]
     },
     "metadata": {
      "needs_background": "light"
     },
     "output_type": "display_data"
    }
   ],
   "source": [
    "x_coords = np.linspace(0, 2, 100)\n",
    "\n",
    "plt.plot(x_coords, x_coords, label='linear')\n",
    "plt.plot(x_coords, x_coords**2, label='quadratic')\n",
    "plt.plot(x_coords, x_coords**3, label='cubic')\n",
    "\n",
    "plt.xlabel('x label')\n",
    "plt.ylabel('y label')\n",
    "\n",
    "plt.title(\"Simple Plot\")\n",
    "\n",
    "plt.legend()\n",
    "\n",
    "plt.show()"
   ]
  },
  {
   "cell_type": "markdown",
   "metadata": {},
   "source": [
    "---"
   ]
  },
  {
   "cell_type": "code",
   "execution_count": 81,
   "metadata": {},
   "outputs": [
    {
     "data": {
      "text/latex": [
       "$\\displaystyle \\left(-\\infty, \\frac{1}{2} - \\frac{\\sqrt{5}}{2}\\right) \\cup \\left(\\frac{1}{2} + \\frac{\\sqrt{5}}{2}, \\infty\\right)$"
      ],
      "text/plain": [
       "⎛    1   √5⎞   ⎛1   √5   ⎞\n",
       "⎜-∞, ─ - ──⎟ ∪ ⎜─ + ──, ∞⎟\n",
       "⎝    2   2 ⎠   ⎝2   2    ⎠"
      ]
     },
     "execution_count": 81,
     "metadata": {},
     "output_type": "execute_result"
    }
   ],
   "source": [
    "solveset(x**2 - x - 1 > 0, x, domain=S.Reals)"
   ]
  },
  {
   "cell_type": "markdown",
   "metadata": {},
   "source": [
    "---\n",
    "### Find function minimum within a restricted domain"
   ]
  },
  {
   "cell_type": "code",
   "execution_count": 82,
   "metadata": {},
   "outputs": [
    {
     "data": {
      "image/png": "[encoded data removed]",
      "text/plain": [
       "<Figure size 432x288 with 1 Axes>"
      ]
     },
     "metadata": {
      "needs_background": "light"
     },
     "output_type": "display_data"
    }
   ],
   "source": [
    "x_coords = np.linspace(-5, 5, 10000) # increased x_coords size from 1k to 10k to get better approximation\n",
    "y_coords = [x_coord**4 + 2*x_coord - 1 for x_coord in x_coords]\n",
    "\n",
    "plt.plot(x_coords, y_coords)\n",
    "\n",
    "plt.axis(ymin=-10, ymax=10) # ymin=-1500, ymax=30, 'equal'\n",
    "plt.grid()\n",
    "plt.xlabel('$x$')\n",
    "plt.ylabel('$y$')\n",
    "plt.axhline(0, color='black', lw=2)\n",
    "_=plt.axvline(0, color='black', lw=2)"
   ]
  },
  {
   "cell_type": "code",
   "execution_count": 83,
   "metadata": {},
   "outputs": [
    {
     "name": "stdout",
     "output_type": "stream",
     "text": [
      "(-0.794, -2.191)\n"
     ]
    }
   ],
   "source": [
    "x_coords = np.linspace(-5, 5, 10000)\n",
    "y_coords = [x_coord**4 + 2*x_coord - 1 for x_coord in x_coords]\n",
    "\n",
    "# find y min\n",
    "y_min = min(y_coords)\n",
    "\n",
    "# find x min\n",
    "list_index = y_coords.index(y_min)\n",
    "x_min = x_coords[list_index]\n",
    "\n",
    "print(f'({x_min:.3f}, {y_min:.3f})')"
   ]
  },
  {
   "cell_type": "markdown",
   "metadata": {},
   "source": [
    "---\n",
    "### Find function maximum within a restricted domain"
   ]
  },
  {
   "cell_type": "code",
   "execution_count": 84,
   "metadata": {},
   "outputs": [
    {
     "data": {
      "image/png": "[encoded data removed]",
      "text/plain": [
       "<Figure size 432x288 with 1 Axes>"
      ]
     },
     "metadata": {
      "needs_background": "light"
     },
     "output_type": "display_data"
    }
   ],
   "source": [
    "x_coords = np.linspace(-5, 5, 10000)\n",
    "y_coords = [x_coord**4 - 6*x_coord**2 + 3 for x_coord in x_coords]\n",
    "\n",
    "plt.plot(x_coords, y_coords)\n",
    "\n",
    "plt.axis(ymin=-10, ymax=10) # ymin=-1500, ymax=30, 'equal'\n",
    "plt.grid()\n",
    "plt.xlabel('$x$')\n",
    "plt.ylabel('$y$')\n",
    "plt.axhline(0, color='black', lw=2)\n",
    "_=plt.axvline(0, color='black', lw=2)"
   ]
  },
  {
   "cell_type": "code",
   "execution_count": 85,
   "metadata": {},
   "outputs": [
    {
     "name": "stdout",
     "output_type": "stream",
     "text": [
      "(-0.000, 3.000)\n"
     ]
    }
   ],
   "source": [
    "x_coords = np.linspace(-1, 1, 10000)\n",
    "y_coords = [x_coord**4 - 6*x_coord**2 + 3 for x_coord in x_coords]\n",
    "\n",
    "# find y max\n",
    "y_max = max(y_coords)\n",
    "\n",
    "# find x max\n",
    "list_index = y_coords.index(y_max)\n",
    "x_max = x_coords[list_index]\n",
    "\n",
    "print(f'({x_max:.3f}, {y_max:.3f})')"
   ]
  },
  {
   "cell_type": "markdown",
   "metadata": {},
   "source": [
    "---\n",
    "### Find x and y intercepts of function graphed below\n",
    "$f(x) = x^3 + x^2 - 4^x - 4$"
   ]
  },
  {
   "cell_type": "code",
   "execution_count": 86,
   "metadata": {},
   "outputs": [
    {
     "data": {
      "image/png": "[encoded data removed]",
      "text/plain": [
       "<Figure size 432x288 with 1 Axes>"
      ]
     },
     "metadata": {
      "needs_background": "light"
     },
     "output_type": "display_data"
    }
   ],
   "source": [
    "x_coords = np.linspace(-3, 4, 1000)\n",
    "y_coords = [x_coord**3 + x_coord**2 - 4*x_coord - 4 for x_coord in x_coords]\n",
    "\n",
    "plt.plot(x_coords, y_coords)\n",
    "\n",
    "plt.axis(ymin=-10, ymax=10)\n",
    "plt.grid()\n",
    "plt.xlabel('$x$')\n",
    "plt.ylabel('$y$')\n",
    "plt.axhline(0, color='black', lw=2)\n",
    "_=plt.axvline(0, color='black', lw=2)"
   ]
  },
  {
   "cell_type": "markdown",
   "metadata": {},
   "source": [
    "find x-intercepts"
   ]
  },
  {
   "cell_type": "code",
   "execution_count": 87,
   "metadata": {},
   "outputs": [
    {
     "data": {
      "text/latex": [
       "$\\displaystyle \\left[ -2, \\  -1, \\  2\\right]$"
      ],
      "text/plain": [
       "[-2, -1, 2]"
      ]
     },
     "execution_count": 87,
     "metadata": {},
     "output_type": "execute_result"
    }
   ],
   "source": [
    "solve(x**3 + x**2 - 4*x - 4)"
   ]
  },
  {
   "cell_type": "markdown",
   "metadata": {},
   "source": [
    "find y-intercept"
   ]
  },
  {
   "cell_type": "code",
   "execution_count": 88,
   "metadata": {},
   "outputs": [
    {
     "data": {
      "text/latex": [
       "$\\displaystyle -4$"
      ],
      "text/plain": [
       "-4"
      ]
     },
     "execution_count": 88,
     "metadata": {},
     "output_type": "execute_result"
    }
   ],
   "source": [
    "(x**3 + x**2 - 4*x - 4).subs(x,0)"
   ]
  },
  {
   "cell_type": "markdown",
   "metadata": {},
   "source": [
    "### graph trigonometric function with xticks in radians"
   ]
  },
  {
   "cell_type": "code",
   "execution_count": 89,
   "metadata": {},
   "outputs": [
    {
     "data": {
      "image/png": "[encoded data removed]",
      "text/plain": [
       "<Figure size 432x288 with 1 Axes>"
      ]
     },
     "metadata": {
      "needs_background": "light"
     },
     "output_type": "display_data"
    }
   ],
   "source": [
    "x_max = float(2*pi)\n",
    "x_min = -x_max\n",
    "\n",
    "x_coords = np.linspace(x_min, x_max, num=1000) # , endpoint=False\n",
    "y_coords = [cot(x_coord) for x_coord in x_coords]\n",
    "plt.plot(x_coords, y_coords)\n",
    "\n",
    "plt.xticks([(pi*_)/2 for _ in range(-4, 5)],\n",
    "           ['$-2\\pi$',r'$-\\frac{3\\pi}{2}$','$-\\pi$',r'$-\\frac{\\pi}{2}$',0,\n",
    "            r'$\\frac{\\pi}{2}$','$\\pi$', r'$\\frac{3\\pi}{2}$', r'$2\\pi$'])\n",
    "plt.axis(ymin=-5, ymax=5) # ymin=-1500, ymax=30, 'equal'\n",
    "plt.grid()\n",
    "plt.xlabel('$x$')\n",
    "plt.ylabel('$y$')\n",
    "plt.axhline(0, color='black', lw=2)\n",
    "_=plt.axvline(0, color='black', lw=2)"
   ]
  },
  {
   "cell_type": "markdown",
   "metadata": {},
   "source": [
    "### graph trigonometric function with xticks as floats\n",
    "Useful for periodic function with period other than $2\\pi$"
   ]
  },
  {
   "cell_type": "code",
   "execution_count": 90,
   "metadata": {},
   "outputs": [
    {
     "data": {
      "image/png": "[encoded data removed]",
      "text/plain": [
       "<Figure size 432x288 with 1 Axes>"
      ]
     },
     "metadata": {
      "needs_background": "light"
     },
     "output_type": "display_data"
    }
   ],
   "source": [
    "x_max = float((pi)/3)\n",
    "x_min = -x_max\n",
    "\n",
    "x_coords = np.linspace(x_min, x_max, num=1000) # , endpoint=False\n",
    "y_coords = [sec(3*x_coord) for x_coord in x_coords]\n",
    "PI = 3.14159265358979\n",
    "plt.plot(x_coords, y_coords)\n",
    "\n",
    "plt.xticks(np.arange(-PI/3, PI/3, step=PI/6))\n",
    "plt.axis(ymin=-2, ymax=2) # ymin=-1500, ymax=30, 'equal'\n",
    "plt.grid()\n",
    "plt.xlabel('$x$')\n",
    "plt.ylabel('$y$')\n",
    "plt.axhline(0, color='black', lw=2)\n",
    "_=plt.axvline(0, color='black', lw=2)"
   ]
  },
  {
   "cell_type": "markdown",
   "metadata": {},
   "source": [
    "### automatically generate radian xticks"
   ]
  },
  {
   "cell_type": "code",
   "execution_count": 91,
   "metadata": {},
   "outputs": [
    {
     "data": {
      "image/png": "[encoded data removed]",
      "text/plain": [
       "<Figure size 432x288 with 1 Axes>"
      ]
     },
     "metadata": {
      "needs_background": "light"
     },
     "output_type": "display_data"
    }
   ],
   "source": [
    "_ = plt.xticks([(pi*_)/2 for _ in range(-4, 5)],\n",
    "               ['$-2\\pi$',r'$-\\frac{3\\pi}{2}$','$-\\pi$',r'$-\\frac{\\pi}{2}$',0,\n",
    "                r'$\\frac{\\pi}{2}$','$\\pi$', r'$\\frac{3\\pi}{2}$', r'$2\\pi$'])"
   ]
  },
  {
   "cell_type": "markdown",
   "metadata": {},
   "source": [
    "---"
   ]
  },
  {
   "cell_type": "markdown",
   "metadata": {},
   "source": [
    "## Find intersections of two equations where one equation has trigonometric function\n",
    "$y = 2 cos(x)$  \n",
    "$y = 2 - x$\n",
    "\n",
    "First, graph the two functions to find approximate intersections visually.  \n",
    "Then use nsolve to find precise solutions."
   ]
  },
  {
   "cell_type": "code",
   "execution_count": 92,
   "metadata": {},
   "outputs": [
    {
     "data": {
      "image/png": "[encoded data removed]",
      "text/plain": [
       "<Figure size 432x288 with 1 Axes>"
      ]
     },
     "metadata": {
      "needs_background": "light"
     },
     "output_type": "display_data"
    }
   ],
   "source": [
    "x_min = -3\n",
    "x_max = 6\n",
    "\n",
    "x_coords = np.linspace(x_min, x_max, 1000)\n",
    "y_coords = [2*cos(x_coord) for x_coord in x_coords]\n",
    "y_coords2 = [2 - x_coord for x_coord in x_coords]\n",
    "\n",
    "plt.plot(x_coords, y_coords)\n",
    "plt.plot(x_coords, y_coords2)\n",
    "\n",
    "plt.grid()\n",
    "plt.xlabel('$x$')\n",
    "plt.ylabel('$y$')\n",
    "plt.axhline(0, color='black', lw=2)\n",
    "plt.ylim(-6,6)\n",
    "plt.xlim(x_min, x_max)\n",
    "_=plt.axvline(0, color='black', lw=2)"
   ]
  },
  {
   "cell_type": "code",
   "execution_count": 93,
   "metadata": {},
   "outputs": [
    {
     "data": {
      "text/latex": [
       "$\\displaystyle \\left[ 0, \\  1.10914418165962, \\  3.69815367287702\\right]$"
      ],
      "text/plain": [
       "[0, 1.10914418165962, 3.69815367287702]"
      ]
     },
     "execution_count": 93,
     "metadata": {},
     "output_type": "execute_result"
    }
   ],
   "source": [
    "f1 = 2*cos(x)\n",
    "f2 = 2 - x\n",
    "\n",
    "[nsolve(f1 - f2, x_coord) for x_coord in [0, 1, 3.5]]"
   ]
  },
  {
   "cell_type": "markdown",
   "metadata": {},
   "source": [
    "## Graph inequality\n",
    "Graph $sin(x)$ > $cos(x)$"
   ]
  },
  {
   "cell_type": "code",
   "execution_count": 94,
   "metadata": {},
   "outputs": [
    {
     "data": {
      "image/png": "[encoded data removed]",
      "text/plain": [
       "<Figure size 432x288 with 1 Axes>"
      ]
     },
     "metadata": {
      "needs_background": "light"
     },
     "output_type": "display_data"
    }
   ],
   "source": [
    "x_coords = np.linspace(0, 3.14*4, 1000)\n",
    "y_coords_sin = [sin(x_coord) for x_coord in x_coords]\n",
    "y_coords_cos = [cos(x_coord) for x_coord in x_coords]\n",
    "\n",
    "plt.plot(x_coords, y_coords_sin)\n",
    "plt.plot(x_coords, y_coords_cos)\n",
    "\n",
    "plt.axis(ymin=-3, ymax=3)\n",
    "plt.grid()\n",
    "plt.xlabel('$x$')\n",
    "plt.ylabel('$y$')\n",
    "plt.axhline(0, color='black', lw=2)\n",
    "_=plt.axvline(0, color='black', lw=2)\n",
    "\n",
    "x_coords = np.array(x_coords, dtype=float)\n",
    "y_coords_sin = np.array(y_coords_sin, dtype=float)\n",
    "y_coords_cos = np.array(y_coords_cos, dtype=float)\n",
    "plt.fill_between(x_coords, y_coords_sin, y_coords_cos, where=y_coords_sin>y_coords_cos, interpolate=True);"
   ]
  },
  {
   "cell_type": "markdown",
   "metadata": {},
   "source": [
    "### rationalize denominator\n",
    "This does not work if the denominator has a symbol.\n",
    "`simplify` and `radsimp` can also be used to rationalize a denominator.  \n",
    "$\\sqrt{\\frac{x}{3}}$ "
   ]
  },
  {
   "cell_type": "code",
   "execution_count": 95,
   "metadata": {},
   "outputs": [
    {
     "data": {
      "text/latex": [
       "$\\displaystyle \\frac{\\sqrt{3} \\sqrt{x}}{3}$"
      ],
      "text/plain": [
       "√3⋅√x\n",
       "─────\n",
       "  3  "
      ]
     },
     "execution_count": 95,
     "metadata": {},
     "output_type": "execute_result"
    }
   ],
   "source": [
    "nsimplify(sqrt(x/3))"
   ]
  },
  {
   "cell_type": "markdown",
   "metadata": {},
   "source": [
    "## Rounding\n",
    "Round to three decimal places"
   ]
  },
  {
   "cell_type": "code",
   "execution_count": 96,
   "metadata": {},
   "outputs": [
    {
     "data": {
      "text/latex": [
       "$\\displaystyle 304006.671$"
      ],
      "text/plain": [
       "304006.671"
      ]
     },
     "execution_count": 96,
     "metadata": {},
     "output_type": "execute_result"
    }
   ],
   "source": [
    "round(8.2**6, 3)"
   ]
  },
  {
   "cell_type": "markdown",
   "metadata": {},
   "source": [
    "## Formatting\n",
    "Add comma every three digits"
   ]
  },
  {
   "cell_type": "code",
   "execution_count": 97,
   "metadata": {},
   "outputs": [
    {
     "data": {
      "text/plain": [
       "'110,000,000'"
      ]
     },
     "execution_count": 97,
     "metadata": {},
     "output_type": "execute_result"
    }
   ],
   "source": [
    "f'{int(1.1 * 10**8):,}'"
   ]
  },
  {
   "cell_type": "markdown",
   "metadata": {},
   "source": [
    "## GEOMETRIC FORMULAS\n",
    "Formulas for area $A$, permimeter $P$, circumference $C$, volume $V$, surface area $S$:  \n",
    "  \n",
    "**Rectangle**  \n",
    "$A = lw$  \n",
    "$P = 2l + 2w$  \n",
    "    \n",
    "**Box**  \n",
    "$V = lwh$    \n",
    "$S = 2lw + 2lh + 2hw$  \n",
    "  \n",
    "**Triangle**  \n",
    "$A = \\frac{1}{2}bh$  \n",
    "  \n",
    "Heron's Formula: find area of triangle if length of three sides is known  \n",
    "$A = \\sqrt{s(s-a)(s-b)(s-c)}$  \n",
    "where $s = \\frac{a+b+c}{2}$\n",
    "  \n",
    "**Pyramid**  \n",
    "$V = \\frac{1}{3}ha^2$  \n",
    "  \n",
    "**Circle**  \n",
    "$A = \\pi r^2$  \n",
    "$C = 2\\pi r$  \n",
    "\n",
    "**Sphere**  \n",
    "$V = \\frac{4}{3}\\pi r^3$  \n",
    "$A = 4\\pi r^2$  \n",
    "  \n",
    "**Cylinder**  \n",
    "$V = \\pi r^2h$  \n",
    "$S = 2\\pi r(h+r)$  \n",
    "  \n",
    "**Cone**  \n",
    "$V = \\frac{1}{3}\\pi r^2h$  \n",
    "  \n"
   ]
  },
  {
   "cell_type": "markdown",
   "metadata": {},
   "source": [
    "# trigonometric functions\n",
    "$h =$ hypotenuse  \n",
    "$o =$ opposite  \n",
    "$a =$ adjacent  \n",
    "\n",
    "Sine  \n",
    "$\\sin x = \\frac{o}{h}$  \n",
    "  \n",
    "Cosine  \n",
    "$\\cos x = \\frac{a}{h}$\n",
    "\n",
    "Tangent  \n",
    "$\\tan x = \\frac{o}{a} = \\frac{\\sin x}{\\cos x}$  \n",
    "  \n",
    "Cosecant  \n",
    "$\\csc x = \\frac{h}{o} = \\frac{1}{\\sin x}$\n",
    "\n",
    "Secant \t\n",
    "$\\sec x = \\frac{h}{a} = \\frac{1}{\\cos x}$    \n",
    "  \n",
    "Cotangent  \n",
    "\n",
    "$\\cot x = \\frac{a}{o} = \\frac{1}{\\tan x}$"
   ]
  },
  {
   "cell_type": "markdown",
   "metadata": {},
   "source": [
    "# trigonometric identities\n",
    "---\n",
    "$\\sin^2(t) + \\cos^2(t) = 1$  \n",
    "  \n",
    "$\\tan^2(t) + 1 = \\sec^2(t)$  \n",
    "  \n",
    "$1 + \\cot^2(t) = \\csc^2(t)$  \n",
    "  \n",
    "---\n",
    "For any real numbers $\\alpha$ and $\\beta$:\n",
    "  \n",
    "$\\sin(\\alpha + \\beta) = \\sin \\alpha \\cos \\beta + \\sin \\beta \\cos \\alpha$\n",
    "  \n",
    "$\\cos(\\alpha + \\beta) = \\cos \\alpha \\cos \\beta - \\sin \\alpha \\sin \\beta$  \n",
    "  \n",
    "$\\sin^2\\alpha = \\frac{1}{2}(1 - \\cos 2\\alpha)$  \n",
    "  \n",
    "$cos^2\\alpha = \\frac{1}{2}(1 + \\cos 2\\alpha)$  \n",
    "  \n",
    "$\\sin 2\\theta = 2\\sin\\theta\\cos\\theta$  \n",
    "  \n",
    "$\\cos2\\theta = \\cos^2\\theta-\\sin^2\\theta$"
   ]
  },
  {
   "cell_type": "markdown",
   "metadata": {},
   "source": [
    "# resources\n",
    "https://mathsolver.microsoft.com/"
   ]
  },
  {
   "cell_type": "markdown",
   "metadata": {},
   "source": [
    "## simplify rational expression\n",
    "$\\frac{3(x+2)(x-1)}{6(x-1)^2}$"
   ]
  },
  {
   "cell_type": "code",
   "execution_count": 3,
   "metadata": {},
   "outputs": [
    {
     "data": {
      "text/latex": [
       "$\\displaystyle \\frac{x + 2}{2 \\left(x - 1\\right)}$"
      ],
      "text/plain": [
       "  x + 2  \n",
       "─────────\n",
       "2⋅(x - 1)"
      ]
     },
     "execution_count": 3,
     "metadata": {},
     "output_type": "execute_result"
    }
   ],
   "source": [
    "simplify((3*(x+2)*(x-1)))/(6*(x-1)**2)"
   ]
  },
  {
   "cell_type": "markdown",
   "metadata": {},
   "source": [
    "`simplify()` can be used when subtracting fractions.  \n",
    "Sometimes `factor()` is required to reduce a polynomial to irreducible factors.  \n",
    "$\\frac{x}{x-4}-\\frac{3}{x+6}=\\frac{x^2+3x+12}{(x−4)(x+6)}$"
   ]
  },
  {
   "cell_type": "code",
   "execution_count": 4,
   "metadata": {},
   "outputs": [
    {
     "data": {
      "text/latex": [
       "$\\displaystyle \\frac{x^{2} + 3 x + 12}{\\left(x - 4\\right) \\left(x + 6\\right)}$"
      ],
      "text/plain": [
       "  2            \n",
       " x  + 3⋅x + 12 \n",
       "───────────────\n",
       "(x - 4)⋅(x + 6)"
      ]
     },
     "execution_count": 4,
     "metadata": {},
     "output_type": "execute_result"
    }
   ],
   "source": [
    "factor((x)/(x - 4) - (3)/(x+6))"
   ]
  }
 ],
 "metadata": {
  "kernelspec": {
   "display_name": "Python 3 (ipykernel)",
   "language": "python",
   "name": "python3"
  },
  "language_info": {
   "codemirror_mode": {
    "name": "ipython",
    "version": 3
   },
   "file_extension": ".py",
   "mimetype": "text/x-python",
   "name": "python",
   "nbconvert_exporter": "python",
   "pygments_lexer": "ipython3",
   "version": "3.8.1"
  }
 },
 "nbformat": 4,
 "nbformat_minor": 4
}
