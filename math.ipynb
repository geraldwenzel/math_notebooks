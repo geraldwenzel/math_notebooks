{
 "cells": [
  {
   "cell_type": "code",
   "execution_count": 312,
   "metadata": {},
   "outputs": [],
   "source": [
    "%run ./set_notebook.py\n",
    "%matplotlib widget"
   ]
  },
  {
   "cell_type": "markdown",
   "metadata": {},
   "source": [
    "# REAL NUMBERS\n",
    "Real numbers are the set of all irrational and rational numbers.  \n",
    "$\\mathbb{R}=\\mathbb{I}+\\mathbb{Q}$\n",
    "\n",
    "\n",
    "All rational numbers can be expressed as a the ratio of two integers.  \n",
    "$\\frac{a}{b}$  \n",
    "  \n",
    "If a number cannot be expressed as the ratio of two integers, the number is irrational.  \n",
    "A real number is either irrational or rational.  \n",
    "The sum of a rational and irrational number is irrational because the sum cannot be expressed as the ratio of two integers.  "
   ]
  },
  {
   "cell_type": "markdown",
   "metadata": {},
   "source": [
    "$\\frac{a}{0}$ where $a \\ne 0$ is undefined because if we approach $0$ from the right, the quotient will approach positive infinity.  \n",
    "If we approach $0$ from the left, the quotient will approach negative infinity  \n",
    "  \n",
    "$\\frac{0}{0}$ is undefined because as number $a$ approaches $0, \\frac{a}{a}=1$.  \n",
    "As number $a$ approaches $0, \\frac{0}{a} = 0$.  \n",
    "It's not clear if $\\frac{0}{0}$ should equal $0$ or $1$ and therefore, $\\frac{0}{0}$ is undefined."
   ]
  },
  {
   "cell_type": "markdown",
   "metadata": {},
   "source": [
    "## properties of real numbers\n",
    "$a$, $b$ and $c$ represent real numbers  \n",
    "**reflexive property**: A number always equals itself; that is $a=a$.  \n",
    "**symetric property**: If $a=b$ then $b=a$.  \n",
    "**transitive property**: If $a=b$ and $b=c$ then $a=c$.  \n",
    "**principle of substitution**:\n",
    "If $a=b$ then $b$ may substitute for $a$ in any expression containing $a$."
   ]
  },
  {
   "cell_type": "markdown",
   "metadata": {},
   "source": [
    "### commutative property\n",
    "The final result will not be affected by the order in which addition or multiplication takes place."
   ]
  },
  {
   "cell_type": "code",
   "execution_count": 250,
   "metadata": {},
   "outputs": [
    {
     "data": {
      "text/latex": [
       "$\\displaystyle \\text{True}$"
      ],
      "text/plain": [
       "True"
      ]
     },
     "execution_count": 250,
     "metadata": {},
     "output_type": "execute_result"
    }
   ],
   "source": [
    "Eq(a*b*c, c*b*a)"
   ]
  },
  {
   "cell_type": "markdown",
   "metadata": {},
   "source": [
    "Subtraction is not commutative."
   ]
  },
  {
   "cell_type": "code",
   "execution_count": 251,
   "metadata": {},
   "outputs": [
    {
     "data": {
      "text/plain": [
       "-2"
      ]
     },
     "metadata": {},
     "output_type": "display_data"
    },
    {
     "data": {
      "text/plain": [
       "0"
      ]
     },
     "metadata": {},
     "output_type": "display_data"
    },
    {
     "data": {
      "text/latex": [
       "$\\displaystyle \\text{False}$"
      ],
      "text/plain": [
       "False"
      ]
     },
     "execution_count": 251,
     "metadata": {},
     "output_type": "execute_result"
    }
   ],
   "source": [
    "display(2-1-3)\n",
    "display(3-2-1)\n",
    "Eq(2-1-3, 3-2-1)"
   ]
  },
  {
   "cell_type": "markdown",
   "metadata": {},
   "source": [
    "Division is not commutative.  "
   ]
  },
  {
   "cell_type": "code",
   "execution_count": 252,
   "metadata": {},
   "outputs": [
    {
     "data": {
      "text/latex": [
       "$\\displaystyle \\text{False}$"
      ],
      "text/plain": [
       "False"
      ]
     },
     "execution_count": 252,
     "metadata": {},
     "output_type": "execute_result"
    }
   ],
   "source": [
    "Eq(3/2, 2/3)"
   ]
  },
  {
   "cell_type": "markdown",
   "metadata": {},
   "source": [
    "### ASSOCIATIVE PROPERTIES\n",
    "The way three real numbers are added or multiplied does not affect the final result. "
   ]
  },
  {
   "cell_type": "code",
   "execution_count": 253,
   "metadata": {},
   "outputs": [
    {
     "data": {
      "text/latex": [
       "$\\displaystyle \\text{True}$"
      ],
      "text/plain": [
       "True"
      ]
     },
     "execution_count": 253,
     "metadata": {},
     "output_type": "execute_result"
    }
   ],
   "source": [
    "Eq((a+b)+c, a+b+c)"
   ]
  },
  {
   "cell_type": "code",
   "execution_count": 254,
   "metadata": {},
   "outputs": [
    {
     "data": {
      "text/latex": [
       "$\\displaystyle \\text{True}$"
      ],
      "text/plain": [
       "True"
      ]
     },
     "execution_count": 254,
     "metadata": {},
     "output_type": "execute_result"
    }
   ],
   "source": [
    "Eq(a+(b+c), (a+b)+c)"
   ]
  },
  {
   "cell_type": "code",
   "execution_count": 255,
   "metadata": {},
   "outputs": [
    {
     "data": {
      "text/latex": [
       "$\\displaystyle \\text{True}$"
      ],
      "text/plain": [
       "True"
      ]
     },
     "execution_count": 255,
     "metadata": {},
     "output_type": "execute_result"
    }
   ],
   "source": [
    "Eq(a*(b*c), (a*b)*c)"
   ]
  },
  {
   "cell_type": "code",
   "execution_count": 256,
   "metadata": {},
   "outputs": [
    {
     "data": {
      "text/latex": [
       "$\\displaystyle \\text{True}$"
      ],
      "text/plain": [
       "True"
      ]
     },
     "execution_count": 256,
     "metadata": {},
     "output_type": "execute_result"
    }
   ],
   "source": [
    "Eq((a*b)*c, a*b*c)"
   ]
  },
  {
   "cell_type": "markdown",
   "metadata": {},
   "source": [
    "Subtraction is not associative."
   ]
  },
  {
   "cell_type": "code",
   "execution_count": 257,
   "metadata": {},
   "outputs": [
    {
     "data": {
      "text/latex": [
       "$\\displaystyle \\text{False}$"
      ],
      "text/plain": [
       "False"
      ]
     },
     "execution_count": 257,
     "metadata": {},
     "output_type": "execute_result"
    }
   ],
   "source": [
    "Eq(2-(3+1), 2-3+1)"
   ]
  },
  {
   "cell_type": "markdown",
   "metadata": {},
   "source": [
    "Division is not associative."
   ]
  },
  {
   "cell_type": "code",
   "execution_count": 258,
   "metadata": {},
   "outputs": [
    {
     "data": {
      "text/latex": [
       "$\\displaystyle \\frac{1}{6}$"
      ],
      "text/plain": [
       "1/6"
      ]
     },
     "execution_count": 258,
     "metadata": {},
     "output_type": "execute_result"
    }
   ],
   "source": [
    "A = Rational(Rational(1, 2), 3)\n",
    "A"
   ]
  },
  {
   "cell_type": "code",
   "execution_count": 259,
   "metadata": {},
   "outputs": [
    {
     "data": {
      "text/latex": [
       "$\\displaystyle \\frac{3}{2}$"
      ],
      "text/plain": [
       "3/2"
      ]
     },
     "execution_count": 259,
     "metadata": {},
     "output_type": "execute_result"
    }
   ],
   "source": [
    "B = Rational(Rational(3, 2), 1)\n",
    "B"
   ]
  },
  {
   "cell_type": "code",
   "execution_count": 260,
   "metadata": {},
   "outputs": [
    {
     "data": {
      "text/latex": [
       "$\\displaystyle \\text{False}$"
      ],
      "text/plain": [
       "False"
      ]
     },
     "execution_count": 260,
     "metadata": {},
     "output_type": "execute_result"
    }
   ],
   "source": [
    "Eq(A, B)"
   ]
  },
  {
   "cell_type": "markdown",
   "metadata": {},
   "source": [
    "### The distributive property  \n",
    "Use to remove parenthesis.  \n",
    "$a(b+c)=ab+ac$"
   ]
  },
  {
   "cell_type": "code",
   "execution_count": 261,
   "metadata": {},
   "outputs": [
    {
     "data": {
      "text/latex": [
       "$\\displaystyle 4 x^{2} + 12 x$"
      ],
      "text/plain": [
       "4*x**2 + 12*x"
      ]
     },
     "execution_count": 261,
     "metadata": {},
     "output_type": "execute_result"
    }
   ],
   "source": [
    "expand((4*x * (x+3)))"
   ]
  },
  {
   "cell_type": "code",
   "execution_count": 262,
   "metadata": {},
   "outputs": [
    {
     "data": {
      "text/latex": [
       "$\\displaystyle x^{2} - x - 2$"
      ],
      "text/plain": [
       "x**2 - x - 2"
      ]
     },
     "execution_count": 262,
     "metadata": {},
     "output_type": "execute_result"
    }
   ],
   "source": [
    "expand((x-2)*(x+1))"
   ]
  },
  {
   "cell_type": "markdown",
   "metadata": {},
   "source": [
    "### IDENTITY PROPERTIES\n",
    "0 and 1 have unique properties known as the **identity properties**.  "
   ]
  },
  {
   "cell_type": "markdown",
   "metadata": {},
   "source": [
    "additive property"
   ]
  },
  {
   "cell_type": "code",
   "execution_count": 263,
   "metadata": {},
   "outputs": [
    {
     "data": {
      "text/latex": [
       "$\\displaystyle \\text{True}$"
      ],
      "text/plain": [
       "True"
      ]
     },
     "execution_count": 263,
     "metadata": {},
     "output_type": "execute_result"
    }
   ],
   "source": [
    "Eq(a+0, a)"
   ]
  },
  {
   "cell_type": "markdown",
   "metadata": {},
   "source": [
    "multiplicative property"
   ]
  },
  {
   "cell_type": "code",
   "execution_count": 264,
   "metadata": {},
   "outputs": [
    {
     "data": {
      "text/latex": [
       "$\\displaystyle \\text{True}$"
      ],
      "text/plain": [
       "True"
      ]
     },
     "execution_count": 264,
     "metadata": {},
     "output_type": "execute_result"
    }
   ],
   "source": [
    "Eq(1*a, a)"
   ]
  },
  {
   "cell_type": "markdown",
   "metadata": {},
   "source": [
    "additive inverse property"
   ]
  },
  {
   "cell_type": "code",
   "execution_count": 265,
   "metadata": {},
   "outputs": [
    {
     "data": {
      "text/latex": [
       "$\\displaystyle \\text{True}$"
      ],
      "text/plain": [
       "True"
      ]
     },
     "execution_count": 265,
     "metadata": {},
     "output_type": "execute_result"
    }
   ],
   "source": [
    "Eq(-a+a, 0)"
   ]
  },
  {
   "cell_type": "markdown",
   "metadata": {},
   "source": [
    "multiplicative inverse property  \n",
    "if $a \\neq 0$"
   ]
  },
  {
   "cell_type": "code",
   "execution_count": 266,
   "metadata": {},
   "outputs": [
    {
     "data": {
      "text/latex": [
       "$\\displaystyle \\text{True}$"
      ],
      "text/plain": [
       "True"
      ]
     },
     "execution_count": 266,
     "metadata": {},
     "output_type": "execute_result"
    }
   ],
   "source": [
    "Eq((1/a)*a, 1)"
   ]
  },
  {
   "cell_type": "markdown",
   "metadata": {},
   "source": [
    "Note: Division by 0 is not defined.  \n",
    "  \n",
    "$\\frac{2}{0}=x$ means to find $x$ such that $0\\cdot x = 2$.  \n",
    "But $0\\cdot x$ equals 0 for all $x$, so $x$ does not exist if $\\frac{2}{0} = x$.  \n",
    "### REDUCTION PROPERTIES\n",
    "$ac = bc$ implies $a = b$ if $c \\neq 0$.  \n",
    "  \n",
    "$\\frac{ac}{bc} = \\frac{a}{b}$ if $b \\neq 0$ and $c \\neq 0$."
   ]
  },
  {
   "cell_type": "code",
   "execution_count": 267,
   "metadata": {},
   "outputs": [
    {
     "data": {
      "text/plain": [
       "[3]"
      ]
     },
     "execution_count": 267,
     "metadata": {},
     "output_type": "execute_result"
    }
   ],
   "source": [
    "solve(Eq(2*x, 2*3), x)"
   ]
  },
  {
   "cell_type": "code",
   "execution_count": 268,
   "metadata": {},
   "outputs": [
    {
     "data": {
      "text/latex": [
       "$\\displaystyle \\frac{3}{2}$"
      ],
      "text/plain": [
       "3/2"
      ]
     },
     "execution_count": 268,
     "metadata": {},
     "output_type": "execute_result"
    }
   ],
   "source": [
    "Rational(3*6, 2*6)"
   ]
  },
  {
   "cell_type": "markdown",
   "metadata": {},
   "source": [
    "zero-product property  \n",
    "If $ab = 0$, then $a=0$, $b=0$ or both.  "
   ]
  },
  {
   "cell_type": "markdown",
   "metadata": {},
   "source": [
    "### least common multiple"
   ]
  },
  {
   "cell_type": "code",
   "execution_count": 269,
   "metadata": {},
   "outputs": [
    {
     "data": {
      "text/latex": [
       "$\\displaystyle 60$"
      ],
      "text/plain": [
       "60"
      ]
     },
     "execution_count": 269,
     "metadata": {},
     "output_type": "execute_result"
    }
   ],
   "source": [
    "lcm(12,15)"
   ]
  },
  {
   "cell_type": "markdown",
   "metadata": {},
   "source": [
    "# SETS"
   ]
  },
  {
   "cell_type": "markdown",
   "metadata": {},
   "source": [
    "### intersection  \n",
    "  \n",
    "$\\{1, 3, 5, 8\\} \\cap \\{3, 5, 7\\} = \\{3,5\\}$"
   ]
  },
  {
   "cell_type": "code",
   "execution_count": 270,
   "metadata": {},
   "outputs": [],
   "source": [
    "A = FiniteSet(1, 3, 5, 8)\n",
    "B = FiniteSet(3, 5, 7)"
   ]
  },
  {
   "cell_type": "code",
   "execution_count": 271,
   "metadata": {},
   "outputs": [
    {
     "data": {
      "text/latex": [
       "$\\displaystyle \\left\\{3, 5\\right\\}$"
      ],
      "text/plain": [
       "{3, 5}"
      ]
     },
     "execution_count": 271,
     "metadata": {},
     "output_type": "execute_result"
    }
   ],
   "source": [
    "A.intersection(B)"
   ]
  },
  {
   "cell_type": "markdown",
   "metadata": {},
   "source": [
    "### union\n",
    "$\\{1, 3, 5, 8\\} \\cup \\{3, 5, 7\\} = \\{1,3,5,7,8\\}$"
   ]
  },
  {
   "cell_type": "code",
   "execution_count": 272,
   "metadata": {},
   "outputs": [
    {
     "data": {
      "text/latex": [
       "$\\displaystyle \\left\\{1, 3, 5, 7, 8\\right\\}$"
      ],
      "text/plain": [
       "{1, 3, 5, 7, 8}"
      ]
     },
     "execution_count": 272,
     "metadata": {},
     "output_type": "execute_result"
    }
   ],
   "source": [
    "Union(A, B)"
   ]
  },
  {
   "cell_type": "markdown",
   "metadata": {},
   "source": [
    "### complements"
   ]
  },
  {
   "cell_type": "code",
   "execution_count": 273,
   "metadata": {},
   "outputs": [],
   "source": [
    "U = FiniteSet(*range(1, 10))\n",
    "A = FiniteSet(1, 3, 5, 7, 9)\n",
    "B = FiniteSet(2, 4, 6, 8)"
   ]
  },
  {
   "cell_type": "markdown",
   "metadata": {},
   "source": [
    "Find the complement of $A$  \n",
    "$A^\\complement = U - A = \\{2,4,6,8\\}$"
   ]
  },
  {
   "cell_type": "code",
   "execution_count": 274,
   "metadata": {},
   "outputs": [
    {
     "data": {
      "text/latex": [
       "$\\displaystyle \\left\\{2, 4, 6, 8\\right\\}$"
      ],
      "text/plain": [
       "{2, 4, 6, 8}"
      ]
     },
     "execution_count": 274,
     "metadata": {},
     "output_type": "execute_result"
    }
   ],
   "source": [
    "A.complement(U)"
   ]
  },
  {
   "cell_type": "code",
   "execution_count": 275,
   "metadata": {},
   "outputs": [
    {
     "data": {
      "text/plain": [
       "True"
      ]
     },
     "execution_count": 275,
     "metadata": {},
     "output_type": "execute_result"
    }
   ],
   "source": [
    "Union(A, A.complement(U)) == U"
   ]
  },
  {
   "cell_type": "code",
   "execution_count": 276,
   "metadata": {},
   "outputs": [
    {
     "data": {
      "text/latex": [
       "$\\displaystyle \\emptyset$"
      ],
      "text/plain": [
       "EmptySet"
      ]
     },
     "execution_count": 276,
     "metadata": {},
     "output_type": "execute_result"
    }
   ],
   "source": [
    "A.intersection(A.complement(U))"
   ]
  },
  {
   "cell_type": "markdown",
   "metadata": {},
   "source": [
    "## classifying set numbers"
   ]
  },
  {
   "cell_type": "code",
   "execution_count": 277,
   "metadata": {},
   "outputs": [
    {
     "data": {
      "text/plain": [
       "{-11, -pi, 0.333, 13/15, 1.001, 3.14, 4, 5, 11}"
      ]
     },
     "execution_count": 277,
     "metadata": {},
     "output_type": "execute_result"
    }
   ],
   "source": [
    "U = {1.001, .333, -pi, -11, 11, Rational(13,15), sqrt(16), 3.14, Rational(15,3)}\n",
    "U"
   ]
  },
  {
   "cell_type": "markdown",
   "metadata": {},
   "source": [
    "#### identify natural numbers"
   ]
  },
  {
   "cell_type": "code",
   "execution_count": 278,
   "metadata": {},
   "outputs": [
    {
     "data": {
      "text/plain": [
       "{11}"
      ]
     },
     "execution_count": 278,
     "metadata": {},
     "output_type": "execute_result"
    }
   ],
   "source": [
    "set([_ for _ in U if isinstance(_, int) and _ > 0])"
   ]
  },
  {
   "cell_type": "markdown",
   "metadata": {},
   "source": [
    "#### identify integers"
   ]
  },
  {
   "cell_type": "code",
   "execution_count": 279,
   "metadata": {},
   "outputs": [
    {
     "data": {
      "text/plain": [
       "{-11, 11}"
      ]
     },
     "execution_count": 279,
     "metadata": {},
     "output_type": "execute_result"
    }
   ],
   "source": [
    "set([_ for _ in U if isinstance(_, int)])"
   ]
  },
  {
   "cell_type": "markdown",
   "metadata": {},
   "source": [
    "#### identify rational numbers"
   ]
  },
  {
   "cell_type": "code",
   "execution_count": 280,
   "metadata": {},
   "outputs": [
    {
     "data": {
      "text/plain": [
       "{-11, 0.333, 13/15, 1.001, 3.14, 4, 5, 11}"
      ]
     },
     "execution_count": 280,
     "metadata": {},
     "output_type": "execute_result"
    }
   ],
   "source": [
    "set([_ for _ in U if nsimplify(_).is_rational or isinstance(_, float)])"
   ]
  },
  {
   "cell_type": "markdown",
   "metadata": {},
   "source": [
    "#### identify irrational numbers"
   ]
  },
  {
   "cell_type": "code",
   "execution_count": 281,
   "metadata": {},
   "outputs": [
    {
     "data": {
      "text/plain": [
       "{-pi}"
      ]
     },
     "execution_count": 281,
     "metadata": {},
     "output_type": "execute_result"
    }
   ],
   "source": [
    "set([_ for _ in U if nsimplify(_).is_irrational])"
   ]
  },
  {
   "cell_type": "markdown",
   "metadata": {},
   "source": [
    "#### identify real numbers"
   ]
  },
  {
   "cell_type": "code",
   "execution_count": 282,
   "metadata": {},
   "outputs": [
    {
     "data": {
      "text/plain": [
       "[-11, -pi, 0.333, 13/15, 1.001, 3.14, 4, 5, 11]"
      ]
     },
     "execution_count": 282,
     "metadata": {},
     "output_type": "execute_result"
    }
   ],
   "source": [
    "sorted([_ for _ in U if nsimplify(_).is_real])"
   ]
  },
  {
   "cell_type": "markdown",
   "metadata": {},
   "source": [
    "### decimal approximation"
   ]
  },
  {
   "cell_type": "code",
   "execution_count": 283,
   "metadata": {},
   "outputs": [
    {
     "data": {
      "text/latex": [
       "$\\displaystyle 3.1416$"
      ],
      "text/plain": [
       "3.14160000000000"
      ]
     },
     "metadata": {},
     "output_type": "display_data"
    },
    {
     "data": {
      "text/plain": [
       "3.1415"
      ]
     },
     "metadata": {},
     "output_type": "display_data"
    },
    {
     "data": {
      "text/latex": [
       "$\\displaystyle 0.0561$"
      ],
      "text/plain": [
       "0.0561000000000000"
      ]
     },
     "metadata": {},
     "output_type": "display_data"
    },
    {
     "data": {
      "text/plain": [
       "0.0561"
      ]
     },
     "metadata": {},
     "output_type": "display_data"
    },
    {
     "data": {
      "text/latex": [
       "$\\displaystyle 893.4613$"
      ],
      "text/plain": [
       "893.461300000000"
      ]
     },
     "metadata": {},
     "output_type": "display_data"
    },
    {
     "data": {
      "text/plain": [
       "893.4612"
      ]
     },
     "metadata": {},
     "output_type": "display_data"
    }
   ],
   "source": [
    "A = Decimal('3.14159')\n",
    "B = Decimal('.056128')\n",
    "C = Decimal('893.46125')\n",
    "\n",
    "for _ in [A, B, C]:\n",
    "    # round to 4 decimal places\n",
    "    #display(N(_.quantize(Decimal('.0001'), rounding=ROUND_HALF_UP)))\n",
    "    display(N(_.quantize(Decimal('.0001'))))\n",
    "    # truncate to 4 decimal places\n",
    "    display(float(re.match(r'\\d+.\\d{4}', str(_)).group(0)))\n"
   ]
  },
  {
   "cell_type": "markdown",
   "metadata": {},
   "source": [
    "---"
   ]
  },
  {
   "cell_type": "code",
   "execution_count": 284,
   "metadata": {},
   "outputs": [],
   "source": [
    "C = str(18.9526)"
   ]
  },
  {
   "cell_type": "markdown",
   "metadata": {},
   "source": [
    "### round to 3 decimal places"
   ]
  },
  {
   "cell_type": "code",
   "execution_count": 285,
   "metadata": {},
   "outputs": [
    {
     "data": {
      "text/latex": [
       "$\\displaystyle 18.953$"
      ],
      "text/plain": [
       "18.9530000000000"
      ]
     },
     "execution_count": 285,
     "metadata": {},
     "output_type": "execute_result"
    }
   ],
   "source": [
    "N(Context(prec=5, rounding=ROUND_HALF_UP).create_decimal(C))"
   ]
  },
  {
   "cell_type": "markdown",
   "metadata": {},
   "source": [
    "### truncate to 3 decimal places"
   ]
  },
  {
   "cell_type": "code",
   "execution_count": 286,
   "metadata": {},
   "outputs": [
    {
     "data": {
      "text/latex": [
       "$\\displaystyle 18.952$"
      ],
      "text/plain": [
       "18.9520000000000"
      ]
     },
     "execution_count": 286,
     "metadata": {},
     "output_type": "execute_result"
    }
   ],
   "source": [
    "N(re.match(r'\\d+.\\d{3}', C).group(0))"
   ]
  },
  {
   "cell_type": "markdown",
   "metadata": {},
   "source": [
    "---"
   ]
  },
  {
   "cell_type": "markdown",
   "metadata": {},
   "source": [
    "## INTERVALS\n",
    "$[a,b)$\n",
    "\n",
    "Brackets are used to denote a closed endpoint.  \n",
    "The endpoint $a$ is included in the set.  \n",
    "\n",
    "Parenthesis are used to denote an open endpoint.  \n",
    "The endpoint $b$ is a limit of the interval and not included in the set.  "
   ]
  },
  {
   "cell_type": "markdown",
   "metadata": {},
   "source": [
    "$A = [-2, \\infty)$  \n",
    "$B = (-\\infty, 4)$"
   ]
  },
  {
   "cell_type": "code",
   "execution_count": 287,
   "metadata": {},
   "outputs": [
    {
     "data": {
      "text/latex": [
       "$\\displaystyle \\left[-2, 4\\right)$"
      ],
      "text/plain": [
       "Interval.Ropen(-2, 4)"
      ]
     },
     "execution_count": 287,
     "metadata": {},
     "output_type": "execute_result"
    }
   ],
   "source": [
    "A = Interval(-2, oo, left_open=False)\n",
    "B = Interval(-oo, 4, right_open=True)\n",
    "A.intersection(B)"
   ]
  },
  {
   "cell_type": "markdown",
   "metadata": {},
   "source": [
    "---"
   ]
  },
  {
   "cell_type": "markdown",
   "metadata": {},
   "source": [
    "### INEQUALITIES\n",
    "strict inequalities  \n",
    "$a \\lt b$ or $b \\gt a$    \n",
    "  \n",
    "nonstrict inequalities  \n",
    "$a \\le b$ or $a \\ge b$  \n",
    "  \n",
    "a is positive  \n",
    "a > 0  \n",
    "  \n",
    "a is negative  \n",
    "a < 0\n",
    "\n",
    "a is nonnegative  \n",
    "$a \\ge 0$  \n",
    "  \n",
    "If $a \\lt b$ and $b \\lt c$, then $a \\lt c$.  \n",
    "If $a \\lt b$, then $a+c \\lt b + c$.  \n",
    "If $a \\lt b$ and $c \\gt 0$, then $ca \\lt cb$.  \n",
    "If $a \\lt b$ and $c \\lt 0$, then $ca \\gt cb$.  "
   ]
  },
  {
   "cell_type": "markdown",
   "metadata": {},
   "source": [
    "### solve linear inequality\n",
    "$\\frac{x-4}{x+1} < 1$"
   ]
  },
  {
   "cell_type": "code",
   "execution_count": 288,
   "metadata": {},
   "outputs": [
    {
     "data": {
      "text/latex": [
       "$\\displaystyle \\left(-1, \\infty\\right)$"
      ],
      "text/plain": [
       "Interval.open(-1, oo)"
      ]
     },
     "execution_count": 288,
     "metadata": {},
     "output_type": "execute_result"
    }
   ],
   "source": [
    "inequality = (x-4)/(x+1) < 1\n",
    "solveset(f=inequality, symbol=x, domain=S.Reals)"
   ]
  },
  {
   "cell_type": "markdown",
   "metadata": {},
   "source": [
    "### solve quadratic inequality\n",
    "$x^2 + x - 6 > 0$"
   ]
  },
  {
   "cell_type": "code",
   "execution_count": 289,
   "metadata": {},
   "outputs": [
    {
     "data": {
      "text/latex": [
       "$\\displaystyle \\left(-\\infty, -3\\right) \\cup \\left(2, \\infty\\right)$"
      ],
      "text/plain": [
       "Union(Interval.open(-oo, -3), Interval.open(2, oo))"
      ]
     },
     "execution_count": 289,
     "metadata": {},
     "output_type": "execute_result"
    }
   ],
   "source": [
    "inequality = x**2 + x - 6 > 0\n",
    "solveset(inequality, symbol=x, domain=S.Reals)"
   ]
  },
  {
   "cell_type": "markdown",
   "metadata": {},
   "source": [
    "### solve inequality with absolute value\n",
    "$\\vert \\frac{x+2}{x-2}\\vert > 0$"
   ]
  },
  {
   "cell_type": "code",
   "execution_count": 290,
   "metadata": {},
   "outputs": [
    {
     "data": {
      "text/latex": [
       "$\\displaystyle \\left(-\\infty, -2\\right) \\cup \\left(-2, 2\\right) \\cup \\left(2, \\infty\\right)$"
      ],
      "text/plain": [
       "Union(Interval.open(-oo, -2), Interval.open(-2, 2), Interval.open(2, oo))"
      ]
     },
     "execution_count": 290,
     "metadata": {},
     "output_type": "execute_result"
    }
   ],
   "source": [
    "inequality = abs((x+2)/(x-2)) > 0\n",
    "solveset(f=inequality, symbol=x, domain=S.Reals)"
   ]
  },
  {
   "cell_type": "markdown",
   "metadata": {},
   "source": [
    "### solving a two-sided inequality\n",
    "$0 < 3-x < 1$"
   ]
  },
  {
   "cell_type": "code",
   "execution_count": 291,
   "metadata": {},
   "outputs": [
    {
     "data": {
      "text/latex": [
       "$\\displaystyle \\left[2, 3\\right)$"
      ],
      "text/plain": [
       "Interval.Ropen(2, 3)"
      ]
     },
     "execution_count": 291,
     "metadata": {},
     "output_type": "execute_result"
    }
   ],
   "source": [
    "A = solveset(f=0 < 3-x, symbol=x, domain=S.Reals)\n",
    "B = solveset(f=3-x <= 1, symbol=x, domain=S.Reals)\n",
    "A.intersection(B)"
   ]
  },
  {
   "cell_type": "markdown",
   "metadata": {},
   "source": [
    "### SPECIAL PRODUCTS\n",
    "#### sum and product of same terms\n",
    "$a^2-b^2=(a+b)(a-b)$\n",
    "#### perfect squares or squares of binomials\n",
    "$(a+b)^2=a^2+2ab+b^2$  \n",
    "$(a-b)^2=a^2-2ab+b^2$  \n",
    "\n",
    "#### cubes of binomials or perfect cubes\n",
    "$(a+b)^3=a^3+3a^2b+3ab^2+b^3$  \n",
    "$(a-b)^3=a^3-3a^2b+3ab^2-b^3$  \n",
    "  \n",
    "#### sum of two cubes\n",
    "$a^3+b^3=(a+b)(a^2-ab+b^2)$  \n",
    "#### difference of two cubes\n",
    "$a^3-b^3=(a-b)(a^2+ab+b^2)$  "
   ]
  },
  {
   "cell_type": "markdown",
   "metadata": {},
   "source": [
    "### factor integer\n",
    "$18335=5*19*193$"
   ]
  },
  {
   "cell_type": "code",
   "execution_count": 292,
   "metadata": {},
   "outputs": [
    {
     "data": {
      "text/plain": [
       "{5: 1, 19: 1, 193: 1}"
      ]
     },
     "execution_count": 292,
     "metadata": {},
     "output_type": "execute_result"
    }
   ],
   "source": [
    "factorint(18335)"
   ]
  },
  {
   "cell_type": "markdown",
   "metadata": {},
   "source": [
    "### factor polynomial\n",
    "$3x^2 - 6x$"
   ]
  },
  {
   "cell_type": "code",
   "execution_count": 293,
   "metadata": {},
   "outputs": [
    {
     "data": {
      "text/latex": [
       "$\\displaystyle 3 x \\left(x - 2\\right)$"
      ],
      "text/plain": [
       "3*x*(x - 2)"
      ]
     },
     "execution_count": 293,
     "metadata": {},
     "output_type": "execute_result"
    }
   ],
   "source": [
    "factor(3*x**2 - 6*x)"
   ]
  },
  {
   "cell_type": "markdown",
   "metadata": {},
   "source": [
    "### polynomial multiplication\n",
    "$(x + 1)(x^2 + 2x - 4)$"
   ]
  },
  {
   "cell_type": "code",
   "execution_count": 294,
   "metadata": {},
   "outputs": [
    {
     "data": {
      "text/latex": [
       "$\\displaystyle x^{3} + 3 x^{2} - 2 x - 4$"
      ],
      "text/plain": [
       "x**3 + 3*x**2 - 2*x - 4"
      ]
     },
     "execution_count": 294,
     "metadata": {},
     "output_type": "execute_result"
    }
   ],
   "source": [
    "expand(((x + 1) * (x**2 + 2*x - 4)))"
   ]
  },
  {
   "cell_type": "markdown",
   "metadata": {},
   "source": [
    "### polynomial division\n",
    "$$\\frac{x^4 - 3x^3 + 2x - 5}{x^2 - x + 1} = \\frac{𝑥^2−2𝑥−3}{𝑥−2}$$"
   ]
  },
  {
   "cell_type": "code",
   "execution_count": 295,
   "metadata": {},
   "outputs": [
    {
     "data": {
      "text/plain": [
       "(x**2 - 2*x - 3, x - 2)"
      ]
     },
     "execution_count": 295,
     "metadata": {},
     "output_type": "execute_result"
    }
   ],
   "source": [
    "div((x**4 - 3*x**3 + 2*x -5), (x**2 - x + 1))"
   ]
  },
  {
   "cell_type": "markdown",
   "metadata": {},
   "source": [
    "### multiply polynomial in two variables\n",
    "$(x+y)(x^2 + xy + y)$"
   ]
  },
  {
   "cell_type": "code",
   "execution_count": 296,
   "metadata": {},
   "outputs": [
    {
     "data": {
      "text/latex": [
       "$\\displaystyle x^{3} + 2 x^{2} y + x y^{2} + x y + y^{2}$"
      ],
      "text/plain": [
       "x**3 + 2*x**2*y + x*y**2 + x*y + y**2"
      ]
     },
     "execution_count": 296,
     "metadata": {},
     "output_type": "execute_result"
    }
   ],
   "source": [
    "expand(((x+y)*(x**2 + x*y + y)))"
   ]
  },
  {
   "cell_type": "markdown",
   "metadata": {},
   "source": [
    "### QUADRATIC FORMULA\n",
    "If $ax^2 + bx + c = 0$, then  \n",
    "$$x = \\frac{-b \\pm \\sqrt{b^2 - 4ac}}{2a}$$"
   ]
  },
  {
   "cell_type": "markdown",
   "metadata": {},
   "source": [
    "### Convert a repeating decimal to a ratio of two integers:  \n",
    "$x=1.023232323...$  \n",
    "\\begin{align}\n",
    "1000x=1023.232323... \\\\\n",
    "10x=10.23232323... \\\\\n",
    "\\hline\n",
    "990x=1013.0\n",
    "\\end{align}\n",
    "  \n",
    "Thus $x=\\frac{1013}{990}$"
   ]
  },
  {
   "cell_type": "markdown",
   "metadata": {},
   "source": [
    "### graphing inequalities on the real number line"
   ]
  },
  {
   "cell_type": "markdown",
   "metadata": {},
   "source": [
    "Graph all numbers for which $x < 4$"
   ]
  },
  {
   "cell_type": "code",
   "execution_count": 316,
   "metadata": {},
   "outputs": [
    {
     "data": {
      "application/vnd.jupyter.widget-view+json": {
       "model_id": "f7e5d358d23e453a94461f84b93238d8",
       "version_major": 2,
       "version_minor": 0
      },
      "image/png": "[encoded data removed]",
      "text/html": [
       "\n",
       "            <div style=\"display: inline-block;\">\n",
       "                <div class=\"jupyter-widgets widget-label\" style=\"text-align: center;\">\n",
       "                    Figure\n",
       "                </div>\n",
       "                <img src='data:image/png;base64,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' width=640.0/>\n",
       "            </div>\n",
       "        "
      ],
      "text/plain": [
       "Canvas(toolbar=Toolbar(toolitems=[('Home', 'Reset original view', 'home', 'home'), ('Back', 'Back to previous …"
      ]
     },
     "metadata": {},
     "output_type": "display_data"
    }
   ],
   "source": [
    "fig, ax = plt.subplots(nrows=1)\n",
    "x_min = -2\n",
    "x_max = 5\n",
    "p = 4\n",
    "ax.set_ylim(-1, 1)\n",
    "ax.set_xlim(x_min - 0.4, x_max + 0.4)\n",
    "ax.set_xticks(range(x_min, x_max + 1))\n",
    "ax.set_yticks([])\n",
    "ax.tick_params(axis='x', direction='inout', length=10)\n",
    "ax.spines['bottom'].set_position('zero')\n",
    "ax.spines['bottom'].set_zorder(0)\n",
    "for dir in ['left', 'right', 'top']:\n",
    "    ax.spines[dir].set_visible(False)\n",
    "ax.plot([x_min - 0.4, p], [0, 0], color='red', lw=1)\n",
    "ax.plot([x_min - 0.2, x_min - 0.4, x_min - 0.2], [0.2, 0, -0.2], color='red', lw=1)\n",
    "ax.plot([x_max + 0.2, x_max + 0.4, x_max + 0.2], [0.2, 0, -0.2], color='black', lw=1)\n",
    "ax.plot(p, \n",
    "        0, \n",
    "        linestyle='', \n",
    "        marker='o', \n",
    "        fillstyle='full', \n",
    "        markerfacecolor='white', \n",
    "        markeredgecolor='red',\n",
    "        markersize=5, \n",
    "        lw=2, \n",
    "        zorder=3)\n",
    "ax.set_aspect('equal')"
   ]
  },
  {
   "cell_type": "markdown",
   "metadata": {},
   "source": [
    "Graph all numbers for which $x \\leq 7$"
   ]
  },
  {
   "cell_type": "code",
   "execution_count": 315,
   "metadata": {},
   "outputs": [
    {
     "data": {
      "application/vnd.jupyter.widget-view+json": {
       "model_id": "77181bd1a09a4b769691634ffdcc82df",
       "version_major": 2,
       "version_minor": 0
      },
      "image/png": "[encoded data removed]",
      "text/html": [
       "\n",
       "            <div style=\"display: inline-block;\">\n",
       "                <div class=\"jupyter-widgets widget-label\" style=\"text-align: center;\">\n",
       "                    Figure\n",
       "                </div>\n",
       "                <img src='data:image/png;base64,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' width=640.0/>\n",
       "            </div>\n",
       "        "
      ],
      "text/plain": [
       "Canvas(toolbar=Toolbar(toolitems=[('Home', 'Reset original view', 'home', 'home'), ('Back', 'Back to previous …"
      ]
     },
     "metadata": {},
     "output_type": "display_data"
    }
   ],
   "source": [
    "fig, ax = plt.subplots(nrows=1)\n",
    "x_min = -1\n",
    "x_max = 9\n",
    "p = 7\n",
    "ax.set_ylim(-1, 1)\n",
    "ax.set_xlim(x_min - 0.4, x_max + 0.4)\n",
    "ax.set_xticks(range(x_min, x_max + 1))\n",
    "ax.set_yticks([])\n",
    "ax.tick_params(axis='x', direction='inout', length=10)\n",
    "ax.spines['bottom'].set_position('zero')\n",
    "ax.spines['bottom'].set_zorder(0)\n",
    "for dir in ['left', 'right', 'top']:\n",
    "    ax.spines[dir].set_visible(False)\n",
    "ax.plot([x_min - 0.4, p], [0, 0], color='red', lw=1)\n",
    "ax.plot([x_min - 0.2, x_min - 0.4, x_min - 0.2], [0.2, 0, -0.2], color='red', lw=1)\n",
    "ax.plot([x_max + 0.2, x_max + 0.4, x_max + 0.2], [0.2, 0, -0.2], color='black', lw=1)\n",
    "ax.plot(p, 0, linestyle='', marker='o', fillstyle='full', markerfacecolor='red', markeredgecolor='red',\n",
    "        markersize=5, lw=2, zorder=3)\n",
    "ax.set_aspect('equal')"
   ]
  },
  {
   "cell_type": "markdown",
   "metadata": {},
   "source": [
    "## absolute value\n",
    "The absolute value of real number _a_ is the distance from *a* to 0.  \n",
    "$\\vert a \\vert  = a$ if $a \\ge 0$ and $\\vert a \\vert = -a $ if $a \\lt 0$.  \n",
    "  \n",
    "If $a \\gt 0$, then  \n",
    "$\\vert x \\vert = a$ means $x = a$ or $x = -a$.  \n",
    "$\\vert x \\vert \\lt a$ means $-a \\lt x \\lt a$.  \n",
    "$\\vert x \\vert \\gt a$ means $x \\gt a$ or $x \\lt -a$.  \n",
    "\n",
    "If $a$ is any real number, then  \n",
    "$\\sqrt{a^2} = |a|$"
   ]
  },
  {
   "cell_type": "code",
   "execution_count": 299,
   "metadata": {},
   "outputs": [
    {
     "data": {
      "text/plain": [
       "True"
      ]
     },
     "execution_count": 299,
     "metadata": {},
     "output_type": "execute_result"
    }
   ],
   "source": [
    "abs(-10) == -(-10) == 10"
   ]
  },
  {
   "cell_type": "markdown",
   "metadata": {},
   "source": [
    "#### DEFINITION  \n",
    "<i>P</i> and <i>Q</i> are two points on a real number line with coordinates <i>a</i> and <i>b</i>.  \n",
    "  \n",
    "*d(P, Q)* denotes the distance between <i>P</i> and <i>Q</i>.   \n",
    "  \n",
    "The **distance between *P* and _Q_** is  \n",
    "  \n",
    "<table>\n",
    "  <tr>\n",
    "      <td><i>d(P, Q)</i> = |b - a|</td>\n",
    "  </tr>\n",
    "</table>  \n",
    "  \n",
    "Because |b - a| = |a - b|,  \n",
    "*d(P, Q)* = _d(Q, P)_.  \n"
   ]
  },
  {
   "cell_type": "markdown",
   "metadata": {},
   "source": [
    "If solving an equation returns the error below:  \n",
    "`NotImplementedError: solving Abs(x) when the argument is not real or imaginary.`  \n",
    "Define the symbol `x` as a real number as the example below."
   ]
  },
  {
   "cell_type": "code",
   "execution_count": 300,
   "metadata": {},
   "outputs": [
    {
     "data": {
      "text/latex": [
       "$\\displaystyle 2 \\left|{x}\\right| - 3$"
      ],
      "text/plain": [
       "2*Abs(x) - 3"
      ]
     },
     "metadata": {},
     "output_type": "display_data"
    },
    {
     "data": {
      "text/plain": [
       "[-3/2, 3/2]"
      ]
     },
     "execution_count": 300,
     "metadata": {},
     "output_type": "execute_result"
    }
   ],
   "source": [
    "x = symbols('x', real=True)\n",
    "expression = abs(2*x) - 3\n",
    "display(expression)\n",
    "solve(expression)"
   ]
  },
  {
   "cell_type": "markdown",
   "metadata": {},
   "source": [
    "### Number line distance\n",
    "$P, Q$ and $R$ are points on a real number line."
   ]
  },
  {
   "cell_type": "code",
   "execution_count": 301,
   "metadata": {},
   "outputs": [],
   "source": [
    "P = -5\n",
    "Q = 7\n",
    "R = -3"
   ]
  },
  {
   "cell_type": "code",
   "execution_count": 320,
   "metadata": {},
   "outputs": [
    {
     "data": {
      "application/vnd.jupyter.widget-view+json": {
       "model_id": "cbca6f9f13fa4dce8822213bdc8d999f",
       "version_major": 2,
       "version_minor": 0
      },
      "image/png": "[encoded data removed]",
      "text/html": [
       "\n",
       "            <div style=\"display: inline-block;\">\n",
       "                <div class=\"jupyter-widgets widget-label\" style=\"text-align: center;\">\n",
       "                    Figure\n",
       "                </div>\n",
       "                <img src='data:image/png;base64,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' width=640.0/>\n",
       "            </div>\n",
       "        "
      ],
      "text/plain": [
       "Canvas(toolbar=Toolbar(toolitems=[('Home', 'Reset original view', 'home', 'home'), ('Back', 'Back to previous …"
      ]
     },
     "metadata": {},
     "output_type": "display_data"
    }
   ],
   "source": [
    "fig, ax = plt.subplots(nrows=1)\n",
    "x_min = -6\n",
    "x_max = 8\n",
    "ax.set_ylim(-1, 1)\n",
    "ax.set_xlim(x_min - 0.4, x_max + 0.4)\n",
    "ax.set_xticks(range(x_min, x_max + 1))\n",
    "ax.set_yticks([])\n",
    "ax.tick_params(axis='x', direction='inout', length=10)\n",
    "ax.spines['bottom'].set_position('zero')\n",
    "ax.spines['bottom'].set_zorder(0)\n",
    "for dir in ['left', 'right', 'top']:\n",
    "    ax.spines[dir].set_visible(False)\n",
    "ax.plot([x_min - 0.2, x_min - 0.4, x_min - 0.2], [0.2, 0, -0.2], color='black', lw=1)\n",
    "ax.plot([x_max + 0.2, x_max + 0.4, x_max + 0.2], [0.2, 0, -0.2], color='black', lw=1)\n",
    "\n",
    "# plot points and annotations\n",
    "ax.plot(P, 0, linestyle='', marker='o', fillstyle='full', markerfacecolor='red', markeredgecolor='red',\n",
    "        markersize=5, lw=2, zorder=3)\n",
    "plt.annotate(text='P', xy=(P, .5), size=20, color='red')\n",
    "\n",
    "ax.plot(Q, 0, linestyle='', marker='o', fillstyle='full', markerfacecolor='red', markeredgecolor='red',\n",
    "        markersize=5, lw=2, zorder=3)\n",
    "plt.annotate(text='Q', xy=(Q, .5), size=20, color='red')\n",
    "\n",
    "ax.plot(R, 0, linestyle='', marker='o', fillstyle='full', markerfacecolor='red', markeredgecolor='red',\n",
    "        markersize=5, lw=2, zorder=3)\n",
    "plt.annotate(text='R', xy=(R, .5), size=20, color='red')\n",
    "\n",
    "ax.set_aspect('equal')"
   ]
  },
  {
   "cell_type": "markdown",
   "metadata": {},
   "source": [
    "Find the distance between P and Q."
   ]
  },
  {
   "cell_type": "code",
   "execution_count": 303,
   "metadata": {},
   "outputs": [
    {
     "data": {
      "text/plain": [
       "12"
      ]
     },
     "execution_count": 303,
     "metadata": {},
     "output_type": "execute_result"
    }
   ],
   "source": [
    "abs(P - Q)"
   ]
  },
  {
   "cell_type": "markdown",
   "metadata": {},
   "source": [
    "## linear equations\n",
    "### point slope form\n",
    "$y - y_1 = m(x - x_1)$  "
   ]
  },
  {
   "cell_type": "markdown",
   "metadata": {},
   "source": [
    "## variable domain\n",
    "The set of values a variable may assume.  \n",
    "  \n",
    "**EXAMPLES:**  \n",
    "Area A of a circle of radius $r$:  \n",
    "A = $\\pi r^2$  \n",
    "_r_ is restricted to positive real numbers.  \n",
    "  \n",
    "Allowable values for fraction denominator:  \n",
    "$\\frac{1}{x}$  \n",
    "$x \\neq 0$\n",
    "  \n",
    "### circle circumference  \n",
    "$C = 2\\pi r$  \n",
    "  \n",
    "Radius $r$ is the set of positive real numbers.  \n",
    "$C$ is the set of positive real numbers.  "
   ]
  },
  {
   "cell_type": "markdown",
   "metadata": {},
   "source": [
    "### exclude invalid variables from the domain"
   ]
  },
  {
   "cell_type": "code",
   "execution_count": 304,
   "metadata": {},
   "outputs": [],
   "source": [
    "X_COORDS = {'a': 3, 'b': 1, 'c': 0, 'd': -1}"
   ]
  },
  {
   "cell_type": "code",
   "execution_count": 305,
   "metadata": {},
   "outputs": [
    {
     "name": "stdout",
     "output_type": "stream",
     "text": [
      "exclude from domain:\n",
      "c\n"
     ]
    }
   ],
   "source": [
    "print('exclude from domain:')\n",
    "for key in X_COORDS:\n",
    "    X = X_COORDS[key]\n",
    "    try:\n",
    "        (X**2 - 1)/X\n",
    "    except ZeroDivisionError:\n",
    "        print(key)"
   ]
  },
  {
   "cell_type": "markdown",
   "metadata": {},
   "source": [
    "### definitions\n",
    "$a^0 = 1$ if $a \\ne 0$\n",
    "\n",
    "$a^{-n} = \\frac{1}{a^n}$ if $a \\neq 0$ and $n$ is a positive integer  \n",
    "  \n",
    "### exponent laws\n",
    "If $x \\neq 0$,  \n",
    "  \n",
    "&emsp;$x^mx^n=x^{m+n}$  \n",
    "  \n",
    "&emsp;$(x^m)^n=x^{mn}$  \n",
    "  \n",
    "&emsp;$(xy)^n=x^ny^n$  \n",
    "  \n",
    "&emsp;$\\frac{x^m}{x^n} = x^{m-n} = \\frac{1}{x^{n-m}}$ if $x \\ne 0$  \n",
    "  \n",
    "&emsp;$x^{-n} = \\frac{1}{x^n}$  \n",
    "  \n",
    "&emsp;$(\\frac{x}{y})^n = \\frac{x^n}{y^n}$ if $y \\ne 0$  \n",
    "  \n",
    "&emsp;$x^{\\frac{1}{n}} = \\sqrt[n]{x}$  \n",
    "  \n",
    "&emsp;$x^{\\frac{m}{n}} = \\sqrt[n]{x^m} = (\\sqrt[n]{x})^m$  \n",
    "  \n",
    "&emsp;$\\sqrt[n]{xy} = \\sqrt[n]{x} \\sqrt[n]{y}$  \n",
    "\n",
    "&emsp;$\\sqrt[m]{\\sqrt[n]{x}} = \\sqrt[n]{\\sqrt[m]{x}} = \\sqrt[mn]{x}$\n",
    "\n",
    "&emsp;$\\sqrt[n]{\\frac{x}{y}} = \\frac{\\sqrt[n]{x}}{\\sqrt[n]{y}}$  "
   ]
  },
  {
   "cell_type": "markdown",
   "metadata": {},
   "source": [
    "### evaluating expressions with negative exponents"
   ]
  },
  {
   "cell_type": "code",
   "execution_count": 306,
   "metadata": {},
   "outputs": [
    {
     "data": {
      "text/latex": [
       "$\\displaystyle \\frac{1}{8}$"
      ],
      "text/plain": [
       "1/8"
      ]
     },
     "execution_count": 306,
     "metadata": {},
     "output_type": "execute_result"
    }
   ],
   "source": [
    "Rational(2**(-3))"
   ]
  },
  {
   "cell_type": "code",
   "execution_count": 307,
   "metadata": {},
   "outputs": [
    {
     "data": {
      "text/latex": [
       "$\\displaystyle \\frac{1}{x^{4}}$"
      ],
      "text/plain": [
       "x**(-4)"
      ]
     },
     "execution_count": 307,
     "metadata": {},
     "output_type": "execute_result"
    }
   ],
   "source": [
    "x**(-4)"
   ]
  },
  {
   "cell_type": "markdown",
   "metadata": {},
   "source": [
    "### square root evaluation\n",
    "$\\sqrt{a}$ means give me the nonnegative number whose square is $a$.  \n",
    "  \n",
    "The principle square root is nonnegative.  \n",
    "### definition\n",
    "Let $A$ be a nonnegative real number.  \n",
    "Let $B$ be a nonnegative number such that $B^2 = A$.  \n",
    "$B$ is the principle square root of $A$ and is denoted by $B = \\sqrt{A}$.  \n",
    "\n",
    "### comments\n",
    "Real negative numbers do not have square roots.  \n",
    "$0$ is the priciple square root of $0$.  \n",
    "Postive numbers have positive principle square roots.  "
   ]
  },
  {
   "cell_type": "markdown",
   "metadata": {},
   "source": [
    "Label real number line points with the following coordinates:  \n",
    "$-2.5, -1, 0, .25, \\frac{3}{4}, 1, \\frac{5}{2}$"
   ]
  },
  {
   "cell_type": "code",
   "execution_count": 321,
   "metadata": {},
   "outputs": [
    {
     "data": {
      "application/vnd.jupyter.widget-view+json": {
       "model_id": "4175c6a69f034789b1250b126ca01be1",
       "version_major": 2,
       "version_minor": 0
      },
      "image/png": "[encoded data removed]",
      "text/html": [
       "\n",
       "            <div style=\"display: inline-block;\">\n",
       "                <div class=\"jupyter-widgets widget-label\" style=\"text-align: center;\">\n",
       "                    Figure\n",
       "                </div>\n",
       "                <img src='data:image/png;base64,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' width=640.0/>\n",
       "            </div>\n",
       "        "
      ],
      "text/plain": [
       "Canvas(toolbar=Toolbar(toolitems=[('Home', 'Reset original view', 'home', 'home'), ('Back', 'Back to previous …"
      ]
     },
     "metadata": {},
     "output_type": "display_data"
    }
   ],
   "source": [
    "fig, ax = plt.subplots(nrows=1)\n",
    "x_min = -3\n",
    "x_max = 3\n",
    "ax.set_ylim(-1, 1)\n",
    "ax.set_xlim(x_min - 0.4, x_max + 0.4)\n",
    "ax.set_xticks(range(x_min, x_max + 1))\n",
    "ax.set_yticks([])\n",
    "ax.tick_params(axis='x', direction='inout', length=10)\n",
    "ax.spines['bottom'].set_position('zero')\n",
    "ax.spines['bottom'].set_zorder(0)\n",
    "for dir in ['left', 'right', 'top']:\n",
    "    ax.spines[dir].set_visible(False)\n",
    "ax.plot([x_min - 0.2, x_min - 0.4, x_min - 0.2], [0.2, 0, -0.2], color='black', lw=1)\n",
    "ax.plot([x_max + 0.2, x_max + 0.4, x_max + 0.2], [0.2, 0, -0.2], color='black', lw=1)\n",
    "\n",
    "for point in [-2.5, -1, 0, .25, Rational(3,4), 1, Rational(5,2)]:\n",
    "    ax.plot(point, 0, linestyle='', marker='o', fillstyle='full', markerfacecolor='red', markeredgecolor='red',\n",
    "            markersize=5, lw=2, zorder=3)\n",
    "    \n",
    "plt.annotate(text=-2.5, xy=(-2.5, .15), size=10, color='red')\n",
    "plt.annotate(text=-1, xy=(-1, .15), size=10, color='red')\n",
    "plt.annotate(text=0, xy=(0, .15), size=10, color='red')\n",
    "plt.annotate(text=.25, xy=(.2, -.28), size=10, color='red')\n",
    "plt.annotate(text=Rational(3,4), xy=(.5, .15), size=10, color='red')\n",
    "plt.annotate(text=1, xy=(1, .15), size=10, color='red')\n",
    "plt.annotate(text=Rational(5,2), xy=(5/2, .15), size=10, color='red')\n",
    "\n",
    "ax.set_aspect('equal')\n",
    "plt.show()"
   ]
  },
  {
   "cell_type": "markdown",
   "metadata": {},
   "source": [
    "### expression evaluation\n",
    "*x, y, a, b* and _c_ represent numbers.  \n",
    "A **variable** is a letter used to represent any number in a set.  \n",
    "A **constant** is a fixed number or a letter that represents a fixed number.  "
   ]
  },
  {
   "cell_type": "markdown",
   "metadata": {},
   "source": [
    "---\n",
    "## Exponents"
   ]
  },
  {
   "cell_type": "markdown",
   "metadata": {},
   "source": [
    "Simplify $\\sqrt[3]\\frac{-1}{64}$\n"
   ]
  },
  {
   "cell_type": "code",
   "execution_count": 309,
   "metadata": {},
   "outputs": [
    {
     "ename": "NameError",
     "evalue": "name 'real_root' is not defined",
     "output_type": "error",
     "traceback": [
      "\u001b[0;31m---------------------------------------------------------------------------\u001b[0m",
      "\u001b[0;31mNameError\u001b[0m                                 Traceback (most recent call last)",
      "\u001b[1;32m/workspaces/math_notebooks/math.ipynb Cell 129\u001b[0m line \u001b[0;36m1\n\u001b[0;32m----> <a href='vscode-notebook-cell://dev-container%2B7b22686f737450617468223a222f686f6d652f676572616c642f636f64652f6d6174685f6e6f7465626f6f6b73222c226c6f63616c446f636b6572223a66616c73652c22636f6e66696746696c65223a7b22246d6964223a312c22667350617468223a222f686f6d652f676572616c642f636f64652f6d6174685f6e6f7465626f6f6b732f2e646576636f6e7461696e65722f646576636f6e7461696e65722e6a736f6e222c2265787465726e616c223a2266696c653a2f2f2f686f6d652f676572616c642f636f64652f6d6174685f6e6f7465626f6f6b732f2e646576636f6e7461696e65722f646576636f6e7461696e65722e6a736f6e222c2270617468223a222f686f6d652f676572616c642f636f64652f6d6174685f6e6f7465626f6f6b732f2e646576636f6e7461696e65722f646576636f6e7461696e65722e6a736f6e222c22736368656d65223a2266696c65227d7d/workspaces/math_notebooks/math.ipynb#Y242sdnNjb2RlLXJlbW90ZQ%3D%3D?line=0'>1</a>\u001b[0m real_root(Rational(\u001b[39m-\u001b[39m\u001b[39m1\u001b[39m,\u001b[39m64\u001b[39m), \u001b[39m3\u001b[39m)\n",
      "\u001b[0;31mNameError\u001b[0m: name 'real_root' is not defined"
     ]
    }
   ],
   "source": [
    "real_root(Rational(-1,64), 3)"
   ]
  },
  {
   "cell_type": "markdown",
   "metadata": {},
   "source": [
    "  "
   ]
  },
  {
   "cell_type": "markdown",
   "metadata": {},
   "source": [
    "simplify $(2x^\\frac{3}{2})(4x^\\frac{-1}{2})$  "
   ]
  },
  {
   "cell_type": "code",
   "execution_count": null,
   "metadata": {},
   "outputs": [],
   "source": [
    "2*x**Rational(3,2) * 4*x**Rational(-1,2)"
   ]
  },
  {
   "cell_type": "markdown",
   "metadata": {},
   "source": [
    "use `powdenest(expression, force=True)` to simplify exponents\n",
    "\n",
    "$(8x^6)^\\frac{-2}{3}$"
   ]
  },
  {
   "cell_type": "code",
   "execution_count": null,
   "metadata": {},
   "outputs": [],
   "source": [
    "powdenest((8*x**6)**Rational(-2,3), force=True)"
   ]
  },
  {
   "cell_type": "markdown",
   "metadata": {},
   "source": [
    "---"
   ]
  },
  {
   "cell_type": "code",
   "execution_count": null,
   "metadata": {},
   "outputs": [],
   "source": [
    "2*x**Rational(3,2) * 4*x**Rational(-1,2)"
   ]
  },
  {
   "cell_type": "markdown",
   "metadata": {},
   "source": [
    "---\n",
    "use `limit_denominator(10**12)` for rationals with negative exponents  \n",
    "$\\frac{3^{-2}}{1}$"
   ]
  },
  {
   "cell_type": "code",
   "execution_count": null,
   "metadata": {},
   "outputs": [],
   "source": [
    "Rational(3**-2, 1).limit_denominator(10**12)"
   ]
  },
  {
   "cell_type": "markdown",
   "metadata": {},
   "source": [
    "---"
   ]
  },
  {
   "cell_type": "markdown",
   "metadata": {},
   "source": [
    "### scientific notation"
   ]
  },
  {
   "cell_type": "code",
   "execution_count": null,
   "metadata": {},
   "outputs": [],
   "source": [
    "f\"{.0007029:.3E}\""
   ]
  },
  {
   "cell_type": "code",
   "execution_count": null,
   "metadata": {},
   "outputs": [],
   "source": [
    "A = (.00046*Float('1.697e22'))/Float('2.91e-18')\n",
    "Float(str(A), 2)"
   ]
  },
  {
   "cell_type": "markdown",
   "metadata": {},
   "source": [
    "suppress scientific notation"
   ]
  },
  {
   "cell_type": "code",
   "execution_count": null,
   "metadata": {},
   "outputs": [],
   "source": [
    "f\"{6.257 * 10**-10:.13f}\""
   ]
  },
  {
   "cell_type": "markdown",
   "metadata": {},
   "source": [
    "---\n",
    "Solve equation where one side is equal to the expression, and the other side is equal to 0."
   ]
  },
  {
   "cell_type": "code",
   "execution_count": null,
   "metadata": {},
   "outputs": [],
   "source": [
    "expression = x**2 - (x+3)**Rational(1,2) \n",
    "solve(expression)"
   ]
  },
  {
   "cell_type": "markdown",
   "metadata": {},
   "source": [
    "return approximate solutions"
   ]
  },
  {
   "cell_type": "code",
   "execution_count": null,
   "metadata": {},
   "outputs": [],
   "source": [
    "[N(_) for _ in solve(expression)]"
   ]
  },
  {
   "cell_type": "markdown",
   "metadata": {},
   "source": [
    "---"
   ]
  },
  {
   "cell_type": "markdown",
   "metadata": {},
   "source": [
    "solve equation and only return real roots\n",
    "\n",
    "The following approach is also valid  \n",
    "`x = Symbol('x', real=True)\n",
    "solve(..., x)`"
   ]
  },
  {
   "cell_type": "code",
   "execution_count": null,
   "metadata": {},
   "outputs": [],
   "source": [
    "[N(num) for num in real_roots(x**3 + 2*x - 1, x)]"
   ]
  },
  {
   "cell_type": "markdown",
   "metadata": {},
   "source": [
    "---\n",
    "# Graphing examples"
   ]
  },
  {
   "cell_type": "markdown",
   "metadata": {},
   "source": [
    "graph single function"
   ]
  },
  {
   "cell_type": "code",
   "execution_count": null,
   "metadata": {},
   "outputs": [],
   "source": [
    "x_coords = np.linspace(-3, 4, num=1000) # endpoint=False\n",
    "y_coords = [x_coord**2 - (x_coord+3)**.5 for x_coord in x_coords]\n",
    "\n",
    "plt.plot(x_coords, y_coords)\n",
    "\n",
    "y_max = 5\n",
    "plt.axis(ymin=-y_max, ymax=y_max)\n",
    "#plt.axis('equal')\n",
    "plt.grid()\n",
    "plt.xlabel('$x$')\n",
    "plt.ylabel('$y$')\n",
    "plt.axhline(0, color='black', lw=2)\n",
    "_=plt.axvline(0, color='black', lw=2)"
   ]
  },
  {
   "cell_type": "markdown",
   "metadata": {},
   "source": [
    "graph two functions"
   ]
  },
  {
   "cell_type": "code",
   "execution_count": null,
   "metadata": {},
   "outputs": [],
   "source": [
    "x_max = 5\n",
    "x_coords = np.linspace(-x_max, x_max, 1000)\n",
    "y_coords = [x_coord**2 - x_coord - 5 for x_coord in x_coords]\n",
    "y_coords2 = [x_coord+3 for x_coord in x_coords]\n",
    "\n",
    "plt.plot(x_coords, y_coords)\n",
    "plt.plot(x_coords, y_coords2, color='red')\n",
    "\n",
    "y_max = 10\n",
    "plt.axis(ymin=-y_max, ymax=y_max)\n",
    "#plt.axis('equal')\n",
    "plt.grid()\n",
    "plt.xlabel('$x$')\n",
    "plt.ylabel('$y$')\n",
    "plt.axhline(0, color='black', lw=2)\n",
    "_=plt.axvline(0, color='black', lw=2)"
   ]
  },
  {
   "cell_type": "markdown",
   "metadata": {},
   "source": [
    "find points of intersection for two functions graphed above"
   ]
  },
  {
   "cell_type": "code",
   "execution_count": null,
   "metadata": {
    "scrolled": true
   },
   "outputs": [],
   "source": [
    "solve((Eq(x**2 - x - 5 - y, 0), Eq(x + 3 - y, 0)), (x, y))"
   ]
  },
  {
   "cell_type": "markdown",
   "metadata": {},
   "source": [
    "#### remove element by value from numpy array"
   ]
  },
  {
   "cell_type": "code",
   "execution_count": null,
   "metadata": {},
   "outputs": [],
   "source": [
    "x_coords = np.linspace(0, 1, 10)\n",
    "print(f'original length: {len(x_coords)}')\n",
    "print(f'elements: {x_coords}')\n",
    "\n",
    "x_coords = x_coords[x_coords != 0]\n",
    "print(f'length after removing element with value 0: {len(x_coords)}')"
   ]
  },
  {
   "cell_type": "markdown",
   "metadata": {},
   "source": [
    "#### limit domain example\n",
    "Remove values from numpy linspace array where  \n",
    "$-1 < x < 1$"
   ]
  },
  {
   "cell_type": "code",
   "execution_count": null,
   "metadata": {},
   "outputs": [],
   "source": [
    "x_coords = np.linspace(-20, 20, num=10000) # , endpoint=False\n",
    "x_coords_gt_1 = x_coords[x_coords > 1]\n",
    "x_coords_lt_n1 = x_coords[x_coords < -1]\n",
    "domain = np.concatenate((x_coords_gt_1, x_coords_lt_n1), axis=0)\n",
    "y_coords = [(x_coord**2 - 1)**(2/3) for x_coord in domain]\n",
    "plt.plot(domain, y_coords)\n",
    "\n",
    "plt.axis(ymin=-2, ymax=30) # ymin=-1500, ymax=30, 'equal'\n",
    "plt.grid()\n",
    "plt.xlabel('$x$')\n",
    "plt.ylabel('$y$')\n",
    "plt.axhline(0, color='black', lw=2)\n",
    "_=plt.axvline(0, color='black', lw=2)"
   ]
  },
  {
   "cell_type": "markdown",
   "metadata": {},
   "source": [
    "labels and title example"
   ]
  },
  {
   "cell_type": "code",
   "execution_count": null,
   "metadata": {},
   "outputs": [],
   "source": [
    "x_coords = np.linspace(0, 2, 100)\n",
    "\n",
    "plt.plot(x_coords, x_coords, label='linear')\n",
    "plt.plot(x_coords, x_coords**2, label='quadratic')\n",
    "plt.plot(x_coords, x_coords**3, label='cubic')\n",
    "\n",
    "plt.xlabel('x label')\n",
    "plt.ylabel('y label')\n",
    "\n",
    "plt.title(\"Simple Plot\")\n",
    "\n",
    "plt.legend()\n",
    "\n",
    "plt.show()"
   ]
  },
  {
   "cell_type": "markdown",
   "metadata": {},
   "source": [
    "---"
   ]
  },
  {
   "cell_type": "code",
   "execution_count": null,
   "metadata": {},
   "outputs": [],
   "source": [
    "solveset(x**2 - x - 1 > 0, x, domain=S.Reals)"
   ]
  },
  {
   "cell_type": "markdown",
   "metadata": {},
   "source": [
    "---\n",
    "### Find function minimum within a restricted domain"
   ]
  },
  {
   "cell_type": "code",
   "execution_count": null,
   "metadata": {},
   "outputs": [],
   "source": [
    "x_coords = np.linspace(-5, 5, 10000) # increased x_coords size from 1k to 10k to get better approximation\n",
    "y_coords = [x_coord**4 + 2*x_coord - 1 for x_coord in x_coords]\n",
    "\n",
    "plt.plot(x_coords, y_coords)\n",
    "\n",
    "plt.axis(ymin=-10, ymax=10) # ymin=-1500, ymax=30, 'equal'\n",
    "plt.grid()\n",
    "plt.xlabel('$x$')\n",
    "plt.ylabel('$y$')\n",
    "plt.axhline(0, color='black', lw=2)\n",
    "_=plt.axvline(0, color='black', lw=2)"
   ]
  },
  {
   "cell_type": "code",
   "execution_count": null,
   "metadata": {},
   "outputs": [],
   "source": [
    "x_coords = np.linspace(-5, 5, 10000)\n",
    "y_coords = [x_coord**4 + 2*x_coord - 1 for x_coord in x_coords]\n",
    "\n",
    "# find y min\n",
    "y_min = min(y_coords)\n",
    "\n",
    "# find x min\n",
    "list_index = y_coords.index(y_min)\n",
    "x_min = x_coords[list_index]\n",
    "\n",
    "print(f'({x_min:.3f}, {y_min:.3f})')"
   ]
  },
  {
   "cell_type": "markdown",
   "metadata": {},
   "source": [
    "---\n",
    "### Find function maximum within a restricted domain"
   ]
  },
  {
   "cell_type": "code",
   "execution_count": null,
   "metadata": {},
   "outputs": [],
   "source": [
    "x_coords = np.linspace(-5, 5, 10000)\n",
    "y_coords = [x_coord**4 - 6*x_coord**2 + 3 for x_coord in x_coords]\n",
    "\n",
    "plt.plot(x_coords, y_coords)\n",
    "\n",
    "plt.axis(ymin=-10, ymax=10) # ymin=-1500, ymax=30, 'equal'\n",
    "plt.grid()\n",
    "plt.xlabel('$x$')\n",
    "plt.ylabel('$y$')\n",
    "plt.axhline(0, color='black', lw=2)\n",
    "_=plt.axvline(0, color='black', lw=2)"
   ]
  },
  {
   "cell_type": "code",
   "execution_count": null,
   "metadata": {},
   "outputs": [],
   "source": [
    "x_coords = np.linspace(-1, 1, 10000)\n",
    "y_coords = [x_coord**4 - 6*x_coord**2 + 3 for x_coord in x_coords]\n",
    "\n",
    "# find y max\n",
    "y_max = max(y_coords)\n",
    "\n",
    "# find x max\n",
    "list_index = y_coords.index(y_max)\n",
    "x_max = x_coords[list_index]\n",
    "\n",
    "print(f'({x_max:.3f}, {y_max:.3f})')"
   ]
  },
  {
   "cell_type": "markdown",
   "metadata": {},
   "source": [
    "---\n",
    "### Find x and y intercepts of function graphed below\n",
    "$f(x) = x^3 + x^2 - 4^x - 4$"
   ]
  },
  {
   "cell_type": "code",
   "execution_count": null,
   "metadata": {},
   "outputs": [],
   "source": [
    "x_coords = np.linspace(-3, 4, 1000)\n",
    "y_coords = [x_coord**3 + x_coord**2 - 4*x_coord - 4 for x_coord in x_coords]\n",
    "\n",
    "plt.plot(x_coords, y_coords)\n",
    "\n",
    "plt.axis(ymin=-10, ymax=10)\n",
    "plt.grid()\n",
    "plt.xlabel('$x$')\n",
    "plt.ylabel('$y$')\n",
    "plt.axhline(0, color='black', lw=2)\n",
    "_=plt.axvline(0, color='black', lw=2)"
   ]
  },
  {
   "cell_type": "markdown",
   "metadata": {},
   "source": [
    "find x-intercepts"
   ]
  },
  {
   "cell_type": "code",
   "execution_count": null,
   "metadata": {},
   "outputs": [],
   "source": [
    "solve(x**3 + x**2 - 4*x - 4)"
   ]
  },
  {
   "cell_type": "markdown",
   "metadata": {},
   "source": [
    "find y-intercept"
   ]
  },
  {
   "cell_type": "code",
   "execution_count": null,
   "metadata": {},
   "outputs": [],
   "source": [
    "(x**3 + x**2 - 4*x - 4).subs(x,0)"
   ]
  },
  {
   "cell_type": "markdown",
   "metadata": {},
   "source": [
    "### graph trigonometric function with xticks in radians"
   ]
  },
  {
   "cell_type": "code",
   "execution_count": null,
   "metadata": {},
   "outputs": [],
   "source": [
    "x_max = 2*np.pi\n",
    "x_min = -x_max\n",
    "\n",
    "x_coords = np.linspace(x_min, x_max, num=1000) # , endpoint=False\n",
    "y_coords = [cot(x_coord) for x_coord in x_coords]\n",
    "plt.plot(x_coords, y_coords)\n",
    "\n",
    "plt.xticks([(np.pi*_)/2 for _ in range(-4, 5)],\n",
    "           ['$-2\\pi$',r'$-\\frac{3\\pi}{2}$','$-\\pi$',r'$-\\frac{\\pi}{2}$',0,\n",
    "            r'$\\frac{\\pi}{2}$','$\\pi$', r'$\\frac{3\\pi}{2}$', r'$2\\pi$'])\n",
    "plt.axis(ymin=-5, ymax=5) # ymin=-1500, ymax=30, 'equal'\n",
    "plt.grid()\n",
    "plt.xlabel('$x$')\n",
    "plt.ylabel('$y$')\n",
    "plt.axhline(0, color='black', lw=2)\n",
    "_=plt.axvline(0, color='black', lw=2)"
   ]
  },
  {
   "cell_type": "markdown",
   "metadata": {},
   "source": [
    "### graph trigonometric function with xticks as floats\n",
    "Useful for periodic function with period other than $2\\pi$"
   ]
  },
  {
   "cell_type": "code",
   "execution_count": null,
   "metadata": {},
   "outputs": [],
   "source": [
    "x_max = np.pi/3\n",
    "x_min = -x_max\n",
    "\n",
    "x_coords = np.linspace(x_min, x_max, num=1000) # , endpoint=False\n",
    "y_coords = [sec(3*x_coord) for x_coord in x_coords]\n",
    "PI = np.pi\n",
    "plt.plot(x_coords, y_coords)\n",
    "\n",
    "plt.xticks(np.arange(-PI/3, PI/3, step=PI/6))\n",
    "plt.axis(ymin=-2, ymax=2) # ymin=-1500, ymax=30, 'equal'\n",
    "plt.grid()\n",
    "plt.xlabel('$x$')\n",
    "plt.ylabel('$y$')\n",
    "plt.axhline(0, color='black', lw=2)\n",
    "_=plt.axvline(0, color='black', lw=2)"
   ]
  },
  {
   "cell_type": "markdown",
   "metadata": {},
   "source": [
    "### automatically generate radian xticks"
   ]
  },
  {
   "cell_type": "code",
   "execution_count": null,
   "metadata": {},
   "outputs": [],
   "source": [
    "_ = plt.xticks([(np.pi*_)/2 for _ in range(-4, 5)],\n",
    "               ['$-2\\pi$',r'$-\\frac{3\\pi}{2}$','$-\\pi$',r'$-\\frac{\\pi}{2}$',0,\n",
    "                r'$\\frac{\\pi}{2}$','$\\pi$', r'$\\frac{3\\pi}{2}$', r'$2\\pi$'])"
   ]
  },
  {
   "cell_type": "markdown",
   "metadata": {},
   "source": [
    "---"
   ]
  },
  {
   "cell_type": "markdown",
   "metadata": {},
   "source": [
    "## Find intersections of two equations where one equation has trigonometric function\n",
    "$y = 2 cos(x)$  \n",
    "$y = 2 - x$\n",
    "\n",
    "First, graph the two functions to find approximate intersections visually.  \n",
    "Then use nsolve to find precise solutions."
   ]
  },
  {
   "cell_type": "code",
   "execution_count": null,
   "metadata": {},
   "outputs": [],
   "source": [
    "x_min = -3\n",
    "x_max = 6\n",
    "\n",
    "x_coords = np.linspace(x_min, x_max, 1000)\n",
    "y_coords = [2*cos(x_coord) for x_coord in x_coords]\n",
    "y_coords2 = [2 - x_coord for x_coord in x_coords]\n",
    "\n",
    "plt.plot(x_coords, y_coords)\n",
    "plt.plot(x_coords, y_coords2)\n",
    "\n",
    "plt.grid()\n",
    "plt.xlabel('$x$')\n",
    "plt.ylabel('$y$')\n",
    "plt.axhline(0, color='black', lw=2)\n",
    "plt.ylim(-6,6)\n",
    "plt.xlim(x_min, x_max)\n",
    "_=plt.axvline(0, color='black', lw=2)"
   ]
  },
  {
   "cell_type": "code",
   "execution_count": null,
   "metadata": {},
   "outputs": [],
   "source": [
    "f1 = 2*cos(x)\n",
    "f2 = 2 - x\n",
    "\n",
    "[nsolve(f1 - f2, x_coord) for x_coord in [0, 1, 3.5]]"
   ]
  },
  {
   "cell_type": "markdown",
   "metadata": {},
   "source": [
    "## Graph inequality\n",
    "Graph $sin(x)$ > $cos(x)$"
   ]
  },
  {
   "cell_type": "code",
   "execution_count": null,
   "metadata": {},
   "outputs": [],
   "source": [
    "x_coords = np.linspace(0, np.pi*4, 1000)\n",
    "y_coords_sin = [sin(x_coord) for x_coord in x_coords]\n",
    "y_coords_cos = [cos(x_coord) for x_coord in x_coords]\n",
    "\n",
    "plt.plot(x_coords, y_coords_sin)\n",
    "plt.plot(x_coords, y_coords_cos)\n",
    "\n",
    "plt.axis(ymin=-3, ymax=3)\n",
    "plt.grid()\n",
    "plt.xlabel('$x$')\n",
    "plt.ylabel('$y$')\n",
    "plt.axhline(0, color='black', lw=2)\n",
    "_=plt.axvline(0, color='black', lw=2)\n",
    "\n",
    "x_coords = np.array(x_coords, dtype=float)\n",
    "y_coords_sin = np.array(y_coords_sin, dtype=float)\n",
    "y_coords_cos = np.array(y_coords_cos, dtype=float)\n",
    "plt.fill_between(x_coords, y_coords_sin, y_coords_cos, where=y_coords_sin>y_coords_cos, interpolate=True);"
   ]
  },
  {
   "cell_type": "markdown",
   "metadata": {},
   "source": [
    "### Shade area below curve"
   ]
  },
  {
   "cell_type": "code",
   "execution_count": null,
   "metadata": {},
   "outputs": [],
   "source": [
    "%matplotlib notebook\n",
    "\n",
    "x_max = 1\n",
    "_x = np.linspace(-1, 1, 1000)\n",
    "_y = [sqrt(1-_**2) for _ in _x]\n",
    "_y = np.array(_y, dtype=float)\n",
    "_x_axis = [0 for _ in _x]\n",
    "fig = plt.figure()\n",
    "ax = fig.add_subplot(1, 1, 1)\n",
    "plt.axvline(x=0, c=\"gray\")\n",
    "plt.axhline(y=0, c=\"gray\")\n",
    "\n",
    "ax.plot(_x, _y, 'red')\n",
    "ax.add_patch(Rectangle(xy=(-1, 0), width=.5, height=sqrt(1-(.75)**2), fill=False, edgecolor='blue', lw=2))\n",
    "ax.add_patch(Rectangle(xy=(-.5, 0), width=.5, height=sqrt(1-(.25)**2), fill=False, edgecolor='blue', lw=2))\n",
    "ax.add_patch(Rectangle(xy=(0, 0), width=.5, height=sqrt(1-(.25)**2), fill=False, edgecolor='blue', lw=2))\n",
    "ax.add_patch(Rectangle(xy=(.5, 0), width=.5, height=sqrt(1-(.75)**2), fill=False, edgecolor='blue', lw=2))\n",
    "\n",
    "# shade region below curve\n",
    "plt.fill_between(x=_x, y1=_y, y2=_x_axis, where=_y>_x_axis, interpolate=True, color='yellow');\n",
    "\n",
    "y_max = 1.25\n",
    "plt.ylim(-0,y_max)\n",
    "plt.grid()"
   ]
  },
  {
   "cell_type": "markdown",
   "metadata": {},
   "source": [
    "### draw rectangle"
   ]
  },
  {
   "cell_type": "code",
   "execution_count": null,
   "metadata": {},
   "outputs": [],
   "source": [
    "%matplotlib notebook\n",
    "\n",
    "fig = plt.figure()\n",
    "ax = fig.add_subplot(1, 1, 1)\n",
    "\n",
    "ax.add_patch(Rectangle(xy=(1, 0), width=.5, height=.9, fill=False, edgecolor='blue', lw=2))\n",
    "\n",
    "plt.axvline(x=0, c=\"gray\")\n",
    "plt.axhline(y=0, c=\"gray\")\n",
    "y_max = 1.25\n",
    "plt.ylim(-0,y_max)\n",
    "plt.xlim(0,2)\n",
    "plt.grid()"
   ]
  },
  {
   "cell_type": "markdown",
   "metadata": {},
   "source": [
    "### add variable with subscript"
   ]
  },
  {
   "cell_type": "code",
   "execution_count": null,
   "metadata": {},
   "outputs": [],
   "source": [
    "r_1 = symbols('r_1')\n",
    "r_1"
   ]
  },
  {
   "cell_type": "markdown",
   "metadata": {},
   "source": [
    "### rationalize denominator\n",
    "This does not work if the denominator has a symbol.\n",
    "`simplify` and `radsimp` can also be used to rationalize a denominator.  \n",
    "$\\sqrt{\\frac{x}{3}}$ "
   ]
  },
  {
   "cell_type": "code",
   "execution_count": null,
   "metadata": {},
   "outputs": [],
   "source": [
    "nsimplify(sqrt(x/3))"
   ]
  },
  {
   "cell_type": "markdown",
   "metadata": {},
   "source": [
    "## Rounding\n",
    "Round to three decimal places"
   ]
  },
  {
   "cell_type": "code",
   "execution_count": null,
   "metadata": {},
   "outputs": [],
   "source": [
    "round(8.2**6, 3)"
   ]
  },
  {
   "cell_type": "markdown",
   "metadata": {},
   "source": [
    "## Formatting\n",
    "Add comma every three digits"
   ]
  },
  {
   "cell_type": "code",
   "execution_count": null,
   "metadata": {},
   "outputs": [],
   "source": [
    "f'{int(1.1 * 10**8):,}'"
   ]
  },
  {
   "cell_type": "markdown",
   "metadata": {},
   "source": [
    "## GEOMETRIC FORMULAS\n",
    "Formulas for area $A$, permimeter $P$, circumference $C$, volume $V$, surface area $S$:  \n",
    "  \n",
    "**Rectangle**  \n",
    "$A = lw$  \n",
    "$P = 2l + 2w$  \n",
    "    \n",
    "**Box**  \n",
    "$V = lwh$    \n",
    "$S = 2lw + 2lh + 2hw$  \n",
    "  \n",
    "**Triangle**  \n",
    "$A = \\frac{1}{2}bh$  \n",
    "  \n",
    "Heron's Formula: find area of triangle if length of three sides is known  \n",
    "$A = \\sqrt{s(s-a)(s-b)(s-c)}$  \n",
    "where $s = \\frac{a+b+c}{2}$\n",
    "  \n",
    "**Pyramid**  \n",
    "$V = \\frac{1}{3}ha^2$  \n",
    "  \n",
    "**Circle**  \n",
    "$A = \\pi r^2$  \n",
    "$C = 2\\pi r$  \n",
    "\n",
    "**Sphere**  \n",
    "$V = \\frac{4}{3}\\pi r^3$  \n",
    "$A = 4\\pi r^2$  \n",
    "  \n",
    "**Cylinder**  \n",
    "$V = \\pi r^2h$  \n",
    "$S = 2\\pi r(h+r)$  \n",
    "  \n",
    "**Cone**  \n",
    "$V = \\frac{1}{3}\\pi r^2h$  \n",
    "  \n"
   ]
  },
  {
   "cell_type": "markdown",
   "metadata": {},
   "source": [
    "# trigonometric functions\n",
    "$h =$ hypotenuse  \n",
    "$o =$ opposite  \n",
    "$a =$ adjacent  \n",
    "\n",
    "Sine  \n",
    "$\\sin x = \\frac{o}{h}$  \n",
    "  \n",
    "Cosine  \n",
    "$\\cos x = \\frac{a}{h}$\n",
    "\n",
    "Tangent  \n",
    "$\\tan x = \\frac{o}{a} = \\frac{\\sin x}{\\cos x}$"
   ]
  },
  {
   "cell_type": "code",
   "execution_count": null,
   "metadata": {},
   "outputs": [],
   "source": [
    "%matplotlib notebook\n",
    "\n",
    "x_max = np.pi\n",
    "_x = np.linspace(-x_max, x_max, 1000)\n",
    "_y = [tan(_) for _ in _x]\n",
    "fig = plt.figure()\n",
    "ax = fig.add_subplot(1, 1, 1)\n",
    "\n",
    "ax.plot(_x, _y, 'red')\n",
    "plt.axvline(x=0, c=\"gray\")\n",
    "plt.axhline(y=0, c=\"gray\")\n",
    "y_max = 3\n",
    "plt.ylim(-y_max,y_max)\n",
    "plt.grid()"
   ]
  },
  {
   "cell_type": "markdown",
   "metadata": {},
   "source": [
    "Cosecant  \n",
    "$\\csc x = \\frac{h}{o} = \\frac{1}{\\sin x}$"
   ]
  },
  {
   "cell_type": "code",
   "execution_count": null,
   "metadata": {},
   "outputs": [],
   "source": [
    "%matplotlib notebook\n",
    "\n",
    "x_max = np.pi\n",
    "_x = np.linspace(-x_max, x_max, 1000)\n",
    "_y = [csc(_) for _ in _x]\n",
    "fig = plt.figure()\n",
    "ax = fig.add_subplot(1, 1, 1)\n",
    "\n",
    "ax.plot(_x, _y, 'red')\n",
    "plt.axvline(x=0, c=\"gray\")\n",
    "plt.axhline(y=0, c=\"gray\")\n",
    "y_max = 4\n",
    "plt.ylim(-y_max,y_max)\n",
    "plt.grid()"
   ]
  },
  {
   "cell_type": "markdown",
   "metadata": {},
   "source": [
    "Secant \t\n",
    "$\\sec x = \\frac{h}{a} = \\frac{1}{\\cos x}$    \n",
    "  \n",
    "Cotangent  \n",
    "\n",
    "$\\cot x = \\frac{a}{o} = \\frac{1}{\\tan x}$"
   ]
  },
  {
   "cell_type": "markdown",
   "metadata": {},
   "source": [
    "# trigonometric identities\n",
    "---\n",
    "$\\sin^2(t) + \\cos^2(t) = 1$  \n",
    "  \n",
    "$\\tan^2(t) + 1 = \\sec^2(t)$  \n",
    "  \n",
    "$1 + \\cot^2(t) = \\csc^2(t)$  \n",
    "  \n",
    "---\n",
    "For any real numbers $\\alpha$ and $\\beta$:\n",
    "  \n",
    "$\\sin(\\alpha + \\beta) = \\sin \\alpha \\cos \\beta + \\sin \\beta \\cos \\alpha$\n",
    "  \n",
    "$\\cos(\\alpha + \\beta) = \\cos \\alpha \\cos \\beta - \\sin \\alpha \\sin \\beta$  \n",
    "  \n",
    "$\\sin^2\\alpha = \\frac{1}{2}(1 - \\cos 2\\alpha)$  \n",
    "  \n",
    "$cos^2\\alpha = \\frac{1}{2}(1 + \\cos 2\\alpha)$  \n",
    "  \n",
    "$\\sin 2\\theta = 2\\sin\\theta\\cos\\theta$  \n",
    "  \n",
    "$\\cos2\\theta = \\cos^2\\theta-\\sin^2\\theta$"
   ]
  },
  {
   "cell_type": "markdown",
   "metadata": {},
   "source": [
    "Use degrees instead of radians.  \n",
    "$\\tan34^\\circ \\approx 0.67$"
   ]
  },
  {
   "cell_type": "code",
   "execution_count": null,
   "metadata": {},
   "outputs": [],
   "source": [
    "tan(mpmath.radians(34))"
   ]
  },
  {
   "cell_type": "markdown",
   "metadata": {},
   "source": [
    "# resources\n",
    "https://mathsolver.microsoft.com/"
   ]
  },
  {
   "cell_type": "markdown",
   "metadata": {},
   "source": [
    "## simplify rational expression\n",
    "$\\frac{3(x+2)(x-1)}{6(x-1)^2}$"
   ]
  },
  {
   "cell_type": "code",
   "execution_count": null,
   "metadata": {},
   "outputs": [],
   "source": [
    "simplify((3*(x+2)*(x-1)))/(6*(x-1)**2)"
   ]
  },
  {
   "cell_type": "markdown",
   "metadata": {},
   "source": [
    "`simplify()` can be used when subtracting fractions.  \n",
    "Sometimes `factor()` is required to reduce a polynomial to irreducible factors.  \n",
    "$\\frac{x}{x-4}-\\frac{3}{x+6}=\\frac{x^2+3x+12}{(x−4)(x+6)}$"
   ]
  },
  {
   "cell_type": "code",
   "execution_count": null,
   "metadata": {},
   "outputs": [],
   "source": [
    "factor((x)/(x - 4) - (3)/(x+6))"
   ]
  },
  {
   "cell_type": "markdown",
   "metadata": {},
   "source": [
    "Convert number with negative exponent to fractional form"
   ]
  },
  {
   "cell_type": "code",
   "execution_count": null,
   "metadata": {},
   "outputs": [],
   "source": [
    "3**Rational(-2,1)"
   ]
  },
  {
   "cell_type": "markdown",
   "metadata": {},
   "source": [
    "### interactive graph"
   ]
  },
  {
   "cell_type": "code",
   "execution_count": null,
   "metadata": {},
   "outputs": [],
   "source": [
    "# Graphs rendered in a figure with sliders need to be at the end of the notebook, or else\n",
    "# they cause problems with other graphs\n",
    "%matplotlib notebook\n",
    "\n",
    "x_max = 10\n",
    "_x = np.linspace(-x_max, x_max, 1000)\n",
    "#_x = _x[_x != 0] # remove element from np array\n",
    "fig = plt.figure()\n",
    "ax = fig.add_subplot(1, 1, 1)\n",
    "\n",
    "line, = ax.plot(_x, _x**3 - 6*_x + 1)\n",
    "plt.axvline(x=0, c=\"gray\")\n",
    "plt.axhline(y=0, c=\"gray\")\n",
    "y_max = 40\n",
    "plt.ylim(-y_max,y_max)\n",
    "plt.grid()"
   ]
  },
  {
   "cell_type": "markdown",
   "metadata": {},
   "source": [
    "interactive graph with slider"
   ]
  },
  {
   "cell_type": "code",
   "execution_count": null,
   "metadata": {},
   "outputs": [],
   "source": [
    "# Graphs rendered in a figure with sliders need to be at the end of the notebook, or else\n",
    "# they cause problems with other graphs\n",
    "%matplotlib notebook\n",
    "\n",
    "x_max = 10\n",
    "_x = np.linspace(-x_max, x_max) \n",
    "fig = plt.figure()\n",
    "ax = fig.add_subplot(1, 1, 1)\n",
    "\n",
    "line, = ax.plot(_x, _x)\n",
    "plt.axvline(x=0, c=\"gray\")\n",
    "plt.axhline(y=0, c=\"gray\")\n",
    "\n",
    "def update(_a = 1.0):\n",
    "    line.set_ydata(np.add(_x,_a))\n",
    "    fig.canvas.draw_idle()\n",
    "\n",
    "interact(update, _a = widgets.FloatSlider(value=0, min=-4, max=4, step=0.1));"
   ]
  },
  {
   "cell_type": "markdown",
   "metadata": {},
   "source": [
    "Plot interactive graph without slider"
   ]
  },
  {
   "cell_type": "code",
   "execution_count": null,
   "metadata": {},
   "outputs": [],
   "source": [
    "%matplotlib notebook\n",
    "\n",
    "x_max = 5\n",
    "_x = np.linspace(-x_max, x_max, 1000)\n",
    "fig = plt.figure()\n",
    "ax = fig.add_subplot(1, 1, 1)\n",
    "\n",
    "ax.plot(_x, _x**2 + 1, 'red')\n",
    "plt.axvline(x=0, c=\"gray\")\n",
    "plt.axhline(y=0, c=\"gray\")\n",
    "y_max = 5\n",
    "plt.ylim(-y_max,y_max)\n",
    "plt.grid()"
   ]
  },
  {
   "cell_type": "markdown",
   "metadata": {},
   "source": [
    "### composition of functions\n",
    "$f(x)=x+1$  \n",
    "$g(x)=\\sqrt{x-3}$  \n",
    "Find the composition of $f(g(x))$."
   ]
  },
  {
   "cell_type": "code",
   "execution_count": null,
   "metadata": {},
   "outputs": [],
   "source": [
    "f = x + 1\n",
    "g = sqrt(x-3)\n",
    "f.subs({x: g})"
   ]
  },
  {
   "cell_type": "markdown",
   "metadata": {},
   "source": [
    "Rationalize the denominator  \n",
    "$\\frac{2}{\\sqrt{2}+\\sqrt{7}}$"
   ]
  },
  {
   "cell_type": "code",
   "execution_count": null,
   "metadata": {},
   "outputs": [],
   "source": [
    "expression = 2/(sqrt(2)+sqrt(7))\n",
    "radsimp(expression)"
   ]
  },
  {
   "cell_type": "markdown",
   "metadata": {},
   "source": [
    "## LIMITS\n",
    "### THEOREM\n",
    "If $\\lim\\limits_{x \\to a}f(x)$ and $\\lim\\limits_{x \\to a}g(x)$ both exist and $c$ is any constant, then the following apply:  \n",
    "  \n",
    "$\\lim\\limits_{x \\to a}[c\\cdot f(x)] = c\\cdot \\lim\\limits_{x \\to a} f(x)$  \n",
    "  \n",
    "$\\lim\\limits_{x \\to a}[f(x) \\pm g(x)] = \\lim\\limits_{x \\to a}f(x) \\pm \\lim\\limits_{x \\to a}g(x)$  \n",
    "  \n",
    "$\\lim\\limits_{x \\to a}[f(x) \\cdot g(x)] = \\left[\\lim\\limits_{x \\to a}f(x)\\right]\\left[\\lim\\limits_{x \\to a}g(x)\\right]$  \n",
    "    \n",
    "$\\lim\\limits_{x \\to a}\\frac{f(x)}{g(x)} = \\frac{\\lim\\limits_{x \\to a}f(x)}{\\lim\\limits_{x \\to a}g(x)}$ if $\\lim\\limits_{x \\to a}g(x) \\ne 0$"
   ]
  },
  {
   "cell_type": "markdown",
   "metadata": {},
   "source": [
    "$\\lim\\limits_{x \\to 0-} x^2+2cosx+1 = 0$"
   ]
  },
  {
   "cell_type": "code",
   "execution_count": null,
   "metadata": {},
   "outputs": [],
   "source": [
    "limit(x**2 + 2*cos(x) + 1, x, 0, dir='-')"
   ]
  },
  {
   "cell_type": "markdown",
   "metadata": {},
   "source": [
    "In the case of $\\lim\\limits_{x \\to 0} sin\\frac{1}{x^2}$, the limit does not exist because as the expression approaches $0$, it oscillates at a faster rate between $-1$ and $1$. "
   ]
  },
  {
   "cell_type": "code",
   "execution_count": null,
   "metadata": {},
   "outputs": [],
   "source": [
    "expression = sin(1/x**2)\n",
    "display(expression)\n",
    "limit(expression, x, 0)"
   ]
  },
  {
   "cell_type": "markdown",
   "metadata": {},
   "source": [
    "The $f(x)=[x]$ denotes the **greatest integer function** which equals the greatest integer that is less than or equal to $x$.  \n",
    "The **floor** function in sympy can be used to calculate the greatest integer."
   ]
  },
  {
   "cell_type": "code",
   "execution_count": null,
   "metadata": {},
   "outputs": [],
   "source": [
    "floor(2.2)"
   ]
  },
  {
   "cell_type": "markdown",
   "metadata": {},
   "source": [
    "## useful references\n",
    "### algebra\n",
    "[Technion algebra course](https://www.youtube.com/playlist?list=PLW3u28VuDAHJNrf3JCgT0GG_rjFVz0-j9)\n",
    "### algebra, trigonometry, analytic geometry, calculus\n",
    "[Eddie Woo youtube channel](https://www.youtube.com/@misterwootube)"
   ]
  }
 ],
 "metadata": {
  "kernelspec": {
   "display_name": "Python 3 (ipykernel)",
   "language": "python",
   "name": "python3"
  },
  "language_info": {
   "codemirror_mode": {
    "name": "ipython",
    "version": 3
   },
   "file_extension": ".py",
   "mimetype": "text/x-python",
   "name": "python",
   "nbconvert_exporter": "python",
   "pygments_lexer": "ipython3",
   "version": "3.11.5"
  }
 },
 "nbformat": 4,
 "nbformat_minor": 4
}
