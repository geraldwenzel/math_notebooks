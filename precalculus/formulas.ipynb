{
 "cells": [
  {
   "cell_type": "markdown",
   "metadata": {},
   "source": [
    "http://data-blog.udacity.com/posts/2016/10/latex-primer/"
   ]
  },
  {
   "cell_type": "code",
   "execution_count": 1,
   "metadata": {},
   "outputs": [],
   "source": [
    "%run ../set_notebook.py"
   ]
  },
  {
   "cell_type": "markdown",
   "metadata": {},
   "source": [
    "**two-intercept equation** of line with $x$-intercept $a$ and $y$-intercept $b$  \n",
    "$\\frac{x}{a}+\\frac{y}{b}=1$  \n",
    "  \n",
    "When using a calculator, the final result can be no more accurate than the measurements given in the problem.\n",
    "  \n",
    "Working with approximate data rules:  \n",
    "\\* When multiplying or dividing, round off the final result so that it has as many *significant digits* as the given value with the fewest number of significant digits.  \n",
    "\\* When adding or subtracting, round off the final result so that it has its last significant digit in the *decimal place* in which the least-accurate given value has its last significant digit.  \n",
    "\\* When taking powers or roots, round off the final result so that it has the same number of *significant digits* as the given value.  \n",
    "  \n",
    "$111.11\\times11.1\\approx1230$ Three significant digits  \n",
    "$111.11+11.1\\approx122.2$ Tenths digit  \n",
    "  \n",
    "Wait until the last step to round off an answer.  "
   ]
  }
 ],
 "metadata": {
  "kernelspec": {
   "display_name": "Python 3",
   "language": "python",
   "name": "python3"
  },
  "language_info": {
   "codemirror_mode": {
    "name": "ipython",
    "version": 3
   },
   "file_extension": ".py",
   "mimetype": "text/x-python",
   "name": "python",
   "nbconvert_exporter": "python",
   "pygments_lexer": "ipython3",
   "version": "3.7.5"
  }
 },
 "nbformat": 4,
 "nbformat_minor": 4
}
