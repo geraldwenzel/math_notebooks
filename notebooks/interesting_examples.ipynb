{
 "cells": [
  {
   "cell_type": "code",
   "execution_count": null,
   "id": "0",
   "metadata": {},
   "outputs": [],
   "source": [
    "%run ./set_notebook.py"
   ]
  },
  {
   "cell_type": "markdown",
   "id": "1",
   "metadata": {},
   "source": [
    "Graph $sin(x) < cos(y)$"
   ]
  },
  {
   "cell_type": "code",
   "execution_count": null,
   "id": "2",
   "metadata": {},
   "outputs": [],
   "source": [
    "x_coords = np.linspace(-9.4, 9.4, 200)\n",
    "y_max=6.2\n",
    "y_coords = np.linspace(-y_max, y_max, 200)\n",
    "\n",
    "for _x in x_coords:\n",
    "    for _y in y_coords:\n",
    "        if sin(_x) < cos(_y):\n",
    "            plt.plot(_x, _y, 'ro')\n",
    "            \n",
    "plt.axis(ymin=-y_max, ymax=y_max, xmin=-9.4, xmax=9.4)\n",
    "plt.grid()\n",
    "plt.xlabel('$x$')\n",
    "plt.ylabel('$y$')\n",
    "plt.axhline(0, color='black', lw=2)\n",
    "plt.axvline(0, color='black', lw=2);"
   ]
  }
 ],
 "metadata": {
  "kernelspec": {
   "display_name": "Python 3",
   "language": "python",
   "name": "python3"
  },
  "language_info": {
   "codemirror_mode": {
    "name": "ipython",
    "version": 3
   },
   "file_extension": ".py",
   "mimetype": "text/x-python",
   "name": "python",
   "nbconvert_exporter": "python",
   "pygments_lexer": "ipython3",
   "version": "3.11.6"
  }
 },
 "nbformat": 4,
 "nbformat_minor": 5
}
