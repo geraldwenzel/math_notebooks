{
 "cells": [
  {
   "cell_type": "code",
   "execution_count": null,
   "metadata": {},
   "outputs": [],
   "source": [
    "%run ../set_notebook.py\n",
    "%matplotlib widget"
   ]
  },
  {
   "cell_type": "markdown",
   "metadata": {},
   "source": [
    "# absolute values"
   ]
  },
  {
   "cell_type": "markdown",
   "metadata": {},
   "source": [
    "The absolute value of real number _a_ is the distance from *a* to 0.  \n",
    "$\\vert a \\vert  = a$ if $a \\ge 0$ and $\\vert a \\vert = -a $ if $a \\lt 0$.  \n",
    "  \n",
    "If $a \\gt 0$, then  \n",
    "$\\vert x \\vert = a$ means $x = a$ or $x = -a$.  \n",
    "$\\vert x \\vert \\lt a$ means $-a \\lt x \\lt a$.  \n",
    "$\\vert x \\vert \\gt a$ means $x \\gt a$ or $x \\lt -a$.  \n",
    "\n",
    "If $a$ is any real number, then  \n",
    "$\\sqrt{a^2} = |a|$\n",
    "\n",
    "#### DEFINITION  \n",
    "<i>P</i> and <i>Q</i> are two points on a real number line with coordinates <i>a</i> and <i>b</i>.  \n",
    "  \n",
    "*d(P, Q)* denotes the distance between <i>P</i> and <i>Q</i>.   \n",
    "  \n",
    "The **distance between *P* and _Q_** is  \n",
    "  \n",
    "<table>\n",
    "  <tr>\n",
    "      <td><i>d(P, Q)</i> = |b - a|</td>\n",
    "  </tr>\n",
    "</table>  \n",
    "  \n",
    "Because |b - a| = |a - b|,  \n",
    "*d(P, Q)* = _d(Q, P)_.  "
   ]
  },
  {
   "cell_type": "markdown",
   "metadata": {},
   "source": [
    "#### Jupyter tip\n",
    "\n",
    "If solving an equation returns the error below:  \n",
    "`NotImplementedError: solving Abs(x) when the argument is not real or imaginary.`  \n",
    "Define the symbol `x` as a real number as the example below."
   ]
  },
  {
   "cell_type": "code",
   "execution_count": null,
   "metadata": {},
   "outputs": [],
   "source": [
    "x = symbols('x', real=True)\n",
    "expression = abs(2*x) - 3\n",
    "display(expression)\n",
    "solve(expression)"
   ]
  },
  {
   "cell_type": "code",
   "execution_count": null,
   "metadata": {},
   "outputs": [],
   "source": [
    "abs(-10) == -(-10) == 10"
   ]
  },
  {
   "cell_type": "markdown",
   "metadata": {},
   "source": [
    "## solve equation with absolute value\n",
    "\n",
    "$$\n",
    "\\begin{aligned}\n",
    "|2x - 3| + 2 &= 7\\\\\n",
    "|2x - 3| &= 5\\\\\n",
    "\\end{aligned}\n",
    "$$\n",
    "\n",
    "If $|2x - 3| < 0$\n",
    "$$\n",
    "\\begin{aligned}\n",
    "2x - 3 &= -5\\\\\n",
    "2x &= -2\\\\\n",
    "x &= -1\n",
    "\\end{aligned}\n",
    "$$\n",
    "\n",
    "If $|2x - 3| > 0$\n",
    "$$\n",
    "\\begin{aligned}\n",
    "2x - 3 &= 5\\\\\n",
    "2x &= 8\\\\\n",
    "x &= 4\n",
    "\\end{aligned}\n",
    "$$\n",
    "\n",
    "The solution set is $\\{-1, 4\\}$."
   ]
  },
  {
   "cell_type": "code",
   "execution_count": null,
   "metadata": {},
   "outputs": [],
   "source": [
    "solve(abs(2*x - 3) + 2 - 7)"
   ]
  },
  {
   "cell_type": "code",
   "execution_count": null,
   "metadata": {},
   "outputs": [],
   "source": [
    "x_coords = np.linspace(-2, 5, 1000)\n",
    "y_coords = [abs(2*x_coord - 3) + 2 - 7 for x_coord in x_coords]\n",
    "\n",
    "fig, ax = plt.subplots()\n",
    "ax.plot(x_coords, y_coords)\n",
    "\n",
    "ax.axis(ymin=-6, ymax=2)\n",
    "ax.grid()\n",
    "ax.set_xlabel('$x$')\n",
    "ax.set_ylabel('$y$')\n",
    "ax.axhline(0, color='black', lw=2)\n",
    "ax.axvline(0, color='black', lw=2);"
   ]
  }
 ],
 "metadata": {
  "kernelspec": {
   "display_name": "base",
   "language": "python",
   "name": "python3"
  },
  "language_info": {
   "codemirror_mode": {
    "name": "ipython",
    "version": 3
   },
   "file_extension": ".py",
   "mimetype": "text/x-python",
   "name": "python",
   "nbconvert_exporter": "python",
   "pygments_lexer": "ipython3",
   "version": "3.11.6"
  }
 },
 "nbformat": 4,
 "nbformat_minor": 2
}
