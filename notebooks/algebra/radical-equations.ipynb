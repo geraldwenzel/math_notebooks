{
 "cells": [
  {
   "cell_type": "markdown",
   "metadata": {},
   "source": [
    "# radical equations"
   ]
  },
  {
   "cell_type": "code",
   "execution_count": null,
   "metadata": {},
   "outputs": [],
   "source": [
    "%run ../set_notebook.py\n",
    "%matplotlib widget"
   ]
  },
  {
   "cell_type": "markdown",
   "metadata": {},
   "source": [
    "**Radical equations** occur when the equation's variable is inside a radical. A common technique for finding the real solutions consists of the following steps:\n",
    "- Isolate the radical on one side of the equation.\n",
    "  - If more than one radical exists, start by isolating the most complex radical and then isolating radicals in descending order of complexity.\n",
    "- Raise the equation to a power that will eliminate the radical.\n",
    "- Use caution when raising an equation to an even power because invalid extraneous solutions may be introduced.\n",
    "  - Test all solutions to eliminate invalid solutions.\n",
    "\n",
    "Ideally, the steps above will result in a solvable linear or quadratic equation."
   ]
  },
  {
   "cell_type": "markdown",
   "metadata": {},
   "source": [
    "## solving radical equation examples"
   ]
  },
  {
   "cell_type": "markdown",
   "metadata": {},
   "source": [
    "### Find the real solutions of an equation where the variable exists inside a radical.\n",
    "\n",
    "$$\n",
    "\\begin{aligned}\n",
    "        \\sqrt[3]{2x-4}-2 &= 0\\\\\n",
    "        \\sqrt[3]{2x-4} &= 2\\\\\n",
    "        2x-4 &= 8\\\\\n",
    "        2x &= 12\\\\\n",
    "        x &= 6\\\\\n",
    "\\end{aligned}\n",
    "$$\n",
    "\n",
    "**Test solution**  \n",
    "Let $x=6$.\n",
    "$$\n",
    "\\begin{aligned}\n",
    "        \\sqrt[3]{2x-4}-2 &= 0\\\\\n",
    "        \\sqrt[3]{2*6-4}-2 &\\overset{?}{=} 0\\\\\n",
    "        \\sqrt[3]{12-4}-2 &\\overset{?}{=} 0\\\\\n",
    "        \\sqrt[3]{8}-2 &\\overset{?}{=} 0\\\\\n",
    "        2-2 &\\overset{?}{=} 0\\\\\n",
    "        0 &= 0\\\\\n",
    "\\end{aligned}\n",
    "$$\n",
    "The solution set is $\\{6\\}$."
   ]
  },
  {
   "cell_type": "code",
   "execution_count": null,
   "metadata": {},
   "outputs": [],
   "source": [
    "solve(root(2*x - 4, 3) - 2)"
   ]
  },
  {
   "cell_type": "code",
   "execution_count": null,
   "metadata": {},
   "outputs": [],
   "source": [
    "x_coords = np.linspace(-1, 8, num=1000)\n",
    "\n",
    "# Using real_root because a cubed root of a negative number will produce one real and two complex solutions.\n",
    "y_coords = [real_root(2*x_coord - 4, 3) - 2 for x_coord in x_coords]\n",
    "\n",
    "fig, ax = plt.subplots()\n",
    "ax.plot(x_coords, y_coords)\n",
    "\n",
    "ax.axis(ymin=-5, ymax=2)\n",
    "\n",
    "ax.grid()\n",
    "ax.set_xlabel('$x$')\n",
    "ax.set_ylabel('$y$')\n",
    "ax.axhline(0, color='black', lw=2)\n",
    "ax.axvline(0, color='black', lw=2);"
   ]
  },
  {
   "cell_type": "markdown",
   "metadata": {},
   "source": [
    "### Find the real solutions of an equation where the variable exists inside and outside a radical.\n",
    "\n",
    "$$\n",
    "\\begin{aligned}\n",
    "        \\sqrt{x-1} &= x-7\\\\\n",
    "        x-1 &= (x-7)(x-7)\\\\\n",
    "        x-1 &= x^2 - 14x + 49\\\\\n",
    "        0 &= x^2 -15x + 50\\\\\n",
    "        0 &= (x-5)(x-10)\\\\\n",
    "\\end{aligned}\n",
    "$$\n",
    "\n",
    "Because the equation was raised to an even power, invalid solutions may have been introduced.  \n",
    "Possible solutions for $x$ are $\\{5,10\\}$.  \n",
    "\n",
    "**Test to eliminate invalid solutions:**  \n",
    "Let $x=5$.  \n",
    " \n",
    "$$\n",
    "\\begin{aligned}\n",
    "        \\sqrt{x-1} &= x-7\\\\\n",
    "        \\sqrt{5-1} &\\overset{?}{=} 5-7\\\\\n",
    "        \\sqrt{4} &\\overset{?}{=} -2\\\\\n",
    "        2 &\\neq -2\\\\\n",
    "\\end{aligned}\n",
    "$$\n",
    "\n",
    "Let $x=10$.\n",
    "$$\n",
    "\\begin{aligned}\n",
    "        \\sqrt{x-1} &= x-7\\\\\n",
    "        \\sqrt{10-1} &\\overset{?}{=} 10-7\\\\\n",
    "        \\sqrt{9} &\\overset{?}{=} 3\\\\\n",
    "        3 &= 3\\\\\n",
    "\\end{aligned}\n",
    "$$\n",
    "\n",
    "The solution set is $\\{10\\}$."
   ]
  },
  {
   "cell_type": "code",
   "execution_count": null,
   "metadata": {},
   "outputs": [],
   "source": [
    "solve(sqrt(x-1) - (x-7))"
   ]
  },
  {
   "cell_type": "code",
   "execution_count": null,
   "metadata": {},
   "outputs": [],
   "source": [
    "x_coords = np.linspace(1, 15, 1000)\n",
    "y_coords = [sqrt(x_coord-1) for x_coord in x_coords]\n",
    "y_coords2 = [x_coord-7 for x_coord in x_coords]\n",
    "\n",
    "fig, ax = plt.subplots()\n",
    "ax.plot(x_coords, y_coords)\n",
    "ax.plot(x_coords, y_coords2, color='red')\n",
    "\n",
    "y_max = 10\n",
    "ax.axis(ymin=-y_max, ymax=y_max)\n",
    "ax.grid()\n",
    "ax.set_xlabel('$x$')\n",
    "ax.set_ylabel('$y$')\n",
    "ax.axhline(0, color='black', lw=2)\n",
    "ax.axvline(0, color='black', lw=2);"
   ]
  },
  {
   "cell_type": "markdown",
   "metadata": {},
   "source": [
    "### Find the real solutions of an equation with two radicals.\n",
    "Begin by isolating and removing the more complex radical.\n",
    "$$\n",
    "\\begin{aligned}\n",
    "        \\sqrt{2x+3} - \\sqrt{x+2} &= 2\\\\\n",
    "        \\sqrt{2x+3} &= \\sqrt{x+2} + 2\\\\\n",
    "        2x+3 &= (\\sqrt{x+2} + 2)(\\sqrt{x+2} + 2)\\\\\n",
    "        2x+3 &= x+2 + 4\\sqrt{x+2} + 4\\\\\n",
    "        x + 3 - 2 - 4 &= 4\\sqrt{x+2}\\\\\n",
    "        (x-3)^2 &= (4\\sqrt{x+2})^2\\\\\n",
    "        (x-3)(x-3) &= (4\\sqrt{x+2})(4\\sqrt{x+2})\\\\\n",
    "        x^2 - 6x + 9 &= 16(x+2)\\\\\n",
    "        x^2 - 6x + 9 &= 16x + 32\\\\\n",
    "        x^2 - 22x - 23 &= 0\\\\\n",
    "        (x-23)(x+1) &= 0\\\\\n",
    "\\end{aligned}\n",
    "$$\n",
    "\n",
    "Because the equation was raised to an even power, invalid solutions may have been introduced.  \n",
    "Possible solutions for $x$ are $\\{-1,23\\}$.  \n",
    "\n",
    "**Test to eliminate invalid solutions:**  \n",
    "\n",
    "Let $x=-1$.\n",
    "$$\n",
    "\\begin{aligned}\n",
    "        \\sqrt{2x+3} - \\sqrt{x+2} &\\overset{?}{=} 2\\\\\n",
    "        \\sqrt{2(-1) + 3} - \\sqrt{-1+2} &\\overset{?}{=} 2\\\\\n",
    "        \\sqrt{1} - \\sqrt{1} &\\overset{?}{=} 2\\\\\n",
    "        0 &\\neq 2\\\\\n",
    "\\end{aligned}\n",
    "$$\n",
    "\n",
    "Let $x=23$.\n",
    "$$\n",
    "\\begin{aligned}\n",
    "        \\sqrt{2x+3} - \\sqrt{x+2} &\\overset{?}{=} 2\\\\\n",
    "        \\sqrt{2(23) + 3} - \\sqrt{23+2} &\\overset{?}{=} 2\\\\\n",
    "        \\sqrt{49} - \\sqrt{25} &\\overset{?}{=} 2\\\\\n",
    "        2 &= 2\\\\\n",
    "\\end{aligned}\n",
    "$$\n",
    "\n",
    "The solution set is $\\{23\\}$."
   ]
  },
  {
   "cell_type": "code",
   "execution_count": null,
   "metadata": {},
   "outputs": [],
   "source": [
    "solve(sqrt(2*x + 3) - sqrt(x+2) - 2)"
   ]
  },
  {
   "cell_type": "code",
   "execution_count": null,
   "metadata": {},
   "outputs": [],
   "source": [
    "x_coords = np.linspace(0, 30, 1000)\n",
    "y_coords = [sqrt(2*x_coord+3) - sqrt(x_coord+2) for x_coord in x_coords]\n",
    "y_coords2 = [2 for _ in x_coords]\n",
    "\n",
    "fig, ax = plt.subplots()\n",
    "ax.plot(x_coords, y_coords)\n",
    "ax.plot(x_coords, y_coords2, color='red')\n",
    "\n",
    "y_max = 5\n",
    "ax.axis(ymin=-1, ymax=y_max)\n",
    "ax.grid()\n",
    "ax.set_xlabel('$x$')\n",
    "ax.set_ylabel('$y$')\n",
    "ax.axhline(0, color='black', lw=2)\n",
    "ax.axvline(0, color='black', lw=2);"
   ]
  },
  {
   "cell_type": "markdown",
   "metadata": {},
   "source": [
    "### Solve quadratic in form equation\n",
    "In general, if substituting $u$ into the original equation transforms it into the form\n",
    "$$au^2 + bu + c = 0, a \\neq 0$$\n",
    "then the original equation is **quadratic in form**.  \n",
    "\n",
    "Let $u = (x+2)$\n",
    "\n",
    "$$\n",
    "\\begin{aligned}\n",
    "(x+2)^2 + 11(x+2) - 12 &= 0\\\\\n",
    "u^2 + 11u - 12 &= 0\\\\\n",
    "(u+12)(u-1) &= 0\\\\\n",
    "u=-12 \\text{ or } u=1\\\\\n",
    "\\end{aligned}\n",
    "$$\n",
    "\n",
    "Because we want to solve for $x$, replace $u$ with $x+2$.\n",
    "\n",
    "$$\n",
    "\\begin{aligned}\n",
    "x+2=-12\\\\\n",
    "x=-14\\\\\n",
    "\\end{aligned}\n",
    "$$\n",
    "\n",
    "$$\n",
    "\\begin{aligned}\n",
    "x+2=1\\\\\n",
    "x=-1\\\\\n",
    "\\end{aligned}\n",
    "$$\n",
    "\n",
    "Possible solutions are $\\{-14,-1\\}$  \n",
    "Verify $x=-14$ is a solution.  \n",
    "\n",
    "$$\n",
    "\\begin{aligned}\n",
    "(x+2)^2 + 11(x+2) - 12 &\\overset{?}{=} 0\\\\\n",
    "(-14+2)^2 + 11(-14+2) - 12 &\\overset{?}{=} 0\\\\\n",
    "144 - 132 - 12 &\\overset{?}{=} 0\\\\\n",
    "0 &= 0\\\\\n",
    "\\end{aligned}\n",
    "$$\n",
    "\n",
    "Verify $x=-1$ is a solution.  \n",
    "\n",
    "$$\n",
    "\\begin{aligned}\n",
    "(x+2)^2 + 11(x+2) - 12 &\\overset{?}{=} 0\\\\\n",
    "(-1+2)^2 + 11(-1+2) - 12 &\\overset{?}{=} 0\\\\\n",
    "1 + 11 - 12 &\\overset{?}{=} 0\\\\\n",
    "0 &= 0\\\\\n",
    "\\end{aligned}\n",
    "$$\n",
    "\n",
    "The solution set is $\\{-14, -1\\}$."
   ]
  },
  {
   "cell_type": "code",
   "execution_count": null,
   "metadata": {},
   "outputs": [],
   "source": [
    "solve((x+2)**2 + 11*(x+2) - 12)"
   ]
  },
  {
   "cell_type": "code",
   "execution_count": null,
   "metadata": {},
   "outputs": [],
   "source": [
    "x_coords = np.linspace(-15, 0, 1000)\n",
    "y_coords = [(x_coord+2)**2 + 11*(x_coord+2) - 12 for x_coord in x_coords]\n",
    "\n",
    "fig, ax = plt.subplots()\n",
    "ax.plot(x_coords, y_coords)\n",
    "\n",
    "y_max = 50\n",
    "ax.axis(ymin=-y_max, ymax=y_max)\n",
    "ax.grid()\n",
    "ax.set_xlabel('$x$')\n",
    "ax.set_ylabel('$y$')\n",
    "ax.axhline(0, color='black', lw=2)\n",
    "ax.axvline(0, color='black', lw=2);"
   ]
  },
  {
   "cell_type": "markdown",
   "metadata": {},
   "source": [
    "### Solve quadratic in form equation with single radical\n",
    "\n",
    "Let $u = \\sqrt{x}$\n",
    "\n",
    "$$\n",
    "\\begin{aligned}\n",
    "x + 2\\sqrt{x} - 3 &= 0\\\\\n",
    "u^2 + 2u - 3 &= 0\\\\\n",
    "(u+3)(u-1) &= 0\\\\\n",
    "u=-3 \\text{ or } u=1\\\\\n",
    "\\end{aligned}\n",
    "$$\n",
    "\n",
    "Because we want to solve for $x$, replace $u$ with $\\sqrt{x}$.\n",
    "\n",
    "$\\sqrt{x}=-3$ is not a valid solution because the square root of a real number is never negative.\n",
    "\n",
    "$$\n",
    "\\begin{aligned}\n",
    "\\sqrt{x}=1\\\\\n",
    "x=1\\\\\n",
    "\\end{aligned}\n",
    "$$\n",
    "\n",
    "A possible solution set is $\\{1\\}$  \n",
    "Verify $x=1$ is a solution.  \n",
    "\n",
    "$$\n",
    "\\begin{aligned}\n",
    "x + 2\\sqrt{x} - 3 &\\overset{?}{=} 0\\\\\n",
    "1 + 2\\sqrt{1} - 3 &\\overset{?}{=} 0\\\\\n",
    "1 + 2 - 3 &\\overset{?}{=} 0\\\\\n",
    "0 &= 0\\\\\n",
    "\\end{aligned}\n",
    "$$\n",
    "\n",
    "The solution set is $\\{1\\}$."
   ]
  },
  {
   "cell_type": "code",
   "execution_count": null,
   "metadata": {},
   "outputs": [],
   "source": [
    "solve(x + 2*sqrt(x) - 3)"
   ]
  },
  {
   "cell_type": "code",
   "execution_count": null,
   "metadata": {},
   "outputs": [],
   "source": [
    "x_coords = np.linspace(0, 5, 1000)\n",
    "y_coords = [x_coord + 2*sqrt(x_coord) - 3 for x_coord in x_coords]\n",
    "\n",
    "fig, ax = plt.subplots()\n",
    "ax.plot(x_coords, y_coords)\n",
    "\n",
    "y_max = 5\n",
    "ax.axis(ymin=-y_max, ymax=y_max)\n",
    "ax.grid()\n",
    "ax.set_xlabel('$x$')\n",
    "ax.set_ylabel('$y$')\n",
    "ax.axhline(0, color='black', lw=2)\n",
    "ax.axvline(0, color='black', lw=2);"
   ]
  }
 ],
 "metadata": {
  "kernelspec": {
   "display_name": "base",
   "language": "python",
   "name": "python3"
  },
  "language_info": {
   "codemirror_mode": {
    "name": "ipython",
    "version": 3
   },
   "file_extension": ".py",
   "mimetype": "text/x-python",
   "name": "python",
   "nbconvert_exporter": "python",
   "pygments_lexer": "ipython3",
   "version": "3.11.6"
  }
 },
 "nbformat": 4,
 "nbformat_minor": 2
}
