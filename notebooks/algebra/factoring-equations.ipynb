{
 "cells": [
  {
   "cell_type": "markdown",
   "metadata": {},
   "source": [
    "# factoring equations"
   ]
  },
  {
   "cell_type": "code",
   "execution_count": null,
   "metadata": {},
   "outputs": [],
   "source": [
    "%run ../set_notebook.py\n",
    "%matplotlib widget"
   ]
  },
  {
   "cell_type": "markdown",
   "metadata": {},
   "source": [
    "Solve $x^4=4x^2$.\n",
    "\n",
    "In order to get complete solution set, all terms must be collected to one side, resulting in $0$ on one side of the equation and a factorable expression on the other.\n",
    "\n",
    "$$\n",
    "\\begin{aligned}\n",
    "  x^4 &= 4x^2\\\\\n",
    "  x^4 - 4x^2 &= 0\\\\\n",
    "  x^2(x^2 - 4) &= 0\\\\\n",
    "  x^2(x+2)(x-2) &= 0\\\\\n",
    "  (x+2)(x^2)(x-2) &= 0\\\\\n",
    "\\end{aligned}\n",
    "$$\n",
    "$x=-2$ or $x=0$ or $x=2$.\n",
    "\n",
    "A possible solution set is $\\{-2, 0, 2\\}$.\n",
    "\n",
    "**Verify the solution set:**  \n",
    "\n",
    "By substituting integers from the possible solution set into the equation, each value can be tested for validity. If both sides of the equation are equal, the solution is valid. Additionally, the value on each side of the equation is the $y$ value for the y-axis point of intersection on the Cartesian plane.\n",
    "\n",
    "Let $x=-2$:\n",
    "$$\n",
    "\\begin{aligned}\n",
    "  x^4 &= 4x^2\\\\\n",
    "  (-2)^4 &\\overset{?}{=} 4(-2)^2\\\\\n",
    "  16 &= 16\\\\\n",
    "\\end{aligned}\n",
    "$$\n",
    "$-2$ is a solution and $(-2,16)$ is a point of intersection.\n",
    "\n",
    "Let $x=0$:\n",
    "$$\n",
    "\\begin{aligned}\n",
    "  x^4 &= 4x^2\\\\\n",
    "  (0)^4 &\\overset{?}{=} 4(0)^2\\\\\n",
    "  0 &= 0\\\\\n",
    "\\end{aligned}\n",
    "$$\n",
    "$0$ is a solution and $(0,0)$ is a point of intersection.\n",
    "\n",
    "Let $x=2$:\n",
    "$$\n",
    "\\begin{aligned}\n",
    "  x^4 &= 4x^2\\\\\n",
    "  2^4 &\\overset{?}{=} 4 \\cdot 2^2\\\\\n",
    "  16 &= 16\\\\\n",
    "\\end{aligned}\n",
    "$$\n",
    "$2$ is a solution and $(2,16)$ is a point of intersection.\n",
    "\n",
    "$\\boxed{\\text{The solution set is }\\{-2, 0, 2\\} \\text{ and the points of intersection are \\{(-2, 16), (0, 0), (2, \n",
    "16)\\}}.}$\n",
    "\n",
    "**WARNING:** If both sides of the equation are divided by $x^2$ the solution $x=0$ is lost.\n",
    "$$\n",
    "\\begin{aligned}\n",
    "  x^4 &= 4x^2\\\\\n",
    "  x^2 &= 4\\\\\n",
    "  x &= \\pm\\sqrt{4}\\\\\n",
    "\\end{aligned}\n",
    "$$\n",
    "The solution set $\\{-2, 2\\}$ is incomplete."
   ]
  },
  {
   "cell_type": "code",
   "execution_count": null,
   "metadata": {},
   "outputs": [],
   "source": [
    "solve(x**4 - 4*x**2)"
   ]
  },
  {
   "cell_type": "markdown",
   "metadata": {},
   "source": [
    "By graphing $Y_1=x^4$ and $Y_2=4x^2$ on the same axes, the points of intersection can be visualized. "
   ]
  },
  {
   "cell_type": "code",
   "execution_count": null,
   "metadata": {},
   "outputs": [],
   "source": [
    "x_max = 3\n",
    "x_coords = np.linspace(-x_max, x_max, 1000)\n",
    "y_coords = [x_coord**4 for x_coord in x_coords]\n",
    "y_coords2 = [4*x_coord**2 for x_coord in x_coords]\n",
    "\n",
    "fig, ax = plt.subplots()\n",
    "ax.plot(x_coords, y_coords)\n",
    "ax.plot(x_coords, y_coords2, color='red')\n",
    "\n",
    "ax.axis(ymin=-1, ymax=20)\n",
    "ax.grid()\n",
    "ax.set_xlabel('$x$')\n",
    "ax.set_ylabel('$y$')\n",
    "ax.axhline(0, color='black', lw=2)\n",
    "ax.axvline(0, color='black', lw=2);"
   ]
  },
  {
   "cell_type": "markdown",
   "metadata": {},
   "source": [
    "## factoring by grouping method\n",
    "\n",
    "The objective with factoring by grouping is to order the terms so they can be grouped to allow for a term to be factored from each group of terms resulting in common factor for each term. The common factor is then factored from the terms resulting in product of factors.\n",
    "\n",
    "Solve $x^3 - x^2 - 4x + 4 = 0$. \n",
    "$$\n",
    "\\begin{aligned}\n",
    "  x^3 - x^2 - 4x + 4 &= 0\\\\\n",
    "  x^2(x-1) - 4(x-1) &= 0\\\\\n",
    "  (x^2-4)(x-1) &= 0\\\\\n",
    "  (x+2)(x-2)(x-1) &= 0\\\\\n",
    "  (x+2)(x-1)(x-2) &= 0\\\\\n",
    "\\end{aligned}\n",
    "$$\n",
    "Setting each factor equal to $0$ and solving results in a possible solution set of $\\{-2,1,2\\}$.  \n",
    "\n",
    "**Verify the solution set:**  \n",
    "Let $x=-2$:\n",
    "$$\n",
    "\\begin{aligned}\n",
    "  x^3 - x^2 - 4x + 4 &= 0\\\\\n",
    "  (-2)^3 - (-2)^2 - 4(-2) + 4 &\\overset{?}{=} 0\\\\\n",
    "  -8 - 4 + 8 + 4 &\\overset{?}{=} 0\\\\\n",
    "  0 &= 0\\\\\n",
    "\\end{aligned}\n",
    "$$\n",
    "$x=-2$ is a solution.\n",
    "\n",
    "Let $x=1$:\n",
    "$$\n",
    "\\begin{aligned}\n",
    "  x^3 - x^2 - 4x + 4 &= 0\\\\\n",
    "  (1)^3 - (1)^2 - 4(1) + 4 &\\overset{?}{=} 0\\\\\n",
    "  1 - 1 - 4 + 4 &\\overset{?}{=} 0\\\\\n",
    "  0 &= 0\\\\\n",
    "\\end{aligned}\n",
    "$$\n",
    "$x=1$ is a solution.\n",
    "\n",
    "Let $x=2$:\n",
    "$$\n",
    "\\begin{aligned}\n",
    "  x^3 - x^2 - 4x + 4 &= 0\\\\\n",
    "  (2)^3 - (2)^2 - 4(2) + 4 &\\overset{?}{=} 0\\\\\n",
    "  8 - 4 - 8 + 4 &\\overset{?}{=} 0\\\\\n",
    "  0 &= 0\\\\\n",
    "\\end{aligned}\n",
    "$$\n",
    "$x=2$ is a solution.\n",
    "\n",
    "$\\boxed{\\text{The solution set is \\{-2, 0, 2\\}}}$."
   ]
  },
  {
   "cell_type": "code",
   "execution_count": null,
   "metadata": {},
   "outputs": [],
   "source": [
    "solve(x**3 - x**2 - 4*x + 4)"
   ]
  },
  {
   "cell_type": "code",
   "execution_count": null,
   "metadata": {},
   "outputs": [],
   "source": [
    "x_max = 3\n",
    "x_coords = np.linspace(-x_max, x_max, 1000)\n",
    "y_coords = [x_coord**3 - x_coord**2 - 4*x_coord + 4 for x_coord in x_coords]\n",
    "\n",
    "fig, ax = plt.subplots()\n",
    "ax.plot(x_coords, y_coords)\n",
    "\n",
    "y_max = 10\n",
    "ax.axis(ymin=-y_max, ymax=y_max)\n",
    "ax.grid()\n",
    "ax.set_xlabel('$x$')\n",
    "ax.set_ylabel('$y$')\n",
    "ax.axhline(0, color='black', lw=2)\n",
    "ax.axvline(0, color='black', lw=2);"
   ]
  },
  {
   "cell_type": "markdown",
   "metadata": {},
   "source": [
    "## QUADRATIC FORMULA\n",
    "If $ax^2 + bx + c = 0$, then  \n",
    "$$x = \\frac{-b \\pm \\sqrt{b^2 - 4ac}}{2a}$$"
   ]
  },
  {
   "cell_type": "markdown",
   "metadata": {},
   "source": [
    "### Using the discriminant to get root information\n",
    "The term inside the square root, $b^2−4ac$, is called the discriminant. The value of the discriminant determines the nature of the roots of a quadratic equation.\n",
    "\n",
    "When $b^2−4ac>0$, the quadratic equation has two distinct real roots.  \n",
    "The graph of the quadratic function crosses the x-axis at two points.  \n",
    "\n",
    "When $b^2−4ac=0$, the quadratic equation has one real root, often referred to as a repeated root or double root.  \n",
    "The quadratic equation has only one solution, and the graph of the quadratic function touches the x-axis at a single point (the vertex).\n",
    "\n",
    "When $b^2−4ac<0$, the quadratic equation has two complex conjugate roots.  \n",
    "The quadratic equation has no real solutions, and the graph of the quadratic function does not cross the x-axis. The graph either lies entirely above or below the x-axis, depending on the sign of $a$."
   ]
  }
 ],
 "metadata": {
  "kernelspec": {
   "display_name": "base",
   "language": "python",
   "name": "python3"
  },
  "language_info": {
   "codemirror_mode": {
    "name": "ipython",
    "version": 3
   },
   "file_extension": ".py",
   "mimetype": "text/x-python",
   "name": "python",
   "nbconvert_exporter": "python",
   "pygments_lexer": "ipython3",
   "version": "3.11.10"
  }
 },
 "nbformat": 4,
 "nbformat_minor": 2
}
