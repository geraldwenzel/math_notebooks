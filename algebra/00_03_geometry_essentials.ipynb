{
 "cells": [
  {
   "cell_type": "code",
   "execution_count": 1,
   "metadata": {},
   "outputs": [],
   "source": [
    "%run ../set_notebook.py"
   ]
  },
  {
   "cell_type": "code",
   "execution_count": 12,
   "metadata": {},
   "outputs": [
    {
     "data": {
      "text/latex": [
       "$$5$$"
      ],
      "text/plain": [
       "5"
      ]
     },
     "execution_count": 12,
     "metadata": {},
     "output_type": "execute_result"
    }
   ],
   "source": [
    "# right triangle hypotenuse\n",
    "sqrt(4**2 + 3**2)"
   ]
  },
  {
   "cell_type": "markdown",
   "metadata": {},
   "source": [
    "## GEOMETRIC FORMULAS\n",
    "Formulas for area $A$, permimeter $P$, circumference $C$, volume $V$:  \n",
    "  \n",
    "Rectangle  \n",
    "$A = lw$  \n",
    "$P = 2l + 2w$  \n",
    "  \n",
    "Box  \n",
    "$V = lwh$  \n",
    "  \n",
    "Triangle  \n",
    "$A = \\frac{1}{2}bh$  \n",
    "  \n",
    "Pyramid  \n",
    "$V = \\frac{1}{3}ha^2$  \n",
    "  \n",
    "### Circle  \n",
    "$A = \\pi r^2$  "
   ]
  },
  {
   "cell_type": "code",
   "execution_count": 9,
   "metadata": {},
   "outputs": [
    {
     "data": {
      "text/latex": [
       "$$25 \\pi$$"
      ],
      "text/plain": [
       "25⋅π"
      ]
     },
     "execution_count": 9,
     "metadata": {},
     "output_type": "execute_result"
    }
   ],
   "source": [
    "pi*5**2"
   ]
  },
  {
   "cell_type": "markdown",
   "metadata": {},
   "source": [
    "$C = 2\\pi r$  "
   ]
  },
  {
   "cell_type": "code",
   "execution_count": 11,
   "metadata": {},
   "outputs": [
    {
     "data": {
      "text/latex": [
       "$$10 \\pi$$"
      ],
      "text/plain": [
       "10⋅π"
      ]
     },
     "execution_count": 11,
     "metadata": {},
     "output_type": "execute_result"
    }
   ],
   "source": [
    "2*pi*5"
   ]
  },
  {
   "cell_type": "markdown",
   "metadata": {},
   "source": [
    "Sphere  \n",
    "$V = \\frac{4}{3}\\pi r^3$  \n",
    "$A = 4\\pi r^2$  \n",
    "  \n",
    "Cylinder  \n",
    "$V = \\pi r^2h$  \n",
    "  \n",
    "Cone  \n",
    "$V = \\frac{1}{3}\\pi r^2h$  \n",
    "  \n",
    "Heron's Formula  \n",
    "$A = \\sqrt{s(s-a)(s-b)(s-c)}$  \n",
    "where $s = \\frac{a+b+c}{2}$"
   ]
  },
  {
   "cell_type": "code",
   "execution_count": 3,
   "metadata": {},
   "outputs": [
    {
     "data": {
      "text/latex": [
       "$$26$$"
      ],
      "text/plain": [
       "26"
      ]
     },
     "execution_count": 3,
     "metadata": {},
     "output_type": "execute_result"
    }
   ],
   "source": [
    "sqrt(10**2 + 24**2)"
   ]
  },
  {
   "cell_type": "markdown",
   "metadata": {},
   "source": [
    "right triangles"
   ]
  },
  {
   "cell_type": "code",
   "execution_count": 4,
   "metadata": {},
   "outputs": [
    {
     "data": {
      "text/latex": [
       "$$46.6377038115101$$"
      ],
      "text/plain": [
       "46.6377038115101"
      ]
     },
     "execution_count": 4,
     "metadata": {},
     "output_type": "execute_result"
    }
   ],
   "source": [
    "solveset((3960*5280)**2 + x**2 -((1450 + 3960*5280)**2), x, S.Reals)\n",
    "\n",
    "N((4550*sqrt(2929)) / 5280)"
   ]
  },
  {
   "cell_type": "code",
   "execution_count": 5,
   "metadata": {},
   "outputs": [
    {
     "data": {
      "text/latex": [
       "$$5.47722688484106$$"
      ],
      "text/plain": [
       "5.47722688484106"
      ]
     },
     "execution_count": 5,
     "metadata": {},
     "output_type": "execute_result"
    }
   ],
   "source": [
    "N(sqrt((20+(3960*5280))**2 - (3960*5280)**2))\n",
    "N((sqrt((20+(3960*5280))**2 - (3960*5280)**2))/5280)"
   ]
  },
  {
   "cell_type": "code",
   "execution_count": 6,
   "metadata": {},
   "outputs": [
    {
     "data": {
      "text/latex": [
       "$$2 \\sqrt{2}$$"
      ],
      "text/plain": [
       "2⋅√2"
      ]
     },
     "execution_count": 6,
     "metadata": {},
     "output_type": "execute_result"
    }
   ],
   "source": [
    "sqrt((3-1)**2 + (4-2)**2)"
   ]
  },
  {
   "cell_type": "code",
   "execution_count": 8,
   "metadata": {},
   "outputs": [
    {
     "data": {
      "text/latex": [
       "$$25 \\pi$$"
      ],
      "text/plain": [
       "25⋅π"
      ]
     },
     "execution_count": 8,
     "metadata": {},
     "output_type": "execute_result"
    }
   ],
   "source": [
    "pi*5**2"
   ]
  },
  {
   "cell_type": "code",
   "execution_count": 14,
   "metadata": {},
   "outputs": [
    {
     "data": {
      "text/latex": [
       "$$18.2831853071796$$"
      ],
      "text/plain": [
       "18.2831853071796"
      ]
     },
     "execution_count": 14,
     "metadata": {},
     "output_type": "execute_result"
    }
   ],
   "source": [
    "N(12+2*pi)"
   ]
  }
 ],
 "metadata": {
  "kernelspec": {
   "display_name": "Python 3",
   "language": "python",
   "name": "python3"
  },
  "language_info": {
   "codemirror_mode": {
    "name": "ipython",
    "version": 3
   },
   "file_extension": ".py",
   "mimetype": "text/x-python",
   "name": "python",
   "nbconvert_exporter": "python",
   "pygments_lexer": "ipython3",
   "version": "3.6.7"
  }
 },
 "nbformat": 4,
 "nbformat_minor": 2
}
