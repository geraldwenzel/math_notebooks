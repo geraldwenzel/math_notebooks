{
 "cells": [
  {
   "cell_type": "code",
   "execution_count": 2,
   "metadata": {},
   "outputs": [],
   "source": [
    "%run ../set_notebook.py"
   ]
  },
  {
   "cell_type": "code",
   "execution_count": 3,
   "metadata": {},
   "outputs": [
    {
     "data": {
      "text/latex": [
       "$$5$$"
      ],
      "text/plain": [
       "5"
      ]
     },
     "execution_count": 3,
     "metadata": {},
     "output_type": "execute_result"
    }
   ],
   "source": [
    "# example 1 right triangle hypotenuse\n",
    "sqrt(4**2 + 3**2)"
   ]
  },
  {
   "cell_type": "markdown",
   "metadata": {},
   "source": [
    "### GEOMETRIC FORMULAS\n",
    "Formulas for area $A$, permimeter $P$, circumference $C$, volume $V$:  \n",
    "  \n",
    "Rectangle  \n",
    "$A = lw$  \n",
    "$P = 2l + 2w$  \n",
    "  \n",
    "Box  \n",
    "$V = lwh$  \n",
    "  \n",
    "Triangle  \n",
    "$A = \\frac{1}{2}bh$  \n",
    "  \n",
    "Pyramid  \n",
    "$V = \\frac{1}{3}ha^2$  \n",
    "  \n",
    "Circle  \n",
    "$A = \\pi r^2$  \n",
    "$C = 2\\pi r$  \n",
    "  \n",
    "Sphere  \n",
    "$V = \\frac{4}{3}\\pi r^3$  \n",
    "$A = 4\\pi r^2$  \n",
    "  \n",
    "Cylinder  \n",
    "$V = \\pi r^2h$  \n",
    "  \n",
    "Cone  \n",
    "$V = \\frac{1}{3}\\pi r^2h$  \n",
    "  \n",
    "Heron's Formula  \n",
    "$A = \\sqrt{s(s-a)(s-b)(s-c)}$  \n",
    "where $s = \\frac{a+b+c}{2}$"
   ]
  }
 ],
 "metadata": {
  "kernelspec": {
   "display_name": "Python 3",
   "language": "python",
   "name": "python3"
  },
  "language_info": {
   "codemirror_mode": {
    "name": "ipython",
    "version": 3
   },
   "file_extension": ".py",
   "mimetype": "text/x-python",
   "name": "python",
   "nbconvert_exporter": "python",
   "pygments_lexer": "ipython3",
   "version": "3.6.7"
  }
 },
 "nbformat": 4,
 "nbformat_minor": 2
}
