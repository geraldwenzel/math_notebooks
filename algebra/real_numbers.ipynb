{
 "cells": [
  {
   "cell_type": "code",
   "execution_count": 1,
   "metadata": {},
   "outputs": [],
   "source": [
    "%run ../set_notebook.py"
   ]
  },
  {
   "cell_type": "markdown",
   "metadata": {},
   "source": [
    "### set intersection and union"
   ]
  },
  {
   "cell_type": "code",
   "execution_count": 2,
   "metadata": {},
   "outputs": [],
   "source": [
    "A = FiniteSet(1, 3, 5, 8)\n",
    "B = FiniteSet(3, 5, 7)"
   ]
  },
  {
   "cell_type": "code",
   "execution_count": 3,
   "metadata": {},
   "outputs": [
    {
     "data": {
      "text/latex": [
       "$$\\left\\{3, 5\\right\\}$$"
      ],
      "text/plain": [
       "{3, 5}"
      ]
     },
     "execution_count": 3,
     "metadata": {},
     "output_type": "execute_result"
    }
   ],
   "source": [
    "A.intersection(B)"
   ]
  },
  {
   "cell_type": "code",
   "execution_count": 4,
   "metadata": {},
   "outputs": [
    {
     "data": {
      "text/latex": [
       "$$\\left\\{1, 3, 5, 7, 8\\right\\}$$"
      ],
      "text/plain": [
       "{1, 3, 5, 7, 8}"
      ]
     },
     "execution_count": 4,
     "metadata": {},
     "output_type": "execute_result"
    }
   ],
   "source": [
    "Union(A, B)"
   ]
  },
  {
   "cell_type": "markdown",
   "metadata": {},
   "source": [
    "### set complements"
   ]
  },
  {
   "cell_type": "code",
   "execution_count": 5,
   "metadata": {},
   "outputs": [],
   "source": [
    "U = FiniteSet(*range(1, 10))\n",
    "A = FiniteSet(1, 3, 5, 7, 9)\n",
    "B = FiniteSet(2, 4, 6, 8)"
   ]
  },
  {
   "cell_type": "code",
   "execution_count": 6,
   "metadata": {},
   "outputs": [
    {
     "data": {
      "text/plain": [
       "False"
      ]
     },
     "execution_count": 6,
     "metadata": {},
     "output_type": "execute_result"
    }
   ],
   "source": [
    "Union(A, A.complement(U)) == U == True"
   ]
  },
  {
   "cell_type": "code",
   "execution_count": 7,
   "metadata": {},
   "outputs": [
    {
     "data": {
      "text/latex": [
       "$$\\emptyset$$"
      ],
      "text/plain": [
       "∅"
      ]
     },
     "execution_count": 7,
     "metadata": {},
     "output_type": "execute_result"
    }
   ],
   "source": [
    "A.intersection(A.complement(U))"
   ]
  },
  {
   "cell_type": "markdown",
   "metadata": {},
   "source": [
    "### use sets below to find sets"
   ]
  },
  {
   "cell_type": "code",
   "execution_count": 8,
   "metadata": {},
   "outputs": [],
   "source": [
    "U = FiniteSet(*range(0, 10))\n",
    "A = FiniteSet(1, 3, 4, 5, 9)\n",
    "B = FiniteSet(2, 4, 6, 7, 8)\n",
    "C = FiniteSet(1,3,4,6)"
   ]
  },
  {
   "cell_type": "code",
   "execution_count": 9,
   "metadata": {},
   "outputs": [
    {
     "data": {
      "text/latex": [
       "$$\\left\\{1, 3, 4, 6\\right\\}$$"
      ],
      "text/plain": [
       "{1, 3, 4, 6}"
      ]
     },
     "execution_count": 9,
     "metadata": {},
     "output_type": "execute_result"
    }
   ],
   "source": [
    "Union(A.intersection(B), C)"
   ]
  },
  {
   "cell_type": "code",
   "execution_count": 10,
   "metadata": {},
   "outputs": [
    {
     "data": {
      "text/latex": [
       "$$\\left\\{0, 2, 6, 7, 8\\right\\}$$"
      ],
      "text/plain": [
       "{0, 2, 6, 7, 8}"
      ]
     },
     "execution_count": 10,
     "metadata": {},
     "output_type": "execute_result"
    }
   ],
   "source": [
    "A.complement(U)"
   ]
  },
  {
   "cell_type": "code",
   "execution_count": 11,
   "metadata": {},
   "outputs": [
    {
     "data": {
      "text/latex": [
       "$$\\left\\{0, 2, 5, 7, 8, 9\\right\\}$$"
      ],
      "text/plain": [
       "{0, 2, 5, 7, 8, 9}"
      ]
     },
     "execution_count": 11,
     "metadata": {},
     "output_type": "execute_result"
    }
   ],
   "source": [
    "C.complement(U)"
   ]
  },
  {
   "cell_type": "code",
   "execution_count": 12,
   "metadata": {},
   "outputs": [
    {
     "data": {
      "text/latex": [
       "$$\\left\\{0, 1, 2, 3, 5, 6, 7, 8, 9\\right\\}$$"
      ],
      "text/plain": [
       "{0, 1, 2, 3, 5, 6, 7, 8, 9}"
      ]
     },
     "execution_count": 12,
     "metadata": {},
     "output_type": "execute_result"
    }
   ],
   "source": [
    "A.intersection(B).complement(U)"
   ]
  },
  {
   "cell_type": "code",
   "execution_count": 13,
   "metadata": {},
   "outputs": [
    {
     "data": {
      "text/latex": [
       "$$\\left\\{0, 5, 9\\right\\}$$"
      ],
      "text/plain": [
       "{0, 5, 9}"
      ]
     },
     "execution_count": 13,
     "metadata": {},
     "output_type": "execute_result"
    }
   ],
   "source": [
    "Union(B, C).complement(U)"
   ]
  },
  {
   "cell_type": "code",
   "execution_count": 14,
   "metadata": {},
   "outputs": [
    {
     "data": {
      "text/latex": [
       "$$\\left\\{0, 1, 2, 3, 5, 6, 7, 8, 9\\right\\}$$"
      ],
      "text/plain": [
       "{0, 1, 2, 3, 5, 6, 7, 8, 9}"
      ]
     },
     "execution_count": 14,
     "metadata": {},
     "output_type": "execute_result"
    }
   ],
   "source": [
    "Union(A.complement(U), B.complement(U))"
   ]
  },
  {
   "cell_type": "code",
   "execution_count": 15,
   "metadata": {},
   "outputs": [
    {
     "data": {
      "text/latex": [
       "$$\\left\\{0, 5, 9\\right\\}$$"
      ],
      "text/plain": [
       "{0, 5, 9}"
      ]
     },
     "execution_count": 15,
     "metadata": {},
     "output_type": "execute_result"
    }
   ],
   "source": [
    "B.complement(U).intersection(C.complement(U))"
   ]
  },
  {
   "cell_type": "markdown",
   "metadata": {},
   "source": [
    "### classifying set numbers"
   ]
  },
  {
   "cell_type": "code",
   "execution_count": 111,
   "metadata": {},
   "outputs": [
    {
     "data": {
      "text/latex": [
       "$$\\left [ -3, \\quad - \\frac{5}{3}, \\quad -1.3333333333333333, \\quad 0, \\quad 0.12, \\quad \\frac{1}{2}, \\quad 1, \\quad \\sqrt{2}, \\quad \\pi, \\quad \\frac{1}{2} + \\pi, \\quad 10\\right ]$$"
      ],
      "text/plain": [
       "[-3, -5/3, -1.3333333333333333, 0, 0.12, 1/2, 1, √2, π, 1/2 + π, 10]"
      ]
     },
     "execution_count": 111,
     "metadata": {},
     "output_type": "execute_result"
    }
   ],
   "source": [
    "U = {-3, Rational(-5,3), -(1+1/3), 0, .12, Rational(1,2), 1, sqrt(2), pi, Rational(1,2) + pi, 10}\n",
    "sorted(U)"
   ]
  },
  {
   "cell_type": "code",
   "execution_count": 112,
   "metadata": {},
   "outputs": [
    {
     "data": {
      "text/latex": [
       "$$\\left\\{1, 10\\right\\}$$"
      ],
      "text/plain": [
       "{1, 10}"
      ]
     },
     "execution_count": 112,
     "metadata": {},
     "output_type": "execute_result"
    }
   ],
   "source": [
    "# natural numbers\n",
    "set([_ for _ in U if isinstance(_, int) and _ > 0])"
   ]
  },
  {
   "cell_type": "code",
   "execution_count": 113,
   "metadata": {},
   "outputs": [
    {
     "data": {
      "text/latex": [
       "$$\\left\\{-3, 0, 1, 10\\right\\}$$"
      ],
      "text/plain": [
       "{-3, 0, 1, 10}"
      ]
     },
     "execution_count": 113,
     "metadata": {},
     "output_type": "execute_result"
    }
   ],
   "source": [
    "# integers\n",
    "set([_ for _ in U if isinstance(_, int)])"
   ]
  },
  {
   "cell_type": "code",
   "execution_count": 114,
   "metadata": {},
   "outputs": [
    {
     "data": {
      "text/latex": [
       "$$\\left\\{-3, - \\frac{5}{3}, -1.3333333333333333, 0, 0.12, \\frac{1}{2}, 1, 10\\right\\}$$"
      ],
      "text/plain": [
       "{-3, -5/3, -1.3333333333333333, 0, 0.12, 1/2, 1, 10}"
      ]
     },
     "execution_count": 114,
     "metadata": {},
     "output_type": "execute_result"
    }
   ],
   "source": [
    "# rational numbers\n",
    "set([_ for _ in U if nsimplify(_).is_rational or isinstance(_, float)])"
   ]
  },
  {
   "cell_type": "code",
   "execution_count": 115,
   "metadata": {},
   "outputs": [
    {
     "data": {
      "text/latex": [
       "$$\\left\\{\\sqrt{2}, \\pi, \\frac{1}{2} + \\pi\\right\\}$$"
      ],
      "text/plain": [
       "{√2, π, 1/2 + π}"
      ]
     },
     "execution_count": 115,
     "metadata": {},
     "output_type": "execute_result"
    }
   ],
   "source": [
    "# irrational numbers\n",
    "set([_ for _ in U if nsimplify(_).is_irrational])"
   ]
  },
  {
   "cell_type": "code",
   "execution_count": 116,
   "metadata": {},
   "outputs": [
    {
     "data": {
      "text/latex": [
       "$$\\left [ -3, \\quad - \\frac{5}{3}, \\quad -1.3333333333333333, \\quad 0, \\quad 0.12, \\quad \\frac{1}{2}, \\quad 1, \\quad \\sqrt{2}, \\quad \\pi, \\quad \\frac{1}{2} + \\pi, \\quad 10\\right ]$$"
      ],
      "text/plain": [
       "[-3, -5/3, -1.3333333333333333, 0, 0.12, 1/2, 1, √2, π, 1/2 + π, 10]"
      ]
     },
     "execution_count": 116,
     "metadata": {},
     "output_type": "execute_result"
    }
   ],
   "source": [
    "# real numbers\n",
    "sorted([_ for _ in U if nsimplify(_).is_real])"
   ]
  },
  {
   "cell_type": "markdown",
   "metadata": {},
   "source": [
    "### decimal approximation"
   ]
  },
  {
   "cell_type": "code",
   "execution_count": 117,
   "metadata": {},
   "outputs": [
    {
     "data": {
      "text/latex": [
       "$$3.14$$"
      ],
      "text/plain": [
       "3.14000000000000"
      ]
     },
     "metadata": {},
     "output_type": "display_data"
    },
    {
     "data": {
      "text/latex": [
       "$$3.1416$$"
      ],
      "text/plain": [
       "3.14160000000000"
      ]
     },
     "metadata": {},
     "output_type": "display_data"
    },
    {
     "data": {
      "text/latex": [
       "$$3.14$$"
      ],
      "text/plain": [
       "3.14"
      ]
     },
     "metadata": {},
     "output_type": "display_data"
    },
    {
     "data": {
      "text/latex": [
       "$$3.1415$$"
      ],
      "text/plain": [
       "3.1415"
      ]
     },
     "metadata": {},
     "output_type": "display_data"
    },
    {
     "data": {
      "text/latex": [
       "$$0.06$$"
      ],
      "text/plain": [
       "0.0600000000000000"
      ]
     },
     "metadata": {},
     "output_type": "display_data"
    },
    {
     "data": {
      "text/latex": [
       "$$0.0561$$"
      ],
      "text/plain": [
       "0.0561000000000000"
      ]
     },
     "metadata": {},
     "output_type": "display_data"
    },
    {
     "data": {
      "text/latex": [
       "$$0.05$$"
      ],
      "text/plain": [
       "0.05"
      ]
     },
     "metadata": {},
     "output_type": "display_data"
    },
    {
     "data": {
      "text/latex": [
       "$$0.0561$$"
      ],
      "text/plain": [
       "0.0561"
      ]
     },
     "metadata": {},
     "output_type": "display_data"
    },
    {
     "data": {
      "text/latex": [
       "$$893.46$$"
      ],
      "text/plain": [
       "893.460000000000"
      ]
     },
     "metadata": {},
     "output_type": "display_data"
    },
    {
     "data": {
      "text/latex": [
       "$$893.4613$$"
      ],
      "text/plain": [
       "893.461300000000"
      ]
     },
     "metadata": {},
     "output_type": "display_data"
    },
    {
     "data": {
      "text/latex": [
       "$$893.46$$"
      ],
      "text/plain": [
       "893.46"
      ]
     },
     "metadata": {},
     "output_type": "display_data"
    },
    {
     "data": {
      "text/latex": [
       "$$893.4612$$"
      ],
      "text/plain": [
       "893.4612"
      ]
     },
     "metadata": {},
     "output_type": "display_data"
    }
   ],
   "source": [
    "# approximating a decimal to two and four decimal places\n",
    "A = Decimal('3.14159')\n",
    "B = Decimal('.056128')\n",
    "C = Decimal('893.46125')\n",
    "\n",
    "for _ in [A, B, C]:\n",
    "    # round to 2 decimal places\n",
    "    display(N(_.quantize(Decimal('.01'), rounding=ROUND_HALF_UP)))\n",
    "    # round to 4 decimal places\n",
    "    display(N(_.quantize(Decimal('.0001'), rounding=ROUND_HALF_UP)))\n",
    "    #truncate to 2 decimal places\n",
    "    display(float(re.match(r'\\d+.\\d{2}', str(_)).group(0)))\n",
    "    #truncate to 4 decimal places\n",
    "    display(float(re.match(r'\\d+.\\d{4}', str(_)).group(0)))"
   ]
  },
  {
   "cell_type": "markdown",
   "metadata": {},
   "source": [
    "### calculators"
   ]
  },
  {
   "cell_type": "code",
   "execution_count": 152,
   "metadata": {},
   "outputs": [
    {
     "data": {
      "text/latex": [
       "$$0.6666666666666666$$"
      ],
      "text/plain": [
       "0.6666666666666666"
      ]
     },
     "execution_count": 152,
     "metadata": {},
     "output_type": "execute_result"
    }
   ],
   "source": [
    "2/3 # python truncates\n",
    "# casio fx-991EX rounds up"
   ]
  },
  {
   "cell_type": "markdown",
   "metadata": {},
   "source": [
    "### order of operations"
   ]
  },
  {
   "cell_type": "code",
   "execution_count": 153,
   "metadata": {},
   "outputs": [
    {
     "data": {
      "text/latex": [
       "$$23$$"
      ],
      "text/plain": [
       "23"
      ]
     },
     "execution_count": 153,
     "metadata": {},
     "output_type": "execute_result"
    }
   ],
   "source": [
    "3+4*5"
   ]
  },
  {
   "cell_type": "code",
   "execution_count": 154,
   "metadata": {},
   "outputs": [
    {
     "data": {
      "text/latex": [
       "$$32$$"
      ],
      "text/plain": [
       "32"
      ]
     },
     "execution_count": 154,
     "metadata": {},
     "output_type": "execute_result"
    }
   ],
   "source": [
    "(5+3)*4"
   ]
  },
  {
   "cell_type": "code",
   "execution_count": 155,
   "metadata": {},
   "outputs": [
    {
     "data": {
      "text/latex": [
       "$$42$$"
      ],
      "text/plain": [
       "42"
      ]
     },
     "execution_count": 155,
     "metadata": {},
     "output_type": "execute_result"
    }
   ],
   "source": [
    "15+(10-1)*3"
   ]
  },
  {
   "cell_type": "code",
   "execution_count": 156,
   "metadata": {},
   "outputs": [
    {
     "data": {
      "text/latex": [
       "$$\\frac{7}{30}$$"
      ],
      "text/plain": [
       "7/30"
      ]
     },
     "execution_count": 156,
     "metadata": {},
     "output_type": "execute_result"
    }
   ],
   "source": [
    "Rational((2+5), (2+(4*7)))"
   ]
  },
  {
   "cell_type": "markdown",
   "metadata": {},
   "source": [
    "### properties of real numbers\n",
    "\n",
    "a, b and c represent real numbers  \n",
    "**reflexive property**: A number always equals itself; that is a=a.  \n",
    "**symetric property**: If a=b then b=a.  \n",
    "**transitive property**: If a=b and b=c then a=c.  \n",
    "**principle of substitution**: If a=b then we may substitute b for a in any expression containing a.  \n",
    "  \n",
    "**commutative property**: The final result will not be affected by the order in which addition or multiplication takes place."
   ]
  },
  {
   "cell_type": "code",
   "execution_count": 157,
   "metadata": {},
   "outputs": [
    {
     "data": {
      "text/latex": [
       "$$\\mathrm{True}$$"
      ],
      "text/plain": [
       "True"
      ]
     },
     "execution_count": 157,
     "metadata": {},
     "output_type": "execute_result"
    }
   ],
   "source": [
    "solve(Eq(a+b, b+a))"
   ]
  },
  {
   "cell_type": "code",
   "execution_count": 158,
   "metadata": {},
   "outputs": [
    {
     "data": {
      "text/latex": [
       "$$\\mathrm{True}$$"
      ],
      "text/plain": [
       "True"
      ]
     },
     "execution_count": 158,
     "metadata": {},
     "output_type": "execute_result"
    }
   ],
   "source": [
    "solve(Eq(a*b, b*a))"
   ]
  },
  {
   "cell_type": "markdown",
   "metadata": {},
   "source": [
    "### ASSOCIATIVE PROPERTIES\n",
    "**associative property**: The way three real numbers are added or multiplied does not affect the final result. \n",
    "Expressions like 2+3+4 and 3\\*4\\*5 are not  ambiguous, even though addition and multiplication are performed on one pair of numbers at a time."
   ]
  },
  {
   "cell_type": "code",
   "execution_count": 159,
   "metadata": {},
   "outputs": [
    {
     "data": {
      "text/latex": [
       "$$\\mathrm{True}$$"
      ],
      "text/plain": [
       "True"
      ]
     },
     "execution_count": 159,
     "metadata": {},
     "output_type": "execute_result"
    }
   ],
   "source": [
    "Eq(a+(b+c), (a+b)+c)"
   ]
  },
  {
   "cell_type": "code",
   "execution_count": 160,
   "metadata": {},
   "outputs": [
    {
     "data": {
      "text/latex": [
       "$$\\mathrm{True}$$"
      ],
      "text/plain": [
       "True"
      ]
     },
     "execution_count": 160,
     "metadata": {},
     "output_type": "execute_result"
    }
   ],
   "source": [
    "Eq((a+b)+c, a+b+c)"
   ]
  },
  {
   "cell_type": "code",
   "execution_count": 161,
   "metadata": {},
   "outputs": [
    {
     "data": {
      "text/latex": [
       "$$\\mathrm{True}$$"
      ],
      "text/plain": [
       "True"
      ]
     },
     "execution_count": 161,
     "metadata": {},
     "output_type": "execute_result"
    }
   ],
   "source": [
    "Eq(a*(b*c), (a*b)*c)"
   ]
  },
  {
   "cell_type": "code",
   "execution_count": 162,
   "metadata": {
    "scrolled": true
   },
   "outputs": [
    {
     "data": {
      "text/latex": [
       "$$\\mathrm{True}$$"
      ],
      "text/plain": [
       "True"
      ]
     },
     "execution_count": 162,
     "metadata": {},
     "output_type": "execute_result"
    }
   ],
   "source": [
    "Eq((a*b)*c, a*b*c)"
   ]
  },
  {
   "cell_type": "markdown",
   "metadata": {},
   "source": [
    "The distributive property may be used in two different ways:"
   ]
  },
  {
   "cell_type": "code",
   "execution_count": 163,
   "metadata": {},
   "outputs": [
    {
     "data": {
      "text/latex": [
       "$$a \\left(b + c\\right) = a b + a c$$"
      ],
      "text/plain": [
       "a⋅(b + c) = a⋅b + a⋅c"
      ]
     },
     "execution_count": 163,
     "metadata": {},
     "output_type": "execute_result"
    }
   ],
   "source": [
    "# Use to remove parenthesis.\n",
    "Eq(a*(b+c), a*b+a*c)"
   ]
  },
  {
   "cell_type": "code",
   "execution_count": 164,
   "metadata": {},
   "outputs": [
    {
     "data": {
      "text/latex": [
       "$$c \\left(a + b\\right) = a c + b c$$"
      ],
      "text/plain": [
       "c⋅(a + b) = a⋅c + b⋅c"
      ]
     },
     "execution_count": 164,
     "metadata": {},
     "output_type": "execute_result"
    }
   ],
   "source": [
    "# Use to combine two expressions.\n",
    "Eq((a+b)*c, a*c+b*c)"
   ]
  },
  {
   "cell_type": "markdown",
   "metadata": {},
   "source": [
    "### IDENTITY PROPERTIES\n",
    "0 and 1 have unique properties known as the **identity properties**.  \n",
    "  \n",
    "additive property"
   ]
  },
  {
   "cell_type": "code",
   "execution_count": 165,
   "metadata": {},
   "outputs": [
    {
     "data": {
      "text/latex": [
       "$$\\mathrm{True}$$"
      ],
      "text/plain": [
       "True"
      ]
     },
     "execution_count": 165,
     "metadata": {},
     "output_type": "execute_result"
    }
   ],
   "source": [
    "Eq(0+a, a+0)"
   ]
  },
  {
   "cell_type": "code",
   "execution_count": 166,
   "metadata": {},
   "outputs": [
    {
     "data": {
      "text/latex": [
       "$$\\mathrm{True}$$"
      ],
      "text/plain": [
       "True"
      ]
     },
     "execution_count": 166,
     "metadata": {},
     "output_type": "execute_result"
    }
   ],
   "source": [
    "Eq(a+0, a)"
   ]
  },
  {
   "cell_type": "markdown",
   "metadata": {},
   "source": [
    "multiplicative property"
   ]
  },
  {
   "cell_type": "code",
   "execution_count": 167,
   "metadata": {},
   "outputs": [
    {
     "data": {
      "text/latex": [
       "$$\\mathrm{True}$$"
      ],
      "text/plain": [
       "True"
      ]
     },
     "execution_count": 167,
     "metadata": {},
     "output_type": "execute_result"
    }
   ],
   "source": [
    "Eq(a*1, 1*a)"
   ]
  },
  {
   "cell_type": "code",
   "execution_count": 168,
   "metadata": {},
   "outputs": [
    {
     "data": {
      "text/latex": [
       "$$\\mathrm{True}$$"
      ],
      "text/plain": [
       "True"
      ]
     },
     "execution_count": 168,
     "metadata": {},
     "output_type": "execute_result"
    }
   ],
   "source": [
    "Eq(1*a, a)"
   ]
  },
  {
   "cell_type": "markdown",
   "metadata": {},
   "source": [
    "additive inverse property"
   ]
  },
  {
   "cell_type": "code",
   "execution_count": 169,
   "metadata": {},
   "outputs": [
    {
     "data": {
      "text/latex": [
       "$$\\mathrm{True}$$"
      ],
      "text/plain": [
       "True"
      ]
     },
     "execution_count": 169,
     "metadata": {},
     "output_type": "execute_result"
    }
   ],
   "source": [
    "Eq(a+(-a), -a+a)"
   ]
  },
  {
   "cell_type": "code",
   "execution_count": 170,
   "metadata": {},
   "outputs": [
    {
     "data": {
      "text/latex": [
       "$$\\mathrm{True}$$"
      ],
      "text/plain": [
       "True"
      ]
     },
     "execution_count": 170,
     "metadata": {},
     "output_type": "execute_result"
    }
   ],
   "source": [
    "Eq(-a+a, 0)"
   ]
  },
  {
   "cell_type": "markdown",
   "metadata": {},
   "source": [
    "multiplicative inverse property  \n",
    "if a != 0"
   ]
  },
  {
   "cell_type": "code",
   "execution_count": 171,
   "metadata": {},
   "outputs": [
    {
     "data": {
      "text/latex": [
       "$$\\mathrm{True}$$"
      ],
      "text/plain": [
       "True"
      ]
     },
     "execution_count": 171,
     "metadata": {},
     "output_type": "execute_result"
    }
   ],
   "source": [
    "Eq(a*(1/a), (1/a)*a)"
   ]
  },
  {
   "cell_type": "code",
   "execution_count": 172,
   "metadata": {},
   "outputs": [
    {
     "data": {
      "text/latex": [
       "$$\\mathrm{True}$$"
      ],
      "text/plain": [
       "True"
      ]
     },
     "execution_count": 172,
     "metadata": {},
     "output_type": "execute_result"
    }
   ],
   "source": [
    "Eq((1/a)*a, 1)"
   ]
  },
  {
   "cell_type": "markdown",
   "metadata": {},
   "source": [
    "Note: Division by 0 is not defined.  \n",
    "  \n",
    "$\\frac{2}{0}=x$ means to find $x$ such that $0\\times x = 2$.  \n",
    "But $0\\times x$ equals 0 for all $x$, so $x$ does not exist if $\\frac{2}{0} = x$.  \n",
    "### REDUCTION PROPERTIES\n",
    "ac = bc implies a = b if c != 0.  \n",
    "ac/bc = a/b if b != 0 and c != 0."
   ]
  },
  {
   "cell_type": "code",
   "execution_count": 173,
   "metadata": {},
   "outputs": [
    {
     "data": {
      "text/latex": [
       "$$\\left [ 3\\right ]$$"
      ],
      "text/plain": [
       "[3]"
      ]
     },
     "execution_count": 173,
     "metadata": {},
     "output_type": "execute_result"
    }
   ],
   "source": [
    "solve(Eq(2*x, 6), x)"
   ]
  },
  {
   "cell_type": "code",
   "execution_count": 174,
   "metadata": {},
   "outputs": [
    {
     "data": {
      "text/latex": [
       "$$\\frac{3}{2}$$"
      ],
      "text/plain": [
       "3/2"
      ]
     },
     "execution_count": 174,
     "metadata": {},
     "output_type": "execute_result"
    }
   ],
   "source": [
    "Rational(18, 12)"
   ]
  },
  {
   "cell_type": "markdown",
   "metadata": {},
   "source": [
    "zero-product property  \n",
    "If $ab = 0$, then $a=0$, $b=0$ or both.  "
   ]
  },
  {
   "cell_type": "code",
   "execution_count": 179,
   "metadata": {},
   "outputs": [
    {
     "data": {
      "text/latex": [
       "$$60$$"
      ],
      "text/plain": [
       "60"
      ]
     },
     "execution_count": 179,
     "metadata": {},
     "output_type": "execute_result"
    }
   ],
   "source": [
    "# least common multiple\n",
    "lcm(12,15)"
   ]
  },
  {
   "cell_type": "code",
   "execution_count": 180,
   "metadata": {},
   "outputs": [
    {
     "data": {
      "text/latex": [
       "$$\\left [ - \\frac{9}{5}\\right ]$$"
      ],
      "text/plain": [
       "[-9/5]"
      ]
     },
     "execution_count": 180,
     "metadata": {},
     "output_type": "execute_result"
    }
   ],
   "source": [
    "solve(Eq(5*(x+3),6))"
   ]
  },
  {
   "cell_type": "markdown",
   "metadata": {},
   "source": [
    "### round and truncate to three decimal places"
   ]
  },
  {
   "cell_type": "code",
   "execution_count": 205,
   "metadata": {},
   "outputs": [
    {
     "data": {
      "text/latex": [
       "$$18.953$$"
      ],
      "text/plain": [
       "18.9530000000000"
      ]
     },
     "metadata": {},
     "output_type": "display_data"
    },
    {
     "data": {
      "text/plain": [
       "'18.952'"
      ]
     },
     "execution_count": 205,
     "metadata": {},
     "output_type": "execute_result"
    }
   ],
   "source": [
    "C = str(18.9526)\n",
    "# round C\n",
    "display(N(Context(prec=5, rounding=ROUND_HALF_UP).create_decimal(C)))\n",
    "# truncate C\n",
    "re.match(r'\\d+.\\d{3}', C).group(0)"
   ]
  },
  {
   "cell_type": "code",
   "execution_count": 208,
   "metadata": {},
   "outputs": [
    {
     "data": {
      "text/latex": [
       "$$0.429$$"
      ],
      "text/plain": [
       "0.429000000000000"
      ]
     },
     "metadata": {},
     "output_type": "display_data"
    },
    {
     "data": {
      "text/plain": [
       "'0.428'"
      ]
     },
     "execution_count": 208,
     "metadata": {},
     "output_type": "execute_result"
    }
   ],
   "source": [
    "C = str(3/7)\n",
    "# round C\n",
    "display(N(Context(prec=3, rounding=ROUND_HALF_UP).create_decimal(C)))\n",
    "# truncate C\n",
    "re.match(r'\\d+.\\d{3}', C).group(0)"
   ]
  },
  {
   "cell_type": "code",
   "execution_count": 209,
   "metadata": {},
   "outputs": [
    {
     "data": {
      "text/latex": [
       "$$0.556$$"
      ],
      "text/plain": [
       "0.556000000000000"
      ]
     },
     "metadata": {},
     "output_type": "display_data"
    },
    {
     "data": {
      "text/plain": [
       "'0.555'"
      ]
     },
     "execution_count": 209,
     "metadata": {},
     "output_type": "execute_result"
    }
   ],
   "source": [
    "C = str(5/9)\n",
    "# round C\n",
    "display(N(Context(prec=3, rounding=ROUND_HALF_UP).create_decimal(C)))\n",
    "# truncate C\n",
    "re.match(r'\\d+.\\d{3}', C).group(0)"
   ]
  },
  {
   "cell_type": "code",
   "execution_count": 210,
   "metadata": {},
   "outputs": [
    {
     "data": {
      "text/plain": [
       "'16.200'"
      ]
     },
     "metadata": {},
     "output_type": "display_data"
    },
    {
     "data": {
      "text/plain": [
       "'16.200'"
      ]
     },
     "execution_count": 210,
     "metadata": {},
     "output_type": "execute_result"
    }
   ],
   "source": [
    "C = 81/5\n",
    "# round C\n",
    "display('{0:.3f}'.format(N(Context(prec=5, rounding=ROUND_HALF_UP).create_decimal(str(C)))))\n",
    "# truncate C\n",
    "re.match(r'\\d+.\\d{3}', '{0:.3f}'.format(C)).group(0)"
   ]
  },
  {
   "cell_type": "markdown",
   "metadata": {},
   "source": [
    "### writing statements using symbols"
   ]
  },
  {
   "cell_type": "code",
   "execution_count": 211,
   "metadata": {},
   "outputs": [
    {
     "data": {
      "text/latex": [
       "$$x + 2 = 12$$"
      ],
      "text/plain": [
       "x + 2 = 12"
      ]
     },
     "execution_count": 211,
     "metadata": {},
     "output_type": "execute_result"
    }
   ],
   "source": [
    "Eq(x+2, 3*4, evaluate=False)"
   ]
  },
  {
   "cell_type": "code",
   "execution_count": 212,
   "metadata": {},
   "outputs": [
    {
     "data": {
      "text/latex": [
       "$$3 y = 3$$"
      ],
      "text/plain": [
       "3⋅y = 3"
      ]
     },
     "execution_count": 212,
     "metadata": {},
     "output_type": "execute_result"
    }
   ],
   "source": [
    "Eq(3*y, 1+2)"
   ]
  },
  {
   "cell_type": "code",
   "execution_count": 213,
   "metadata": {},
   "outputs": [
    {
     "data": {
      "text/latex": [
       "$$\\frac{x}{2} = 6$$"
      ],
      "text/plain": [
       "x    \n",
       "─ = 6\n",
       "2    "
      ]
     },
     "execution_count": 213,
     "metadata": {},
     "output_type": "execute_result"
    }
   ],
   "source": [
    "Eq(x/2, 6)"
   ]
  },
  {
   "cell_type": "markdown",
   "metadata": {},
   "source": [
    "### expression evaluation"
   ]
  },
  {
   "cell_type": "code",
   "execution_count": 215,
   "metadata": {},
   "outputs": [
    {
     "data": {
      "text/latex": [
       "$$\\frac{3}{2}$$"
      ],
      "text/plain": [
       "3/2"
      ]
     },
     "execution_count": 215,
     "metadata": {},
     "output_type": "execute_result"
    }
   ],
   "source": [
    "2-Rational(1,2)"
   ]
  },
  {
   "cell_type": "code",
   "execution_count": 216,
   "metadata": {},
   "outputs": [
    {
     "data": {
      "text/latex": [
       "$$-11$$"
      ],
      "text/plain": [
       "-11"
      ]
     },
     "execution_count": 216,
     "metadata": {},
     "output_type": "execute_result"
    }
   ],
   "source": [
    "6-(3*5+2*(3-2))"
   ]
  },
  {
   "cell_type": "code",
   "execution_count": 217,
   "metadata": {},
   "outputs": [
    {
     "data": {
      "text/latex": [
       "$$1$$"
      ],
      "text/plain": [
       "1"
      ]
     },
     "execution_count": 217,
     "metadata": {},
     "output_type": "execute_result"
    }
   ],
   "source": [
    "(5-3)*Rational(1,2)"
   ]
  },
  {
   "cell_type": "code",
   "execution_count": 218,
   "metadata": {},
   "outputs": [
    {
     "data": {
      "text/latex": [
       "$$6$$"
      ],
      "text/plain": [
       "6"
      ]
     },
     "execution_count": 218,
     "metadata": {},
     "output_type": "execute_result"
    }
   ],
   "source": [
    "Rational(4+8, 5-3)"
   ]
  },
  {
   "cell_type": "code",
   "execution_count": 219,
   "metadata": {},
   "outputs": [
    {
     "data": {
      "text/latex": [
       "$$-1$$"
      ],
      "text/plain": [
       "-1"
      ]
     },
     "execution_count": 219,
     "metadata": {},
     "output_type": "execute_result"
    }
   ],
   "source": [
    "Rational(2-4, 5-3)"
   ]
  },
  {
   "cell_type": "code",
   "execution_count": 220,
   "metadata": {},
   "outputs": [
    {
     "data": {
      "text/latex": [
       "$$\\frac{2}{7}$$"
      ],
      "text/plain": [
       "2/7"
      ]
     },
     "execution_count": 220,
     "metadata": {},
     "output_type": "execute_result"
    }
   ],
   "source": [
    "Rational(3,5) * Rational(10,21)"
   ]
  },
  {
   "cell_type": "code",
   "execution_count": 221,
   "metadata": {},
   "outputs": [
    {
     "data": {
      "text/latex": [
       "$$28$$"
      ],
      "text/plain": [
       "28"
      ]
     },
     "execution_count": 221,
     "metadata": {},
     "output_type": "execute_result"
    }
   ],
   "source": [
    "Rational(21, 25)*Rational(100, 3)"
   ]
  },
  {
   "cell_type": "code",
   "execution_count": 222,
   "metadata": {},
   "outputs": [
    {
     "data": {
      "text/latex": [
       "$$\\frac{23}{20}$$"
      ],
      "text/plain": [
       "23\n",
       "──\n",
       "20"
      ]
     },
     "execution_count": 222,
     "metadata": {},
     "output_type": "execute_result"
    }
   ],
   "source": [
    "Rational(3,4) + Rational(2,5)"
   ]
  },
  {
   "cell_type": "code",
   "execution_count": 223,
   "metadata": {},
   "outputs": [
    {
     "data": {
      "text/latex": [
       "$$- \\frac{16}{45}$$"
      ],
      "text/plain": [
       "-16 \n",
       "────\n",
       " 45 "
      ]
     },
     "execution_count": 223,
     "metadata": {},
     "output_type": "execute_result"
    }
   ],
   "source": [
    "Rational(1,30)-Rational(7,18)"
   ]
  },
  {
   "cell_type": "code",
   "execution_count": 224,
   "metadata": {},
   "outputs": [
    {
     "data": {
      "text/latex": [
       "$$\\frac{5}{42}$$"
      ],
      "text/plain": [
       "5/42"
      ]
     },
     "execution_count": 224,
     "metadata": {},
     "output_type": "execute_result"
    }
   ],
   "source": [
    "Rational(3,14)-Rational(2,21)"
   ]
  },
  {
   "cell_type": "code",
   "execution_count": 225,
   "metadata": {},
   "outputs": [
    {
     "data": {
      "text/latex": [
       "$$\\frac{15}{22}$$"
      ],
      "text/plain": [
       "15\n",
       "──\n",
       "22"
      ]
     },
     "execution_count": 225,
     "metadata": {},
     "output_type": "execute_result"
    }
   ],
   "source": [
    "Rational(5,18) / Rational(11,27)"
   ]
  },
  {
   "cell_type": "code",
   "execution_count": 226,
   "metadata": {},
   "outputs": [
    {
     "data": {
      "text/latex": [
       "$$\\frac{25}{6}$$"
      ],
      "text/plain": [
       "25/6"
      ]
     },
     "execution_count": 226,
     "metadata": {},
     "output_type": "execute_result"
    }
   ],
   "source": [
    "Rational(Rational(5,21), Rational(2,35))"
   ]
  },
  {
   "cell_type": "code",
   "execution_count": 227,
   "metadata": {},
   "outputs": [
    {
     "data": {
      "text/latex": [
       "$$1$$"
      ],
      "text/plain": [
       "1"
      ]
     },
     "execution_count": 227,
     "metadata": {},
     "output_type": "execute_result"
    }
   ],
   "source": [
    "Rational(1,2)*Rational(3,5)+Rational(7,10)"
   ]
  },
  {
   "cell_type": "code",
   "execution_count": 127,
   "metadata": {},
   "outputs": [
    {
     "data": {
      "text/latex": [
       "$$\\frac{15}{8}$$"
      ],
      "text/plain": [
       "15/8"
      ]
     },
     "execution_count": 127,
     "metadata": {},
     "output_type": "execute_result"
    }
   ],
   "source": [
    "2*Rational(3,4)+Rational(3,8)"
   ]
  },
  {
   "cell_type": "code",
   "execution_count": 128,
   "metadata": {},
   "outputs": [
    {
     "data": {
      "text/latex": [
       "$$2$$"
      ],
      "text/plain": [
       "2"
      ]
     },
     "execution_count": 128,
     "metadata": {},
     "output_type": "execute_result"
    }
   ],
   "source": [
    "3*Rational(5,6)-Rational(1,2)"
   ]
  },
  {
   "cell_type": "markdown",
   "metadata": {},
   "source": [
    "### remove parenthesis with the distributive property"
   ]
  },
  {
   "cell_type": "code",
   "execution_count": 129,
   "metadata": {},
   "outputs": [
    {
     "data": {
      "text/latex": [
       "$$6 x + 24$$"
      ],
      "text/plain": [
       "6⋅x + 24"
      ]
     },
     "execution_count": 129,
     "metadata": {},
     "output_type": "execute_result"
    }
   ],
   "source": [
    "6*(x+4)"
   ]
  },
  {
   "cell_type": "code",
   "execution_count": 130,
   "metadata": {},
   "outputs": [
    {
     "data": {
      "text/latex": [
       "$$8 x - 4$$"
      ],
      "text/plain": [
       "8⋅x - 4"
      ]
     },
     "execution_count": 130,
     "metadata": {},
     "output_type": "execute_result"
    }
   ],
   "source": [
    "4*(2*x-1)"
   ]
  },
  {
   "cell_type": "code",
   "execution_count": 149,
   "metadata": {},
   "outputs": [
    {
     "data": {
      "text/latex": [
       "$$x^{2} - 4 x$$"
      ],
      "text/plain": [
       " 2      \n",
       "x  - 4⋅x"
      ]
     },
     "execution_count": 149,
     "metadata": {},
     "output_type": "execute_result"
    }
   ],
   "source": [
    "(x*(x-4)).expand()"
   ]
  },
  {
   "cell_type": "code",
   "execution_count": 150,
   "metadata": {},
   "outputs": [
    {
     "data": {
      "text/latex": [
       "$$4 x^{2} + 12 x$$"
      ],
      "text/plain": [
       "   2       \n",
       "4⋅x  + 12⋅x"
      ]
     },
     "execution_count": 150,
     "metadata": {},
     "output_type": "execute_result"
    }
   ],
   "source": [
    "(4*x*(x+3)).expand()"
   ]
  },
  {
   "cell_type": "code",
   "execution_count": 151,
   "metadata": {},
   "outputs": [
    {
     "data": {
      "text/latex": [
       "$$\\frac{3 x}{2} - 1$$"
      ],
      "text/plain": [
       "3⋅x    \n",
       "─── - 1\n",
       " 2     "
      ]
     },
     "execution_count": 151,
     "metadata": {},
     "output_type": "execute_result"
    }
   ],
   "source": [
    "2*(Rational(3,4)*x-Rational(1,2))"
   ]
  },
  {
   "cell_type": "code",
   "execution_count": 152,
   "metadata": {},
   "outputs": [
    {
     "data": {
      "text/latex": [
       "$$2 x + \\frac{1}{2}$$"
      ],
      "text/plain": [
       "2⋅x + 1/2"
      ]
     },
     "execution_count": 152,
     "metadata": {},
     "output_type": "execute_result"
    }
   ],
   "source": [
    "3*(Rational(2,3)*x + Rational(1,6))"
   ]
  },
  {
   "cell_type": "code",
   "execution_count": 153,
   "metadata": {},
   "outputs": [
    {
     "data": {
      "text/latex": [
       "$$x^{2} + 6 x + 8$$"
      ],
      "text/plain": [
       " 2          \n",
       "x  + 6⋅x + 8"
      ]
     },
     "execution_count": 153,
     "metadata": {},
     "output_type": "execute_result"
    }
   ],
   "source": [
    "((x+2)*(x+4)).expand()"
   ]
  },
  {
   "cell_type": "code",
   "execution_count": 154,
   "metadata": {},
   "outputs": [
    {
     "data": {
      "text/latex": [
       "$$x^{2} + 6 x + 5$$"
      ],
      "text/plain": [
       " 2          \n",
       "x  + 6⋅x + 5"
      ]
     },
     "execution_count": 154,
     "metadata": {},
     "output_type": "execute_result"
    }
   ],
   "source": [
    "((x+5)*(x+1)).expand()"
   ]
  },
  {
   "cell_type": "code",
   "execution_count": 155,
   "metadata": {},
   "outputs": [
    {
     "data": {
      "text/latex": [
       "$$x^{2} - x - 2$$"
      ],
      "text/plain": [
       " 2        \n",
       "x  - x - 2"
      ]
     },
     "execution_count": 155,
     "metadata": {},
     "output_type": "execute_result"
    }
   ],
   "source": [
    "((x-2)*(x+1)).expand()"
   ]
  },
  {
   "cell_type": "code",
   "execution_count": 156,
   "metadata": {},
   "outputs": [
    {
     "data": {
      "text/latex": [
       "$$x^{2} - 6 x + 8$$"
      ],
      "text/plain": [
       " 2          \n",
       "x  - 6⋅x + 8"
      ]
     },
     "execution_count": 156,
     "metadata": {},
     "output_type": "execute_result"
    }
   ],
   "source": [
    "((x-4)*(x-2)).expand()"
   ]
  },
  {
   "cell_type": "markdown",
   "metadata": {},
   "source": [
    "The distributive property justifies 2\\*x \\+ 3\\*x = 5\\*x because:  \n",
    "2\\*x \\+ 3\\*x = x\\*(2\\+3) = 5\\*x  \n",
    "2\\+3\\*4=14, whereas (2\\+3)\\*4=20 due to the order of operations.  \n",
    "  \n",
    "2\\*(3\\*4) != (2\\*3)\\*(2\\*4)  \n",
    "2\\*(12)  != 6\\*8  \n",
    "24      != 48  "
   ]
  },
  {
   "cell_type": "code",
   "execution_count": 157,
   "metadata": {},
   "outputs": [
    {
     "data": {
      "text/latex": [
       "$$1$$"
      ],
      "text/plain": [
       "1"
      ]
     },
     "metadata": {},
     "output_type": "display_data"
    },
    {
     "data": {
      "text/latex": [
       "$$\\frac{13}{5}$$"
      ],
      "text/plain": [
       "13/5"
      ]
     },
     "metadata": {},
     "output_type": "display_data"
    }
   ],
   "source": [
    "display(Rational((4+3), (2+5)))\n",
    "display(Rational(4,2)+Rational(3,5))"
   ]
  },
  {
   "cell_type": "markdown",
   "metadata": {},
   "source": [
    "Subtraction is not commutative."
   ]
  },
  {
   "cell_type": "code",
   "execution_count": 158,
   "metadata": {},
   "outputs": [
    {
     "data": {
      "text/latex": [
       "$$4$$"
      ],
      "text/plain": [
       "4"
      ]
     },
     "metadata": {},
     "output_type": "display_data"
    },
    {
     "data": {
      "text/latex": [
       "$$2$$"
      ],
      "text/plain": [
       "2"
      ]
     },
     "metadata": {},
     "output_type": "display_data"
    }
   ],
   "source": [
    "display(2-1+3)\n",
    "display(3-2+1)"
   ]
  },
  {
   "cell_type": "markdown",
   "metadata": {},
   "source": [
    "Subtraction is not associative."
   ]
  },
  {
   "cell_type": "code",
   "execution_count": 159,
   "metadata": {},
   "outputs": [
    {
     "data": {
      "text/latex": [
       "$$-2$$"
      ],
      "text/plain": [
       "-2"
      ]
     },
     "metadata": {},
     "output_type": "display_data"
    },
    {
     "data": {
      "text/latex": [
       "$$0$$"
      ],
      "text/plain": [
       "0"
      ]
     },
     "execution_count": 159,
     "metadata": {},
     "output_type": "execute_result"
    }
   ],
   "source": [
    "display(2-(3+1))\n",
    "2-3+1"
   ]
  },
  {
   "cell_type": "markdown",
   "metadata": {},
   "source": [
    "Division is not commutative.  \n",
    "3/2 != 2/3\n",
    "  \n",
    "Division is not associative."
   ]
  },
  {
   "cell_type": "code",
   "execution_count": 160,
   "metadata": {},
   "outputs": [
    {
     "data": {
      "text/latex": [
       "$$\\frac{1}{6}$$"
      ],
      "text/plain": [
       "1/6"
      ]
     },
     "metadata": {},
     "output_type": "display_data"
    },
    {
     "data": {
      "text/latex": [
       "$$\\frac{3}{2}$$"
      ],
      "text/plain": [
       "3/2"
      ]
     },
     "metadata": {},
     "output_type": "display_data"
    }
   ],
   "source": [
    "display(Rational(Rational(1, 2), 3))\n",
    "display(Rational(Rational(3, 2), 1))"
   ]
  },
  {
   "cell_type": "markdown",
   "metadata": {},
   "source": [
    "If 2=x, why does x=2?  \n",
    "The **symetric property** states if a=b then b=a.  \n",
    "  \n",
    "Because the **principle of substitution** states if a=b,   \n",
    "then we may substitute b for a in any expression containing a.  \n",
    "x = 5  \n",
    "x**2 + x = 30  \n",
    "  \n",
    "Real numbers that are irrational and rational do not exist.  \n",
    "A real number is either irrational or rational.  \n",
    "  \n",
    "Real numbers are the set of all irrational and rational numbers.  \n",
    "All rational numbers can be expressed as a the ratio of two integers.  \n",
    "If a number cannot be expressed as the ratio of two integers, the number is irrational.  \n",
    "Because irrational numbers cannot be expressed as the ratio of two integers, they cannot be rational.  \n",
    "Because rational numbers can be expressed as the ratio of two integers, they are not irrational.  \n",
    "Hence, real numbers may only be rational or irrational.  \n",
    "  \n",
    "\n",
    "The sum of a rational and irrational number is irrational because the sum cannot be expressed as the ratio of two integers.  \n",
    "  \n",
    "A fraction in lowest terms with a prime denominator other than 2 or 5 always produces a repeating decimal. "
   ]
  },
  {
   "cell_type": "code",
   "execution_count": 131,
   "metadata": {},
   "outputs": [
    {
     "name": "stdout",
     "output_type": "stream",
     "text": [
      "1 1\n",
      "2 0.5\n",
      "3 0.333333333333333333333333333333333333333333333333333333333333\n",
      "4 0.25\n",
      "5 0.2\n",
      "6 0.166666666666666666666666666666666666666666666666666666666667\n",
      "7 0.142857142857142857142857142857142857142857142857142857142857\n",
      "8 0.125\n",
      "9 0.111111111111111111111111111111111111111111111111111111111111\n",
      "10 0.1\n",
      "11 0.0909090909090909090909090909090909090909090909090909090909091\n",
      "12 0.0833333333333333333333333333333333333333333333333333333333333\n",
      "13 0.0769230769230769230769230769230769230769230769230769230769231\n",
      "14 0.0714285714285714285714285714285714285714285714285714285714286\n",
      "15 0.0666666666666666666666666666666666666666666666666666666666667\n",
      "16 0.0625\n",
      "17 0.0588235294117647058823529411764705882352941176470588235294118\n",
      "18 0.0555555555555555555555555555555555555555555555555555555555556\n",
      "19 0.0526315789473684210526315789473684210526315789473684210526316\n",
      "20 0.05\n",
      "21 0.0476190476190476190476190476190476190476190476190476190476190\n",
      "22 0.0454545454545454545454545454545454545454545454545454545454545\n",
      "23 0.0434782608695652173913043478260869565217391304347826086956522\n",
      "24 0.0416666666666666666666666666666666666666666666666666666666667\n",
      "25 0.04\n",
      "26 0.0384615384615384615384615384615384615384615384615384615384615\n",
      "27 0.0370370370370370370370370370370370370370370370370370370370370\n",
      "28 0.0357142857142857142857142857142857142857142857142857142857143\n",
      "29 0.0344827586206896551724137931034482758620689655172413793103448\n"
     ]
    }
   ],
   "source": [
    "getcontext().prec = 60\n",
    "for _ in range(1, 30): print(_, Decimal(1)/Decimal(_)) "
   ]
  },
  {
   "cell_type": "code",
   "execution_count": 123,
   "metadata": {},
   "outputs": [
    {
     "data": {
      "text/latex": [
       "$$13$$"
      ],
      "text/plain": [
       "13"
      ]
     },
     "execution_count": 123,
     "metadata": {},
     "output_type": "execute_result"
    }
   ],
   "source": [
    "# If the current time is 12 noon, what will the time be 12997 hours from now?\n",
    "12997/24\n",
    "12997-(541*24)\n",
    "# 1 AM"
   ]
  },
  {
   "cell_type": "markdown",
   "metadata": {},
   "source": [
    "a/0 where a != 0 is undefined because if we approach 0 from the right, the quotient will approach positive infinity.  \n",
    "If we approach 0 from the left, the quotient will approach negative infinity  \n",
    "  \n",
    "0/0 is undefined because as number a approaches 0, a/a=1.  \n",
    "As number a approaches 0, 0/a = 0.  \n",
    "It's not clear if 0/0 should equal 0 or 1 and therefore, 0/0 is undefined.  "
   ]
  },
  {
   "cell_type": "markdown",
   "metadata": {},
   "source": [
    "### intervals"
   ]
  },
  {
   "cell_type": "markdown",
   "metadata": {},
   "source": [
    "$\\{x|-1\\le x<2\\}$  \n",
    "  \n",
    "Graph [-1, 2)"
   ]
  },
  {
   "cell_type": "code",
   "execution_count": 105,
   "metadata": {},
   "outputs": [
    {
     "data": {
      "image/png": "[encoded data removed]",
      "text/plain": [
       "<Figure size 432x288 with 1 Axes>"
      ]
     },
     "metadata": {},
     "output_type": "display_data"
    }
   ],
   "source": [
    "plt.axhline(y=0, color='black', lw=2)\n",
    "x_coords = [-1, 2]\n",
    "y_coords = [0, 0]\n",
    "plt.plot(x_coords, y_coords, color='red')\n",
    "\n",
    "for x_coord in [-1, 0, 2]:\n",
    "    plt.annotate(s='{}'.format(x_coord), xy=(x_coord, -1))\n",
    "\n",
    "plt.yticks([])\n",
    "plt.xticks([0,1,2,3])\n",
    "plt.axis('scaled')\n",
    "plt.arrow(x=3.75, y=0, dx=.25,dy=0, width=.2, head_length=.25, length_includes_head=.25, color='black')\n",
    "\n",
    "circle_a=plt.Circle((-1,0),radius=.25,color='black',)\n",
    "circle_b=plt.Circle((2,0),radius=.25,color='black', fill=False)\n",
    "plt.gca().add_artist(circle_a)\n",
    "plt.gca().add_artist(circle_b)\n",
    "\n",
    "plt.xlim(xmin=-2, xmax=4)\n",
    "_ = plt.ylim(ymin=-4, ymax=2)"
   ]
  }
 ],
 "metadata": {
  "kernelspec": {
   "display_name": "Python 3",
   "language": "python",
   "name": "python3"
  },
  "language_info": {
   "codemirror_mode": {
    "name": "ipython",
    "version": 3
   },
   "file_extension": ".py",
   "mimetype": "text/x-python",
   "name": "python",
   "nbconvert_exporter": "python",
   "pygments_lexer": "ipython3",
   "version": "3.6.7"
  }
 },
 "nbformat": 4,
 "nbformat_minor": 1
}
