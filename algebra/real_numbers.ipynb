{
 "cells": [
  {
   "cell_type": "code",
   "execution_count": 1,
   "metadata": {},
   "outputs": [],
   "source": [
    "%run ../set_notebook.py"
   ]
  },
  {
   "cell_type": "code",
   "execution_count": 9,
   "metadata": {},
   "outputs": [
    {
     "data": {
      "text/latex": [
       "$\\displaystyle \\left(-\\infty, -2\\right) \\cup \\left(-2, 2\\right) \\cup \\left(2, \\infty\\right)$"
      ],
      "text/plain": [
       "(-∞, -2) ∪ (-2, 2) ∪ (2, ∞)"
      ]
     },
     "execution_count": 9,
     "metadata": {},
     "output_type": "execute_result"
    }
   ],
   "source": [
    "# solving inequality with absolute value\n",
    "inequality = abs((x+2)/(x-2)) > 0\n",
    "solveset(f=inequality, symbol=x, domain=S.Reals)"
   ]
  },
  {
   "cell_type": "code",
   "execution_count": 10,
   "metadata": {},
   "outputs": [
    {
     "data": {
      "text/latex": [
       "$\\displaystyle \\left(-\\infty, -2\\right) \\cup \\left(2, \\infty\\right)$"
      ],
      "text/plain": [
       "(-∞, -2) ∪ (2, ∞)"
      ]
     },
     "execution_count": 10,
     "metadata": {},
     "output_type": "execute_result"
    }
   ],
   "source": [
    "# solving a quadratic inequality\n",
    "inequality = ((x-2)/(x+2)**3) > 0\n",
    "solveset(f=inequality, symbol=x, domain=S.Reals)"
   ]
  },
  {
   "cell_type": "code",
   "execution_count": 11,
   "metadata": {},
   "outputs": [
    {
     "data": {
      "text/latex": [
       "$\\displaystyle \\left(2, 3\\right)$"
      ],
      "text/plain": [
       "(2, 3)"
      ]
     },
     "execution_count": 11,
     "metadata": {},
     "output_type": "execute_result"
    }
   ],
   "source": [
    "# solving a two-sided inequality\n",
    "A = solveset(f=0 < 3-x, symbol=x, domain=S.Reals)\n",
    "B = solveset(f=3-x < 1, symbol=x, domain=S.Reals)\n",
    "A.intersection(B)"
   ]
  },
  {
   "cell_type": "code",
   "execution_count": 12,
   "metadata": {},
   "outputs": [
    {
     "data": {
      "text/latex": [
       "$\\displaystyle \\left(-\\infty, -2\\right) \\cup \\left[1, \\infty\\right)$"
      ],
      "text/plain": [
       "(-∞, -2) ∪ [1, ∞)"
      ]
     },
     "execution_count": 12,
     "metadata": {},
     "output_type": "execute_result"
    }
   ],
   "source": [
    "# solving an inequality with a fraction\n",
    "solveset(f=(x-1)/(x+2) >= 0, symbol=x, domain=S.Reals)"
   ]
  },
  {
   "cell_type": "code",
   "execution_count": 13,
   "metadata": {},
   "outputs": [
    {
     "data": {
      "text/latex": [
       "$\\displaystyle \\emptyset$"
      ],
      "text/plain": [
       "∅"
      ]
     },
     "execution_count": 13,
     "metadata": {},
     "output_type": "execute_result"
    }
   ],
   "source": [
    "Interval(-oo, -4, right_open=True).intersect(Interval(4, oo, right_open=True))"
   ]
  }
 ],
 "metadata": {
  "kernelspec": {
   "display_name": "Python 3",
   "language": "python",
   "name": "python3"
  },
  "language_info": {
   "codemirror_mode": {
    "name": "ipython",
    "version": 3
   },
   "file_extension": ".py",
   "mimetype": "text/x-python",
   "name": "python",
   "nbconvert_exporter": "python",
   "pygments_lexer": "ipython3",
   "version": "3.8.1"
  }
 },
 "nbformat": 4,
 "nbformat_minor": 4
}
