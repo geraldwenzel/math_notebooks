{
 "cells": [
  {
   "cell_type": "code",
   "execution_count": 1,
   "metadata": {},
   "outputs": [],
   "source": [
    "%run ../set_notebook.py"
   ]
  },
  {
   "cell_type": "markdown",
   "metadata": {},
   "source": [
    "A real number is either irrational or rational.  \n",
    "  \n",
    "Real numbers are the set of all irrational and rational numbers.  \n",
    "All rational numbers can be expressed as a the ratio of two integers.  \n",
    "If a number cannot be expressed as the ratio of two integers, the number is irrational.  \n",
    "Because irrational numbers cannot be expressed as the ratio of two integers, they cannot be rational.  \n",
    "Because rational numbers can be expressed as the ratio of two integers, they are not irrational.  \n",
    "Hence, real numbers may only be rational or irrational.  \n",
    "  \n",
    "\n",
    "The sum of a rational and irrational number is irrational because the sum cannot be expressed as the ratio of two integers.  \n",
    "  \n",
    "A fraction in lowest terms with a prime denominator other than 2 or 5 always produces a repeating decimal. "
   ]
  },
  {
   "cell_type": "code",
   "execution_count": 62,
   "metadata": {},
   "outputs": [
    {
     "name": "stdout",
     "output_type": "stream",
     "text": [
      "1 1\n",
      "2 0.5\n",
      "3 0.333333333333333333333333333333333333333333333333333333333333\n",
      "4 0.25\n",
      "5 0.2\n",
      "6 0.166666666666666666666666666666666666666666666666666666666667\n",
      "7 0.142857142857142857142857142857142857142857142857142857142857\n",
      "8 0.125\n",
      "9 0.111111111111111111111111111111111111111111111111111111111111\n",
      "10 0.1\n",
      "11 0.0909090909090909090909090909090909090909090909090909090909091\n",
      "12 0.0833333333333333333333333333333333333333333333333333333333333\n",
      "13 0.0769230769230769230769230769230769230769230769230769230769231\n",
      "14 0.0714285714285714285714285714285714285714285714285714285714286\n",
      "15 0.0666666666666666666666666666666666666666666666666666666666667\n",
      "16 0.0625\n",
      "17 0.0588235294117647058823529411764705882352941176470588235294118\n",
      "18 0.0555555555555555555555555555555555555555555555555555555555556\n",
      "19 0.0526315789473684210526315789473684210526315789473684210526316\n",
      "20 0.05\n",
      "21 0.0476190476190476190476190476190476190476190476190476190476190\n",
      "22 0.0454545454545454545454545454545454545454545454545454545454545\n",
      "23 0.0434782608695652173913043478260869565217391304347826086956522\n",
      "24 0.0416666666666666666666666666666666666666666666666666666666667\n",
      "25 0.04\n",
      "26 0.0384615384615384615384615384615384615384615384615384615384615\n",
      "27 0.0370370370370370370370370370370370370370370370370370370370370\n",
      "28 0.0357142857142857142857142857142857142857142857142857142857143\n",
      "29 0.0344827586206896551724137931034482758620689655172413793103448\n"
     ]
    }
   ],
   "source": [
    "getcontext().prec = 60\n",
    "for _ in range(1, 30): print(_, Decimal(1)/Decimal(_)) "
   ]
  },
  {
   "cell_type": "markdown",
   "metadata": {},
   "source": [
    "a/0 where a != 0 is undefined because if we approach 0 from the right, the quotient will approach positive infinity.  \n",
    "If we approach 0 from the left, the quotient will approach negative infinity  \n",
    "  \n",
    "0/0 is undefined because as number a approaches 0, a/a=1.  \n",
    "As number a approaches 0, 0/a = 0.  \n",
    "It's not clear if 0/0 should equal 0 or 1 and therefore, 0/0 is undefined.  "
   ]
  },
  {
   "cell_type": "markdown",
   "metadata": {},
   "source": [
    "### intervals"
   ]
  },
  {
   "cell_type": "markdown",
   "metadata": {},
   "source": [
    "$\\{x|-1\\le x<2\\}$  \n",
    "  \n",
    "Graph [-1, 2)"
   ]
  },
  {
   "cell_type": "code",
   "execution_count": 63,
   "metadata": {},
   "outputs": [
    {
     "data": {
      "image/png": "[encoded data removed]",
      "text/plain": [
       "<Figure size 432x288 with 1 Axes>"
      ]
     },
     "metadata": {
      "needs_background": "light"
     },
     "output_type": "display_data"
    }
   ],
   "source": [
    "plt.axhline(y=0, color='black', lw=2)\n",
    "x_coords = [-1, 2]\n",
    "y_coords = [0, 0]\n",
    "plt.plot(x_coords, y_coords, color='red')\n",
    "\n",
    "for x_coord in [-1, 0, 2]:\n",
    "    plt.annotate(s='{}'.format(x_coord), xy=(x_coord, -1))\n",
    "\n",
    "plt.yticks([])\n",
    "plt.xticks([0,1,2,3])\n",
    "plt.axis('scaled')\n",
    "plt.arrow(x=3.75, y=0, dx=.25,dy=0, width=.2, head_length=.25, length_includes_head=.25, color='black')\n",
    "\n",
    "circle_a=plt.Circle((-1,0),radius=.25,color='black',)\n",
    "circle_b=plt.Circle((2,0),radius=.25,color='black', fill=False)\n",
    "plt.gca().add_artist(circle_a)\n",
    "plt.gca().add_artist(circle_b)\n",
    "\n",
    "plt.xlim(left=-2, right=4)\n",
    "_ = plt.ylim(bottom=-4, top=2)"
   ]
  },
  {
   "cell_type": "code",
   "execution_count": 64,
   "metadata": {},
   "outputs": [],
   "source": [
    "A = Interval(-2, oo, left_open=False, right_open=True)\n",
    "B = Interval(-oo, 4, right_open=True)"
   ]
  },
  {
   "cell_type": "code",
   "execution_count": 65,
   "metadata": {},
   "outputs": [
    {
     "data": {
      "text/latex": [
       "$\\displaystyle \\left[-2, 4\\right)$"
      ],
      "text/plain": [
       "[-2, 4)"
      ]
     },
     "execution_count": 65,
     "metadata": {},
     "output_type": "execute_result"
    }
   ],
   "source": [
    "A.intersection(B)"
   ]
  },
  {
   "cell_type": "code",
   "execution_count": 66,
   "metadata": {},
   "outputs": [
    {
     "data": {
      "text/latex": [
       "$\\displaystyle \\left(-1, 0\\right)$"
      ],
      "text/plain": [
       "(-1, 0)"
      ]
     },
     "execution_count": 66,
     "metadata": {},
     "output_type": "execute_result"
    }
   ],
   "source": [
    "Interval(-2,0, left_open=True, right_open=True).intersection(Interval(-1,1, right_open=True, left_open=True))"
   ]
  },
  {
   "cell_type": "code",
   "execution_count": 67,
   "metadata": {},
   "outputs": [
    {
     "data": {
      "text/latex": [
       "$\\displaystyle \\left(-1, \\infty\\right)$"
      ],
      "text/plain": [
       "(-1, ∞)"
      ]
     },
     "execution_count": 67,
     "metadata": {},
     "output_type": "execute_result"
    }
   ],
   "source": [
    "# solving a linear inequality\n",
    "inequality = (x-4)/(x+1) < 1\n",
    "solveset(f=inequality, symbol=x, domain=S.Reals)"
   ]
  },
  {
   "cell_type": "code",
   "execution_count": 68,
   "metadata": {},
   "outputs": [
    {
     "data": {
      "text/latex": [
       "$\\displaystyle \\left(-\\infty, -2\\right) \\cup \\left(-2, 2\\right) \\cup \\left(2, \\infty\\right)$"
      ],
      "text/plain": [
       "(-∞, -2) ∪ (-2, 2) ∪ (2, ∞)"
      ]
     },
     "execution_count": 68,
     "metadata": {},
     "output_type": "execute_result"
    }
   ],
   "source": [
    "# solving inequality with absolute value\n",
    "inequality = abs((x+2)/(x-2)) > 0\n",
    "solveset(f=inequality, symbol=x, domain=S.Reals)"
   ]
  },
  {
   "cell_type": "code",
   "execution_count": 69,
   "metadata": {},
   "outputs": [
    {
     "data": {
      "text/latex": [
       "$\\displaystyle \\left(-\\infty, -2\\right) \\cup \\left(2, \\infty\\right)$"
      ],
      "text/plain": [
       "(-∞, -2) ∪ (2, ∞)"
      ]
     },
     "execution_count": 69,
     "metadata": {},
     "output_type": "execute_result"
    }
   ],
   "source": [
    "# solving a quadratic inequality\n",
    "inequality = ((x-2)/(x+2)**3) > 0\n",
    "solveset(f=inequality, symbol=x, domain=S.Reals)"
   ]
  },
  {
   "cell_type": "code",
   "execution_count": 70,
   "metadata": {},
   "outputs": [
    {
     "data": {
      "text/latex": [
       "$\\displaystyle \\left(2, 3\\right)$"
      ],
      "text/plain": [
       "(2, 3)"
      ]
     },
     "execution_count": 70,
     "metadata": {},
     "output_type": "execute_result"
    }
   ],
   "source": [
    "# solving a two-sided inequality\n",
    "A = solveset(f=0 < 3-x, symbol=x, domain=S.Reals)\n",
    "B = solveset(f=3-x < 1, symbol=x, domain=S.Reals)\n",
    "A.intersection(B)"
   ]
  },
  {
   "cell_type": "code",
   "execution_count": 71,
   "metadata": {},
   "outputs": [
    {
     "data": {
      "text/latex": [
       "$\\displaystyle \\left(-\\infty, -2\\right) \\cup \\left[1, \\infty\\right)$"
      ],
      "text/plain": [
       "(-∞, -2) ∪ [1, ∞)"
      ]
     },
     "execution_count": 71,
     "metadata": {},
     "output_type": "execute_result"
    }
   ],
   "source": [
    "# solving an inequality with a fraction\n",
    "solveset(f=(x-1)/(x+2) >= 0, symbol=x, domain=S.Reals)"
   ]
  },
  {
   "cell_type": "code",
   "execution_count": 72,
   "metadata": {},
   "outputs": [
    {
     "data": {
      "text/latex": [
       "$\\displaystyle \\emptyset$"
      ],
      "text/plain": [
       "∅"
      ]
     },
     "execution_count": 72,
     "metadata": {},
     "output_type": "execute_result"
    }
   ],
   "source": [
    "Interval(-oo, -4, right_open=True).intersect(Interval(4, oo, right_open=True))"
   ]
  },
  {
   "cell_type": "code",
   "execution_count": 73,
   "metadata": {},
   "outputs": [
    {
     "data": {
      "image/png": "[encoded data removed]",
      "text/plain": [
       "<Figure size 432x288 with 1 Axes>"
      ]
     },
     "metadata": {
      "needs_background": "light"
     },
     "output_type": "display_data"
    }
   ],
   "source": [
    "# Graph all numbers x for which x > 4.\n",
    "plt.axhline(y=0, color='black', lw=2)\n",
    "x_coords = [4, 10]\n",
    "y_coords = [0, 0]\n",
    "plt.plot(x_coords, y_coords, color='red')\n",
    "\n",
    "for x_coord in [0, 4]:\n",
    "    plt.annotate(s='{}'.format(x_coord), xy=(x_coord, -.01))\n",
    "\n",
    "plt.annotate(s='(', xy=(4, -.0025), size=20, color='red')\n",
    "\n",
    "plt.yticks([])\n",
    "plt.xticks([0,1,2,3])\n",
    "plt.axis('on')\n",
    "plt.arrow(x=9.75, y=0, dx=.25,dy=0, width=.002, head_length=.25, length_includes_head=.25, color='red')\n",
    "_ = plt.xlim(left=0, right=10)"
   ]
  }
 ],
 "metadata": {
  "kernelspec": {
   "display_name": "Python 3",
   "language": "python",
   "name": "python3"
  },
  "language_info": {
   "codemirror_mode": {
    "name": "ipython",
    "version": 3
   },
   "file_extension": ".py",
   "mimetype": "text/x-python",
   "name": "python",
   "nbconvert_exporter": "python",
   "pygments_lexer": "ipython3",
   "version": "3.7.6"
  }
 },
 "nbformat": 4,
 "nbformat_minor": 4
}
