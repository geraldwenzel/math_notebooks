{
 "cells": [
  {
   "cell_type": "code",
   "execution_count": 26,
   "metadata": {},
   "outputs": [],
   "source": [
    "%run ../set_notebook.py"
   ]
  },
  {
   "cell_type": "markdown",
   "metadata": {},
   "source": [
    "### set intersection and union"
   ]
  },
  {
   "cell_type": "code",
   "execution_count": 27,
   "metadata": {},
   "outputs": [],
   "source": [
    "A = FiniteSet(1, 3, 5, 8)\n",
    "B = FiniteSet(3, 5, 7)"
   ]
  },
  {
   "cell_type": "code",
   "execution_count": 28,
   "metadata": {},
   "outputs": [
    {
     "data": {
      "text/latex": [
       "$$\\left\\{3, 5\\right\\}$$"
      ],
      "text/plain": [
       "{3, 5}"
      ]
     },
     "execution_count": 28,
     "metadata": {},
     "output_type": "execute_result"
    }
   ],
   "source": [
    "A.intersection(B)"
   ]
  },
  {
   "cell_type": "code",
   "execution_count": 29,
   "metadata": {},
   "outputs": [
    {
     "data": {
      "text/latex": [
       "$$\\left\\{1, 3, 5, 7, 8\\right\\}$$"
      ],
      "text/plain": [
       "{1, 3, 5, 7, 8}"
      ]
     },
     "execution_count": 29,
     "metadata": {},
     "output_type": "execute_result"
    }
   ],
   "source": [
    "Union(A, B)"
   ]
  },
  {
   "cell_type": "markdown",
   "metadata": {},
   "source": [
    "### set complements"
   ]
  },
  {
   "cell_type": "code",
   "execution_count": 30,
   "metadata": {},
   "outputs": [],
   "source": [
    "U = FiniteSet(*range(1, 10))\n",
    "A = FiniteSet(1, 3, 5, 7, 9)\n",
    "B = FiniteSet(2, 4, 6, 8)"
   ]
  },
  {
   "cell_type": "code",
   "execution_count": 31,
   "metadata": {},
   "outputs": [
    {
     "data": {
      "text/plain": [
       "False"
      ]
     },
     "execution_count": 31,
     "metadata": {},
     "output_type": "execute_result"
    }
   ],
   "source": [
    "Union(A, A.complement(U)) == U == True"
   ]
  },
  {
   "cell_type": "code",
   "execution_count": 32,
   "metadata": {},
   "outputs": [
    {
     "data": {
      "text/latex": [
       "$$\\emptyset$$"
      ],
      "text/plain": [
       "∅"
      ]
     },
     "execution_count": 32,
     "metadata": {},
     "output_type": "execute_result"
    }
   ],
   "source": [
    "A.intersection(A.complement(U))"
   ]
  },
  {
   "cell_type": "markdown",
   "metadata": {},
   "source": [
    "### classifying set numbers"
   ]
  },
  {
   "cell_type": "code",
   "execution_count": 18,
   "metadata": {},
   "outputs": [
    {
     "data": {
      "text/latex": [
       "$$2.645751311064590590501615753639260425710259183082450180368334459201069$$"
      ],
      "text/plain": [
       "2.645751311064590590501615753639260425710259183082450180368334459201069"
      ]
     },
     "execution_count": 18,
     "metadata": {},
     "output_type": "execute_result"
    }
   ],
   "source": [
    "# is sqrt(7) irrational?\n",
    "N(sqrt(7), n=70)"
   ]
  },
  {
   "cell_type": "code",
   "execution_count": 19,
   "metadata": {},
   "outputs": [
    {
     "data": {
      "text/latex": [
       "$$\\left\\{-11, 0.333, \\frac{13}{15}, 1.001, 3.14, 4, 5, 11, - \\pi\\right\\}$$"
      ],
      "text/plain": [
       "⎧            13                           ⎫\n",
       "⎨-11, 0.333, ──, 1.001, 3.14, 4, 5, 11, -π⎬\n",
       "⎩            15                           ⎭"
      ]
     },
     "execution_count": 19,
     "metadata": {},
     "output_type": "execute_result"
    }
   ],
   "source": [
    "#U = {-3, Rational(-5,3), -(1+1/3), 0, .12, Rational(1,2), 1, sqrt(2), pi, Rational(1,2) + pi, 10}\n",
    "#sorted(U)\n",
    "U = {1.001, .333, -pi, -11, 11, Rational(13,15), sqrt(16), 3.14, Rational(15,3)}\n",
    "U"
   ]
  },
  {
   "cell_type": "code",
   "execution_count": 20,
   "metadata": {},
   "outputs": [
    {
     "data": {
      "text/latex": [
       "$$\\left\\{11\\right\\}$$"
      ],
      "text/plain": [
       "{11}"
      ]
     },
     "execution_count": 20,
     "metadata": {},
     "output_type": "execute_result"
    }
   ],
   "source": [
    "# natural numbers\n",
    "set([_ for _ in U if isinstance(_, int) and _ > 0])"
   ]
  },
  {
   "cell_type": "code",
   "execution_count": 21,
   "metadata": {},
   "outputs": [
    {
     "data": {
      "text/latex": [
       "$$\\left\\{-11, 11\\right\\}$$"
      ],
      "text/plain": [
       "{-11, 11}"
      ]
     },
     "execution_count": 21,
     "metadata": {},
     "output_type": "execute_result"
    }
   ],
   "source": [
    "# integers\n",
    "set([_ for _ in U if isinstance(_, int)])"
   ]
  },
  {
   "cell_type": "code",
   "execution_count": 22,
   "metadata": {},
   "outputs": [
    {
     "data": {
      "text/latex": [
       "$$\\left\\{-11, 0.333, \\frac{13}{15}, 1.001, 3.14, 4, 5, 11\\right\\}$$"
      ],
      "text/plain": [
       "⎧            13                       ⎫\n",
       "⎨-11, 0.333, ──, 1.001, 3.14, 4, 5, 11⎬\n",
       "⎩            15                       ⎭"
      ]
     },
     "execution_count": 22,
     "metadata": {},
     "output_type": "execute_result"
    }
   ],
   "source": [
    "# rational numbers\n",
    "set([_ for _ in U if nsimplify(_).is_rational or isinstance(_, float)])"
   ]
  },
  {
   "cell_type": "code",
   "execution_count": 23,
   "metadata": {},
   "outputs": [
    {
     "data": {
      "text/latex": [
       "$$\\left\\{- \\pi\\right\\}$$"
      ],
      "text/plain": [
       "{-π}"
      ]
     },
     "execution_count": 23,
     "metadata": {},
     "output_type": "execute_result"
    }
   ],
   "source": [
    "# irrational numbers\n",
    "set([_ for _ in U if nsimplify(_).is_irrational])"
   ]
  },
  {
   "cell_type": "code",
   "execution_count": 24,
   "metadata": {},
   "outputs": [
    {
     "data": {
      "text/latex": [
       "$$\\left [ -11, \\quad - \\pi, \\quad 0.333, \\quad \\frac{13}{15}, \\quad 1.001, \\quad 3.14, \\quad 4, \\quad 5, \\quad 11\\right ]$$"
      ],
      "text/plain": [
       "⎡                13                       ⎤\n",
       "⎢-11, -π, 0.333, ──, 1.001, 3.14, 4, 5, 11⎥\n",
       "⎣                15                       ⎦"
      ]
     },
     "execution_count": 24,
     "metadata": {},
     "output_type": "execute_result"
    }
   ],
   "source": [
    "# real numbers\n",
    "sorted([_ for _ in U if nsimplify(_).is_real])"
   ]
  },
  {
   "cell_type": "markdown",
   "metadata": {},
   "source": [
    "### decimal approximation"
   ]
  },
  {
   "cell_type": "code",
   "execution_count": 25,
   "metadata": {},
   "outputs": [
    {
     "data": {
      "text/latex": [
       "$$3.14$$"
      ],
      "text/plain": [
       "3.14000000000000"
      ]
     },
     "metadata": {},
     "output_type": "display_data"
    },
    {
     "data": {
      "text/latex": [
       "$$3.1416$$"
      ],
      "text/plain": [
       "3.14160000000000"
      ]
     },
     "metadata": {},
     "output_type": "display_data"
    },
    {
     "data": {
      "text/latex": [
       "$$3.14$$"
      ],
      "text/plain": [
       "3.14"
      ]
     },
     "metadata": {},
     "output_type": "display_data"
    },
    {
     "data": {
      "text/latex": [
       "$$3.1415$$"
      ],
      "text/plain": [
       "3.1415"
      ]
     },
     "metadata": {},
     "output_type": "display_data"
    },
    {
     "data": {
      "text/latex": [
       "$$0.06$$"
      ],
      "text/plain": [
       "0.0600000000000000"
      ]
     },
     "metadata": {},
     "output_type": "display_data"
    },
    {
     "data": {
      "text/latex": [
       "$$0.0561$$"
      ],
      "text/plain": [
       "0.0561000000000000"
      ]
     },
     "metadata": {},
     "output_type": "display_data"
    },
    {
     "data": {
      "text/latex": [
       "$$0.05$$"
      ],
      "text/plain": [
       "0.05"
      ]
     },
     "metadata": {},
     "output_type": "display_data"
    },
    {
     "data": {
      "text/latex": [
       "$$0.0561$$"
      ],
      "text/plain": [
       "0.0561"
      ]
     },
     "metadata": {},
     "output_type": "display_data"
    },
    {
     "data": {
      "text/latex": [
       "$$893.46$$"
      ],
      "text/plain": [
       "893.460000000000"
      ]
     },
     "metadata": {},
     "output_type": "display_data"
    },
    {
     "data": {
      "text/latex": [
       "$$893.4613$$"
      ],
      "text/plain": [
       "893.461300000000"
      ]
     },
     "metadata": {},
     "output_type": "display_data"
    },
    {
     "data": {
      "text/latex": [
       "$$893.46$$"
      ],
      "text/plain": [
       "893.46"
      ]
     },
     "metadata": {},
     "output_type": "display_data"
    },
    {
     "data": {
      "text/latex": [
       "$$893.4612$$"
      ],
      "text/plain": [
       "893.4612"
      ]
     },
     "metadata": {},
     "output_type": "display_data"
    }
   ],
   "source": [
    "# approximating a decimal to two and four decimal places\n",
    "A = Decimal('3.14159')\n",
    "B = Decimal('.056128')\n",
    "C = Decimal('893.46125')\n",
    "\n",
    "for _ in [A, B, C]:\n",
    "    # round to 2 decimal places\n",
    "    display(N(_.quantize(Decimal('.01'), rounding=ROUND_HALF_UP)))\n",
    "    # round to 4 decimal places\n",
    "    display(N(_.quantize(Decimal('.0001'), rounding=ROUND_HALF_UP)))\n",
    "    #truncate to 2 decimal places\n",
    "    display(float(re.match(r'\\d+.\\d{2}', str(_)).group(0)))\n",
    "    #truncate to 4 decimal places\n",
    "    display(float(re.match(r'\\d+.\\d{4}', str(_)).group(0)))"
   ]
  },
  {
   "cell_type": "markdown",
   "metadata": {},
   "source": [
    "### calculators"
   ]
  },
  {
   "cell_type": "code",
   "execution_count": 26,
   "metadata": {},
   "outputs": [
    {
     "data": {
      "text/latex": [
       "$$0.6666666666666666$$"
      ],
      "text/plain": [
       "0.6666666666666666"
      ]
     },
     "execution_count": 26,
     "metadata": {},
     "output_type": "execute_result"
    }
   ],
   "source": [
    "2/3 # python truncates\n",
    "# casio fx-991EX rounds up"
   ]
  },
  {
   "cell_type": "markdown",
   "metadata": {},
   "source": [
    "### properties of real numbers\n",
    "\n",
    "a, b and c represent real numbers  \n",
    "**reflexive property**: A number always equals itself; that is a=a.  \n",
    "**symetric property**: If a=b then b=a.  \n",
    "**transitive property**: If a=b and b=c then a=c.  \n",
    "**principle of substitution**: If a=b then we may substitute b for a in any expression containing a.  \n",
    "  \n",
    "**commutative property**: The final result will not be affected by the order in which addition or multiplication takes place."
   ]
  },
  {
   "cell_type": "code",
   "execution_count": 27,
   "metadata": {},
   "outputs": [
    {
     "data": {
      "text/latex": [
       "$$\\mathrm{True}$$"
      ],
      "text/plain": [
       "True"
      ]
     },
     "execution_count": 27,
     "metadata": {},
     "output_type": "execute_result"
    }
   ],
   "source": [
    "solve(Eq(a+b, b+a))"
   ]
  },
  {
   "cell_type": "code",
   "execution_count": 28,
   "metadata": {},
   "outputs": [
    {
     "data": {
      "text/latex": [
       "$$\\mathrm{True}$$"
      ],
      "text/plain": [
       "True"
      ]
     },
     "execution_count": 28,
     "metadata": {},
     "output_type": "execute_result"
    }
   ],
   "source": [
    "solve(Eq(a*b, b*a))"
   ]
  },
  {
   "cell_type": "markdown",
   "metadata": {},
   "source": [
    "### ASSOCIATIVE PROPERTIES\n",
    "**associative property**: The way three real numbers are added or multiplied does not affect the final result. \n",
    "Expressions like 2+3+4 and 3\\*4\\*5 are not  ambiguous, even though addition and multiplication are performed on one pair of numbers at a time."
   ]
  },
  {
   "cell_type": "code",
   "execution_count": 29,
   "metadata": {},
   "outputs": [
    {
     "data": {
      "text/latex": [
       "$$\\mathrm{True}$$"
      ],
      "text/plain": [
       "True"
      ]
     },
     "execution_count": 29,
     "metadata": {},
     "output_type": "execute_result"
    }
   ],
   "source": [
    "Eq(a+(b+c), (a+b)+c)"
   ]
  },
  {
   "cell_type": "code",
   "execution_count": 30,
   "metadata": {},
   "outputs": [
    {
     "data": {
      "text/latex": [
       "$$\\mathrm{True}$$"
      ],
      "text/plain": [
       "True"
      ]
     },
     "execution_count": 30,
     "metadata": {},
     "output_type": "execute_result"
    }
   ],
   "source": [
    "Eq((a+b)+c, a+b+c)"
   ]
  },
  {
   "cell_type": "code",
   "execution_count": 31,
   "metadata": {},
   "outputs": [
    {
     "data": {
      "text/latex": [
       "$$\\mathrm{True}$$"
      ],
      "text/plain": [
       "True"
      ]
     },
     "execution_count": 31,
     "metadata": {},
     "output_type": "execute_result"
    }
   ],
   "source": [
    "Eq(a*(b*c), (a*b)*c)"
   ]
  },
  {
   "cell_type": "code",
   "execution_count": 32,
   "metadata": {
    "scrolled": true
   },
   "outputs": [
    {
     "data": {
      "text/latex": [
       "$$\\mathrm{True}$$"
      ],
      "text/plain": [
       "True"
      ]
     },
     "execution_count": 32,
     "metadata": {},
     "output_type": "execute_result"
    }
   ],
   "source": [
    "Eq((a*b)*c, a*b*c)"
   ]
  },
  {
   "cell_type": "markdown",
   "metadata": {},
   "source": [
    "The distributive property may be used in two different ways:"
   ]
  },
  {
   "cell_type": "code",
   "execution_count": 33,
   "metadata": {},
   "outputs": [
    {
     "data": {
      "text/latex": [
       "$$a \\left(b + c\\right) = a b + a c$$"
      ],
      "text/plain": [
       "a⋅(b + c) = a⋅b + a⋅c"
      ]
     },
     "execution_count": 33,
     "metadata": {},
     "output_type": "execute_result"
    }
   ],
   "source": [
    "# Use to remove parenthesis.\n",
    "Eq(a*(b+c), a*b+a*c)"
   ]
  },
  {
   "cell_type": "code",
   "execution_count": 34,
   "metadata": {},
   "outputs": [
    {
     "data": {
      "text/latex": [
       "$$3 a \\left(b + c - 2 d\\right)$$"
      ],
      "text/plain": [
       "3⋅a⋅(b + c - 2⋅d)"
      ]
     },
     "execution_count": 34,
     "metadata": {},
     "output_type": "execute_result"
    }
   ],
   "source": [
    "3*a*(b+c-2*d)"
   ]
  },
  {
   "cell_type": "code",
   "execution_count": 35,
   "metadata": {},
   "outputs": [
    {
     "data": {
      "text/latex": [
       "$$c \\left(a + b\\right) = a c + b c$$"
      ],
      "text/plain": [
       "c⋅(a + b) = a⋅c + b⋅c"
      ]
     },
     "execution_count": 35,
     "metadata": {},
     "output_type": "execute_result"
    }
   ],
   "source": [
    "# Use to combine two expressions.\n",
    "Eq((a+b)*c, a*c+b*c)"
   ]
  },
  {
   "cell_type": "markdown",
   "metadata": {},
   "source": [
    "### IDENTITY PROPERTIES\n",
    "0 and 1 have unique properties known as the **identity properties**.  \n",
    "  \n",
    "additive property"
   ]
  },
  {
   "cell_type": "code",
   "execution_count": 36,
   "metadata": {},
   "outputs": [
    {
     "data": {
      "text/latex": [
       "$$\\mathrm{True}$$"
      ],
      "text/plain": [
       "True"
      ]
     },
     "execution_count": 36,
     "metadata": {},
     "output_type": "execute_result"
    }
   ],
   "source": [
    "Eq(0+a, a+0)"
   ]
  },
  {
   "cell_type": "code",
   "execution_count": 37,
   "metadata": {},
   "outputs": [
    {
     "data": {
      "text/latex": [
       "$$\\mathrm{True}$$"
      ],
      "text/plain": [
       "True"
      ]
     },
     "execution_count": 37,
     "metadata": {},
     "output_type": "execute_result"
    }
   ],
   "source": [
    "Eq(a+0, a)"
   ]
  },
  {
   "cell_type": "markdown",
   "metadata": {},
   "source": [
    "multiplicative property"
   ]
  },
  {
   "cell_type": "code",
   "execution_count": 38,
   "metadata": {},
   "outputs": [
    {
     "data": {
      "text/latex": [
       "$$\\mathrm{True}$$"
      ],
      "text/plain": [
       "True"
      ]
     },
     "execution_count": 38,
     "metadata": {},
     "output_type": "execute_result"
    }
   ],
   "source": [
    "Eq(a*1, 1*a)"
   ]
  },
  {
   "cell_type": "code",
   "execution_count": 39,
   "metadata": {},
   "outputs": [
    {
     "data": {
      "text/latex": [
       "$$\\mathrm{True}$$"
      ],
      "text/plain": [
       "True"
      ]
     },
     "execution_count": 39,
     "metadata": {},
     "output_type": "execute_result"
    }
   ],
   "source": [
    "Eq(1*a, a)"
   ]
  },
  {
   "cell_type": "markdown",
   "metadata": {},
   "source": [
    "additive inverse property"
   ]
  },
  {
   "cell_type": "code",
   "execution_count": 40,
   "metadata": {},
   "outputs": [
    {
     "data": {
      "text/latex": [
       "$$\\mathrm{True}$$"
      ],
      "text/plain": [
       "True"
      ]
     },
     "execution_count": 40,
     "metadata": {},
     "output_type": "execute_result"
    }
   ],
   "source": [
    "Eq(a+(-a), -a+a)"
   ]
  },
  {
   "cell_type": "code",
   "execution_count": 41,
   "metadata": {},
   "outputs": [
    {
     "data": {
      "text/latex": [
       "$$\\mathrm{True}$$"
      ],
      "text/plain": [
       "True"
      ]
     },
     "execution_count": 41,
     "metadata": {},
     "output_type": "execute_result"
    }
   ],
   "source": [
    "Eq(-a+a, 0)"
   ]
  },
  {
   "cell_type": "markdown",
   "metadata": {},
   "source": [
    "multiplicative inverse property  \n",
    "if a != 0"
   ]
  },
  {
   "cell_type": "code",
   "execution_count": 42,
   "metadata": {},
   "outputs": [
    {
     "data": {
      "text/latex": [
       "$$\\mathrm{True}$$"
      ],
      "text/plain": [
       "True"
      ]
     },
     "execution_count": 42,
     "metadata": {},
     "output_type": "execute_result"
    }
   ],
   "source": [
    "Eq(a*(1/a), (1/a)*a)"
   ]
  },
  {
   "cell_type": "code",
   "execution_count": 43,
   "metadata": {},
   "outputs": [
    {
     "data": {
      "text/latex": [
       "$$\\mathrm{True}$$"
      ],
      "text/plain": [
       "True"
      ]
     },
     "execution_count": 43,
     "metadata": {},
     "output_type": "execute_result"
    }
   ],
   "source": [
    "Eq((1/a)*a, 1)"
   ]
  },
  {
   "cell_type": "markdown",
   "metadata": {},
   "source": [
    "Note: Division by 0 is not defined.  \n",
    "  \n",
    "$\\frac{2}{0}=x$ means to find $x$ such that $0\\times x = 2$.  \n",
    "But $0\\times x$ equals 0 for all $x$, so $x$ does not exist if $\\frac{2}{0} = x$.  \n",
    "### REDUCTION PROPERTIES\n",
    "ac = bc implies a = b if c != 0.  \n",
    "ac/bc = a/b if b != 0 and c != 0."
   ]
  },
  {
   "cell_type": "code",
   "execution_count": 44,
   "metadata": {},
   "outputs": [
    {
     "data": {
      "text/latex": [
       "$$\\left [ 3\\right ]$$"
      ],
      "text/plain": [
       "[3]"
      ]
     },
     "execution_count": 44,
     "metadata": {},
     "output_type": "execute_result"
    }
   ],
   "source": [
    "solve(Eq(2*x, 6), x)"
   ]
  },
  {
   "cell_type": "code",
   "execution_count": 45,
   "metadata": {},
   "outputs": [
    {
     "data": {
      "text/latex": [
       "$$\\frac{3}{2}$$"
      ],
      "text/plain": [
       "3/2"
      ]
     },
     "execution_count": 45,
     "metadata": {},
     "output_type": "execute_result"
    }
   ],
   "source": [
    "Rational(18, 12)"
   ]
  },
  {
   "cell_type": "markdown",
   "metadata": {},
   "source": [
    "zero-product property  \n",
    "If $ab = 0$, then $a=0$, $b=0$ or both.  "
   ]
  },
  {
   "cell_type": "code",
   "execution_count": 46,
   "metadata": {},
   "outputs": [
    {
     "data": {
      "text/latex": [
       "$$60$$"
      ],
      "text/plain": [
       "60"
      ]
     },
     "execution_count": 46,
     "metadata": {},
     "output_type": "execute_result"
    }
   ],
   "source": [
    "# least common multiple\n",
    "lcm(12,15)"
   ]
  },
  {
   "cell_type": "code",
   "execution_count": 47,
   "metadata": {},
   "outputs": [
    {
     "data": {
      "text/latex": [
       "$$\\left [ - \\frac{9}{5}\\right ]$$"
      ],
      "text/plain": [
       "[-9/5]"
      ]
     },
     "execution_count": 47,
     "metadata": {},
     "output_type": "execute_result"
    }
   ],
   "source": [
    "solve(Eq(5*(x+3),6))"
   ]
  },
  {
   "cell_type": "markdown",
   "metadata": {},
   "source": [
    "### round and truncate to three decimal places"
   ]
  },
  {
   "cell_type": "code",
   "execution_count": 48,
   "metadata": {},
   "outputs": [
    {
     "data": {
      "text/latex": [
       "$$18.953$$"
      ],
      "text/plain": [
       "18.9530000000000"
      ]
     },
     "metadata": {},
     "output_type": "display_data"
    },
    {
     "data": {
      "text/plain": [
       "'18.952'"
      ]
     },
     "execution_count": 48,
     "metadata": {},
     "output_type": "execute_result"
    }
   ],
   "source": [
    "C = str(18.9526)\n",
    "# round C\n",
    "display(N(Context(prec=5, rounding=ROUND_HALF_UP).create_decimal(C)))\n",
    "# truncate C\n",
    "re.match(r'\\d+.\\d{3}', C).group(0)"
   ]
  },
  {
   "cell_type": "code",
   "execution_count": 49,
   "metadata": {},
   "outputs": [
    {
     "data": {
      "text/latex": [
       "$$0.429$$"
      ],
      "text/plain": [
       "0.429000000000000"
      ]
     },
     "metadata": {},
     "output_type": "display_data"
    },
    {
     "data": {
      "text/plain": [
       "'0.428'"
      ]
     },
     "execution_count": 49,
     "metadata": {},
     "output_type": "execute_result"
    }
   ],
   "source": [
    "C = str(3/7)\n",
    "# round C\n",
    "display(N(Context(prec=3, rounding=ROUND_HALF_UP).create_decimal(C)))\n",
    "# truncate C\n",
    "re.match(r'\\d+.\\d{3}', C).group(0)"
   ]
  },
  {
   "cell_type": "code",
   "execution_count": 50,
   "metadata": {},
   "outputs": [
    {
     "data": {
      "text/latex": [
       "$$0.556$$"
      ],
      "text/plain": [
       "0.556000000000000"
      ]
     },
     "metadata": {},
     "output_type": "display_data"
    },
    {
     "data": {
      "text/plain": [
       "'0.555'"
      ]
     },
     "execution_count": 50,
     "metadata": {},
     "output_type": "execute_result"
    }
   ],
   "source": [
    "C = str(5/9)\n",
    "# round C\n",
    "display(N(Context(prec=3, rounding=ROUND_HALF_UP).create_decimal(C)))\n",
    "# truncate C\n",
    "re.match(r'\\d+.\\d{3}', C).group(0)"
   ]
  },
  {
   "cell_type": "code",
   "execution_count": 51,
   "metadata": {},
   "outputs": [
    {
     "data": {
      "text/plain": [
       "'16.200'"
      ]
     },
     "metadata": {},
     "output_type": "display_data"
    },
    {
     "data": {
      "text/plain": [
       "'16.200'"
      ]
     },
     "execution_count": 51,
     "metadata": {},
     "output_type": "execute_result"
    }
   ],
   "source": [
    "C = 81/5\n",
    "# round C\n",
    "display('{0:.3f}'.format(N(Context(prec=5, rounding=ROUND_HALF_UP).create_decimal(str(C)))))\n",
    "# truncate C\n",
    "re.match(r'\\d+.\\d{3}', '{0:.3f}'.format(C)).group(0)"
   ]
  },
  {
   "cell_type": "markdown",
   "metadata": {},
   "source": [
    "### writing statements using symbols"
   ]
  },
  {
   "cell_type": "code",
   "execution_count": 52,
   "metadata": {},
   "outputs": [
    {
     "data": {
      "text/latex": [
       "$$x + 2 = 12$$"
      ],
      "text/plain": [
       "x + 2 = 12"
      ]
     },
     "execution_count": 52,
     "metadata": {},
     "output_type": "execute_result"
    }
   ],
   "source": [
    "Eq(x+2, 3*4, evaluate=False)"
   ]
  },
  {
   "cell_type": "code",
   "execution_count": 53,
   "metadata": {},
   "outputs": [
    {
     "data": {
      "text/latex": [
       "$$3 y = 3$$"
      ],
      "text/plain": [
       "3⋅y = 3"
      ]
     },
     "execution_count": 53,
     "metadata": {},
     "output_type": "execute_result"
    }
   ],
   "source": [
    "Eq(3*y, 1+2)"
   ]
  },
  {
   "cell_type": "code",
   "execution_count": 54,
   "metadata": {},
   "outputs": [
    {
     "data": {
      "text/latex": [
       "$$\\frac{x}{2} = 6$$"
      ],
      "text/plain": [
       "x    \n",
       "─ = 6\n",
       "2    "
      ]
     },
     "execution_count": 54,
     "metadata": {},
     "output_type": "execute_result"
    }
   ],
   "source": [
    "Eq(x/2, 6)"
   ]
  },
  {
   "cell_type": "markdown",
   "metadata": {},
   "source": [
    "### expression evaluation"
   ]
  },
  {
   "cell_type": "code",
   "execution_count": 55,
   "metadata": {},
   "outputs": [
    {
     "data": {
      "text/latex": [
       "$$\\frac{15}{2}$$"
      ],
      "text/plain": [
       "15/2"
      ]
     },
     "execution_count": 55,
     "metadata": {},
     "output_type": "execute_result"
    }
   ],
   "source": [
    "Rational(2-Rational(3,4), Rational(1,2)-Rational(1,3))"
   ]
  },
  {
   "cell_type": "code",
   "execution_count": 56,
   "metadata": {},
   "outputs": [
    {
     "data": {
      "text/latex": [
       "$$3$$"
      ],
      "text/plain": [
       "3"
      ]
     },
     "execution_count": 56,
     "metadata": {},
     "output_type": "execute_result"
    }
   ],
   "source": [
    "Rational(Rational(2,5)+Rational(1,2), Rational(1,10)+Rational(3,15))"
   ]
  },
  {
   "cell_type": "markdown",
   "metadata": {},
   "source": [
    "### remove parenthesis with the distributive property"
   ]
  },
  {
   "cell_type": "code",
   "execution_count": 57,
   "metadata": {},
   "outputs": [
    {
     "data": {
      "text/latex": [
       "$$8 x - 4$$"
      ],
      "text/plain": [
       "8⋅x - 4"
      ]
     },
     "execution_count": 57,
     "metadata": {},
     "output_type": "execute_result"
    }
   ],
   "source": [
    "4*(2*x-1)"
   ]
  },
  {
   "cell_type": "code",
   "execution_count": 58,
   "metadata": {},
   "outputs": [
    {
     "data": {
      "text/latex": [
       "$$x^{2} - 4 x$$"
      ],
      "text/plain": [
       " 2      \n",
       "x  - 4⋅x"
      ]
     },
     "execution_count": 58,
     "metadata": {},
     "output_type": "execute_result"
    }
   ],
   "source": [
    "(x*(x-4)).expand()"
   ]
  },
  {
   "cell_type": "code",
   "execution_count": 59,
   "metadata": {},
   "outputs": [
    {
     "data": {
      "text/latex": [
       "$$4 x^{2} + 12 x$$"
      ],
      "text/plain": [
       "   2       \n",
       "4⋅x  + 12⋅x"
      ]
     },
     "execution_count": 59,
     "metadata": {},
     "output_type": "execute_result"
    }
   ],
   "source": [
    "(4*x*(x+3)).expand()"
   ]
  },
  {
   "cell_type": "code",
   "execution_count": 60,
   "metadata": {},
   "outputs": [
    {
     "data": {
      "text/latex": [
       "$$\\frac{3 x}{2} - 1$$"
      ],
      "text/plain": [
       "3⋅x    \n",
       "─── - 1\n",
       " 2     "
      ]
     },
     "execution_count": 60,
     "metadata": {},
     "output_type": "execute_result"
    }
   ],
   "source": [
    "2*(Rational(3,4)*x-Rational(1,2))"
   ]
  },
  {
   "cell_type": "code",
   "execution_count": 61,
   "metadata": {},
   "outputs": [
    {
     "data": {
      "text/latex": [
       "$$2 x + \\frac{1}{2}$$"
      ],
      "text/plain": [
       "2⋅x + 1/2"
      ]
     },
     "execution_count": 61,
     "metadata": {},
     "output_type": "execute_result"
    }
   ],
   "source": [
    "3*(Rational(2,3)*x + Rational(1,6))"
   ]
  },
  {
   "cell_type": "code",
   "execution_count": 62,
   "metadata": {},
   "outputs": [
    {
     "data": {
      "text/latex": [
       "$$x^{2} + 6 x + 8$$"
      ],
      "text/plain": [
       " 2          \n",
       "x  + 6⋅x + 8"
      ]
     },
     "execution_count": 62,
     "metadata": {},
     "output_type": "execute_result"
    }
   ],
   "source": [
    "((x+2)*(x+4)).expand()"
   ]
  },
  {
   "cell_type": "code",
   "execution_count": 63,
   "metadata": {},
   "outputs": [
    {
     "data": {
      "text/latex": [
       "$$x^{2} + 6 x + 5$$"
      ],
      "text/plain": [
       " 2          \n",
       "x  + 6⋅x + 5"
      ]
     },
     "execution_count": 63,
     "metadata": {},
     "output_type": "execute_result"
    }
   ],
   "source": [
    "((x+5)*(x+1)).expand()"
   ]
  },
  {
   "cell_type": "code",
   "execution_count": 64,
   "metadata": {},
   "outputs": [
    {
     "data": {
      "text/latex": [
       "$$x^{2} - x - 2$$"
      ],
      "text/plain": [
       " 2        \n",
       "x  - x - 2"
      ]
     },
     "execution_count": 64,
     "metadata": {},
     "output_type": "execute_result"
    }
   ],
   "source": [
    "((x-2)*(x+1)).expand()"
   ]
  },
  {
   "cell_type": "code",
   "execution_count": 65,
   "metadata": {},
   "outputs": [
    {
     "data": {
      "text/latex": [
       "$$x^{2} - 6 x + 8$$"
      ],
      "text/plain": [
       " 2          \n",
       "x  - 6⋅x + 8"
      ]
     },
     "execution_count": 65,
     "metadata": {},
     "output_type": "execute_result"
    }
   ],
   "source": [
    "((x-4)*(x-2)).expand()"
   ]
  },
  {
   "cell_type": "markdown",
   "metadata": {},
   "source": [
    "The distributive property justifies 2\\*x \\+ 3\\*x = 5\\*x because:  \n",
    "2\\*x \\+ 3\\*x = x\\*(2\\+3) = 5\\*x  \n",
    "2\\+3\\*4=14, whereas (2\\+3)\\*4=20 due to the order of operations.  \n",
    "  \n",
    "2\\*(3\\*4) != (2\\*3)\\*(2\\*4)  \n",
    "2\\*(12)  != 6\\*8  \n",
    "24      != 48  "
   ]
  },
  {
   "cell_type": "code",
   "execution_count": 66,
   "metadata": {},
   "outputs": [
    {
     "data": {
      "text/latex": [
       "$$1$$"
      ],
      "text/plain": [
       "1"
      ]
     },
     "metadata": {},
     "output_type": "display_data"
    },
    {
     "data": {
      "text/latex": [
       "$$\\frac{13}{5}$$"
      ],
      "text/plain": [
       "13/5"
      ]
     },
     "metadata": {},
     "output_type": "display_data"
    }
   ],
   "source": [
    "display(Rational((4+3), (2+5)))\n",
    "display(Rational(4,2)+Rational(3,5))"
   ]
  },
  {
   "cell_type": "markdown",
   "metadata": {},
   "source": [
    "Subtraction is not commutative."
   ]
  },
  {
   "cell_type": "code",
   "execution_count": 67,
   "metadata": {},
   "outputs": [
    {
     "data": {
      "text/latex": [
       "$$4$$"
      ],
      "text/plain": [
       "4"
      ]
     },
     "metadata": {},
     "output_type": "display_data"
    },
    {
     "data": {
      "text/latex": [
       "$$2$$"
      ],
      "text/plain": [
       "2"
      ]
     },
     "metadata": {},
     "output_type": "display_data"
    }
   ],
   "source": [
    "display(2-1+3)\n",
    "display(3-2+1)"
   ]
  },
  {
   "cell_type": "markdown",
   "metadata": {},
   "source": [
    "Subtraction is not associative."
   ]
  },
  {
   "cell_type": "code",
   "execution_count": 68,
   "metadata": {},
   "outputs": [
    {
     "data": {
      "text/latex": [
       "$$-2$$"
      ],
      "text/plain": [
       "-2"
      ]
     },
     "metadata": {},
     "output_type": "display_data"
    },
    {
     "data": {
      "text/latex": [
       "$$0$$"
      ],
      "text/plain": [
       "0"
      ]
     },
     "execution_count": 68,
     "metadata": {},
     "output_type": "execute_result"
    }
   ],
   "source": [
    "display(2-(3+1))\n",
    "2-3+1"
   ]
  },
  {
   "cell_type": "markdown",
   "metadata": {},
   "source": [
    "Division is not commutative.  \n",
    "3/2 != 2/3\n",
    "  \n",
    "Division is not associative."
   ]
  },
  {
   "cell_type": "code",
   "execution_count": 69,
   "metadata": {},
   "outputs": [
    {
     "data": {
      "text/latex": [
       "$$\\frac{1}{6}$$"
      ],
      "text/plain": [
       "1/6"
      ]
     },
     "metadata": {},
     "output_type": "display_data"
    },
    {
     "data": {
      "text/latex": [
       "$$\\frac{3}{2}$$"
      ],
      "text/plain": [
       "3/2"
      ]
     },
     "metadata": {},
     "output_type": "display_data"
    }
   ],
   "source": [
    "display(Rational(Rational(1, 2), 3))\n",
    "display(Rational(Rational(3, 2), 1))"
   ]
  },
  {
   "cell_type": "markdown",
   "metadata": {},
   "source": [
    "If 2=x, why does x=2?  \n",
    "The **symetric property** states if a=b then b=a.  \n",
    "  \n",
    "Because the **principle of substitution** states if a=b,   \n",
    "then we may substitute b for a in any expression containing a.  \n",
    "x = 5  \n",
    "x**2 + x = 30  \n",
    "  \n",
    "Real numbers that are irrational and rational do not exist.  \n",
    "A real number is either irrational or rational.  \n",
    "  \n",
    "Real numbers are the set of all irrational and rational numbers.  \n",
    "All rational numbers can be expressed as a the ratio of two integers.  \n",
    "If a number cannot be expressed as the ratio of two integers, the number is irrational.  \n",
    "Because irrational numbers cannot be expressed as the ratio of two integers, they cannot be rational.  \n",
    "Because rational numbers can be expressed as the ratio of two integers, they are not irrational.  \n",
    "Hence, real numbers may only be rational or irrational.  \n",
    "  \n",
    "\n",
    "The sum of a rational and irrational number is irrational because the sum cannot be expressed as the ratio of two integers.  \n",
    "  \n",
    "A fraction in lowest terms with a prime denominator other than 2 or 5 always produces a repeating decimal. "
   ]
  },
  {
   "cell_type": "code",
   "execution_count": 70,
   "metadata": {},
   "outputs": [
    {
     "name": "stdout",
     "output_type": "stream",
     "text": [
      "1 1\n",
      "2 0.5\n",
      "3 0.333333333333333333333333333333333333333333333333333333333333\n",
      "4 0.25\n",
      "5 0.2\n",
      "6 0.166666666666666666666666666666666666666666666666666666666667\n",
      "7 0.142857142857142857142857142857142857142857142857142857142857\n",
      "8 0.125\n",
      "9 0.111111111111111111111111111111111111111111111111111111111111\n",
      "10 0.1\n",
      "11 0.0909090909090909090909090909090909090909090909090909090909091\n",
      "12 0.0833333333333333333333333333333333333333333333333333333333333\n",
      "13 0.0769230769230769230769230769230769230769230769230769230769231\n",
      "14 0.0714285714285714285714285714285714285714285714285714285714286\n",
      "15 0.0666666666666666666666666666666666666666666666666666666666667\n",
      "16 0.0625\n",
      "17 0.0588235294117647058823529411764705882352941176470588235294118\n",
      "18 0.0555555555555555555555555555555555555555555555555555555555556\n",
      "19 0.0526315789473684210526315789473684210526315789473684210526316\n",
      "20 0.05\n",
      "21 0.0476190476190476190476190476190476190476190476190476190476190\n",
      "22 0.0454545454545454545454545454545454545454545454545454545454545\n",
      "23 0.0434782608695652173913043478260869565217391304347826086956522\n",
      "24 0.0416666666666666666666666666666666666666666666666666666666667\n",
      "25 0.04\n",
      "26 0.0384615384615384615384615384615384615384615384615384615384615\n",
      "27 0.0370370370370370370370370370370370370370370370370370370370370\n",
      "28 0.0357142857142857142857142857142857142857142857142857142857143\n",
      "29 0.0344827586206896551724137931034482758620689655172413793103448\n"
     ]
    }
   ],
   "source": [
    "getcontext().prec = 60\n",
    "for _ in range(1, 30): print(_, Decimal(1)/Decimal(_)) "
   ]
  },
  {
   "cell_type": "code",
   "execution_count": 71,
   "metadata": {},
   "outputs": [
    {
     "data": {
      "text/latex": [
       "$$13$$"
      ],
      "text/plain": [
       "13"
      ]
     },
     "execution_count": 71,
     "metadata": {},
     "output_type": "execute_result"
    }
   ],
   "source": [
    "# If the current time is 12 noon, what will the time be 12997 hours from now?\n",
    "12997/24\n",
    "12997-(541*24)\n",
    "# 1 AM"
   ]
  },
  {
   "cell_type": "markdown",
   "metadata": {},
   "source": [
    "a/0 where a != 0 is undefined because if we approach 0 from the right, the quotient will approach positive infinity.  \n",
    "If we approach 0 from the left, the quotient will approach negative infinity  \n",
    "  \n",
    "0/0 is undefined because as number a approaches 0, a/a=1.  \n",
    "As number a approaches 0, 0/a = 0.  \n",
    "It's not clear if 0/0 should equal 0 or 1 and therefore, 0/0 is undefined.  "
   ]
  },
  {
   "cell_type": "markdown",
   "metadata": {},
   "source": [
    "### intervals"
   ]
  },
  {
   "cell_type": "markdown",
   "metadata": {},
   "source": [
    "$\\{x|-1\\le x<2\\}$  \n",
    "  \n",
    "Graph [-1, 2)"
   ]
  },
  {
   "cell_type": "code",
   "execution_count": 25,
   "metadata": {},
   "outputs": [
    {
     "data": {
      "image/png": "[encoded data removed]",
      "text/plain": [
       "<Figure size 432x288 with 1 Axes>"
      ]
     },
     "metadata": {
      "needs_background": "light"
     },
     "output_type": "display_data"
    }
   ],
   "source": [
    "plt.axhline(y=0, color='black', lw=2)\n",
    "x_coords = [-1, 2]\n",
    "y_coords = [0, 0]\n",
    "plt.plot(x_coords, y_coords, color='red')\n",
    "\n",
    "for x_coord in [-1, 0, 2]:\n",
    "    plt.annotate(s='{}'.format(x_coord), xy=(x_coord, -1))\n",
    "\n",
    "plt.yticks([])\n",
    "plt.xticks([0,1,2,3])\n",
    "plt.axis('scaled')\n",
    "plt.arrow(x=3.75, y=0, dx=.25,dy=0, width=.2, head_length=.25, length_includes_head=.25, color='black')\n",
    "\n",
    "circle_a=plt.Circle((-1,0),radius=.25,color='black',)\n",
    "circle_b=plt.Circle((2,0),radius=.25,color='black', fill=False)\n",
    "plt.gca().add_artist(circle_a)\n",
    "plt.gca().add_artist(circle_b)\n",
    "\n",
    "plt.xlim(left=-2, right=4)\n",
    "_ = plt.ylim(bottom=-4, top=2)"
   ]
  },
  {
   "cell_type": "code",
   "execution_count": 79,
   "metadata": {},
   "outputs": [],
   "source": [
    "A = Interval(-2, oo, left_open=False, right_open=True)\n",
    "B = Interval(-oo, 4, right_open=True)"
   ]
  },
  {
   "cell_type": "code",
   "execution_count": 80,
   "metadata": {},
   "outputs": [
    {
     "data": {
      "text/latex": [
       "$$\\left[-2, 4\\right)$$"
      ],
      "text/plain": [
       "[-2, 4)"
      ]
     },
     "execution_count": 80,
     "metadata": {},
     "output_type": "execute_result"
    }
   ],
   "source": [
    "A.intersection(B)"
   ]
  },
  {
   "cell_type": "code",
   "execution_count": 81,
   "metadata": {},
   "outputs": [
    {
     "data": {
      "text/latex": [
       "$$\\left(-1, 0\\right)$$"
      ],
      "text/plain": [
       "(-1, 0)"
      ]
     },
     "execution_count": 81,
     "metadata": {},
     "output_type": "execute_result"
    }
   ],
   "source": [
    "Interval(-2,0, left_open=True, right_open=True).intersection(Interval(-1,1, right_open=True, left_open=True))"
   ]
  }
 ],
 "metadata": {
  "kernelspec": {
   "display_name": "math",
   "language": "python",
   "name": "math"
  },
  "language_info": {
   "codemirror_mode": {
    "name": "ipython",
    "version": 3
   },
   "file_extension": ".py",
   "mimetype": "text/x-python",
   "name": "python",
   "nbconvert_exporter": "python",
   "pygments_lexer": "ipython3",
   "version": "3.6.7"
  }
 },
 "nbformat": 4,
 "nbformat_minor": 1
}
