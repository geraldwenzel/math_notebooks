{
 "cells": [
  {
   "cell_type": "code",
   "execution_count": 2,
   "metadata": {},
   "outputs": [],
   "source": [
    "%run ../set_notebook.py"
   ]
  },
  {
   "cell_type": "code",
   "execution_count": 3,
   "metadata": {},
   "outputs": [
    {
     "data": {
      "text/latex": [
       "$\\displaystyle \\left(-1, 0\\right)$"
      ],
      "text/plain": [
       "(-1, 0)"
      ]
     },
     "execution_count": 3,
     "metadata": {},
     "output_type": "execute_result"
    }
   ],
   "source": [
    "Interval(-2,0, left_open=True, right_open=True).intersection(Interval(-1,1, right_open=True, left_open=True))"
   ]
  },
  {
   "cell_type": "code",
   "execution_count": 67,
   "metadata": {},
   "outputs": [
    {
     "data": {
      "text/latex": [
       "$\\displaystyle \\left(-1, \\infty\\right)$"
      ],
      "text/plain": [
       "(-1, ∞)"
      ]
     },
     "execution_count": 67,
     "metadata": {},
     "output_type": "execute_result"
    }
   ],
   "source": [
    "# solving a linear inequality\n",
    "inequality = (x-4)/(x+1) < 1\n",
    "solveset(f=inequality, symbol=x, domain=S.Reals)"
   ]
  },
  {
   "cell_type": "code",
   "execution_count": 68,
   "metadata": {},
   "outputs": [
    {
     "data": {
      "text/latex": [
       "$\\displaystyle \\left(-\\infty, -2\\right) \\cup \\left(-2, 2\\right) \\cup \\left(2, \\infty\\right)$"
      ],
      "text/plain": [
       "(-∞, -2) ∪ (-2, 2) ∪ (2, ∞)"
      ]
     },
     "execution_count": 68,
     "metadata": {},
     "output_type": "execute_result"
    }
   ],
   "source": [
    "# solving inequality with absolute value\n",
    "inequality = abs((x+2)/(x-2)) > 0\n",
    "solveset(f=inequality, symbol=x, domain=S.Reals)"
   ]
  },
  {
   "cell_type": "code",
   "execution_count": 69,
   "metadata": {},
   "outputs": [
    {
     "data": {
      "text/latex": [
       "$\\displaystyle \\left(-\\infty, -2\\right) \\cup \\left(2, \\infty\\right)$"
      ],
      "text/plain": [
       "(-∞, -2) ∪ (2, ∞)"
      ]
     },
     "execution_count": 69,
     "metadata": {},
     "output_type": "execute_result"
    }
   ],
   "source": [
    "# solving a quadratic inequality\n",
    "inequality = ((x-2)/(x+2)**3) > 0\n",
    "solveset(f=inequality, symbol=x, domain=S.Reals)"
   ]
  },
  {
   "cell_type": "code",
   "execution_count": 70,
   "metadata": {},
   "outputs": [
    {
     "data": {
      "text/latex": [
       "$\\displaystyle \\left(2, 3\\right)$"
      ],
      "text/plain": [
       "(2, 3)"
      ]
     },
     "execution_count": 70,
     "metadata": {},
     "output_type": "execute_result"
    }
   ],
   "source": [
    "# solving a two-sided inequality\n",
    "A = solveset(f=0 < 3-x, symbol=x, domain=S.Reals)\n",
    "B = solveset(f=3-x < 1, symbol=x, domain=S.Reals)\n",
    "A.intersection(B)"
   ]
  },
  {
   "cell_type": "code",
   "execution_count": 71,
   "metadata": {},
   "outputs": [
    {
     "data": {
      "text/latex": [
       "$\\displaystyle \\left(-\\infty, -2\\right) \\cup \\left[1, \\infty\\right)$"
      ],
      "text/plain": [
       "(-∞, -2) ∪ [1, ∞)"
      ]
     },
     "execution_count": 71,
     "metadata": {},
     "output_type": "execute_result"
    }
   ],
   "source": [
    "# solving an inequality with a fraction\n",
    "solveset(f=(x-1)/(x+2) >= 0, symbol=x, domain=S.Reals)"
   ]
  },
  {
   "cell_type": "code",
   "execution_count": 72,
   "metadata": {},
   "outputs": [
    {
     "data": {
      "text/latex": [
       "$\\displaystyle \\emptyset$"
      ],
      "text/plain": [
       "∅"
      ]
     },
     "execution_count": 72,
     "metadata": {},
     "output_type": "execute_result"
    }
   ],
   "source": [
    "Interval(-oo, -4, right_open=True).intersect(Interval(4, oo, right_open=True))"
   ]
  },
  {
   "cell_type": "code",
   "execution_count": 73,
   "metadata": {},
   "outputs": [
    {
     "data": {
      "image/png": "[encoded data removed]",
      "text/plain": [
       "<Figure size 432x288 with 1 Axes>"
      ]
     },
     "metadata": {
      "needs_background": "light"
     },
     "output_type": "display_data"
    }
   ],
   "source": [
    "# Graph all numbers x for which x > 4.\n",
    "plt.axhline(y=0, color='black', lw=2)\n",
    "x_coords = [4, 10]\n",
    "y_coords = [0, 0]\n",
    "plt.plot(x_coords, y_coords, color='red')\n",
    "\n",
    "for x_coord in [0, 4]:\n",
    "    plt.annotate(s='{}'.format(x_coord), xy=(x_coord, -.01))\n",
    "\n",
    "plt.annotate(s='(', xy=(4, -.0025), size=20, color='red')\n",
    "\n",
    "plt.yticks([])\n",
    "plt.xticks([0,1,2,3])\n",
    "plt.axis('on')\n",
    "plt.arrow(x=9.75, y=0, dx=.25,dy=0, width=.002, head_length=.25, length_includes_head=.25, color='red')\n",
    "_ = plt.xlim(left=0, right=10)"
   ]
  }
 ],
 "metadata": {
  "kernelspec": {
   "display_name": "Python 3",
   "language": "python",
   "name": "python3"
  },
  "language_info": {
   "codemirror_mode": {
    "name": "ipython",
    "version": 3
   },
   "file_extension": ".py",
   "mimetype": "text/x-python",
   "name": "python",
   "nbconvert_exporter": "python",
   "pygments_lexer": "ipython3",
   "version": "3.7.6"
  }
 },
 "nbformat": 4,
 "nbformat_minor": 4
}
