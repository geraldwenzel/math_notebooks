{
 "cells": [
  {
   "cell_type": "code",
   "execution_count": 1,
   "metadata": {},
   "outputs": [],
   "source": [
    "%run ../set_notebook.py"
   ]
  },
  {
   "cell_type": "markdown",
   "metadata": {},
   "source": [
    "### inequalities\n",
    "strict inequalities  \n",
    "$a \\lt b$ or $b \\gt a$    \n",
    "  \n",
    "nonstrict inequalities  \n",
    "$a \\le b$ or $a \\ge b$  \n",
    "  \n",
    "a is positive  \n",
    "a > 0  \n",
    "  \n",
    "a is negative  \n",
    "a < 0\n",
    "\n",
    "a is nonnegative  \n",
    "$a \\ge 0$  \n",
    "  \n",
    "If $a \\lt b$ and $b \\lt c$, then $a \\lt c$.  \n",
    "If $a \\lt b$, then $a+c \\lt b + c$.  \n",
    "If $a \\lt b$ and $c \\gt 0$, then $ca \\lt cb$.  \n",
    "If $a \\lt b$ and $c \\lt 0$, then $ca \\gt cb$.  "
   ]
  },
  {
   "cell_type": "code",
   "execution_count": 8,
   "metadata": {},
   "outputs": [
    {
     "data": {
      "text/latex": [
       "$$\\mathrm{True}$$"
      ],
      "text/plain": [
       "True"
      ]
     },
     "execution_count": 8,
     "metadata": {},
     "output_type": "execute_result"
    }
   ],
   "source": [
    "Rational(1, 2) > 0"
   ]
  },
  {
   "cell_type": "markdown",
   "metadata": {},
   "source": [
    "### graphing inequalities on the real number line"
   ]
  },
  {
   "cell_type": "code",
   "execution_count": 2,
   "metadata": {},
   "outputs": [
    {
     "data": {
      "image/png": "[encoded data removed]",
      "text/plain": [
       "<Figure size 432x288 with 1 Axes>"
      ]
     },
     "metadata": {
      "needs_background": "light"
     },
     "output_type": "display_data"
    }
   ],
   "source": [
    "# Graph all numbers x for which x > 4.\n",
    "plt.axhline(y=0, color='black', lw=2)\n",
    "x_coords = [4, 10]\n",
    "y_coords = [0, 0]\n",
    "plt.plot(x_coords, y_coords, color='red')\n",
    "\n",
    "for x_coord in [0, 4]:\n",
    "    plt.annotate(s='{}'.format(x_coord), xy=(x_coord, -.01))\n",
    "\n",
    "plt.annotate(s='(', xy=(4, -.0025), size=20, color='red')\n",
    "\n",
    "plt.yticks([])\n",
    "plt.xticks([0,1,2,3])\n",
    "plt.axis('off')\n",
    "plt.arrow(x=9.75, y=0, dx=.25,dy=0, width=.002, head_length=.25, length_includes_head=.25, color='red')\n",
    "_ = plt.xlim(left=0, right=10)"
   ]
  },
  {
   "cell_type": "code",
   "execution_count": 3,
   "metadata": {},
   "outputs": [
    {
     "data": {
      "image/png": "[encoded data removed]",
      "text/plain": [
       "<Figure size 432x288 with 1 Axes>"
      ]
     },
     "metadata": {
      "needs_background": "light"
     },
     "output_type": "display_data"
    }
   ],
   "source": [
    "# x < 4.\n",
    "plt.axhline(y=0, color='black', lw=2)\n",
    "x_coords = [-5, 4]\n",
    "y_coords = [0, 0]\n",
    "plt.plot(x_coords, y_coords, color='red')\n",
    "\n",
    "for x_coord in [-4, 0, 4]:\n",
    "    plt.annotate(s='{}'.format(x_coord), xy=(x_coord, -.01))\n",
    "\n",
    "plt.annotate(s=')', xy=(4, -.0025), size=20, color='red')\n",
    "\n",
    "plt.yticks([])\n",
    "plt.xticks([0,1,2,3])\n",
    "plt.axis('off')\n",
    "plt.arrow(x=-4.75, y=0, dx=-.25,dy=0, width=.002, head_length=.25, length_includes_head=.25, color='red')\n",
    "plt.arrow(x=4.75, y=0, dx=.25,dy=0, width=.002, head_length=.25, length_includes_head=.25, color='black')\n",
    "_ = plt.xlim(left=-5, right=5)"
   ]
  },
  {
   "cell_type": "code",
   "execution_count": 3,
   "metadata": {},
   "outputs": [
    {
     "data": {
      "image/png": "[encoded data removed]",
      "text/plain": [
       "<Figure size 432x288 with 1 Axes>"
      ]
     },
     "metadata": {},
     "output_type": "display_data"
    }
   ],
   "source": [
    "# Graph all numbers x for which x <= 5.\n",
    "plt.axhline(y=0, color='black', lw=2)\n",
    "x_coords = [-2, 5]\n",
    "y_coords = [0, 0]\n",
    "plt.plot(x_coords, y_coords, color='red')\n",
    "\n",
    "for x_coord in [0, 5]:\n",
    "    plt.annotate(s='{}'.format(x_coord), xy=(x_coord, -.01))\n",
    "\n",
    "plt.annotate(s=']', xy=(5, -.0025), size=20, color='red')\n",
    "\n",
    "plt.yticks([])\n",
    "plt.xticks([0,1,2,3])\n",
    "plt.axis('off')\n",
    "plt.arrow(x=-1.75, y=0, dx=-.25,dy=0, width=.002, head_length=.25, length_includes_head=.25, color='red')\n",
    "_ = plt.xlim(left=-2, right=7)"
   ]
  },
  {
   "cell_type": "code",
   "execution_count": 31,
   "metadata": {},
   "outputs": [
    {
     "data": {
      "image/png": "[encoded data removed]",
      "text/plain": [
       "<Figure size 432x288 with 1 Axes>"
      ]
     },
     "metadata": {},
     "output_type": "display_data"
    }
   ],
   "source": [
    "# x <= 7.\n",
    "plt.axhline(y=0, color='black', lw=2)\n",
    "x_coords = [-5, 7]\n",
    "y_coords = [0, 0]\n",
    "plt.plot(x_coords, y_coords, color='red')\n",
    "\n",
    "for x_coord in [-5, 0, 7]:\n",
    "    plt.annotate(s='{}'.format(x_coord), xy=(x_coord, -.01))\n",
    "\n",
    "plt.annotate(s=']', xy=(7, -.0025), size=20, color='red')\n",
    "\n",
    "plt.yticks([])\n",
    "plt.xticks([0,1,2,3])\n",
    "plt.axis('off')\n",
    "plt.arrow(x=-4.75, y=0, dx=-.25,dy=0, width=.002, head_length=.25, length_includes_head=.25, color='red')\n",
    "plt.arrow(x=9.75, y=0, dx=.25,dy=0, width=.002, head_length=.25, length_includes_head=.25, color='black')\n",
    "_ = plt.xlim(left=-5, right=10)"
   ]
  },
  {
   "cell_type": "code",
   "execution_count": 4,
   "metadata": {},
   "outputs": [
    {
     "data": {
      "image/png": "[encoded data removed]",
      "text/plain": [
       "<Figure size 432x288 with 1 Axes>"
      ]
     },
     "metadata": {
      "needs_background": "light"
     },
     "output_type": "display_data"
    }
   ],
   "source": [
    "# x >= -2.\n",
    "plt.axhline(y=0, color='black', lw=2)\n",
    "x_coords = [-2, 3]\n",
    "y_coords = [0, 0]\n",
    "plt.plot(x_coords, y_coords, color='red')\n",
    "\n",
    "for x_coord in [-2, 0, 5]:\n",
    "    plt.annotate(s='{}'.format(x_coord), xy=(x_coord, -.01))\n",
    "\n",
    "plt.annotate(s='[', xy=(-2, -.0025), size=20, color='red')\n",
    "\n",
    "plt.yticks([])\n",
    "plt.xticks([0,1,2,3])\n",
    "plt.axis('off')\n",
    "plt.arrow(x=3, y=0, dx=.25,dy=0, width=.002, head_length=.25, length_includes_head=.25, color='red')\n",
    "plt.arrow(x=4.75, y=0, dx=.25,dy=0, width=.002, head_length=.25, length_includes_head=.25, color='black')\n",
    "_ = plt.xlim(left=-5, right=5)"
   ]
  },
  {
   "cell_type": "markdown",
   "metadata": {},
   "source": [
    "### absolute value\n",
    "The absolute value of real number _a_ is the distance from *a* to 0.  \n",
    "$\\vert a \\vert  = a$ if $a \\ge 0$ and $\\vert a \\vert = -a $ if $a \\lt 0$.  \n",
    "  \n",
    "If $a \\gt 0$, then  \n",
    "$\\vert x \\vert = a$ means $x = a$ or $x = -a$.  \n",
    "$\\vert x \\vert \\lt a$ means $-a \\lt x \\lt a$.  \n",
    "$\\vert x \\vert \\gt a$ means $x \\gt a$ or $x \\lt -a$.  "
   ]
  },
  {
   "cell_type": "code",
   "execution_count": 9,
   "metadata": {},
   "outputs": [
    {
     "data": {
      "text/plain": [
       "True"
      ]
     },
     "execution_count": 9,
     "metadata": {},
     "output_type": "execute_result"
    }
   ],
   "source": [
    "abs(-10) == -(-10) == 10"
   ]
  },
  {
   "cell_type": "code",
   "execution_count": 19,
   "metadata": {},
   "outputs": [
    {
     "data": {
      "text/latex": [
       "$$0.8$$"
      ],
      "text/plain": [
       "0.8"
      ]
     },
     "execution_count": 19,
     "metadata": {},
     "output_type": "execute_result"
    }
   ],
   "source": [
    "abs(-2.6+1.8)"
   ]
  },
  {
   "cell_type": "markdown",
   "metadata": {},
   "source": [
    "#### DEFINITION  \n",
    "<i>P</i> and <i>Q</i> are two points on a real number line with coordinates <i>a</i> and <i>b</i>.  \n",
    "  \n",
    "*d(P, Q)* denotes the distance between <i>P</i> and <i>Q</i>.   \n",
    "  \n",
    "The **distance between *P* and _Q_** is  \n",
    "  \n",
    "<table>\n",
    "  <tr>\n",
    "      <td><i>d(P, Q)</i> = |b - a|</td>\n",
    "  </tr>\n",
    "</table>  \n",
    "  \n",
    "Because |b - a| = |a - b|,  \n",
    "*d(P, Q)* = _d(Q, P)_.  \n",
    "### Number line distance"
   ]
  },
  {
   "cell_type": "code",
   "execution_count": 8,
   "metadata": {},
   "outputs": [],
   "source": [
    "# P, Q, and R are points on a real number line.\n",
    "P = -5\n",
    "Q = 7\n",
    "R = -3"
   ]
  },
  {
   "cell_type": "code",
   "execution_count": 5,
   "metadata": {},
   "outputs": [
    {
     "data": {
      "image/png": "[encoded data removed]",
      "text/plain": [
       "<Figure size 432x288 with 1 Axes>"
      ]
     },
     "metadata": {},
     "output_type": "display_data"
    }
   ],
   "source": [
    "plt.axhline(y=0, color='black', lw=2)\n",
    "x_coords = [-5, 7, -3]\n",
    "y_coords = [0, 0, 0]\n",
    "plt.plot(x_coords, y_coords, color='red', marker='o', linestyle='none')\n",
    "\n",
    "y_position = -.01\n",
    "for xy in zip(x_coords, y_coords):\n",
    "    plt.annotate(s='{}'.format(xy[0]), xy=(xy[0], y_position))\n",
    "\n",
    "y_position = .01\n",
    "for k, v in {'P':-5, 'Q':7, 'R':-3}.items():\n",
    "    plt.annotate(s='{point}'.format(point=k), xy=(v, y_position))    \n",
    "    \n",
    "plt.yticks([])\n",
    "plt.xticks([])\n",
    "plt.axis('off')\n",
    "plt.arrow(x=9.75, y=0, dx=.25,dy=0, width=.002, head_length=.25, length_includes_head=.25, color='black')\n",
    "_ = plt.xlim(left=-10, right=10)"
   ]
  },
  {
   "cell_type": "code",
   "execution_count": 10,
   "metadata": {},
   "outputs": [
    {
     "data": {
      "text/latex": [
       "$$12$$"
      ],
      "text/plain": [
       "12"
      ]
     },
     "execution_count": 10,
     "metadata": {},
     "output_type": "execute_result"
    }
   ],
   "source": [
    "# Find the distance between P and Q.\n",
    "abs(P - Q)"
   ]
  },
  {
   "cell_type": "code",
   "execution_count": 11,
   "metadata": {},
   "outputs": [
    {
     "data": {
      "text/latex": [
       "$$10$$"
      ],
      "text/plain": [
       "10"
      ]
     },
     "execution_count": 11,
     "metadata": {},
     "output_type": "execute_result"
    }
   ],
   "source": [
    "# Find the distance between Q and R.\n",
    "abs(Q - R)"
   ]
  },
  {
   "cell_type": "markdown",
   "metadata": {},
   "source": [
    "### expression evaluation\n",
    "*x, y, a, b* and _c_ represent numbers.  \n",
    "A **variable** is a letter used to represent any number in a set.  \n",
    "A **constant** is a fixed number or a letter that represents a fixed number.  "
   ]
  },
  {
   "cell_type": "code",
   "execution_count": 12,
   "metadata": {},
   "outputs": [],
   "source": [
    "X = 3\n",
    "Y = -1"
   ]
  },
  {
   "cell_type": "code",
   "execution_count": 13,
   "metadata": {},
   "outputs": [
    {
     "data": {
      "text/latex": [
       "$$0$$"
      ],
      "text/plain": [
       "0"
      ]
     },
     "execution_count": 13,
     "metadata": {},
     "output_type": "execute_result"
    }
   ],
   "source": [
    "X + 3*Y"
   ]
  },
  {
   "cell_type": "code",
   "execution_count": 15,
   "metadata": {},
   "outputs": [
    {
     "data": {
      "text/latex": [
       "$$\\frac{3}{4}$$"
      ],
      "text/plain": [
       "3/4"
      ]
     },
     "execution_count": 15,
     "metadata": {},
     "output_type": "execute_result"
    }
   ],
   "source": [
    "Rational(3*Y, 2-2*X)"
   ]
  },
  {
   "cell_type": "code",
   "execution_count": 16,
   "metadata": {},
   "outputs": [
    {
     "data": {
      "text/latex": [
       "$$13$$"
      ],
      "text/plain": [
       "13"
      ]
     },
     "execution_count": 16,
     "metadata": {},
     "output_type": "execute_result"
    }
   ],
   "source": [
    "abs(-4*X + Y)"
   ]
  },
  {
   "cell_type": "code",
   "execution_count": 48,
   "metadata": {},
   "outputs": [
    {
     "data": {
      "image/png": "[encoded data removed]",
      "text/plain": [
       "<Figure size 432x288 with 1 Axes>"
      ]
     },
     "metadata": {},
     "output_type": "display_data"
    }
   ],
   "source": [
    "# Label real number line points with the following coordinates:\n",
    "# -2.5, -1, 0, .25, 3/4, 1, 5/2 \n",
    "plt.axhline(y=0, color='black', lw=2)\n",
    "x_coords = [-2.5, -1, 0, .25, Rational(3, 4), Rational(5, 2)]\n",
    "y_coords = [0, 0, 0, 0, 0, 0]\n",
    "plt.plot(x_coords, y_coords, color='red', marker='o', linestyle='none')\n",
    "\n",
    "y_position = .01\n",
    "for xy in zip(x_coords, y_coords):\n",
    "    y_position = -y_position\n",
    "    plt.annotate(s='({}, {})'.format(xy[0], xy[1]), xy=(xy[0], y_position))\n",
    "\n",
    "plt.yticks([])\n",
    "plt.xticks([])\n",
    "plt.axis('off')\n",
    "plt.arrow(x=3., y=0, dx=.25,dy=0, width=.002, head_length=.25, length_includes_head=.25, color='black')\n",
    "_ = plt.xlim(left=-3, right=3.25)"
   ]
  },
  {
   "cell_type": "markdown",
   "metadata": {},
   "source": [
    "### compute distance between points"
   ]
  },
  {
   "cell_type": "code",
   "execution_count": 32,
   "metadata": {},
   "outputs": [],
   "source": [
    "A = -1\n",
    "B = 1"
   ]
  },
  {
   "cell_type": "code",
   "execution_count": 33,
   "metadata": {},
   "outputs": [
    {
     "data": {
      "text/latex": [
       "$$2$$"
      ],
      "text/plain": [
       "2"
      ]
     },
     "execution_count": 33,
     "metadata": {},
     "output_type": "execute_result"
    }
   ],
   "source": [
    "abs(A-B)"
   ]
  },
  {
   "cell_type": "markdown",
   "metadata": {},
   "source": [
    "### evaluate each expression"
   ]
  },
  {
   "cell_type": "code",
   "execution_count": 34,
   "metadata": {},
   "outputs": [],
   "source": [
    "X = -2\n",
    "Y = 3"
   ]
  },
  {
   "cell_type": "code",
   "execution_count": 36,
   "metadata": {},
   "outputs": [
    {
     "data": {
      "text/latex": [
       "$$-2$$"
      ],
      "text/plain": [
       "-2"
      ]
     },
     "execution_count": 36,
     "metadata": {},
     "output_type": "execute_result"
    }
   ],
   "source": [
    "-2*X + X*Y"
   ]
  },
  {
   "cell_type": "code",
   "execution_count": 37,
   "metadata": {},
   "outputs": [
    {
     "data": {
      "text/latex": [
       "$$\\frac{4}{5}$$"
      ],
      "text/plain": [
       "4/5"
      ]
     },
     "execution_count": 37,
     "metadata": {},
     "output_type": "execute_result"
    }
   ],
   "source": [
    "Rational(2*X, X-Y)"
   ]
  },
  {
   "cell_type": "code",
   "execution_count": 38,
   "metadata": {},
   "outputs": [
    {
     "data": {
      "text/latex": [
       "$$- \\frac{1}{5}$$"
      ],
      "text/plain": [
       "-1/5"
      ]
     },
     "execution_count": 38,
     "metadata": {},
     "output_type": "execute_result"
    }
   ],
   "source": [
    "Rational(X+Y, X-Y)"
   ]
  },
  {
   "cell_type": "code",
   "execution_count": 39,
   "metadata": {},
   "outputs": [
    {
     "data": {
      "text/latex": [
       "$$0$$"
      ],
      "text/plain": [
       "0"
      ]
     },
     "execution_count": 39,
     "metadata": {},
     "output_type": "execute_result"
    }
   ],
   "source": [
    "Rational(3*X + 2*Y, 2 + Y)"
   ]
  },
  {
   "cell_type": "markdown",
   "metadata": {},
   "source": [
    "### find the value of each expression"
   ]
  },
  {
   "cell_type": "code",
   "execution_count": 40,
   "metadata": {},
   "outputs": [],
   "source": [
    "X = 3\n",
    "Y = -2"
   ]
  },
  {
   "cell_type": "code",
   "execution_count": 46,
   "metadata": {},
   "outputs": [
    {
     "data": {
      "text/latex": [
       "$$1$$"
      ],
      "text/plain": [
       "1"
      ]
     },
     "execution_count": 46,
     "metadata": {},
     "output_type": "execute_result"
    }
   ],
   "source": [
    "abs(X + Y)"
   ]
  },
  {
   "cell_type": "code",
   "execution_count": 43,
   "metadata": {},
   "outputs": [
    {
     "data": {
      "text/latex": [
       "$$5$$"
      ],
      "text/plain": [
       "5"
      ]
     },
     "execution_count": 43,
     "metadata": {},
     "output_type": "execute_result"
    }
   ],
   "source": [
    "abs(X) + abs(Y)"
   ]
  },
  {
   "cell_type": "code",
   "execution_count": 55,
   "metadata": {},
   "outputs": [
    {
     "data": {
      "text/latex": [
       "$$-1$$"
      ],
      "text/plain": [
       "-1"
      ]
     },
     "execution_count": 55,
     "metadata": {},
     "output_type": "execute_result"
    }
   ],
   "source": [
    "Rational(abs(Y), Y)"
   ]
  },
  {
   "cell_type": "code",
   "execution_count": 56,
   "metadata": {},
   "outputs": [
    {
     "data": {
      "text/latex": [
       "$$22$$"
      ],
      "text/plain": [
       "22"
      ]
     },
     "execution_count": 56,
     "metadata": {},
     "output_type": "execute_result"
    }
   ],
   "source": [
    "abs(4*X - 5*Y)"
   ]
  },
  {
   "cell_type": "markdown",
   "metadata": {},
   "source": [
    "## variable domain\n",
    "The set of values a variable may assume.  \n",
    "  \n",
    "EXAMPLES:  \n",
    "Area A of a circle of radius r:  \n",
    "A = pi \\* r\\*\\*2  \n",
    "_r_ is restricted to positive real numbers.  \n",
    "  \n",
    "1/x  \n",
    "x != 0\n",
    "  \n",
    "### circle circumference  \n",
    "C = 2\\*pi\\*r  \n",
    "  \n",
    "Radius r is the set of positive real numbers.  \n",
    "C is the set of positive real numbers.  \n",
    "### exclude invalid variables from the domain"
   ]
  },
  {
   "cell_type": "code",
   "execution_count": 8,
   "metadata": {},
   "outputs": [],
   "source": [
    "X_COORDS = {'a': 3, 'b': 1, 'c': 0, 'd': -1}"
   ]
  },
  {
   "cell_type": "code",
   "execution_count": 9,
   "metadata": {},
   "outputs": [
    {
     "name": "stdout",
     "output_type": "stream",
     "text": [
      "exclude from domain:\n",
      "c\n"
     ]
    }
   ],
   "source": [
    "print('exclude from domain:')\n",
    "for key in X_COORDS:\n",
    "    X = X_COORDS[key]\n",
    "    try:\n",
    "        (X**2 - 1)/X\n",
    "    except ZeroDivisionError:\n",
    "        print(key)"
   ]
  },
  {
   "cell_type": "code",
   "execution_count": 65,
   "metadata": {},
   "outputs": [
    {
     "name": "stdout",
     "output_type": "stream",
     "text": [
      "exclude from domain:\n"
     ]
    }
   ],
   "source": [
    "print('exclude from domain:')\n",
    "for key in X_COORDS:\n",
    "    X = X_COORDS[key]\n",
    "    try:\n",
    "        X**2/(X**2 + 1)\n",
    "    except ZeroDivisionError:\n",
    "        print(key)"
   ]
  },
  {
   "cell_type": "code",
   "execution_count": 66,
   "metadata": {},
   "outputs": [
    {
     "name": "stdout",
     "output_type": "stream",
     "text": [
      "exclude from domain:\n",
      "b\n",
      "d\n"
     ]
    }
   ],
   "source": [
    "print('exclude from domain:')\n",
    "for key in X_COORDS:\n",
    "    X = X_COORDS[key]\n",
    "    try:\n",
    "        X**3/(X**2 - 1)\n",
    "    except ZeroDivisionError:\n",
    "        print(key)"
   ]
  },
  {
   "cell_type": "code",
   "execution_count": 67,
   "metadata": {},
   "outputs": [
    {
     "name": "stdout",
     "output_type": "stream",
     "text": [
      "exclude from domain:\n",
      "b\n",
      "c\n",
      "d\n"
     ]
    }
   ],
   "source": [
    "print('exclude from domain:')\n",
    "for key in X_COORDS:\n",
    "    X = X_COORDS[key]\n",
    "    try:\n",
    "        (X**2 + 5*X - 10)/(X**3 - X)\n",
    "    except ZeroDivisionError:\n",
    "        print(key)"
   ]
  },
  {
   "cell_type": "markdown",
   "metadata": {},
   "source": [
    "## exponent laws"
   ]
  },
  {
   "cell_type": "code",
   "execution_count": 23,
   "metadata": {},
   "outputs": [
    {
     "data": {
      "text/latex": [
       "$$36$$"
      ],
      "text/plain": [
       "36"
      ]
     },
     "execution_count": 23,
     "metadata": {},
     "output_type": "execute_result"
    }
   ],
   "source": [
    "4*3**2"
   ]
  },
  {
   "cell_type": "code",
   "execution_count": 24,
   "metadata": {},
   "outputs": [
    {
     "data": {
      "text/latex": [
       "$$-16$$"
      ],
      "text/plain": [
       "-16"
      ]
     },
     "execution_count": 24,
     "metadata": {},
     "output_type": "execute_result"
    }
   ],
   "source": [
    "-2**4"
   ]
  },
  {
   "cell_type": "code",
   "execution_count": 27,
   "metadata": {},
   "outputs": [
    {
     "data": {
      "text/latex": [
       "$$16$$"
      ],
      "text/plain": [
       "16"
      ]
     },
     "execution_count": 27,
     "metadata": {},
     "output_type": "execute_result"
    }
   ],
   "source": [
    "(-2)**4"
   ]
  },
  {
   "cell_type": "markdown",
   "metadata": {},
   "source": [
    "### definitions\n",
    "$a^0 = 1$ if $a \\ne 0$\n",
    "\n",
    "a\\*\\*(-n) == 1/a\\*\\*n if a !=0 and n is a positive integer"
   ]
  },
  {
   "cell_type": "markdown",
   "metadata": {},
   "source": [
    "### exponent laws\n",
    "$x^mx^n=x^{m+n}$  \n",
    "  \n",
    "$(x^m)^n=x^{mn}$  \n",
    "  \n",
    "$(xy)^n=x^ny^n$  \n",
    "  \n",
    "$\\frac{x^m}{x^n} = x^{m-n} = \\frac{1}{x^{n-m}}$ if $x \\ne 0$  \n",
    "  \n",
    "$x^{-n} = \\frac{1}{x^n}$  \n",
    "  \n",
    "$(\\frac{x}{y})^n = \\frac{x^n}{y^n}$ if $y \\ne 0$  \n",
    "  \n",
    "$x^{\\frac{1}{n}} = \\sqrt[n]{x}$  \n",
    "  \n",
    "$x^{\\frac{m}{n}} = \\sqrt[n]{x^m} = (\\sqrt[n]{x})^m$  \n",
    "  \n",
    "$\\sqrt[n]{xy} = \\sqrt[n]{x} \\sqrt[n]{y}$  \n",
    "\n",
    "$\\sqrt[m]{\\sqrt[n]{x}} = \\sqrt[n]{\\sqrt[m]{x}} = \\sqrt[mn]{x}$\n",
    "\n",
    "$\\sqrt[n]{\\frac{x}{y}} = \\frac{\\sqrt[n]{x}}{\\sqrt[n]{y}}$  \n",
    "### using exponent laws\n",
    "if x != 0"
   ]
  },
  {
   "cell_type": "markdown",
   "metadata": {},
   "source": [
    "### evaluating expressions with negative exponents"
   ]
  },
  {
   "cell_type": "code",
   "execution_count": 3,
   "metadata": {},
   "outputs": [
    {
     "data": {
      "text/latex": [
       "$$\\frac{1}{8}$$"
      ],
      "text/plain": [
       "1/8"
      ]
     },
     "execution_count": 3,
     "metadata": {},
     "output_type": "execute_result"
    }
   ],
   "source": [
    "Rational(2**(-3))"
   ]
  },
  {
   "cell_type": "code",
   "execution_count": 29,
   "metadata": {},
   "outputs": [
    {
     "data": {
      "text/latex": [
       "$$\\frac{1}{x^{4}}$$"
      ],
      "text/plain": [
       "1 \n",
       "──\n",
       " 4\n",
       "x "
      ]
     },
     "execution_count": 29,
     "metadata": {},
     "output_type": "execute_result"
    }
   ],
   "source": [
    "x**(-4)"
   ]
  },
  {
   "cell_type": "code",
   "execution_count": 31,
   "metadata": {},
   "outputs": [
    {
     "data": {
      "text/latex": [
       "$$x^{2}$$"
      ],
      "text/plain": [
       " 2\n",
       "x "
      ]
     },
     "execution_count": 31,
     "metadata": {},
     "output_type": "execute_result"
    }
   ],
   "source": [
    "x**(-3) * x**5"
   ]
  },
  {
   "cell_type": "code",
   "execution_count": 32,
   "metadata": {},
   "outputs": [
    {
     "data": {
      "text/latex": [
       "$$\\frac{1}{x^{6}}$$"
      ],
      "text/plain": [
       "1 \n",
       "──\n",
       " 6\n",
       "x "
      ]
     },
     "execution_count": 32,
     "metadata": {},
     "output_type": "execute_result"
    }
   ],
   "source": [
    "(x**-3)**2"
   ]
  },
  {
   "cell_type": "code",
   "execution_count": 33,
   "metadata": {},
   "outputs": [
    {
     "data": {
      "text/latex": [
       "$$8 x^{3}$$"
      ],
      "text/plain": [
       "   3\n",
       "8⋅x "
      ]
     },
     "execution_count": 33,
     "metadata": {},
     "output_type": "execute_result"
    }
   ],
   "source": [
    "(2*x)**3"
   ]
  },
  {
   "cell_type": "code",
   "execution_count": 34,
   "metadata": {},
   "outputs": [
    {
     "data": {
      "text/latex": [
       "$$\\frac{16}{81}$$"
      ],
      "text/plain": [
       "16\n",
       "──\n",
       "81"
      ]
     },
     "execution_count": 34,
     "metadata": {},
     "output_type": "execute_result"
    }
   ],
   "source": [
    "Rational(2,3)**4"
   ]
  },
  {
   "cell_type": "code",
   "execution_count": 35,
   "metadata": {},
   "outputs": [
    {
     "data": {
      "text/latex": [
       "$$x^{3}$$"
      ],
      "text/plain": [
       " 3\n",
       "x "
      ]
     },
     "execution_count": 35,
     "metadata": {},
     "output_type": "execute_result"
    }
   ],
   "source": [
    "x**-2/x**-5"
   ]
  },
  {
   "cell_type": "markdown",
   "metadata": {},
   "source": [
    "### using exponent laws"
   ]
  },
  {
   "cell_type": "code",
   "execution_count": 36,
   "metadata": {},
   "outputs": [
    {
     "data": {
      "text/latex": [
       "$$\\frac{x^{2}}{y^{3}}$$"
      ],
      "text/plain": [
       " 2\n",
       "x \n",
       "──\n",
       " 3\n",
       "y "
      ]
     },
     "execution_count": 36,
     "metadata": {},
     "output_type": "execute_result"
    }
   ],
   "source": [
    "x**5 * y**-2 / (x**3 * y)"
   ]
  },
  {
   "cell_type": "code",
   "execution_count": 37,
   "metadata": {},
   "outputs": [
    {
     "data": {
      "text/latex": [
       "$$\\frac{9 x^{6}}{y^{2}}$$"
      ],
      "text/plain": [
       "   6\n",
       "9⋅x \n",
       "────\n",
       "  2 \n",
       " y  "
      ]
     },
     "execution_count": 37,
     "metadata": {},
     "output_type": "execute_result"
    }
   ],
   "source": [
    "(x**-3 / (3*y**-1))**-2"
   ]
  },
  {
   "cell_type": "markdown",
   "metadata": {},
   "source": [
    "### simply each expression"
   ]
  },
  {
   "cell_type": "code",
   "execution_count": 74,
   "metadata": {},
   "outputs": [
    {
     "data": {
      "text/latex": [
       "$$16$$"
      ],
      "text/plain": [
       "16"
      ]
     },
     "execution_count": 74,
     "metadata": {},
     "output_type": "execute_result"
    }
   ],
   "source": [
    "(-4)**2"
   ]
  },
  {
   "cell_type": "code",
   "execution_count": 75,
   "metadata": {},
   "outputs": [
    {
     "data": {
      "text/latex": [
       "$$-16$$"
      ],
      "text/plain": [
       "-16"
      ]
     },
     "execution_count": 75,
     "metadata": {},
     "output_type": "execute_result"
    }
   ],
   "source": [
    "-4**2"
   ]
  },
  {
   "cell_type": "code",
   "execution_count": 77,
   "metadata": {},
   "outputs": [
    {
     "data": {
      "text/latex": [
       "$$\\frac{1}{16}$$"
      ],
      "text/plain": [
       "1/16"
      ]
     },
     "execution_count": 77,
     "metadata": {},
     "output_type": "execute_result"
    }
   ],
   "source": [
    "Rational(-4)**-2"
   ]
  },
  {
   "cell_type": "code",
   "execution_count": 39,
   "metadata": {},
   "outputs": [
    {
     "data": {
      "text/latex": [
       "$$\\frac{1}{9}$$"
      ],
      "text/plain": [
       "1/9"
      ]
     },
     "execution_count": 39,
     "metadata": {},
     "output_type": "execute_result"
    }
   ],
   "source": [
    "Rational(1, 3**6) * 3**4"
   ]
  },
  {
   "cell_type": "code",
   "execution_count": 89,
   "metadata": {},
   "outputs": [
    {
     "data": {
      "text/latex": [
       "$$64 x^{6}$$"
      ],
      "text/plain": [
       "    6\n",
       "64⋅x "
      ]
     },
     "execution_count": 89,
     "metadata": {},
     "output_type": "execute_result"
    }
   ],
   "source": [
    "(8*x**3)**2"
   ]
  },
  {
   "cell_type": "code",
   "execution_count": 62,
   "metadata": {},
   "outputs": [
    {
     "data": {
      "text/latex": [
       "$$\\frac{x^{4}}{y^{2}}$$"
      ],
      "text/plain": [
       " 4\n",
       "x \n",
       "──\n",
       " 2\n",
       "y "
      ]
     },
     "execution_count": 62,
     "metadata": {},
     "output_type": "execute_result"
    }
   ],
   "source": [
    "(x**2 * y**-1)**2"
   ]
  },
  {
   "cell_type": "code",
   "execution_count": 94,
   "metadata": {},
   "outputs": [
    {
     "data": {
      "text/latex": [
       "$$\\frac{1}{x^{3} y}$$"
      ],
      "text/plain": [
       " 1  \n",
       "────\n",
       " 3  \n",
       "x ⋅y"
      ]
     },
     "execution_count": 94,
     "metadata": {},
     "output_type": "execute_result"
    }
   ],
   "source": [
    "(x**-2*y)/(x*y**2)"
   ]
  },
  {
   "cell_type": "code",
   "execution_count": 98,
   "metadata": {},
   "outputs": [
    {
     "data": {
      "text/latex": [
       "$$\\frac{16 x^{2}}{9 y^{2}}$$"
      ],
      "text/plain": [
       "    2\n",
       "16⋅x \n",
       "─────\n",
       "    2\n",
       " 9⋅y "
      ]
     },
     "execution_count": 98,
     "metadata": {},
     "output_type": "execute_result"
    }
   ],
   "source": [
    "((3*x**-1)/(4*y**-1))**-2"
   ]
  },
  {
   "cell_type": "markdown",
   "metadata": {},
   "source": [
    "### square root evaluation\n",
    "sqrt(_a_) means give me the nonnegative number whose square is *a*.  \n",
    "  \n",
    "The principle square root is nonnegative.  \n",
    "### definition\n",
    "Let A be a nonnegative real number.  \n",
    "Let B be a nonnegative number such that B\\*\\*2 = A.  \n",
    "B is the priciple square root of A and is denoted by B = sqrt(A).  \n",
    "\n",
    "#### comments\n",
    "Real negative numbers do not have square roots.  \n",
    "0 is the priciple square root of 0.  \n",
    "Postive numbers have positive priciple square roots.  "
   ]
  },
  {
   "cell_type": "code",
   "execution_count": 44,
   "metadata": {},
   "outputs": [
    {
     "data": {
      "text/latex": [
       "$$8$$"
      ],
      "text/plain": [
       "8"
      ]
     },
     "execution_count": 44,
     "metadata": {},
     "output_type": "execute_result"
    }
   ],
   "source": [
    "sqrt(64)"
   ]
  },
  {
   "cell_type": "code",
   "execution_count": 45,
   "metadata": {},
   "outputs": [
    {
     "data": {
      "text/latex": [
       "$$1.4$$"
      ],
      "text/plain": [
       "1.40000000000000"
      ]
     },
     "execution_count": 45,
     "metadata": {},
     "output_type": "execute_result"
    }
   ],
   "source": [
    "(sqrt(1.4))**2"
   ]
  },
  {
   "cell_type": "code",
   "execution_count": 46,
   "metadata": {},
   "outputs": [
    {
     "data": {
      "text/latex": [
       "$$\\frac{1}{4}$$"
      ],
      "text/plain": [
       "1/4"
      ]
     },
     "execution_count": 46,
     "metadata": {},
     "output_type": "execute_result"
    }
   ],
   "source": [
    "sqrt(Rational(1, 16))"
   ]
  },
  {
   "cell_type": "markdown",
   "metadata": {},
   "source": [
    "a is any real number.  \n",
    "sqrt(a\\*\\*2) == abs(a)  "
   ]
  },
  {
   "cell_type": "markdown",
   "metadata": {},
   "source": [
    "### find expression value"
   ]
  },
  {
   "cell_type": "code",
   "execution_count": 12,
   "metadata": {},
   "outputs": [],
   "source": [
    "X = 2\n",
    "Y = -1"
   ]
  },
  {
   "cell_type": "code",
   "execution_count": 13,
   "metadata": {},
   "outputs": [
    {
     "data": {
      "text/latex": [
       "$$\\frac{3}{2}$$"
      ],
      "text/plain": [
       "3/2"
      ]
     },
     "execution_count": 13,
     "metadata": {},
     "output_type": "execute_result"
    }
   ],
   "source": [
    "Rational(-3*X**-1*Y)"
   ]
  },
  {
   "cell_type": "code",
   "execution_count": 108,
   "metadata": {},
   "outputs": [
    {
     "data": {
      "text/latex": [
       "$$1$$"
      ],
      "text/plain": [
       "1"
      ]
     },
     "execution_count": 108,
     "metadata": {},
     "output_type": "execute_result"
    }
   ],
   "source": [
    "(X + Y)**2"
   ]
  },
  {
   "cell_type": "code",
   "execution_count": 109,
   "metadata": {},
   "outputs": [
    {
     "data": {
      "text/latex": [
       "$$2$$"
      ],
      "text/plain": [
       "2"
      ]
     },
     "execution_count": 109,
     "metadata": {},
     "output_type": "execute_result"
    }
   ],
   "source": [
    "sqrt(X**2)"
   ]
  },
  {
   "cell_type": "code",
   "execution_count": 110,
   "metadata": {},
   "outputs": [
    {
     "data": {
      "text/latex": [
       "$$2$$"
      ],
      "text/plain": [
       "2"
      ]
     },
     "execution_count": 110,
     "metadata": {},
     "output_type": "execute_result"
    }
   ],
   "source": [
    "(sqrt(X))**2"
   ]
  },
  {
   "cell_type": "code",
   "execution_count": 111,
   "metadata": {},
   "outputs": [
    {
     "data": {
      "text/latex": [
       "$$\\sqrt{5}$$"
      ],
      "text/plain": [
       "√5"
      ]
     },
     "execution_count": 111,
     "metadata": {},
     "output_type": "execute_result"
    }
   ],
   "source": [
    "sqrt(X**2 + Y**2)"
   ]
  },
  {
   "cell_type": "code",
   "execution_count": 112,
   "metadata": {},
   "outputs": [
    {
     "data": {
      "text/latex": [
       "$$3$$"
      ],
      "text/plain": [
       "3"
      ]
     },
     "execution_count": 112,
     "metadata": {},
     "output_type": "execute_result"
    }
   ],
   "source": [
    "sqrt(X**2) + sqrt(Y**2)"
   ]
  },
  {
   "cell_type": "code",
   "execution_count": 114,
   "metadata": {},
   "outputs": [
    {
     "data": {
      "text/latex": [
       "$$\\frac{1}{2}$$"
      ],
      "text/plain": [
       "1/2"
      ]
     },
     "execution_count": 114,
     "metadata": {},
     "output_type": "execute_result"
    }
   ],
   "source": [
    "Rational(X**Y)"
   ]
  },
  {
   "cell_type": "markdown",
   "metadata": {},
   "source": [
    "### round to three decimal places"
   ]
  },
  {
   "cell_type": "code",
   "execution_count": 125,
   "metadata": {},
   "outputs": [
    {
     "data": {
      "text/latex": [
       "$$304006.671$$"
      ],
      "text/plain": [
       "304006.671"
      ]
     },
     "execution_count": 125,
     "metadata": {},
     "output_type": "execute_result"
    }
   ],
   "source": [
    "round(8.2**6, 3)"
   ]
  },
  {
   "cell_type": "code",
   "execution_count": 130,
   "metadata": {},
   "outputs": [
    {
     "data": {
      "text/latex": [
       "$$693.44$$"
      ],
      "text/plain": [
       "693.44"
      ]
     },
     "execution_count": 130,
     "metadata": {},
     "output_type": "execute_result"
    }
   ],
   "source": [
    "round(3.7**5, 3)"
   ]
  },
  {
   "cell_type": "code",
   "execution_count": 10,
   "metadata": {},
   "outputs": [
    {
     "data": {
      "text/latex": [
       "$$0.004$$"
      ],
      "text/plain": [
       "0.004"
      ]
     },
     "execution_count": 10,
     "metadata": {},
     "output_type": "execute_result"
    }
   ],
   "source": [
    "round(6.1**-3, 3)"
   ]
  },
  {
   "cell_type": "code",
   "execution_count": 185,
   "metadata": {},
   "outputs": [
    {
     "data": {
      "text/plain": [
       "'4.542E+02'"
      ]
     },
     "execution_count": 185,
     "metadata": {},
     "output_type": "execute_result"
    }
   ],
   "source": [
    "'{:.3E}'.format(454.2)"
   ]
  },
  {
   "cell_type": "code",
   "execution_count": 186,
   "metadata": {},
   "outputs": [
    {
     "data": {
      "text/plain": [
       "'3.214E+01'"
      ]
     },
     "execution_count": 186,
     "metadata": {},
     "output_type": "execute_result"
    }
   ],
   "source": [
    "'{:.3E}'.format(32.14)"
   ]
  },
  {
   "cell_type": "code",
   "execution_count": 187,
   "metadata": {},
   "outputs": [
    {
     "data": {
      "text/plain": [
       "'1.300E-02'"
      ]
     },
     "execution_count": 187,
     "metadata": {},
     "output_type": "execute_result"
    }
   ],
   "source": [
    "'{:.3E}'.format(.013)"
   ]
  },
  {
   "cell_type": "code",
   "execution_count": 190,
   "metadata": {},
   "outputs": [
    {
     "data": {
      "text/plain": [
       "'4.210E-03'"
      ]
     },
     "execution_count": 190,
     "metadata": {},
     "output_type": "execute_result"
    }
   ],
   "source": [
    "'{:.3E}'.format(.00421)"
   ]
  },
  {
   "cell_type": "code",
   "execution_count": 198,
   "metadata": {},
   "outputs": [
    {
     "data": {
      "text/plain": [
       "'5.14E-02'"
      ]
     },
     "execution_count": 198,
     "metadata": {},
     "output_type": "execute_result"
    }
   ],
   "source": [
    "'{:.2E}'.format(.0514)"
   ]
  },
  {
   "cell_type": "markdown",
   "metadata": {},
   "source": [
    "### write each number as a decimal"
   ]
  },
  {
   "cell_type": "code",
   "execution_count": 12,
   "metadata": {},
   "outputs": [
    {
     "data": {
      "text/latex": [
       "$$61500.0$$"
      ],
      "text/plain": [
       "61500.0"
      ]
     },
     "execution_count": 12,
     "metadata": {},
     "output_type": "execute_result"
    }
   ],
   "source": [
    "6.15*10**4"
   ]
  },
  {
   "cell_type": "code",
   "execution_count": 200,
   "metadata": {},
   "outputs": [
    {
     "data": {
      "text/latex": [
       "$$0.001214$$"
      ],
      "text/plain": [
       "0.001214"
      ]
     },
     "execution_count": 200,
     "metadata": {},
     "output_type": "execute_result"
    }
   ],
   "source": [
    "1.214 * 10**-3"
   ]
  },
  {
   "cell_type": "code",
   "execution_count": 213,
   "metadata": {},
   "outputs": [
    {
     "data": {
      "text/plain": [
       "'110,000,000'"
      ]
     },
     "execution_count": 213,
     "metadata": {},
     "output_type": "execute_result"
    }
   ],
   "source": [
    "'{:,}'.format(int(1.1 * 10**8))"
   ]
  },
  {
   "cell_type": "code",
   "execution_count": 223,
   "metadata": {},
   "outputs": [
    {
     "data": {
      "text/plain": [
       "'0.6453'"
      ]
     },
     "execution_count": 223,
     "metadata": {},
     "output_type": "execute_result"
    }
   ],
   "source": [
    "'{:.4f}'.format(6.453 * 10**-1)"
   ]
  },
  {
   "cell_type": "code",
   "execution_count": 14,
   "metadata": {},
   "outputs": [
    {
     "data": {
      "text/plain": [
       "'8.848E+03'"
      ]
     },
     "execution_count": 14,
     "metadata": {},
     "output_type": "execute_result"
    }
   ],
   "source": [
    "'{:.3E}'.format(8848)"
   ]
  },
  {
   "cell_type": "code",
   "execution_count": 32,
   "metadata": {},
   "outputs": [
    {
     "data": {
      "text/plain": [
       "'0.0000005'"
      ]
     },
     "execution_count": 32,
     "metadata": {},
     "output_type": "execute_result"
    }
   ],
   "source": [
    "'{:0.7f}'.format(5.0e-7)"
   ]
  },
  {
   "cell_type": "code",
   "execution_count": 40,
   "metadata": {},
   "outputs": [
    {
     "data": {
      "text/plain": [
       "'0.0000000001'"
      ]
     },
     "execution_count": 40,
     "metadata": {},
     "output_type": "execute_result"
    }
   ],
   "source": [
    "'{:0.10f}'.format(1e-10)"
   ]
  },
  {
   "cell_type": "code",
   "execution_count": 47,
   "metadata": {},
   "outputs": [
    {
     "data": {
      "text/plain": [
       "'5.0E-04'"
      ]
     },
     "execution_count": 47,
     "metadata": {},
     "output_type": "execute_result"
    }
   ],
   "source": [
    "'{:.1E}'.format(.0005)"
   ]
  },
  {
   "cell_type": "code",
   "execution_count": 4,
   "metadata": {},
   "outputs": [
    {
     "data": {
      "text/latex": [
       "$$\\frac{71}{360}$$"
      ],
      "text/plain": [
       " 71\n",
       "───\n",
       "360"
      ]
     },
     "execution_count": 4,
     "metadata": {},
     "output_type": "execute_result"
    }
   ],
   "source": [
    "Rational(5,36) + Rational(7,120)"
   ]
  },
  {
   "cell_type": "markdown",
   "metadata": {},
   "source": [
    "### SPECIAL PRODUCTS\n",
    "$(x+y)^2 = x^2 + 2xy + y^2$  \n",
    "  \n",
    "$(x-y)^2 = x^2 - 2xy + y^2$  \n",
    "  \n",
    "$(x+y)^3 = x^3 + 3x^2y + 3xy^2 + y^3$  \n",
    "  \n",
    "$(x-y)^3 = x^3 - 3x^2y + 3xy^2 - y^3$"
   ]
  },
  {
   "cell_type": "markdown",
   "metadata": {},
   "source": [
    "### FACTORING FORMULAS\n",
    "$x^2-y^2 = (x+y)(x-y)$  \n",
    "  \n",
    "$x^2 + 2xy + y^2=(x+y)^2$  \n",
    "  \n",
    "$x^2 - 2xy + y^2=(x-y)^2$  \n",
    "  \n",
    "$x^3 + y^3 = (x+y)(x^2 - xy + y^2)$  \n",
    "  \n",
    "$x^3 - y^3 = (x-y)(x^2 + xy + y^2)$"
   ]
  },
  {
   "cell_type": "markdown",
   "metadata": {},
   "source": [
    "### QUADRATIC FORMULA\n",
    "If $ax^2 + bx + c = 0$, then\n",
    "$$x = \\frac{-b \\pm \\sqrt{b^2 - 4ac}}{2a}$$"
   ]
  },
  {
   "cell_type": "code",
   "execution_count": 4,
   "metadata": {},
   "outputs": [
    {
     "data": {
      "text/latex": [
       "$$6.77200187265877$$"
      ],
      "text/plain": [
       "6.77200187265877"
      ]
     },
     "execution_count": 4,
     "metadata": {},
     "output_type": "execute_result"
    }
   ],
   "source": [
    "# f(x) = x**2 - 5*x - 12\n",
    "N((5 + sqrt(25-4*-12))/2)"
   ]
  },
  {
   "cell_type": "markdown",
   "metadata": {},
   "source": [
    "Convert a repeating decimal to a ratio of two integers:  \n",
    "$x=1.023232323...$  \n",
    "\\begin{align}\n",
    "1000x=1023.232323... \\\\\n",
    "10x=10.23232323... \\\\\n",
    "\\hline\n",
    "990x=1013.0\n",
    "\\end{align}\n",
    "  \n",
    "Thus $x=\\frac{1013}{990}$"
   ]
  }
 ],
 "metadata": {
  "kernelspec": {
   "display_name": "math",
   "language": "python",
   "name": "math"
  },
  "language_info": {
   "codemirror_mode": {
    "name": "ipython",
    "version": 3
   },
   "file_extension": ".py",
   "mimetype": "text/x-python",
   "name": "python",
   "nbconvert_exporter": "python",
   "pygments_lexer": "ipython3",
   "version": "3.6.7"
  }
 },
 "nbformat": 4,
 "nbformat_minor": 1
}
