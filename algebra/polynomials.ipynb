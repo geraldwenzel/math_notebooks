{
 "cells": [
  {
   "cell_type": "code",
   "execution_count": 22,
   "metadata": {},
   "outputs": [],
   "source": [
    "%run ../set_notebook.py"
   ]
  },
  {
   "cell_type": "markdown",
   "metadata": {},
   "source": [
    "### squares of binomials or perfect squares\n",
    "$(a+b)^2=a^2+2ab+b^2$  \n",
    "$(a-b)^2=a^2-2ab+b^2$  \n",
    "### cubes of binomials or perfect cubes\n",
    "$(a+b)^3=a^3+3a^2b+3ab^2+b^3$  \n",
    "$(a-b)^3=a^3-3a^2b+3ab^2-b^3$  \n",
    "### sum of two cubes\n",
    "$(a+b)(a^2-ab+b^2)=a^3+b^3$  \n",
    "### difference of two cubes\n",
    "$(a-b)(a^2+ab+b^2)=a^3-b^3$  "
   ]
  },
  {
   "cell_type": "code",
   "execution_count": 2,
   "metadata": {},
   "outputs": [
    {
     "data": {
      "text/latex": [
       "$\\displaystyle 3 x^{4} + 6 x^{3} - x^{2} + 7 x - 2$"
      ],
      "text/plain": [
       "   4      3    2          \n",
       "3⋅x  + 6⋅x  - x  + 7⋅x - 2"
      ]
     },
     "execution_count": 2,
     "metadata": {},
     "output_type": "execute_result"
    }
   ],
   "source": [
    "# polynomial addition\n",
    "(3*x**4 - 2*x**3 + x**2 + x) + (8*x**3 - 2*x**2 + 6*x - 2)"
   ]
  },
  {
   "cell_type": "code",
   "execution_count": 3,
   "metadata": {},
   "outputs": [
    {
     "data": {
      "text/latex": [
       "$\\displaystyle x^{4} - 4 x^{3} + 14 x^{2} + 6 x - 6$"
      ],
      "text/plain": [
       " 4      3       2          \n",
       "x  - 4⋅x  + 14⋅x  + 6⋅x - 6"
      ]
     },
     "execution_count": 3,
     "metadata": {},
     "output_type": "execute_result"
    }
   ],
   "source": [
    "# polynomial substraction\n",
    "(3*x**4 - 4*x**3 + 6*x**2 -1) - (2*x**4 - 8*x**2 - 6*x + 5)"
   ]
  },
  {
   "cell_type": "code",
   "execution_count": 4,
   "metadata": {},
   "outputs": [
    {
     "data": {
      "text/latex": [
       "$\\displaystyle x^{3} + 3 x^{2} - 2 x - 4$"
      ],
      "text/plain": [
       " 3      2          \n",
       "x  + 3⋅x  - 2⋅x - 4"
      ]
     },
     "execution_count": 4,
     "metadata": {},
     "output_type": "execute_result"
    }
   ],
   "source": [
    "# polynomial multiplication\n",
    "((x + 1) * (x**2 + 2*x - 4)).expand()"
   ]
  },
  {
   "cell_type": "code",
   "execution_count": 12,
   "metadata": {},
   "outputs": [
    {
     "data": {
      "text/latex": [
       "$\\displaystyle x^{3} - 1$"
      ],
      "text/plain": [
       " 3    \n",
       "x  - 1"
      ]
     },
     "execution_count": 12,
     "metadata": {},
     "output_type": "execute_result"
    }
   ],
   "source": [
    "((x-1)*(x**2 + x + 1)).expand()"
   ]
  },
  {
   "cell_type": "code",
   "execution_count": 14,
   "metadata": {},
   "outputs": [
    {
     "data": {
      "text/latex": [
       "$\\displaystyle x^{3} - 6 x^{2} + 12 x - 8$"
      ],
      "text/plain": [
       " 3      2           \n",
       "x  - 6⋅x  + 12⋅x - 8"
      ]
     },
     "execution_count": 14,
     "metadata": {},
     "output_type": "execute_result"
    }
   ],
   "source": [
    "((x-2)**3).expand()"
   ]
  },
  {
   "cell_type": "code",
   "execution_count": 23,
   "metadata": {},
   "outputs": [
    {
     "data": {
      "text/latex": [
       "$\\displaystyle \\left( x^{2} - 2 x - 3, \\  x - 2\\right)$"
      ],
      "text/plain": [
       "⎛ 2                 ⎞\n",
       "⎝x  - 2⋅x - 3, x - 2⎠"
      ]
     },
     "execution_count": 23,
     "metadata": {},
     "output_type": "execute_result"
    }
   ],
   "source": [
    "# polynomial division\n",
    "div((x**4 - 3*x**3 + 2*x -5), (x**2 - x + 1))"
   ]
  }
 ],
 "metadata": {
  "kernelspec": {
   "display_name": "math",
   "language": "python",
   "name": "math"
  },
  "language_info": {
   "codemirror_mode": {
    "name": "ipython",
    "version": 3
   },
   "file_extension": ".py",
   "mimetype": "text/x-python",
   "name": "python",
   "nbconvert_exporter": "python",
   "pygments_lexer": "ipython3",
   "version": "3.7.3"
  }
 },
 "nbformat": 4,
 "nbformat_minor": 2
}
