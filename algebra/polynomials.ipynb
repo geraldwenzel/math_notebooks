{
 "cells": [
  {
   "cell_type": "code",
   "execution_count": 1,
   "metadata": {},
   "outputs": [],
   "source": [
    "%run ../set_notebook.py"
   ]
  },
  {
   "cell_type": "code",
   "execution_count": 3,
   "metadata": {},
   "outputs": [
    {
     "data": {
      "text/latex": [
       "$$3 x^{4} + 6 x^{3} - x^{2} + 7 x - 2$$"
      ],
      "text/plain": [
       "   4      3    2          \n",
       "3⋅x  + 6⋅x  - x  + 7⋅x - 2"
      ]
     },
     "execution_count": 3,
     "metadata": {},
     "output_type": "execute_result"
    }
   ],
   "source": [
    "# polynomial addition\n",
    "(3*x**4 - 2*x**3 + x**2 + x) + (8*x**3 - 2*x**2 + 6*x - 2)"
   ]
  },
  {
   "cell_type": "code",
   "execution_count": 5,
   "metadata": {},
   "outputs": [
    {
     "data": {
      "text/latex": [
       "$$x^{4} - 4 x^{3} + 14 x^{2} + 6 x - 6$$"
      ],
      "text/plain": [
       " 4      3       2          \n",
       "x  - 4⋅x  + 14⋅x  + 6⋅x - 6"
      ]
     },
     "execution_count": 5,
     "metadata": {},
     "output_type": "execute_result"
    }
   ],
   "source": [
    "# polynomial substraction\n",
    "(3*x**4 - 4*x**3 + 6*x**2 -1) - (2*x**4 - 8*x**2 - 6*x + 5)"
   ]
  },
  {
   "cell_type": "code",
   "execution_count": 10,
   "metadata": {},
   "outputs": [
    {
     "data": {
      "text/latex": [
       "$$2 x^{3} + 3 x^{2} - x + 10$$"
      ],
      "text/plain": [
       "   3      2         \n",
       "2⋅x  + 3⋅x  - x + 10"
      ]
     },
     "execution_count": 10,
     "metadata": {},
     "output_type": "execute_result"
    }
   ],
   "source": [
    "# polynomial multiplication\n",
    "((2*x + 5) * (x**2 - x + 2)).expand()"
   ]
  }
 ],
 "metadata": {
  "kernelspec": {
   "display_name": "math",
   "language": "python",
   "name": "math"
  },
  "language_info": {
   "codemirror_mode": {
    "name": "ipython",
    "version": 3
   },
   "file_extension": ".py",
   "mimetype": "text/x-python",
   "name": "python",
   "nbconvert_exporter": "python",
   "pygments_lexer": "ipython3",
   "version": "3.7.3rc1"
  }
 },
 "nbformat": 4,
 "nbformat_minor": 2
}
