{
 "cells": [
  {
   "cell_type": "code",
   "execution_count": 1,
   "metadata": {},
   "outputs": [],
   "source": [
    "%run ../set_notebook.py"
   ]
  },
  {
   "cell_type": "code",
   "execution_count": 2,
   "metadata": {},
   "outputs": [
    {
     "data": {
      "text/latex": [
       "$\\displaystyle 3 x^{4} + 6 x^{3} - x^{2} + 7 x - 2$"
      ],
      "text/plain": [
       "   4      3    2          \n",
       "3⋅x  + 6⋅x  - x  + 7⋅x - 2"
      ]
     },
     "execution_count": 2,
     "metadata": {},
     "output_type": "execute_result"
    }
   ],
   "source": [
    "# polynomial addition\n",
    "(3*x**4 - 2*x**3 + x**2 + x) + (8*x**3 - 2*x**2 + 6*x - 2)"
   ]
  },
  {
   "cell_type": "code",
   "execution_count": 3,
   "metadata": {},
   "outputs": [
    {
     "data": {
      "text/latex": [
       "$\\displaystyle x^{4} - 4 x^{3} + 14 x^{2} + 6 x - 6$"
      ],
      "text/plain": [
       " 4      3       2          \n",
       "x  - 4⋅x  + 14⋅x  + 6⋅x - 6"
      ]
     },
     "execution_count": 3,
     "metadata": {},
     "output_type": "execute_result"
    }
   ],
   "source": [
    "# polynomial substraction\n",
    "(3*x**4 - 4*x**3 + 6*x**2 -1) - (2*x**4 - 8*x**2 - 6*x + 5)"
   ]
  },
  {
   "cell_type": "code",
   "execution_count": 4,
   "metadata": {},
   "outputs": [
    {
     "data": {
      "text/latex": [
       "$\\displaystyle x^{3} + 3 x^{2} - 2 x - 4$"
      ],
      "text/plain": [
       " 3      2          \n",
       "x  + 3⋅x  - 2⋅x - 4"
      ]
     },
     "execution_count": 4,
     "metadata": {},
     "output_type": "execute_result"
    }
   ],
   "source": [
    "# polynomial multiplication\n",
    "((x + 1) * (x**2 + 2*x - 4)).expand()"
   ]
  },
  {
   "cell_type": "code",
   "execution_count": 5,
   "metadata": {},
   "outputs": [
    {
     "data": {
      "text/latex": [
       "$\\displaystyle 9 x^{2} - 24 x + 16$"
      ],
      "text/plain": [
       "   2            \n",
       "9⋅x  - 24⋅x + 16"
      ]
     },
     "execution_count": 5,
     "metadata": {},
     "output_type": "execute_result"
    }
   ],
   "source": [
    "((3*x - 4)*(3*x - 4)).expand()"
   ]
  }
 ],
 "metadata": {
  "kernelspec": {
   "display_name": "math",
   "language": "python",
   "name": "math"
  },
  "language_info": {
   "codemirror_mode": {
    "name": "ipython",
    "version": 3
   },
   "file_extension": ".py",
   "mimetype": "text/x-python",
   "name": "python",
   "nbconvert_exporter": "python",
   "pygments_lexer": "ipython3",
   "version": "3.7.3"
  }
 },
 "nbformat": 4,
 "nbformat_minor": 2
}
