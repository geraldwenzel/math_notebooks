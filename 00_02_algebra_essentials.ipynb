{
 "cells": [
  {
   "cell_type": "code",
   "execution_count": 1,
   "metadata": {},
   "outputs": [],
   "source": [
    "%run set_notebook.py"
   ]
  },
  {
   "cell_type": "markdown",
   "metadata": {},
   "source": [
    "### inequality symbols\n",
    "strict inequalities  \n",
    "a &lt; b or b > a  \n",
    "  \n",
    "nonstrict inequalities  \n",
    "a <= b or a >= b  \n",
    "  \n",
    "a is positive  \n",
    "a > 0  \n",
    "  \n",
    "a is negative  \n",
    "a < 0\n",
    "\n",
    "a is nonnegative  \n",
    "a >= 0  \n",
    "### graphing inequalities"
   ]
  }
 ],
 "metadata": {
  "kernelspec": {
   "display_name": "Python 3",
   "language": "python",
   "name": "python3"
  },
  "language_info": {
   "codemirror_mode": {
    "name": "ipython",
    "version": 3
   },
   "file_extension": ".py",
   "mimetype": "text/x-python",
   "name": "python",
   "nbconvert_exporter": "python",
   "pygments_lexer": "ipython3",
   "version": "3.6.6"
  }
 },
 "nbformat": 4,
 "nbformat_minor": 1
}
