{
 "cells": [
  {
   "cell_type": "code",
   "execution_count": 10,
   "metadata": {},
   "outputs": [],
   "source": [
    "%run ../set_notebook.py"
   ]
  },
  {
   "cell_type": "code",
   "execution_count": 4,
   "metadata": {},
   "outputs": [
    {
     "data": {
      "text/latex": [
       "$$\\left[-3, - \\frac{5}{3}\\right)$$"
      ],
      "text/plain": [
       "[-3, -5/3)"
      ]
     },
     "execution_count": 4,
     "metadata": {},
     "output_type": "execute_result"
    }
   ],
   "source": [
    "# example 1.2 solving a two-sided inequality\n",
    "A = solveset(f=6 < 1 - 3*x, symbol=x, domain=S.Reals)\n",
    "B = solveset(f=1 - 3*x <= 10, symbol=x, domain=S.Reals)\n",
    "A.intersection(B)"
   ]
  },
  {
   "cell_type": "code",
   "execution_count": 5,
   "metadata": {},
   "outputs": [
    {
     "data": {
      "text/latex": [
       "$$\\left(-\\infty, -2\\right) \\cup \\left[1, \\infty\\right)$$"
      ],
      "text/plain": [
       "(-∞, -2) ∪ [1, ∞)"
      ]
     },
     "execution_count": 5,
     "metadata": {},
     "output_type": "execute_result"
    }
   ],
   "source": [
    "# example 1.3 solving an inequality with a fraction\n",
    "solveset(f=(x-1)/(x+2) >= 0, symbol=x, domain=S.Reals)"
   ]
  },
  {
   "cell_type": "code",
   "execution_count": 7,
   "metadata": {},
   "outputs": [
    {
     "data": {
      "text/latex": [
       "$$\\emptyset$$"
      ],
      "text/plain": [
       "∅"
      ]
     },
     "execution_count": 7,
     "metadata": {},
     "output_type": "execute_result"
    }
   ],
   "source": [
    "Interval(-oo, -4, right_open=True).intersect(Interval(4, oo, right_open=True))"
   ]
  }
 ],
 "metadata": {
  "kernelspec": {
   "display_name": "Python 3",
   "language": "python",
   "name": "python3"
  },
  "language_info": {
   "codemirror_mode": {
    "name": "ipython",
    "version": 3
   },
   "file_extension": ".py",
   "mimetype": "text/x-python",
   "name": "python",
   "nbconvert_exporter": "python",
   "pygments_lexer": "ipython3",
   "version": "3.6.7"
  }
 },
 "nbformat": 4,
 "nbformat_minor": 2
}
